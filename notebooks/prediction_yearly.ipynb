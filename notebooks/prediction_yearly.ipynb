{
 "cells": [
  {
   "cell_type": "code",
   "execution_count": 11,
   "metadata": {
    "cellUniqueIdByVincent": "e96ba"
   },
   "outputs": [],
   "source": [
    "import tensorflow as tf\n",
    "import pandas as pd\n",
    "import numpy as np\n",
    "import os\n",
    "import matplotlib.pyplot as plt\n",
    "import seaborn as sns\n",
    "from sklearn.model_selection import train_test_split\n",
    "from sklearn.preprocessing import StandardScaler\n",
    "from sklearn.metrics import confusion_matrix, classification_report\n",
    "from tensorflow.keras.models import Sequential\n",
    "from tensorflow.keras.layers import Dense, Dropout\n",
    "from tensorflow.keras.callbacks import EarlyStopping\n",
    "from tensorflow.keras.optimizers import Adam\n",
    "import warnings\n",
    "warnings.filterwarnings('ignore')"
   ]
  },
  {
   "cell_type": "code",
   "execution_count": 12,
   "metadata": {
    "cellUniqueIdByVincent": "0d1ab"
   },
   "outputs": [
    {
     "data": {
      "text/html": [
       "<div>\n",
       "<style scoped>\n",
       "    .dataframe tbody tr th:only-of-type {\n",
       "        vertical-align: middle;\n",
       "    }\n",
       "\n",
       "    .dataframe tbody tr th {\n",
       "        vertical-align: top;\n",
       "    }\n",
       "\n",
       "    .dataframe thead th {\n",
       "        text-align: right;\n",
       "    }\n",
       "</style>\n",
       "<table border=\"1\" class=\"dataframe\">\n",
       "  <thead>\n",
       "    <tr style=\"text-align: right;\">\n",
       "      <th></th>\n",
       "      <th>Date</th>\n",
       "      <th>Open_Price</th>\n",
       "      <th>Close_Price</th>\n",
       "      <th>High_Price</th>\n",
       "      <th>Low_Price</th>\n",
       "      <th>Volume</th>\n",
       "      <th>RSI</th>\n",
       "      <th>Volatility</th>\n",
       "      <th>Global_Economy</th>\n",
       "      <th>Sentiment_Score</th>\n",
       "      <th>Event_Impact</th>\n",
       "      <th>MA_5</th>\n",
       "      <th>MA_10</th>\n",
       "      <th>Price_Change</th>\n",
       "      <th>Price_Movement</th>\n",
       "    </tr>\n",
       "  </thead>\n",
       "  <tbody>\n",
       "    <tr>\n",
       "      <th>0</th>\n",
       "      <td>2023-10-31</td>\n",
       "      <td>57397.216577</td>\n",
       "      <td>48824.312969</td>\n",
       "      <td>57411.578393</td>\n",
       "      <td>30541.786398</td>\n",
       "      <td>164421430</td>\n",
       "      <td>49.637677</td>\n",
       "      <td>0.029853</td>\n",
       "      <td>0.580645</td>\n",
       "      <td>0.063855</td>\n",
       "      <td>0.050326</td>\n",
       "      <td>50612.089545</td>\n",
       "      <td>47991.859734</td>\n",
       "      <td>-8572.903608</td>\n",
       "      <td>0</td>\n",
       "    </tr>\n",
       "    <tr>\n",
       "      <th>1</th>\n",
       "      <td>2023-11-30</td>\n",
       "      <td>51782.740012</td>\n",
       "      <td>33747.230312</td>\n",
       "      <td>60069.188441</td>\n",
       "      <td>29977.796001</td>\n",
       "      <td>185657473</td>\n",
       "      <td>45.759111</td>\n",
       "      <td>0.039044</td>\n",
       "      <td>0.533333</td>\n",
       "      <td>0.182264</td>\n",
       "      <td>0.045588</td>\n",
       "      <td>49290.616691</td>\n",
       "      <td>46529.061480</td>\n",
       "      <td>-18035.509700</td>\n",
       "      <td>0</td>\n",
       "    </tr>\n",
       "    <tr>\n",
       "      <th>2</th>\n",
       "      <td>2023-12-31</td>\n",
       "      <td>31380.079261</td>\n",
       "      <td>58245.585090</td>\n",
       "      <td>58945.959817</td>\n",
       "      <td>30249.517162</td>\n",
       "      <td>171450601</td>\n",
       "      <td>48.522087</td>\n",
       "      <td>0.048923</td>\n",
       "      <td>0.483871</td>\n",
       "      <td>0.064615</td>\n",
       "      <td>0.039810</td>\n",
       "      <td>50870.775888</td>\n",
       "      <td>49225.015011</td>\n",
       "      <td>26865.505829</td>\n",
       "      <td>1</td>\n",
       "    </tr>\n",
       "    <tr>\n",
       "      <th>3</th>\n",
       "      <td>2024-01-31</td>\n",
       "      <td>41583.079134</td>\n",
       "      <td>57745.278803</td>\n",
       "      <td>60388.438312</td>\n",
       "      <td>30052.887555</td>\n",
       "      <td>174184771</td>\n",
       "      <td>48.930698</td>\n",
       "      <td>0.013260</td>\n",
       "      <td>0.483871</td>\n",
       "      <td>0.061566</td>\n",
       "      <td>0.051840</td>\n",
       "      <td>50911.340042</td>\n",
       "      <td>50546.430321</td>\n",
       "      <td>16162.199669</td>\n",
       "      <td>1</td>\n",
       "    </tr>\n",
       "    <tr>\n",
       "      <th>4</th>\n",
       "      <td>2024-02-29</td>\n",
       "      <td>55752.382555</td>\n",
       "      <td>31995.906859</td>\n",
       "      <td>59206.502071</td>\n",
       "      <td>29863.830293</td>\n",
       "      <td>157162993</td>\n",
       "      <td>49.878218</td>\n",
       "      <td>0.024224</td>\n",
       "      <td>0.724138</td>\n",
       "      <td>0.196273</td>\n",
       "      <td>0.049517</td>\n",
       "      <td>46111.662807</td>\n",
       "      <td>49156.465648</td>\n",
       "      <td>-23756.475696</td>\n",
       "      <td>0</td>\n",
       "    </tr>\n",
       "  </tbody>\n",
       "</table>\n",
       "</div>"
      ],
      "text/plain": [
       "         Date    Open_Price   Close_Price    High_Price     Low_Price  \\\n",
       "0  2023-10-31  57397.216577  48824.312969  57411.578393  30541.786398   \n",
       "1  2023-11-30  51782.740012  33747.230312  60069.188441  29977.796001   \n",
       "2  2023-12-31  31380.079261  58245.585090  58945.959817  30249.517162   \n",
       "3  2024-01-31  41583.079134  57745.278803  60388.438312  30052.887555   \n",
       "4  2024-02-29  55752.382555  31995.906859  59206.502071  29863.830293   \n",
       "\n",
       "      Volume        RSI  Volatility  Global_Economy  Sentiment_Score  \\\n",
       "0  164421430  49.637677    0.029853        0.580645         0.063855   \n",
       "1  185657473  45.759111    0.039044        0.533333         0.182264   \n",
       "2  171450601  48.522087    0.048923        0.483871         0.064615   \n",
       "3  174184771  48.930698    0.013260        0.483871         0.061566   \n",
       "4  157162993  49.878218    0.024224        0.724138         0.196273   \n",
       "\n",
       "   Event_Impact          MA_5         MA_10  Price_Change  Price_Movement  \n",
       "0      0.050326  50612.089545  47991.859734  -8572.903608               0  \n",
       "1      0.045588  49290.616691  46529.061480 -18035.509700               0  \n",
       "2      0.039810  50870.775888  49225.015011  26865.505829               1  \n",
       "3      0.051840  50911.340042  50546.430321  16162.199669               1  \n",
       "4      0.049517  46111.662807  49156.465648 -23756.475696               0  "
      ]
     },
     "execution_count": 12,
     "metadata": {},
     "output_type": "execute_result"
    }
   ],
   "source": [
    "df = pd.read_csv('Dataset/crypto_monthly.csv') \n",
    "df.head()"
   ]
  },
  {
   "cell_type": "code",
   "execution_count": 13,
   "metadata": {
    "cellUniqueIdByVincent": "1c72d"
   },
   "outputs": [
    {
     "data": {
      "text/plain": [
       "Date                object\n",
       "Open_Price         float64\n",
       "Close_Price        float64\n",
       "High_Price         float64\n",
       "Low_Price          float64\n",
       "Volume               int64\n",
       "RSI                float64\n",
       "Volatility         float64\n",
       "Global_Economy     float64\n",
       "Sentiment_Score    float64\n",
       "Event_Impact       float64\n",
       "MA_5               float64\n",
       "MA_10              float64\n",
       "Price_Change       float64\n",
       "Price_Movement       int64\n",
       "dtype: object"
      ]
     },
     "execution_count": 13,
     "metadata": {},
     "output_type": "execute_result"
    }
   ],
   "source": [
    "df.dtypes"
   ]
  },
  {
   "cell_type": "code",
   "execution_count": 14,
   "metadata": {
    "cellUniqueIdByVincent": "e3e72"
   },
   "outputs": [
    {
     "name": "stdout",
     "output_type": "stream",
     "text": [
      "Date               datetime64[ns]\n",
      "Open_Price                float64\n",
      "High_Price                float64\n",
      "Low_Price                 float64\n",
      "Volume                      int64\n",
      "RSI                       float64\n",
      "Volatility                float64\n",
      "Global_Economy            float64\n",
      "Sentiment_Score           float64\n",
      "Event_Impact              float64\n",
      "MA_5                      float64\n",
      "MA_10                     float64\n",
      "Price_Movement              int64\n",
      "dtype: object\n"
     ]
    }
   ],
   "source": [
    "#Convert date to type datetime\n",
    "df['Date'] = pd.to_datetime(df['Date'])\n",
    "\n",
    "#drop Price_Change and Close_Price\n",
    "df.drop(['Price_Change', 'Close_Price'], axis=1, inplace=True)\n",
    "\n",
    "#drop null\n",
    "df.dropna(inplace=True)\n",
    "\n",
    "print(df.dtypes)"
   ]
  },
  {
   "cell_type": "code",
   "execution_count": 15,
   "metadata": {
    "cellUniqueIdByVincent": "a5891"
   },
   "outputs": [
    {
     "name": "stdout",
     "output_type": "stream",
     "text": [
      "   Event_Impact  Global_Economy  High_Price  Low_Price     MA_10      MA_5  \\\n",
      "0      0.050603        0.857464   -2.259642   0.164044  1.229011  1.557150   \n",
      "1     -0.848521        0.343342    0.463375  -0.409923  0.674182  1.206650   \n",
      "2     -1.945250       -0.194149   -0.687497  -0.133395  1.696738  1.625763   \n",
      "3      0.338001       -0.194149    0.790482  -0.333503  2.197941  1.636522   \n",
      "4     -0.102843        2.416752   -0.420543  -0.525905  1.670738  0.363483   \n",
      "\n",
      "   Open_Price       RSI  Sentiment_Score  Volatility    Volume  \\\n",
      "0    1.418835 -0.192801         0.608173   -0.018779 -0.197715   \n",
      "1    0.779749 -2.041172         1.720789    0.786756  1.271124   \n",
      "2   -1.542648 -0.724447         0.615317    1.652625  0.288473   \n",
      "3   -0.381260 -0.529719         0.586669   -1.473129  0.477588   \n",
      "4    1.231606 -0.078169         1.852418   -0.512173 -0.699761   \n",
      "\n",
      "   Price_Movement       Date  \n",
      "0               0 2023-10-31  \n",
      "1               0 2023-11-30  \n",
      "2               1 2023-12-31  \n",
      "3               1 2024-01-31  \n",
      "4               0 2024-02-29  \n"
     ]
    }
   ],
   "source": [
    "# Exclude non-feature columns from scaling\n",
    "cols_to_scale = df.columns.difference(['Date', 'Price_Movement'])\n",
    "\n",
    "# Scale the features\n",
    "scaler = StandardScaler()\n",
    "scaled_values = scaler.fit_transform(df[cols_to_scale])\n",
    "\n",
    "# Create dataframe with scaled features\n",
    "features_scaled_df = pd.DataFrame(scaled_values, columns=cols_to_scale, index=df.index)\n",
    "\n",
    "# Add the target column back without scaling\n",
    "features_scaled_df['Price_Movement'] = df['Price_Movement']\n",
    "features_scaled_df['Date'] = df['Date']\n",
    "\n",
    "print(features_scaled_df.head())"
   ]
  },
  {
   "cell_type": "code",
   "execution_count": 31,
   "metadata": {
    "cellUniqueIdByVincent": "ac296"
   },
   "outputs": [
    {
     "name": "stdout",
     "output_type": "stream",
     "text": [
      "X_seq shape: (1624, 10, 11)\n",
      "y_seq shape: (1624,)\n"
     ]
    }
   ],
   "source": [
    "# Define the window size\n",
    "window_size = 10\n",
    "\n",
    "def create_time_windows(data, window_size):\n",
    "    X_windows = []\n",
    "    y_windows = []\n",
    "    \n",
    "    # Loop starting from window_size to the end of data rows\n",
    "    for i in range(window_size, len(data)):\n",
    "        # Get window of features for the previous window_size days\n",
    "        X_window = data.iloc[i-window_size:i].values\n",
    "        # Get the target for the current day (could be adjusted as needed)\n",
    "        y_window = features_scaled_df.iloc[i]['Price_Movement']\n",
    "        X_windows.append(X_window)\n",
    "        y_windows.append(y_window)\n",
    "    \n",
    "    return np.array(X_windows), np.array(y_windows)\n",
    "\n",
    "# Prepare features (drop Date and Price_Movement columns)\n",
    "features = features_scaled_df.drop(['Date', 'Price_Movement'], axis=1)\n",
    "\n",
    "# Create the windows\n",
    "X_seq, y_seq = create_time_windows(features, window_size)\n",
    "\n",
    "# Check the shapes. X_seq should have shape (samples, 30, num_features)\n",
    "print(\"X_seq shape:\", X_seq.shape)\n",
    "print(\"y_seq shape:\", y_seq.shape)"
   ]
  },
  {
   "cell_type": "code",
   "execution_count": 32,
   "metadata": {
    "cellUniqueIdByVincent": "a6469"
   },
   "outputs": [
    {
     "name": "stdout",
     "output_type": "stream",
     "text": [
      "Training set: X shape = (1136, 10, 11), y shape = (1136,)\n",
      "Validation set: X shape = (243, 10, 11), y shape = (243,)\n",
      "Test set: X shape = (245, 10, 11), y shape = (245,)\n"
     ]
    }
   ],
   "source": [
    "def create_train_val_test_split(X, y, train_ratio=0.7, val_ratio=0.15):\n",
    "\n",
    "    n = len(X)\n",
    "    \n",
    "    # Calculate the split indices\n",
    "    train_end = int(n * train_ratio)\n",
    "    val_end = train_end + int(n * val_ratio)\n",
    "    \n",
    "    # Split the data\n",
    "    X_train, y_train = X[:train_end], y[:train_end]\n",
    "    X_val, y_val = X[train_end:val_end], y[train_end:val_end]\n",
    "    X_test, y_test = X[val_end:], y[val_end:]\n",
    "    \n",
    "    return X_train, y_train, X_val, y_val, X_test, y_test\n",
    "\n",
    "# Create the splits with default 70-15-15 ratio\n",
    "X_train, y_train, X_val, y_val, X_test, y_test = create_train_val_test_split(X_seq, y_seq)\n",
    "\n",
    "# Print the shapes to verify\n",
    "print(f\"Training set: X shape = {X_train.shape}, y shape = {y_train.shape}\")\n",
    "print(f\"Validation set: X shape = {X_val.shape}, y shape = {y_val.shape}\")\n",
    "print(f\"Test set: X shape = {X_test.shape}, y shape = {y_test.shape}\")"
   ]
  },
  {
   "cell_type": "code",
   "execution_count": 33,
   "metadata": {
    "cellUniqueIdByVincent": "a8532"
   },
   "outputs": [
    {
     "name": "stdout",
     "output_type": "stream",
     "text": [
      "\n",
      "Fold 1/5\n",
      "Epoch 1/10\n",
      "\u001b[1m18/18\u001b[0m \u001b[32m━━━━━━━━━━━━━━━━━━━━\u001b[0m\u001b[37m\u001b[0m \u001b[1m0s\u001b[0m 3ms/step - accuracy: 0.5249 - loss: 0.6948   "
     ]
    },
    {
     "name": "stderr",
     "output_type": "stream",
     "text": [
      "WARNING:absl:You are saving your model as an HDF5 file via `model.save()` or `keras.saving.save_model(model)`. This file format is considered legacy. We recommend using instead the native Keras format, e.g. `model.save('my_model.keras')` or `keras.saving.save_model(model, 'my_model.keras')`. \n"
     ]
    },
    {
     "name": "stdout",
     "output_type": "stream",
     "text": [
      "\u001b[1m18/18\u001b[0m \u001b[32m━━━━━━━━━━━━━━━━━━━━\u001b[0m\u001b[37m\u001b[0m \u001b[1m1s\u001b[0m 12ms/step - accuracy: 0.5244 - loss: 0.6948 - val_accuracy: 0.5290 - val_loss: 0.6891\n",
      "Epoch 2/10\n",
      "\u001b[1m18/18\u001b[0m \u001b[32m━━━━━━━━━━━━━━━━━━━━\u001b[0m\u001b[37m\u001b[0m \u001b[1m0s\u001b[0m 5ms/step - accuracy: 0.5339 - loss: 0.6876 - val_accuracy: 0.5254 - val_loss: 0.6904\n",
      "Epoch 3/10\n",
      "\u001b[1m18/18\u001b[0m \u001b[32m━━━━━━━━━━━━━━━━━━━━\u001b[0m\u001b[37m\u001b[0m \u001b[1m0s\u001b[0m 8ms/step - accuracy: 0.5393 - loss: 0.6874 - val_accuracy: 0.5181 - val_loss: 0.6929\n",
      "Epoch 4/10\n",
      "\u001b[1m18/18\u001b[0m \u001b[32m━━━━━━━━━━━━━━━━━━━━\u001b[0m\u001b[37m\u001b[0m \u001b[1m0s\u001b[0m 6ms/step - accuracy: 0.5434 - loss: 0.6807 - val_accuracy: 0.5181 - val_loss: 0.6946\n",
      "Epoch 5/10\n",
      "\u001b[1m18/18\u001b[0m \u001b[32m━━━━━━━━━━━━━━━━━━━━\u001b[0m\u001b[37m\u001b[0m \u001b[1m0s\u001b[0m 6ms/step - accuracy: 0.5670 - loss: 0.6795 - val_accuracy: 0.5217 - val_loss: 0.6967\n",
      "Epoch 6/10\n",
      "\u001b[1m18/18\u001b[0m \u001b[32m━━━━━━━━━━━━━━━━━━━━\u001b[0m\u001b[37m\u001b[0m \u001b[1m0s\u001b[0m 6ms/step - accuracy: 0.5570 - loss: 0.6771 - val_accuracy: 0.4819 - val_loss: 0.7003\n",
      "\u001b[1m9/9\u001b[0m \u001b[32m━━━━━━━━━━━━━━━━━━━━\u001b[0m\u001b[37m\u001b[0m \u001b[1m0s\u001b[0m 10ms/step\n",
      "Fold 1 - Train Acc: 0.5494, Val Acc: 0.5290\n",
      "              precision    recall  f1-score   support\n",
      "\n",
      "           0       0.56      0.50      0.53       145\n",
      "           1       0.50      0.56      0.53       131\n",
      "\n",
      "    accuracy                           0.53       276\n",
      "   macro avg       0.53      0.53      0.53       276\n",
      "weighted avg       0.53      0.53      0.53       276\n",
      "\n",
      "\n",
      "Fold 2/5\n",
      "Epoch 1/10\n",
      "\u001b[1m17/18\u001b[0m \u001b[32m━━━━━━━━━━━━━━━━━━\u001b[0m\u001b[37m━━\u001b[0m \u001b[1m0s\u001b[0m 3ms/step - accuracy: 0.5190 - loss: 0.6918   "
     ]
    },
    {
     "name": "stderr",
     "output_type": "stream",
     "text": [
      "WARNING:absl:You are saving your model as an HDF5 file via `model.save()` or `keras.saving.save_model(model)`. This file format is considered legacy. We recommend using instead the native Keras format, e.g. `model.save('my_model.keras')` or `keras.saving.save_model(model, 'my_model.keras')`. \n"
     ]
    },
    {
     "name": "stdout",
     "output_type": "stream",
     "text": [
      "\u001b[1m18/18\u001b[0m \u001b[32m━━━━━━━━━━━━━━━━━━━━\u001b[0m\u001b[37m\u001b[0m \u001b[1m1s\u001b[0m 13ms/step - accuracy: 0.5182 - loss: 0.6922 - val_accuracy: 0.4855 - val_loss: 0.6970\n",
      "Epoch 2/10\n",
      "\u001b[1m18/18\u001b[0m \u001b[32m━━━━━━━━━━━━━━━━━━━━\u001b[0m\u001b[37m\u001b[0m \u001b[1m0s\u001b[0m 3ms/step - accuracy: 0.5260 - loss: 0.6908 "
     ]
    },
    {
     "name": "stderr",
     "output_type": "stream",
     "text": [
      "WARNING:absl:You are saving your model as an HDF5 file via `model.save()` or `keras.saving.save_model(model)`. This file format is considered legacy. We recommend using instead the native Keras format, e.g. `model.save('my_model.keras')` or `keras.saving.save_model(model, 'my_model.keras')`. \n"
     ]
    },
    {
     "name": "stdout",
     "output_type": "stream",
     "text": [
      "\u001b[1m18/18\u001b[0m \u001b[32m━━━━━━━━━━━━━━━━━━━━\u001b[0m\u001b[37m\u001b[0m \u001b[1m0s\u001b[0m 5ms/step - accuracy: 0.5260 - loss: 0.6907 - val_accuracy: 0.5036 - val_loss: 0.6942\n",
      "Epoch 3/10\n",
      "\u001b[1m18/18\u001b[0m \u001b[32m━━━━━━━━━━━━━━━━━━━━\u001b[0m\u001b[37m\u001b[0m \u001b[1m0s\u001b[0m 5ms/step - accuracy: 0.5405 - loss: 0.6857 - val_accuracy: 0.5181 - val_loss: 0.6964\n",
      "Epoch 4/10\n",
      "\u001b[1m18/18\u001b[0m \u001b[32m━━━━━━━━━━━━━━━━━━━━\u001b[0m\u001b[37m\u001b[0m \u001b[1m0s\u001b[0m 6ms/step - accuracy: 0.5823 - loss: 0.6816 - val_accuracy: 0.5217 - val_loss: 0.6965\n",
      "Epoch 5/10\n",
      "\u001b[1m18/18\u001b[0m \u001b[32m━━━━━━━━━━━━━━━━━━━━\u001b[0m\u001b[37m\u001b[0m \u001b[1m0s\u001b[0m 6ms/step - accuracy: 0.5826 - loss: 0.6777 - val_accuracy: 0.5072 - val_loss: 0.6997\n",
      "Epoch 6/10\n",
      "\u001b[1m18/18\u001b[0m \u001b[32m━━━━━━━━━━━━━━━━━━━━\u001b[0m\u001b[37m\u001b[0m \u001b[1m0s\u001b[0m 5ms/step - accuracy: 0.5545 - loss: 0.6799 - val_accuracy: 0.5000 - val_loss: 0.7013\n",
      "Epoch 7/10\n",
      "\u001b[1m18/18\u001b[0m \u001b[32m━━━━━━━━━━━━━━━━━━━━\u001b[0m\u001b[37m\u001b[0m \u001b[1m0s\u001b[0m 5ms/step - accuracy: 0.5793 - loss: 0.6710 - val_accuracy: 0.5145 - val_loss: 0.7003\n",
      "\u001b[1m9/9\u001b[0m \u001b[32m━━━━━━━━━━━━━━━━━━━━\u001b[0m\u001b[37m\u001b[0m \u001b[1m0s\u001b[0m 10ms/step\n",
      "Fold 2 - Train Acc: 0.5449, Val Acc: 0.5036\n",
      "              precision    recall  f1-score   support\n",
      "\n",
      "           0       0.50      0.46      0.48       136\n",
      "           1       0.51      0.54      0.53       140\n",
      "\n",
      "    accuracy                           0.50       276\n",
      "   macro avg       0.50      0.50      0.50       276\n",
      "weighted avg       0.50      0.50      0.50       276\n",
      "\n",
      "\n",
      "Fold 3/5\n",
      "Epoch 1/10\n",
      "\u001b[1m16/18\u001b[0m \u001b[32m━━━━━━━━━━━━━━━━━\u001b[0m\u001b[37m━━━\u001b[0m \u001b[1m0s\u001b[0m 3ms/step - accuracy: 0.4820 - loss: 0.6988   "
     ]
    },
    {
     "name": "stderr",
     "output_type": "stream",
     "text": [
      "WARNING:absl:You are saving your model as an HDF5 file via `model.save()` or `keras.saving.save_model(model)`. This file format is considered legacy. We recommend using instead the native Keras format, e.g. `model.save('my_model.keras')` or `keras.saving.save_model(model, 'my_model.keras')`. \n"
     ]
    },
    {
     "name": "stdout",
     "output_type": "stream",
     "text": [
      "\u001b[1m18/18\u001b[0m \u001b[32m━━━━━━━━━━━━━━━━━━━━\u001b[0m\u001b[37m\u001b[0m \u001b[1m1s\u001b[0m 13ms/step - accuracy: 0.4825 - loss: 0.6991 - val_accuracy: 0.5072 - val_loss: 0.6951\n",
      "Epoch 2/10\n",
      "\u001b[1m16/18\u001b[0m \u001b[32m━━━━━━━━━━━━━━━━━\u001b[0m\u001b[37m━━━\u001b[0m \u001b[1m0s\u001b[0m 3ms/step - accuracy: 0.5452 - loss: 0.6893 "
     ]
    },
    {
     "name": "stderr",
     "output_type": "stream",
     "text": [
      "WARNING:absl:You are saving your model as an HDF5 file via `model.save()` or `keras.saving.save_model(model)`. This file format is considered legacy. We recommend using instead the native Keras format, e.g. `model.save('my_model.keras')` or `keras.saving.save_model(model, 'my_model.keras')`. \n"
     ]
    },
    {
     "name": "stdout",
     "output_type": "stream",
     "text": [
      "\u001b[1m18/18\u001b[0m \u001b[32m━━━━━━━━━━━━━━━━━━━━\u001b[0m\u001b[37m\u001b[0m \u001b[1m0s\u001b[0m 6ms/step - accuracy: 0.5439 - loss: 0.6897 - val_accuracy: 0.5072 - val_loss: 0.6949\n",
      "Epoch 3/10\n",
      "\u001b[1m18/18\u001b[0m \u001b[32m━━━━━━━━━━━━━━━━━━━━\u001b[0m\u001b[37m\u001b[0m \u001b[1m0s\u001b[0m 6ms/step - accuracy: 0.5452 - loss: 0.6904 - val_accuracy: 0.4891 - val_loss: 0.6954\n",
      "Epoch 4/10\n",
      "\u001b[1m18/18\u001b[0m \u001b[32m━━━━━━━━━━━━━━━━━━━━\u001b[0m\u001b[37m\u001b[0m \u001b[1m0s\u001b[0m 6ms/step - accuracy: 0.5493 - loss: 0.6864 - val_accuracy: 0.5036 - val_loss: 0.6962\n",
      "Epoch 5/10\n",
      "\u001b[1m18/18\u001b[0m \u001b[32m━━━━━━━━━━━━━━━━━━━━\u001b[0m\u001b[37m\u001b[0m \u001b[1m0s\u001b[0m 5ms/step - accuracy: 0.5804 - loss: 0.6786 - val_accuracy: 0.4964 - val_loss: 0.6959\n",
      "Epoch 6/10\n",
      "\u001b[1m18/18\u001b[0m \u001b[32m━━━━━━━━━━━━━━━━━━━━\u001b[0m\u001b[37m\u001b[0m \u001b[1m0s\u001b[0m 5ms/step - accuracy: 0.5526 - loss: 0.6803 - val_accuracy: 0.4964 - val_loss: 0.6991\n",
      "Epoch 7/10\n",
      "\u001b[1m18/18\u001b[0m \u001b[32m━━━━━━━━━━━━━━━━━━━━\u001b[0m\u001b[37m\u001b[0m \u001b[1m0s\u001b[0m 5ms/step - accuracy: 0.5811 - loss: 0.6719 - val_accuracy: 0.5109 - val_loss: 0.6983\n",
      "\u001b[1m9/9\u001b[0m \u001b[32m━━━━━━━━━━━━━━━━━━━━\u001b[0m\u001b[37m\u001b[0m \u001b[1m0s\u001b[0m 10ms/step\n",
      "Fold 3 - Train Acc: 0.5431, Val Acc: 0.5072\n",
      "              precision    recall  f1-score   support\n",
      "\n",
      "           0       0.47      0.48      0.48       128\n",
      "           1       0.54      0.53      0.53       148\n",
      "\n",
      "    accuracy                           0.51       276\n",
      "   macro avg       0.51      0.51      0.51       276\n",
      "weighted avg       0.51      0.51      0.51       276\n",
      "\n",
      "\n",
      "Fold 4/5\n",
      "Epoch 1/10\n",
      "\u001b[1m15/18\u001b[0m \u001b[32m━━━━━━━━━━━━━━━━\u001b[0m\u001b[37m━━━━\u001b[0m \u001b[1m0s\u001b[0m 4ms/step - accuracy: 0.5164 - loss: 0.6941   "
     ]
    },
    {
     "name": "stderr",
     "output_type": "stream",
     "text": [
      "WARNING:absl:You are saving your model as an HDF5 file via `model.save()` or `keras.saving.save_model(model)`. This file format is considered legacy. We recommend using instead the native Keras format, e.g. `model.save('my_model.keras')` or `keras.saving.save_model(model, 'my_model.keras')`. \n"
     ]
    },
    {
     "name": "stdout",
     "output_type": "stream",
     "text": [
      "\u001b[1m18/18\u001b[0m \u001b[32m━━━━━━━━━━━━━━━━━━━━\u001b[0m\u001b[37m\u001b[0m \u001b[1m1s\u001b[0m 16ms/step - accuracy: 0.5127 - loss: 0.6949 - val_accuracy: 0.5326 - val_loss: 0.6906\n",
      "Epoch 2/10\n",
      "\u001b[1m16/18\u001b[0m \u001b[32m━━━━━━━━━━━━━━━━━\u001b[0m\u001b[37m━━━\u001b[0m \u001b[1m0s\u001b[0m 3ms/step - accuracy: 0.5412 - loss: 0.6878 "
     ]
    },
    {
     "name": "stderr",
     "output_type": "stream",
     "text": [
      "WARNING:absl:You are saving your model as an HDF5 file via `model.save()` or `keras.saving.save_model(model)`. This file format is considered legacy. We recommend using instead the native Keras format, e.g. `model.save('my_model.keras')` or `keras.saving.save_model(model, 'my_model.keras')`. \n"
     ]
    },
    {
     "name": "stdout",
     "output_type": "stream",
     "text": [
      "\u001b[1m18/18\u001b[0m \u001b[32m━━━━━━━━━━━━━━━━━━━━\u001b[0m\u001b[37m\u001b[0m \u001b[1m0s\u001b[0m 6ms/step - accuracy: 0.5416 - loss: 0.6878 - val_accuracy: 0.5652 - val_loss: 0.6885\n",
      "Epoch 3/10\n",
      "\u001b[1m16/18\u001b[0m \u001b[32m━━━━━━━━━━━━━━━━━\u001b[0m\u001b[37m━━━\u001b[0m \u001b[1m0s\u001b[0m 3ms/step - accuracy: 0.5453 - loss: 0.6852 "
     ]
    },
    {
     "name": "stderr",
     "output_type": "stream",
     "text": [
      "WARNING:absl:You are saving your model as an HDF5 file via `model.save()` or `keras.saving.save_model(model)`. This file format is considered legacy. We recommend using instead the native Keras format, e.g. `model.save('my_model.keras')` or `keras.saving.save_model(model, 'my_model.keras')`. \n"
     ]
    },
    {
     "name": "stdout",
     "output_type": "stream",
     "text": [
      "\u001b[1m18/18\u001b[0m \u001b[32m━━━━━━━━━━━━━━━━━━━━\u001b[0m\u001b[37m\u001b[0m \u001b[1m0s\u001b[0m 6ms/step - accuracy: 0.5468 - loss: 0.6853 - val_accuracy: 0.5507 - val_loss: 0.6873\n",
      "Epoch 4/10\n",
      "\u001b[1m16/18\u001b[0m \u001b[32m━━━━━━━━━━━━━━━━━\u001b[0m\u001b[37m━━━\u001b[0m \u001b[1m0s\u001b[0m 3ms/step - accuracy: 0.5504 - loss: 0.6854 "
     ]
    },
    {
     "name": "stderr",
     "output_type": "stream",
     "text": [
      "WARNING:absl:You are saving your model as an HDF5 file via `model.save()` or `keras.saving.save_model(model)`. This file format is considered legacy. We recommend using instead the native Keras format, e.g. `model.save('my_model.keras')` or `keras.saving.save_model(model, 'my_model.keras')`. \n"
     ]
    },
    {
     "name": "stdout",
     "output_type": "stream",
     "text": [
      "\u001b[1m18/18\u001b[0m \u001b[32m━━━━━━━━━━━━━━━━━━━━\u001b[0m\u001b[37m\u001b[0m \u001b[1m0s\u001b[0m 6ms/step - accuracy: 0.5525 - loss: 0.6850 - val_accuracy: 0.5652 - val_loss: 0.6861\n",
      "Epoch 5/10\n",
      "\u001b[1m18/18\u001b[0m \u001b[32m━━━━━━━━━━━━━━━━━━━━\u001b[0m\u001b[37m\u001b[0m \u001b[1m0s\u001b[0m 6ms/step - accuracy: 0.5568 - loss: 0.6798 - val_accuracy: 0.5435 - val_loss: 0.6869\n",
      "Epoch 6/10\n",
      "\u001b[1m17/18\u001b[0m \u001b[32m━━━━━━━━━━━━━━━━━━\u001b[0m\u001b[37m━━\u001b[0m \u001b[1m0s\u001b[0m 3ms/step - accuracy: 0.5790 - loss: 0.6745 "
     ]
    },
    {
     "name": "stderr",
     "output_type": "stream",
     "text": [
      "WARNING:absl:You are saving your model as an HDF5 file via `model.save()` or `keras.saving.save_model(model)`. This file format is considered legacy. We recommend using instead the native Keras format, e.g. `model.save('my_model.keras')` or `keras.saving.save_model(model, 'my_model.keras')`. \n"
     ]
    },
    {
     "name": "stdout",
     "output_type": "stream",
     "text": [
      "\u001b[1m18/18\u001b[0m \u001b[32m━━━━━━━━━━━━━━━━━━━━\u001b[0m\u001b[37m\u001b[0m \u001b[1m0s\u001b[0m 6ms/step - accuracy: 0.5783 - loss: 0.6749 - val_accuracy: 0.5580 - val_loss: 0.6855\n",
      "Epoch 7/10\n",
      "\u001b[1m17/18\u001b[0m \u001b[32m━━━━━━━━━━━━━━━━━━\u001b[0m\u001b[37m━━\u001b[0m \u001b[1m0s\u001b[0m 3ms/step - accuracy: 0.5862 - loss: 0.6711 "
     ]
    },
    {
     "name": "stderr",
     "output_type": "stream",
     "text": [
      "WARNING:absl:You are saving your model as an HDF5 file via `model.save()` or `keras.saving.save_model(model)`. This file format is considered legacy. We recommend using instead the native Keras format, e.g. `model.save('my_model.keras')` or `keras.saving.save_model(model, 'my_model.keras')`. \n"
     ]
    },
    {
     "name": "stdout",
     "output_type": "stream",
     "text": [
      "\u001b[1m18/18\u001b[0m \u001b[32m━━━━━━━━━━━━━━━━━━━━\u001b[0m\u001b[37m\u001b[0m \u001b[1m0s\u001b[0m 6ms/step - accuracy: 0.5850 - loss: 0.6717 - val_accuracy: 0.5435 - val_loss: 0.6853\n",
      "Epoch 8/10\n",
      "\u001b[1m18/18\u001b[0m \u001b[32m━━━━━━━━━━━━━━━━━━━━\u001b[0m\u001b[37m\u001b[0m \u001b[1m0s\u001b[0m 5ms/step - accuracy: 0.5643 - loss: 0.6768 - val_accuracy: 0.5507 - val_loss: 0.6863\n",
      "Epoch 9/10\n",
      "\u001b[1m18/18\u001b[0m \u001b[32m━━━━━━━━━━━━━━━━━━━━\u001b[0m\u001b[37m\u001b[0m \u001b[1m0s\u001b[0m 5ms/step - accuracy: 0.6020 - loss: 0.6704 - val_accuracy: 0.5580 - val_loss: 0.6870\n",
      "Epoch 10/10\n",
      "\u001b[1m18/18\u001b[0m \u001b[32m━━━━━━━━━━━━━━━━━━━━\u001b[0m\u001b[37m\u001b[0m \u001b[1m0s\u001b[0m 5ms/step - accuracy: 0.5883 - loss: 0.6722 - val_accuracy: 0.5652 - val_loss: 0.6881\n",
      "\u001b[1m9/9\u001b[0m \u001b[32m━━━━━━━━━━━━━━━━━━━━\u001b[0m\u001b[37m\u001b[0m \u001b[1m0s\u001b[0m 10ms/step\n",
      "Fold 4 - Train Acc: 0.5884, Val Acc: 0.5435\n",
      "              precision    recall  f1-score   support\n",
      "\n",
      "           0       0.55      0.47      0.51       138\n",
      "           1       0.54      0.62      0.57       138\n",
      "\n",
      "    accuracy                           0.54       276\n",
      "   macro avg       0.54      0.54      0.54       276\n",
      "weighted avg       0.54      0.54      0.54       276\n",
      "\n",
      "\n",
      "Fold 5/5\n",
      "Epoch 1/10\n",
      "\u001b[1m15/18\u001b[0m \u001b[32m━━━━━━━━━━━━━━━━\u001b[0m\u001b[37m━━━━\u001b[0m \u001b[1m0s\u001b[0m 4ms/step - accuracy: 0.4916 - loss: 0.6986   "
     ]
    },
    {
     "name": "stderr",
     "output_type": "stream",
     "text": [
      "WARNING:absl:You are saving your model as an HDF5 file via `model.save()` or `keras.saving.save_model(model)`. This file format is considered legacy. We recommend using instead the native Keras format, e.g. `model.save('my_model.keras')` or `keras.saving.save_model(model, 'my_model.keras')`. \n"
     ]
    },
    {
     "name": "stdout",
     "output_type": "stream",
     "text": [
      "\u001b[1m18/18\u001b[0m \u001b[32m━━━━━━━━━━━━━━━━━━━━\u001b[0m\u001b[37m\u001b[0m \u001b[1m1s\u001b[0m 15ms/step - accuracy: 0.4957 - loss: 0.6977 - val_accuracy: 0.5418 - val_loss: 0.6958\n",
      "Epoch 2/10\n",
      "\u001b[1m18/18\u001b[0m \u001b[32m━━━━━━━━━━━━━━━━━━━━\u001b[0m\u001b[37m\u001b[0m \u001b[1m0s\u001b[0m 6ms/step - accuracy: 0.5372 - loss: 0.6903 - val_accuracy: 0.4727 - val_loss: 0.6982\n",
      "Epoch 3/10\n",
      "\u001b[1m18/18\u001b[0m \u001b[32m━━━━━━━━━━━━━━━━━━━━\u001b[0m\u001b[37m\u001b[0m \u001b[1m0s\u001b[0m 8ms/step - accuracy: 0.5524 - loss: 0.6866 - val_accuracy: 0.4691 - val_loss: 0.7029\n",
      "Epoch 4/10\n",
      "\u001b[1m18/18\u001b[0m \u001b[32m━━━━━━━━━━━━━━━━━━━━\u001b[0m\u001b[37m\u001b[0m \u001b[1m0s\u001b[0m 6ms/step - accuracy: 0.5554 - loss: 0.6838 - val_accuracy: 0.4836 - val_loss: 0.7044\n",
      "Epoch 5/10\n",
      "\u001b[1m18/18\u001b[0m \u001b[32m━━━━━━━━━━━━━━━━━━━━\u001b[0m\u001b[37m\u001b[0m \u001b[1m0s\u001b[0m 6ms/step - accuracy: 0.5666 - loss: 0.6747 - val_accuracy: 0.4909 - val_loss: 0.7106\n",
      "Epoch 6/10\n",
      "\u001b[1m18/18\u001b[0m \u001b[32m━━━━━━━━━━━━━━━━━━━━\u001b[0m\u001b[37m\u001b[0m \u001b[1m0s\u001b[0m 6ms/step - accuracy: 0.5785 - loss: 0.6726 - val_accuracy: 0.4873 - val_loss: 0.7176\n",
      "\u001b[1m9/9\u001b[0m \u001b[32m━━━━━━━━━━━━━━━━━━━━\u001b[0m\u001b[37m\u001b[0m \u001b[1m0s\u001b[0m 10ms/step\n",
      "Fold 5 - Train Acc: 0.5389, Val Acc: 0.5418\n",
      "              precision    recall  f1-score   support\n",
      "\n",
      "           0       0.55      0.47      0.50       137\n",
      "           1       0.54      0.62      0.57       138\n",
      "\n",
      "    accuracy                           0.54       275\n",
      "   macro avg       0.54      0.54      0.54       275\n",
      "weighted avg       0.54      0.54      0.54       275\n",
      "\n"
     ]
    }
   ],
   "source": [
    "import tensorflow as tf\n",
    "from tensorflow.keras.models import Sequential\n",
    "from tensorflow.keras.layers import LSTM, Dense, Dropout\n",
    "from tensorflow.keras.callbacks import EarlyStopping, ModelCheckpoint\n",
    "import numpy as np\n",
    "import matplotlib.pyplot as plt\n",
    "from sklearn.model_selection import KFold\n",
    "from sklearn.metrics import classification_report, confusion_matrix\n",
    "from tensorflow.keras.layers import LSTM, Dense, Dropout, BatchNormalization\n",
    "\n",
    "# Combine train and validation data for cross-validation\n",
    "# Assuming X_train, y_train, X_val, y_val are already defined\n",
    "X_combined = np.concatenate([X_train, X_val], axis=0)\n",
    "y_combined = np.concatenate([y_train, y_val], axis=0)\n",
    "\n",
    "# Get shapes for model creation\n",
    "_, timesteps, n_features = X_combined.shape\n",
    "\n",
    "# Define the model creation function (unchanged)\n",
    "def create_lstm_model(timesteps, n_features):\n",
    "    model = Sequential()\n",
    "    # A single LSTM layer\n",
    "    model.add(LSTM(64, input_shape=(timesteps, n_features)))\n",
    "    model.add(Dropout(0.2))\n",
    "    # Output layer\n",
    "    model.add(Dense(1, activation='sigmoid'))\n",
    "    \n",
    "    model.compile(optimizer=tf.keras.optimizers.Adam(learning_rate=0.001),\n",
    "                  loss='binary_crossentropy',\n",
    "                  metrics=['accuracy'])\n",
    "    return model\n",
    "\n",
    "# Set up K-fold cross-validation\n",
    "n_folds = 5\n",
    "kfold = KFold(n_splits=n_folds, shuffle=True, random_state=42)\n",
    "\n",
    "# Lists to store metrics\n",
    "fold_train_losses = []\n",
    "fold_val_losses = []\n",
    "fold_train_accs = []\n",
    "fold_val_accs = []\n",
    "all_conf_matrices = []\n",
    "histories = []\n",
    "\n",
    "# Perform cross-validation\n",
    "for fold, (train_idx, val_idx) in enumerate(kfold.split(X_combined)):\n",
    "    print(f\"\\nFold {fold+1}/{n_folds}\")\n",
    "    \n",
    "    # Split data for this fold\n",
    "    X_train_fold, X_val_fold = X_combined[train_idx], X_combined[val_idx]\n",
    "    y_train_fold, y_val_fold = y_combined[train_idx], y_combined[val_idx]\n",
    "    \n",
    "    # Create a fresh model for each fold\n",
    "    model = create_lstm_model(timesteps, n_features)\n",
    "    \n",
    "    # Set up callbacks\n",
    "    callbacks = [\n",
    "        EarlyStopping(monitor='val_loss', patience=5, restore_best_weights=True),\n",
    "        ModelCheckpoint(f'best_lstm_model_fold_{fold+1}.h5', save_best_only=True, monitor='val_loss')\n",
    "    ]\n",
    "    \n",
    "    # Train the model\n",
    "    history = model.fit(\n",
    "        X_train_fold, y_train_fold,\n",
    "        epochs=10,\n",
    "        batch_size=64,\n",
    "        validation_data=(X_val_fold, y_val_fold),\n",
    "        callbacks=callbacks,\n",
    "        verbose=1\n",
    "    )\n",
    "    \n",
    "    # Store training history\n",
    "    histories.append(history)\n",
    "    \n",
    "    # Evaluate on training and validation data\n",
    "    train_loss, train_acc = model.evaluate(X_train_fold, y_train_fold, verbose=0)\n",
    "    val_loss, val_acc = model.evaluate(X_val_fold, y_val_fold, verbose=0)\n",
    "    \n",
    "    # Store metrics\n",
    "    fold_train_losses.append(train_loss)\n",
    "    fold_val_losses.append(val_loss)\n",
    "    fold_train_accs.append(train_acc)\n",
    "    fold_val_accs.append(val_acc)\n",
    "    \n",
    "    # Calculate predictions and confusion matrix\n",
    "    y_pred = (model.predict(X_val_fold) > 0.5).astype(int).flatten()\n",
    "    all_conf_matrices.append(confusion_matrix(y_val_fold, y_pred))\n",
    "    \n",
    "    print(f\"Fold {fold+1} - Train Acc: {train_acc:.4f}, Val Acc: {val_acc:.4f}\")\n",
    "    print(classification_report(y_val_fold, y_pred))"
   ]
  },
  {
   "cell_type": "code",
   "execution_count": 34,
   "metadata": {
    "cellUniqueIdByVincent": "6084d"
   },
   "outputs": [
    {
     "name": "stdout",
     "output_type": "stream",
     "text": [
      "\n",
      "==== Cross-Validation Results ====\n",
      "Average Training Accuracy: 0.5529 ± 0.0180\n",
      "Average Validation Accuracy: 0.5250 ± 0.0168\n",
      "Average Training Loss: 0.6842 ± 0.0066\n",
      "Average Validation Loss: 0.6919 ± 0.0040\n"
     ]
    },
    {
     "data": {
      "image/png": "[encoded data removed]",
      "text/plain": [
       "<Figure size 1200x500 with 2 Axes>"
      ]
     },
     "metadata": {},
     "output_type": "display_data"
    }
   ],
   "source": [
    "# Print average results\n",
    "print(\"\\n==== Cross-Validation Results ====\")\n",
    "print(f\"Average Training Accuracy: {np.mean(fold_train_accs):.4f} ± {np.std(fold_train_accs):.4f}\")\n",
    "print(f\"Average Validation Accuracy: {np.mean(fold_val_accs):.4f} ± {np.std(fold_val_accs):.4f}\")\n",
    "print(f\"Average Training Loss: {np.mean(fold_train_losses):.4f} ± {np.std(fold_train_losses):.4f}\")\n",
    "print(f\"Average Validation Loss: {np.mean(fold_val_losses):.4f} ± {np.std(fold_val_losses):.4f}\")\n",
    "\n",
    "# Plot average learning curves\n",
    "plt.figure(figsize=(12, 5))\n",
    "\n",
    "\n",
    "if histories:\n",
    "    # Plot average loss\n",
    "    plt.subplot(1, 2, 1)\n",
    "    for i, history in enumerate(histories):\n",
    "        plt.plot(history.history['loss'], alpha=0.2)\n",
    "        plt.plot(history.history['val_loss'], alpha=0.2)\n",
    "\n",
    "    min_epochs = min(len(history.history['loss']) for history in histories)\n",
    "    avg_train_loss = np.mean([history.history['loss'][:min_epochs] for history in histories], axis=0)\n",
    "    avg_val_loss = np.mean([history.history['val_loss'][:min_epochs] for history in histories], axis=0)\n",
    "    plt.plot(avg_train_loss, 'r-', linewidth=2, label='Avg Train Loss')\n",
    "    plt.plot(avg_val_loss, 'b-', linewidth=2, label='Avg Val Loss')\n",
    "    plt.title('Model Loss Across Folds')\n",
    "    plt.xlabel('Epochs')\n",
    "    plt.ylabel('Loss')\n",
    "    plt.legend()\n",
    "    # Plot average accuracy\n",
    "    plt.subplot(1, 2, 2)\n",
    "    for i, history in enumerate(histories):\n",
    "        plt.plot(history.history['accuracy'], alpha=0.2)\n",
    "        plt.plot(history.history['val_accuracy'], alpha=0.2)\n",
    "\n",
    "    min_epochs_acc = min(len(history.history['accuracy']) for history in histories)\n",
    "    avg_train_acc = np.mean([history.history['accuracy'][:min_epochs_acc] for history in histories], axis=0)\n",
    "    avg_val_acc = np.mean([history.history['val_accuracy'][:min_epochs_acc] for history in histories], axis=0)\n",
    "    plt.plot(avg_train_acc, 'r-', linewidth=2, label='Avg Train Accuracy')\n",
    "    plt.plot(avg_val_acc, 'b-', linewidth=2, label='Avg Val Accuracy')\n",
    "    plt.title('Model Accuracy Across Folds')\n",
    "    plt.xlabel('Epochs')\n",
    "    plt.ylabel('Accuracy')\n",
    "    plt.legend()\n",
    "\n",
    "    plt.tight_layout()\n",
    "    plt.show()\n",
    "else:\n",
    "    print(\"No training history available. Skipping learning curves plot.\")"
   ]
  },
  {
   "cell_type": "code",
   "execution_count": 30,
   "metadata": {
    "cellUniqueIdByVincent": "a55a6"
   },
   "outputs": [
    {
     "name": "stdout",
     "output_type": "stream",
     "text": [
      "Epoch 1/50\n",
      "\u001b[1m20/20\u001b[0m \u001b[32m━━━━━━━━━━━━━━━━━━━━\u001b[0m\u001b[37m\u001b[0m \u001b[1m1s\u001b[0m 10ms/step - accuracy: 0.5204 - loss: 0.6939 - val_accuracy: 0.4676 - val_loss: 0.7014\n",
      "Epoch 2/50\n",
      "\u001b[1m20/20\u001b[0m \u001b[32m━━━━━━━━━━━━━━━━━━━━\u001b[0m\u001b[37m\u001b[0m \u001b[1m0s\u001b[0m 3ms/step - accuracy: 0.5614 - loss: 0.6888 - val_accuracy: 0.4676 - val_loss: 0.7001\n",
      "Epoch 3/50\n",
      "\u001b[1m20/20\u001b[0m \u001b[32m━━━━━━━━━━━━━━━━━━━━\u001b[0m\u001b[37m\u001b[0m \u001b[1m0s\u001b[0m 3ms/step - accuracy: 0.5490 - loss: 0.6870 - val_accuracy: 0.4317 - val_loss: 0.7058\n",
      "Epoch 4/50\n",
      "\u001b[1m20/20\u001b[0m \u001b[32m━━━━━━━━━━━━━━━━━━━━\u001b[0m\u001b[37m\u001b[0m \u001b[1m0s\u001b[0m 3ms/step - accuracy: 0.5533 - loss: 0.6833 - val_accuracy: 0.4245 - val_loss: 0.7051\n",
      "Epoch 5/50\n",
      "\u001b[1m20/20\u001b[0m \u001b[32m━━━━━━━━━━━━━━━━━━━━\u001b[0m\u001b[37m\u001b[0m \u001b[1m0s\u001b[0m 3ms/step - accuracy: 0.5706 - loss: 0.6796 - val_accuracy: 0.4173 - val_loss: 0.7090\n",
      "Epoch 6/50\n",
      "\u001b[1m20/20\u001b[0m \u001b[32m━━━━━━━━━━━━━━━━━━━━\u001b[0m\u001b[37m\u001b[0m \u001b[1m0s\u001b[0m 3ms/step - accuracy: 0.5448 - loss: 0.6815 - val_accuracy: 0.4173 - val_loss: 0.7076\n",
      "Epoch 7/50\n",
      "\u001b[1m20/20\u001b[0m \u001b[32m━━━━━━━━━━━━━━━━━━━━\u001b[0m\u001b[37m\u001b[0m \u001b[1m0s\u001b[0m 3ms/step - accuracy: 0.5589 - loss: 0.6792 - val_accuracy: 0.4101 - val_loss: 0.7124\n",
      "\u001b[1m8/8\u001b[0m \u001b[32m━━━━━━━━━━━━━━━━━━━━\u001b[0m\u001b[37m\u001b[0m \u001b[1m0s\u001b[0m 2ms/step - accuracy: 0.4698 - loss: 0.6964 \n",
      "\u001b[1m8/8\u001b[0m \u001b[32m━━━━━━━━━━━━━━━━━━━━\u001b[0m\u001b[37m\u001b[0m \u001b[1m0s\u001b[0m 11ms/step\n",
      "Test Loss: 0.6966887712478638\n",
      "Test Accuracy: 0.4878048896789551\n",
      "Confusion Matrix:\n",
      "[[54 66]\n",
      " [60 66]]\n",
      "Classification Report:\n",
      "              precision    recall  f1-score   support\n",
      "\n",
      "           0       0.47      0.45      0.46       120\n",
      "           1       0.50      0.52      0.51       126\n",
      "\n",
      "    accuracy                           0.49       246\n",
      "   macro avg       0.49      0.49      0.49       246\n",
      "weighted avg       0.49      0.49      0.49       246\n",
      "\n"
     ]
    }
   ],
   "source": [
    "# Merge the training and validation sets\n",
    "X_final = np.concatenate([X_train, X_val], axis=0)\n",
    "y_final = np.concatenate([y_train, y_val], axis=0)\n",
    "\n",
    "# Create and train the final model\n",
    "final_model = create_lstm_model(timesteps, n_features)\n",
    "callbacks_final = [\n",
    "    EarlyStopping(monitor='val_loss', patience=5, restore_best_weights=True)\n",
    "]\n",
    "\n",
    "#Save final model\n",
    "final_model.save('models/prediction_yearly.keras')\n",
    "\n",
    "history_final = final_model.fit(\n",
    "    X_final,\n",
    "    y_final,\n",
    "    epochs=50,\n",
    "    batch_size=64,\n",
    "    validation_split=0.1,\n",
    "    callbacks=callbacks_final,\n",
    "    verbose=1\n",
    ")\n",
    "\n",
    "# Evaluate the model on the test set and make predictions\n",
    "test_loss, test_acc = final_model.evaluate(X_test, y_test, verbose=1)\n",
    "y_test_pred = (final_model.predict(X_test) > 0.5).astype(int).flatten()\n",
    "\n",
    "print(\"Test Loss:\", test_loss)\n",
    "print(\"Test Accuracy:\", test_acc)\n",
    "print(\"Confusion Matrix:\")\n",
    "print(confusion_matrix(y_test, y_test_pred))\n",
    "print(\"Classification Report:\")\n",
    "print(classification_report(y_test, y_test_pred))"
   ]
  }
 ],
 "metadata": {
  "kernelspec": {
   "display_name": ".venv",
   "language": "python",
   "name": "python3"
  },
  "language_info": {
   "codemirror_mode": {
    "name": "ipython",
    "version": 3
   },
   "file_extension": ".py",
   "mimetype": "text/x-python",
   "name": "python",
   "nbconvert_exporter": "python",
   "pygments_lexer": "ipython3",
   "version": "3.9.6"
  },
  "vincent": {
   "sessionId": "db4513f88e5dec23967f1ef8_2025-04-14T13-16-54-718Z"
  }
 },
 "nbformat": 4,
 "nbformat_minor": 5
}
