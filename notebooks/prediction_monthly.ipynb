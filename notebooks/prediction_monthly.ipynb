{
 "cells": [
  {
   "cell_type": "code",
   "execution_count": 1,
   "metadata": {
    "cellUniqueIdByVincent": "e96ba"
   },
   "outputs": [
    {
     "name": "stderr",
     "output_type": "stream",
     "text": [
      "/Users/kunthshah/Desktop/Crypto-Price-Moevement-Prediction/.venv/lib/python3.9/site-packages/urllib3/__init__.py:35: NotOpenSSLWarning: urllib3 v2 only supports OpenSSL 1.1.1+, currently the 'ssl' module is compiled with 'LibreSSL 2.8.3'. See: https://github.com/urllib3/urllib3/issues/3020\n",
      "  warnings.warn(\n"
     ]
    }
   ],
   "source": [
    "import tensorflow as tf\n",
    "import pandas as pd\n",
    "import numpy as np\n",
    "import os\n",
    "import matplotlib.pyplot as plt\n",
    "import seaborn as sns\n",
    "from sklearn.model_selection import train_test_split\n",
    "from sklearn.preprocessing import StandardScaler\n",
    "from sklearn.metrics import confusion_matrix, classification_report\n",
    "from tensorflow.keras.models import Sequential\n",
    "from tensorflow.keras.layers import Dense, Dropout\n",
    "from tensorflow.keras.callbacks import EarlyStopping\n",
    "from tensorflow.keras.optimizers import Adam\n",
    "import warnings\n",
    "warnings.filterwarnings('ignore')"
   ]
  },
  {
   "cell_type": "code",
   "execution_count": 2,
   "metadata": {
    "cellUniqueIdByVincent": "0d1ab"
   },
   "outputs": [
    {
     "data": {
      "text/html": [
       "<div>\n",
       "<style scoped>\n",
       "    .dataframe tbody tr th:only-of-type {\n",
       "        vertical-align: middle;\n",
       "    }\n",
       "\n",
       "    .dataframe tbody tr th {\n",
       "        vertical-align: top;\n",
       "    }\n",
       "\n",
       "    .dataframe thead th {\n",
       "        text-align: right;\n",
       "    }\n",
       "</style>\n",
       "<table border=\"1\" class=\"dataframe\">\n",
       "  <thead>\n",
       "    <tr style=\"text-align: right;\">\n",
       "      <th></th>\n",
       "      <th>Date</th>\n",
       "      <th>Open_Price</th>\n",
       "      <th>Close_Price</th>\n",
       "      <th>High_Price</th>\n",
       "      <th>Low_Price</th>\n",
       "      <th>Volume</th>\n",
       "      <th>RSI</th>\n",
       "      <th>Volatility</th>\n",
       "      <th>Global_Economy</th>\n",
       "      <th>Sentiment_Score</th>\n",
       "      <th>Event_Impact</th>\n",
       "      <th>MA_5</th>\n",
       "      <th>MA_10</th>\n",
       "      <th>Price_Change</th>\n",
       "      <th>Price_Movement</th>\n",
       "    </tr>\n",
       "  </thead>\n",
       "  <tbody>\n",
       "    <tr>\n",
       "      <th>0</th>\n",
       "      <td>2023-10-31</td>\n",
       "      <td>57397.216577</td>\n",
       "      <td>48824.312969</td>\n",
       "      <td>57411.578393</td>\n",
       "      <td>30541.786398</td>\n",
       "      <td>164421430</td>\n",
       "      <td>49.637677</td>\n",
       "      <td>0.029853</td>\n",
       "      <td>0.580645</td>\n",
       "      <td>0.063855</td>\n",
       "      <td>0.050326</td>\n",
       "      <td>50612.089545</td>\n",
       "      <td>47991.859734</td>\n",
       "      <td>-8572.903608</td>\n",
       "      <td>0</td>\n",
       "    </tr>\n",
       "    <tr>\n",
       "      <th>1</th>\n",
       "      <td>2023-11-30</td>\n",
       "      <td>51782.740012</td>\n",
       "      <td>33747.230312</td>\n",
       "      <td>60069.188441</td>\n",
       "      <td>29977.796001</td>\n",
       "      <td>185657473</td>\n",
       "      <td>45.759111</td>\n",
       "      <td>0.039044</td>\n",
       "      <td>0.533333</td>\n",
       "      <td>0.182264</td>\n",
       "      <td>0.045588</td>\n",
       "      <td>49290.616691</td>\n",
       "      <td>46529.061480</td>\n",
       "      <td>-18035.509700</td>\n",
       "      <td>0</td>\n",
       "    </tr>\n",
       "    <tr>\n",
       "      <th>2</th>\n",
       "      <td>2023-12-31</td>\n",
       "      <td>31380.079261</td>\n",
       "      <td>58245.585090</td>\n",
       "      <td>58945.959817</td>\n",
       "      <td>30249.517162</td>\n",
       "      <td>171450601</td>\n",
       "      <td>48.522087</td>\n",
       "      <td>0.048923</td>\n",
       "      <td>0.483871</td>\n",
       "      <td>0.064615</td>\n",
       "      <td>0.039810</td>\n",
       "      <td>50870.775888</td>\n",
       "      <td>49225.015011</td>\n",
       "      <td>26865.505829</td>\n",
       "      <td>1</td>\n",
       "    </tr>\n",
       "    <tr>\n",
       "      <th>3</th>\n",
       "      <td>2024-01-31</td>\n",
       "      <td>41583.079134</td>\n",
       "      <td>57745.278803</td>\n",
       "      <td>60388.438312</td>\n",
       "      <td>30052.887555</td>\n",
       "      <td>174184771</td>\n",
       "      <td>48.930698</td>\n",
       "      <td>0.013260</td>\n",
       "      <td>0.483871</td>\n",
       "      <td>0.061566</td>\n",
       "      <td>0.051840</td>\n",
       "      <td>50911.340042</td>\n",
       "      <td>50546.430321</td>\n",
       "      <td>16162.199669</td>\n",
       "      <td>1</td>\n",
       "    </tr>\n",
       "    <tr>\n",
       "      <th>4</th>\n",
       "      <td>2024-02-29</td>\n",
       "      <td>55752.382555</td>\n",
       "      <td>31995.906859</td>\n",
       "      <td>59206.502071</td>\n",
       "      <td>29863.830293</td>\n",
       "      <td>157162993</td>\n",
       "      <td>49.878218</td>\n",
       "      <td>0.024224</td>\n",
       "      <td>0.724138</td>\n",
       "      <td>0.196273</td>\n",
       "      <td>0.049517</td>\n",
       "      <td>46111.662807</td>\n",
       "      <td>49156.465648</td>\n",
       "      <td>-23756.475696</td>\n",
       "      <td>0</td>\n",
       "    </tr>\n",
       "  </tbody>\n",
       "</table>\n",
       "</div>"
      ],
      "text/plain": [
       "         Date    Open_Price   Close_Price    High_Price     Low_Price  \\\n",
       "0  2023-10-31  57397.216577  48824.312969  57411.578393  30541.786398   \n",
       "1  2023-11-30  51782.740012  33747.230312  60069.188441  29977.796001   \n",
       "2  2023-12-31  31380.079261  58245.585090  58945.959817  30249.517162   \n",
       "3  2024-01-31  41583.079134  57745.278803  60388.438312  30052.887555   \n",
       "4  2024-02-29  55752.382555  31995.906859  59206.502071  29863.830293   \n",
       "\n",
       "      Volume        RSI  Volatility  Global_Economy  Sentiment_Score  \\\n",
       "0  164421430  49.637677    0.029853        0.580645         0.063855   \n",
       "1  185657473  45.759111    0.039044        0.533333         0.182264   \n",
       "2  171450601  48.522087    0.048923        0.483871         0.064615   \n",
       "3  174184771  48.930698    0.013260        0.483871         0.061566   \n",
       "4  157162993  49.878218    0.024224        0.724138         0.196273   \n",
       "\n",
       "   Event_Impact          MA_5         MA_10  Price_Change  Price_Movement  \n",
       "0      0.050326  50612.089545  47991.859734  -8572.903608               0  \n",
       "1      0.045588  49290.616691  46529.061480 -18035.509700               0  \n",
       "2      0.039810  50870.775888  49225.015011  26865.505829               1  \n",
       "3      0.051840  50911.340042  50546.430321  16162.199669               1  \n",
       "4      0.049517  46111.662807  49156.465648 -23756.475696               0  "
      ]
     },
     "execution_count": 2,
     "metadata": {},
     "output_type": "execute_result"
    }
   ],
   "source": [
    "df = pd.read_csv('Dataset/crypto_monthly.csv') \n",
    "df.head()"
   ]
  },
  {
   "cell_type": "code",
   "execution_count": 3,
   "metadata": {
    "cellUniqueIdByVincent": "1c72d"
   },
   "outputs": [
    {
     "data": {
      "text/plain": [
       "Date                object\n",
       "Open_Price         float64\n",
       "Close_Price        float64\n",
       "High_Price         float64\n",
       "Low_Price          float64\n",
       "Volume               int64\n",
       "RSI                float64\n",
       "Volatility         float64\n",
       "Global_Economy     float64\n",
       "Sentiment_Score    float64\n",
       "Event_Impact       float64\n",
       "MA_5               float64\n",
       "MA_10              float64\n",
       "Price_Change       float64\n",
       "Price_Movement       int64\n",
       "dtype: object"
      ]
     },
     "execution_count": 3,
     "metadata": {},
     "output_type": "execute_result"
    }
   ],
   "source": [
    "df.dtypes"
   ]
  },
  {
   "cell_type": "code",
   "execution_count": 4,
   "metadata": {
    "cellUniqueIdByVincent": "e3e72"
   },
   "outputs": [
    {
     "name": "stdout",
     "output_type": "stream",
     "text": [
      "Date               datetime64[ns]\n",
      "Open_Price                float64\n",
      "High_Price                float64\n",
      "Low_Price                 float64\n",
      "Volume                      int64\n",
      "RSI                       float64\n",
      "Volatility                float64\n",
      "Global_Economy            float64\n",
      "Sentiment_Score           float64\n",
      "Event_Impact              float64\n",
      "MA_5                      float64\n",
      "MA_10                     float64\n",
      "Price_Movement              int64\n",
      "dtype: object\n"
     ]
    }
   ],
   "source": [
    "#Convert date to type datetime\n",
    "df['Date'] = pd.to_datetime(df['Date'])\n",
    "\n",
    "#drop Price_Change and Close_Price\n",
    "df.drop(['Price_Change', 'Close_Price'], axis=1, inplace=True)\n",
    "\n",
    "#drop null\n",
    "df.dropna(inplace=True)\n",
    "\n",
    "print(df.dtypes)"
   ]
  },
  {
   "cell_type": "code",
   "execution_count": 5,
   "metadata": {
    "cellUniqueIdByVincent": "a5891"
   },
   "outputs": [
    {
     "name": "stdout",
     "output_type": "stream",
     "text": [
      "   Event_Impact  Global_Economy  High_Price  Low_Price     MA_10      MA_5  \\\n",
      "0      0.050603        0.857464   -2.259642   0.164044  1.229011  1.557150   \n",
      "1     -0.848521        0.343342    0.463375  -0.409923  0.674182  1.206650   \n",
      "2     -1.945250       -0.194149   -0.687497  -0.133395  1.696738  1.625763   \n",
      "3      0.338001       -0.194149    0.790482  -0.333503  2.197941  1.636522   \n",
      "4     -0.102843        2.416752   -0.420543  -0.525905  1.670738  0.363483   \n",
      "\n",
      "   Open_Price       RSI  Sentiment_Score  Volatility    Volume  \\\n",
      "0    1.418835 -0.192801         0.608173   -0.018779 -0.197715   \n",
      "1    0.779749 -2.041172         1.720789    0.786756  1.271124   \n",
      "2   -1.542648 -0.724447         0.615317    1.652625  0.288473   \n",
      "3   -0.381260 -0.529719         0.586669   -1.473129  0.477588   \n",
      "4    1.231606 -0.078169         1.852418   -0.512173 -0.699761   \n",
      "\n",
      "   Price_Movement       Date  \n",
      "0               0 2023-10-31  \n",
      "1               0 2023-11-30  \n",
      "2               1 2023-12-31  \n",
      "3               1 2024-01-31  \n",
      "4               0 2024-02-29  \n"
     ]
    }
   ],
   "source": [
    "# Exclude non-feature columns from scaling\n",
    "cols_to_scale = df.columns.difference(['Date', 'Price_Movement'])\n",
    "\n",
    "# Scale the features\n",
    "scaler = StandardScaler()\n",
    "scaled_values = scaler.fit_transform(df[cols_to_scale])\n",
    "\n",
    "# Create dataframe with scaled features\n",
    "features_scaled_df = pd.DataFrame(scaled_values, columns=cols_to_scale, index=df.index)\n",
    "\n",
    "# Add the target column back without scaling\n",
    "features_scaled_df['Price_Movement'] = df['Price_Movement']\n",
    "features_scaled_df['Date'] = df['Date']\n",
    "\n",
    "print(features_scaled_df.head())"
   ]
  },
  {
   "cell_type": "code",
   "execution_count": 6,
   "metadata": {
    "cellUniqueIdByVincent": "ac296"
   },
   "outputs": [
    {
     "name": "stdout",
     "output_type": "stream",
     "text": [
      "X_seq shape: (1574, 60, 11)\n",
      "y_seq shape: (1574,)\n"
     ]
    }
   ],
   "source": [
    "# Define the window size\n",
    "window_size = 60\n",
    "\n",
    "def create_time_windows(data, window_size):\n",
    "    X_windows = []\n",
    "    y_windows = []\n",
    "    \n",
    "    # Loop starting from window_size to the end of data rows\n",
    "    for i in range(window_size, len(data)):\n",
    "        # Get window of features for the previous window_size days\n",
    "        X_window = data.iloc[i-window_size:i].values\n",
    "        # Get the target for the current day (could be adjusted as needed)\n",
    "        y_window = features_scaled_df.iloc[i]['Price_Movement']\n",
    "        X_windows.append(X_window)\n",
    "        y_windows.append(y_window)\n",
    "    \n",
    "    return np.array(X_windows), np.array(y_windows)\n",
    "\n",
    "# Prepare features (drop Date and Price_Movement columns)\n",
    "features = features_scaled_df.drop(['Date', 'Price_Movement'], axis=1)\n",
    "\n",
    "# Create the windows\n",
    "X_seq, y_seq = create_time_windows(features, window_size)\n",
    "\n",
    "# Check the shapes. X_seq should have shape (samples, 30, num_features)\n",
    "print(\"X_seq shape:\", X_seq.shape)\n",
    "print(\"y_seq shape:\", y_seq.shape)"
   ]
  },
  {
   "cell_type": "code",
   "execution_count": 7,
   "metadata": {
    "cellUniqueIdByVincent": "a6469"
   },
   "outputs": [
    {
     "name": "stdout",
     "output_type": "stream",
     "text": [
      "Training set: X shape = (1101, 60, 11), y shape = (1101,)\n",
      "Validation set: X shape = (236, 60, 11), y shape = (236,)\n",
      "Test set: X shape = (237, 60, 11), y shape = (237,)\n"
     ]
    }
   ],
   "source": [
    "def create_train_val_test_split(X, y, train_ratio=0.7, val_ratio=0.15):\n",
    "\n",
    "    n = len(X)\n",
    "    \n",
    "    # Calculate the split indices\n",
    "    train_end = int(n * train_ratio)\n",
    "    val_end = train_end + int(n * val_ratio)\n",
    "    \n",
    "    # Split the data\n",
    "    X_train, y_train = X[:train_end], y[:train_end]\n",
    "    X_val, y_val = X[train_end:val_end], y[train_end:val_end]\n",
    "    X_test, y_test = X[val_end:], y[val_end:]\n",
    "    \n",
    "    return X_train, y_train, X_val, y_val, X_test, y_test\n",
    "\n",
    "# Create the splits with default 70-15-15 ratio\n",
    "X_train, y_train, X_val, y_val, X_test, y_test = create_train_val_test_split(X_seq, y_seq)\n",
    "\n",
    "# Print the shapes to verify\n",
    "print(f\"Training set: X shape = {X_train.shape}, y shape = {y_train.shape}\")\n",
    "print(f\"Validation set: X shape = {X_val.shape}, y shape = {y_val.shape}\")\n",
    "print(f\"Test set: X shape = {X_test.shape}, y shape = {y_test.shape}\")"
   ]
  },
  {
   "cell_type": "code",
   "execution_count": 8,
   "id": "dfc54f2e",
   "metadata": {
    "cellUniqueIdByVincent": "a8532"
   },
   "outputs": [
    {
     "name": "stdout",
     "output_type": "stream",
     "text": [
      "\n",
      "Fold 1/5\n",
      "Epoch 1/10\n",
      "\u001b[1m17/17\u001b[0m \u001b[32m━━━━━━━━━━━━━━━━━━━━\u001b[0m\u001b[37m\u001b[0m \u001b[1m0s\u001b[0m 43ms/step - accuracy: 0.5021 - loss: 0.9525"
     ]
    },
    {
     "name": "stderr",
     "output_type": "stream",
     "text": [
      "WARNING:absl:You are saving your model as an HDF5 file via `model.save()` or `keras.saving.save_model(model)`. This file format is considered legacy. We recommend using instead the native Keras format, e.g. `model.save('my_model.keras')` or `keras.saving.save_model(model, 'my_model.keras')`. \n"
     ]
    },
    {
     "name": "stdout",
     "output_type": "stream",
     "text": [
      "\u001b[1m17/17\u001b[0m \u001b[32m━━━━━━━━━━━━━━━━━━━━\u001b[0m\u001b[37m\u001b[0m \u001b[1m3s\u001b[0m 62ms/step - accuracy: 0.5017 - loss: 0.9505 - val_accuracy: 0.4963 - val_loss: 0.6963\n",
      "Epoch 2/10\n",
      "\u001b[1m17/17\u001b[0m \u001b[32m━━━━━━━━━━━━━━━━━━━━\u001b[0m\u001b[37m\u001b[0m \u001b[1m1s\u001b[0m 48ms/step - accuracy: 0.5393 - loss: 0.7833 - val_accuracy: 0.4963 - val_loss: 0.7018\n",
      "Epoch 3/10\n",
      "\u001b[1m17/17\u001b[0m \u001b[32m━━━━━━━━━━━━━━━━━━━━\u001b[0m\u001b[37m\u001b[0m \u001b[1m1s\u001b[0m 47ms/step - accuracy: 0.5756 - loss: 0.7386 - val_accuracy: 0.4963 - val_loss: 0.7043\n",
      "Epoch 4/10\n",
      "\u001b[1m17/17\u001b[0m \u001b[32m━━━━━━━━━━━━━━━━━━━━\u001b[0m\u001b[37m\u001b[0m \u001b[1m1s\u001b[0m 48ms/step - accuracy: 0.5764 - loss: 0.7059 - val_accuracy: 0.4963 - val_loss: 0.7037\n",
      "Epoch 5/10\n",
      "\u001b[1m17/17\u001b[0m \u001b[32m━━━━━━━━━━━━━━━━━━━━\u001b[0m\u001b[37m\u001b[0m \u001b[1m1s\u001b[0m 49ms/step - accuracy: 0.5927 - loss: 0.7019 - val_accuracy: 0.4963 - val_loss: 0.7121\n",
      "Epoch 6/10\n",
      "\u001b[1m17/17\u001b[0m \u001b[32m━━━━━━━━━━━━━━━━━━━━\u001b[0m\u001b[37m\u001b[0m \u001b[1m1s\u001b[0m 50ms/step - accuracy: 0.6174 - loss: 0.6847 - val_accuracy: 0.4963 - val_loss: 0.7228\n",
      "\u001b[1m9/9\u001b[0m \u001b[32m━━━━━━━━━━━━━━━━━━━━\u001b[0m\u001b[37m\u001b[0m \u001b[1m0s\u001b[0m 26ms/step\n",
      "Fold 1 - Train Acc: 0.5033, Val Acc: 0.4963\n",
      "              precision    recall  f1-score   support\n",
      "\n",
      "           0       0.00      0.00      0.00       135\n",
      "           1       0.50      1.00      0.66       133\n",
      "\n",
      "    accuracy                           0.50       268\n",
      "   macro avg       0.25      0.50      0.33       268\n",
      "weighted avg       0.25      0.50      0.33       268\n",
      "\n",
      "\n",
      "Fold 2/5\n",
      "Epoch 1/10\n",
      "\u001b[1m17/17\u001b[0m \u001b[32m━━━━━━━━━━━━━━━━━━━━\u001b[0m\u001b[37m\u001b[0m \u001b[1m0s\u001b[0m 40ms/step - accuracy: 0.4972 - loss: 0.9487"
     ]
    },
    {
     "name": "stderr",
     "output_type": "stream",
     "text": [
      "WARNING:absl:You are saving your model as an HDF5 file via `model.save()` or `keras.saving.save_model(model)`. This file format is considered legacy. We recommend using instead the native Keras format, e.g. `model.save('my_model.keras')` or `keras.saving.save_model(model, 'my_model.keras')`. \n"
     ]
    },
    {
     "name": "stdout",
     "output_type": "stream",
     "text": [
      "\u001b[1m17/17\u001b[0m \u001b[32m━━━━━━━━━━━━━━━━━━━━\u001b[0m\u001b[37m\u001b[0m \u001b[1m3s\u001b[0m 58ms/step - accuracy: 0.4982 - loss: 0.9461 - val_accuracy: 0.5187 - val_loss: 0.6906\n",
      "Epoch 2/10\n",
      "\u001b[1m17/17\u001b[0m \u001b[32m━━━━━━━━━━━━━━━━━━━━\u001b[0m\u001b[37m\u001b[0m \u001b[1m1s\u001b[0m 50ms/step - accuracy: 0.5921 - loss: 0.7494 - val_accuracy: 0.5187 - val_loss: 0.6934\n",
      "Epoch 3/10\n",
      "\u001b[1m17/17\u001b[0m \u001b[32m━━━━━━━━━━━━━━━━━━━━\u001b[0m\u001b[37m\u001b[0m \u001b[1m1s\u001b[0m 47ms/step - accuracy: 0.5603 - loss: 0.7905 - val_accuracy: 0.5187 - val_loss: 0.7002\n",
      "Epoch 4/10\n",
      "\u001b[1m17/17\u001b[0m \u001b[32m━━━━━━━━━━━━━━━━━━━━\u001b[0m\u001b[37m\u001b[0m \u001b[1m1s\u001b[0m 53ms/step - accuracy: 0.5962 - loss: 0.6987 - val_accuracy: 0.5187 - val_loss: 0.7147\n",
      "Epoch 5/10\n",
      "\u001b[1m17/17\u001b[0m \u001b[32m━━━━━━━━━━━━━━━━━━━━\u001b[0m\u001b[37m\u001b[0m \u001b[1m1s\u001b[0m 50ms/step - accuracy: 0.6217 - loss: 0.6824 - val_accuracy: 0.5187 - val_loss: 0.7315\n",
      "Epoch 6/10\n",
      "\u001b[1m17/17\u001b[0m \u001b[32m━━━━━━━━━━━━━━━━━━━━\u001b[0m\u001b[37m\u001b[0m \u001b[1m1s\u001b[0m 49ms/step - accuracy: 0.6244 - loss: 0.6762 - val_accuracy: 0.5187 - val_loss: 0.7545\n",
      "\u001b[1m9/9\u001b[0m \u001b[32m━━━━━━━━━━━━━━━━━━━━\u001b[0m\u001b[37m\u001b[0m \u001b[1m0s\u001b[0m 26ms/step\n",
      "Fold 2 - Train Acc: 0.4977, Val Acc: 0.5187\n",
      "              precision    recall  f1-score   support\n",
      "\n",
      "           0       0.50      0.01      0.02       129\n",
      "           1       0.52      0.99      0.68       139\n",
      "\n",
      "    accuracy                           0.52       268\n",
      "   macro avg       0.51      0.50      0.35       268\n",
      "weighted avg       0.51      0.52      0.36       268\n",
      "\n",
      "\n",
      "Fold 3/5\n",
      "Epoch 1/10\n",
      "\u001b[1m17/17\u001b[0m \u001b[32m━━━━━━━━━━━━━━━━━━━━\u001b[0m\u001b[37m\u001b[0m \u001b[1m0s\u001b[0m 40ms/step - accuracy: 0.5024 - loss: 0.9331"
     ]
    },
    {
     "name": "stderr",
     "output_type": "stream",
     "text": [
      "WARNING:absl:You are saving your model as an HDF5 file via `model.save()` or `keras.saving.save_model(model)`. This file format is considered legacy. We recommend using instead the native Keras format, e.g. `model.save('my_model.keras')` or `keras.saving.save_model(model, 'my_model.keras')`. \n"
     ]
    },
    {
     "name": "stdout",
     "output_type": "stream",
     "text": [
      "\u001b[1m17/17\u001b[0m \u001b[32m━━━━━━━━━━━━━━━━━━━━\u001b[0m\u001b[37m\u001b[0m \u001b[1m3s\u001b[0m 59ms/step - accuracy: 0.5027 - loss: 0.9309 - val_accuracy: 0.4607 - val_loss: 0.6959\n",
      "Epoch 2/10\n",
      "\u001b[1m17/17\u001b[0m \u001b[32m━━━━━━━━━━━━━━━━━━━━\u001b[0m\u001b[37m\u001b[0m \u001b[1m0s\u001b[0m 43ms/step - accuracy: 0.5538 - loss: 0.7835"
     ]
    },
    {
     "name": "stderr",
     "output_type": "stream",
     "text": [
      "WARNING:absl:You are saving your model as an HDF5 file via `model.save()` or `keras.saving.save_model(model)`. This file format is considered legacy. We recommend using instead the native Keras format, e.g. `model.save('my_model.keras')` or `keras.saving.save_model(model, 'my_model.keras')`. \n"
     ]
    },
    {
     "name": "stdout",
     "output_type": "stream",
     "text": [
      "\u001b[1m17/17\u001b[0m \u001b[32m━━━━━━━━━━━━━━━━━━━━\u001b[0m\u001b[37m\u001b[0m \u001b[1m1s\u001b[0m 50ms/step - accuracy: 0.5531 - loss: 0.7845 - val_accuracy: 0.5056 - val_loss: 0.6941\n",
      "Epoch 3/10\n",
      "\u001b[1m16/17\u001b[0m \u001b[32m━━━━━━━━━━━━━━━━━━\u001b[0m\u001b[37m━━\u001b[0m \u001b[1m0s\u001b[0m 46ms/step - accuracy: 0.5657 - loss: 0.7419"
     ]
    },
    {
     "name": "stderr",
     "output_type": "stream",
     "text": [
      "WARNING:absl:You are saving your model as an HDF5 file via `model.save()` or `keras.saving.save_model(model)`. This file format is considered legacy. We recommend using instead the native Keras format, e.g. `model.save('my_model.keras')` or `keras.saving.save_model(model, 'my_model.keras')`. \n"
     ]
    },
    {
     "name": "stdout",
     "output_type": "stream",
     "text": [
      "\u001b[1m17/17\u001b[0m \u001b[32m━━━━━━━━━━━━━━━━━━━━\u001b[0m\u001b[37m\u001b[0m \u001b[1m1s\u001b[0m 53ms/step - accuracy: 0.5640 - loss: 0.7427 - val_accuracy: 0.5581 - val_loss: 0.6912\n",
      "Epoch 4/10\n",
      "\u001b[1m17/17\u001b[0m \u001b[32m━━━━━━━━━━━━━━━━━━━━\u001b[0m\u001b[37m\u001b[0m \u001b[1m1s\u001b[0m 49ms/step - accuracy: 0.5910 - loss: 0.7443 - val_accuracy: 0.5356 - val_loss: 0.6916\n",
      "Epoch 5/10\n",
      "\u001b[1m17/17\u001b[0m \u001b[32m━━━━━━━━━━━━━━━━━━━━\u001b[0m\u001b[37m\u001b[0m \u001b[1m1s\u001b[0m 47ms/step - accuracy: 0.5658 - loss: 0.7176 - val_accuracy: 0.5206 - val_loss: 0.6919\n",
      "Epoch 6/10\n",
      "\u001b[1m17/17\u001b[0m \u001b[32m━━━━━━━━━━━━━━━━━━━━\u001b[0m\u001b[37m\u001b[0m \u001b[1m0s\u001b[0m 44ms/step - accuracy: 0.5670 - loss: 0.7174"
     ]
    },
    {
     "name": "stderr",
     "output_type": "stream",
     "text": [
      "WARNING:absl:You are saving your model as an HDF5 file via `model.save()` or `keras.saving.save_model(model)`. This file format is considered legacy. We recommend using instead the native Keras format, e.g. `model.save('my_model.keras')` or `keras.saving.save_model(model, 'my_model.keras')`. \n"
     ]
    },
    {
     "name": "stdout",
     "output_type": "stream",
     "text": [
      "\u001b[1m17/17\u001b[0m \u001b[32m━━━━━━━━━━━━━━━━━━━━\u001b[0m\u001b[37m\u001b[0m \u001b[1m1s\u001b[0m 50ms/step - accuracy: 0.5676 - loss: 0.7167 - val_accuracy: 0.5431 - val_loss: 0.6886\n",
      "Epoch 7/10\n",
      "\u001b[1m17/17\u001b[0m \u001b[32m━━━━━━━━━━━━━━━━━━━━\u001b[0m\u001b[37m\u001b[0m \u001b[1m1s\u001b[0m 50ms/step - accuracy: 0.5952 - loss: 0.7046 - val_accuracy: 0.5131 - val_loss: 0.6940\n",
      "Epoch 8/10\n",
      "\u001b[1m17/17\u001b[0m \u001b[32m━━━━━━━━━━━━━━━━━━━━\u001b[0m\u001b[37m\u001b[0m \u001b[1m1s\u001b[0m 55ms/step - accuracy: 0.5996 - loss: 0.6760 - val_accuracy: 0.5281 - val_loss: 0.6892\n",
      "Epoch 9/10\n",
      "\u001b[1m16/17\u001b[0m \u001b[32m━━━━━━━━━━━━━━━━━━\u001b[0m\u001b[37m━━\u001b[0m \u001b[1m0s\u001b[0m 51ms/step - accuracy: 0.5732 - loss: 0.6853"
     ]
    },
    {
     "name": "stderr",
     "output_type": "stream",
     "text": [
      "WARNING:absl:You are saving your model as an HDF5 file via `model.save()` or `keras.saving.save_model(model)`. This file format is considered legacy. We recommend using instead the native Keras format, e.g. `model.save('my_model.keras')` or `keras.saving.save_model(model, 'my_model.keras')`. \n"
     ]
    },
    {
     "name": "stdout",
     "output_type": "stream",
     "text": [
      "\u001b[1m17/17\u001b[0m \u001b[32m━━━━━━━━━━━━━━━━━━━━\u001b[0m\u001b[37m\u001b[0m \u001b[1m1s\u001b[0m 57ms/step - accuracy: 0.5754 - loss: 0.6849 - val_accuracy: 0.5805 - val_loss: 0.6839\n",
      "Epoch 10/10\n",
      "\u001b[1m17/17\u001b[0m \u001b[32m━━━━━━━━━━━━━━━━━━━━\u001b[0m\u001b[37m\u001b[0m \u001b[1m1s\u001b[0m 54ms/step - accuracy: 0.6311 - loss: 0.6541 - val_accuracy: 0.5131 - val_loss: 0.6918\n",
      "\u001b[1m9/9\u001b[0m \u001b[32m━━━━━━━━━━━━━━━━━━━━\u001b[0m\u001b[37m\u001b[0m \u001b[1m0s\u001b[0m 26ms/step\n",
      "Fold 3 - Train Acc: 0.6346, Val Acc: 0.5805\n",
      "              precision    recall  f1-score   support\n",
      "\n",
      "           0       0.62      0.54      0.58       142\n",
      "           1       0.55      0.62      0.58       125\n",
      "\n",
      "    accuracy                           0.58       267\n",
      "   macro avg       0.58      0.58      0.58       267\n",
      "weighted avg       0.59      0.58      0.58       267\n",
      "\n",
      "\n",
      "Fold 4/5\n",
      "Epoch 1/10\n",
      "\u001b[1m17/17\u001b[0m \u001b[32m━━━━━━━━━━━━━━━━━━━━\u001b[0m\u001b[37m\u001b[0m \u001b[1m0s\u001b[0m 41ms/step - accuracy: 0.5122 - loss: 0.9079"
     ]
    },
    {
     "name": "stderr",
     "output_type": "stream",
     "text": [
      "WARNING:absl:You are saving your model as an HDF5 file via `model.save()` or `keras.saving.save_model(model)`. This file format is considered legacy. We recommend using instead the native Keras format, e.g. `model.save('my_model.keras')` or `keras.saving.save_model(model, 'my_model.keras')`. \n"
     ]
    },
    {
     "name": "stdout",
     "output_type": "stream",
     "text": [
      "\u001b[1m17/17\u001b[0m \u001b[32m━━━━━━━━━━━━━━━━━━━━\u001b[0m\u001b[37m\u001b[0m \u001b[1m3s\u001b[0m 59ms/step - accuracy: 0.5117 - loss: 0.9084 - val_accuracy: 0.5206 - val_loss: 0.6937\n",
      "Epoch 2/10\n",
      "\u001b[1m17/17\u001b[0m \u001b[32m━━━━━━━━━━━━━━━━━━━━\u001b[0m\u001b[37m\u001b[0m \u001b[1m1s\u001b[0m 48ms/step - accuracy: 0.5325 - loss: 0.7907 - val_accuracy: 0.4532 - val_loss: 0.6945\n",
      "Epoch 3/10\n",
      "\u001b[1m17/17\u001b[0m \u001b[32m━━━━━━━━━━━━━━━━━━━━\u001b[0m\u001b[37m\u001b[0m \u001b[1m1s\u001b[0m 47ms/step - accuracy: 0.5509 - loss: 0.7393 - val_accuracy: 0.4794 - val_loss: 0.7035\n",
      "Epoch 4/10\n",
      "\u001b[1m17/17\u001b[0m \u001b[32m━━━━━━━━━━━━━━━━━━━━\u001b[0m\u001b[37m\u001b[0m \u001b[1m1s\u001b[0m 46ms/step - accuracy: 0.6024 - loss: 0.6984 - val_accuracy: 0.4794 - val_loss: 0.7178\n",
      "Epoch 5/10\n",
      "\u001b[1m17/17\u001b[0m \u001b[32m━━━━━━━━━━━━━━━━━━━━\u001b[0m\u001b[37m\u001b[0m \u001b[1m1s\u001b[0m 47ms/step - accuracy: 0.6054 - loss: 0.6927 - val_accuracy: 0.4794 - val_loss: 0.7335\n",
      "Epoch 6/10\n",
      "\u001b[1m17/17\u001b[0m \u001b[32m━━━━━━━━━━━━━━━━━━━━\u001b[0m\u001b[37m\u001b[0m \u001b[1m1s\u001b[0m 48ms/step - accuracy: 0.5925 - loss: 0.6982 - val_accuracy: 0.4794 - val_loss: 0.7371\n",
      "\u001b[1m9/9\u001b[0m \u001b[32m━━━━━━━━━━━━━━━━━━━━\u001b[0m\u001b[37m\u001b[0m \u001b[1m0s\u001b[0m 26ms/step\n",
      "Fold 4 - Train Acc: 0.4916, Val Acc: 0.5206\n",
      "              precision    recall  f1-score   support\n",
      "\n",
      "           0       0.52      1.00      0.68       139\n",
      "           1       0.00      0.00      0.00       128\n",
      "\n",
      "    accuracy                           0.52       267\n",
      "   macro avg       0.26      0.50      0.34       267\n",
      "weighted avg       0.27      0.52      0.36       267\n",
      "\n",
      "\n",
      "Fold 5/5\n",
      "Epoch 1/10\n",
      "\u001b[1m17/17\u001b[0m \u001b[32m━━━━━━━━━━━━━━━━━━━━\u001b[0m\u001b[37m\u001b[0m \u001b[1m0s\u001b[0m 39ms/step - accuracy: 0.5006 - loss: 0.9029"
     ]
    },
    {
     "name": "stderr",
     "output_type": "stream",
     "text": [
      "WARNING:absl:You are saving your model as an HDF5 file via `model.save()` or `keras.saving.save_model(model)`. This file format is considered legacy. We recommend using instead the native Keras format, e.g. `model.save('my_model.keras')` or `keras.saving.save_model(model, 'my_model.keras')`. \n"
     ]
    },
    {
     "name": "stdout",
     "output_type": "stream",
     "text": [
      "\u001b[1m17/17\u001b[0m \u001b[32m━━━━━━━━━━━━━━━━━━━━\u001b[0m\u001b[37m\u001b[0m \u001b[1m3s\u001b[0m 58ms/step - accuracy: 0.5007 - loss: 0.9013 - val_accuracy: 0.4419 - val_loss: 0.6980\n",
      "Epoch 2/10\n",
      "\u001b[1m17/17\u001b[0m \u001b[32m━━━━━━━━━━━━━━━━━━━━\u001b[0m\u001b[37m\u001b[0m \u001b[1m0s\u001b[0m 42ms/step - accuracy: 0.5497 - loss: 0.7481"
     ]
    },
    {
     "name": "stderr",
     "output_type": "stream",
     "text": [
      "WARNING:absl:You are saving your model as an HDF5 file via `model.save()` or `keras.saving.save_model(model)`. This file format is considered legacy. We recommend using instead the native Keras format, e.g. `model.save('my_model.keras')` or `keras.saving.save_model(model, 'my_model.keras')`. \n"
     ]
    },
    {
     "name": "stdout",
     "output_type": "stream",
     "text": [
      "\u001b[1m17/17\u001b[0m \u001b[32m━━━━━━━━━━━━━━━━━━━━\u001b[0m\u001b[37m\u001b[0m \u001b[1m1s\u001b[0m 48ms/step - accuracy: 0.5493 - loss: 0.7486 - val_accuracy: 0.4869 - val_loss: 0.6966\n",
      "Epoch 3/10\n",
      "\u001b[1m17/17\u001b[0m \u001b[32m━━━━━━━━━━━━━━━━━━━━\u001b[0m\u001b[37m\u001b[0m \u001b[1m0s\u001b[0m 42ms/step - accuracy: 0.5557 - loss: 0.7271"
     ]
    },
    {
     "name": "stderr",
     "output_type": "stream",
     "text": [
      "WARNING:absl:You are saving your model as an HDF5 file via `model.save()` or `keras.saving.save_model(model)`. This file format is considered legacy. We recommend using instead the native Keras format, e.g. `model.save('my_model.keras')` or `keras.saving.save_model(model, 'my_model.keras')`. \n"
     ]
    },
    {
     "name": "stdout",
     "output_type": "stream",
     "text": [
      "\u001b[1m17/17\u001b[0m \u001b[32m━━━━━━━━━━━━━━━━━━━━\u001b[0m\u001b[37m\u001b[0m \u001b[1m1s\u001b[0m 48ms/step - accuracy: 0.5561 - loss: 0.7273 - val_accuracy: 0.5356 - val_loss: 0.6904\n",
      "Epoch 4/10\n",
      "\u001b[1m17/17\u001b[0m \u001b[32m━━━━━━━━━━━━━━━━━━━━\u001b[0m\u001b[37m\u001b[0m \u001b[1m0s\u001b[0m 43ms/step - accuracy: 0.5975 - loss: 0.7056"
     ]
    },
    {
     "name": "stderr",
     "output_type": "stream",
     "text": [
      "WARNING:absl:You are saving your model as an HDF5 file via `model.save()` or `keras.saving.save_model(model)`. This file format is considered legacy. We recommend using instead the native Keras format, e.g. `model.save('my_model.keras')` or `keras.saving.save_model(model, 'my_model.keras')`. \n"
     ]
    },
    {
     "name": "stdout",
     "output_type": "stream",
     "text": [
      "\u001b[1m17/17\u001b[0m \u001b[32m━━━━━━━━━━━━━━━━━━━━\u001b[0m\u001b[37m\u001b[0m \u001b[1m1s\u001b[0m 50ms/step - accuracy: 0.5968 - loss: 0.7057 - val_accuracy: 0.5693 - val_loss: 0.6865\n",
      "Epoch 5/10\n",
      "\u001b[1m16/17\u001b[0m \u001b[32m━━━━━━━━━━━━━━━━━━\u001b[0m\u001b[37m━━\u001b[0m \u001b[1m0s\u001b[0m 47ms/step - accuracy: 0.5873 - loss: 0.6837"
     ]
    },
    {
     "name": "stderr",
     "output_type": "stream",
     "text": [
      "WARNING:absl:You are saving your model as an HDF5 file via `model.save()` or `keras.saving.save_model(model)`. This file format is considered legacy. We recommend using instead the native Keras format, e.g. `model.save('my_model.keras')` or `keras.saving.save_model(model, 'my_model.keras')`. \n"
     ]
    },
    {
     "name": "stdout",
     "output_type": "stream",
     "text": [
      "\u001b[1m17/17\u001b[0m \u001b[32m━━━━━━━━━━━━━━━━━━━━\u001b[0m\u001b[37m\u001b[0m \u001b[1m1s\u001b[0m 53ms/step - accuracy: 0.5880 - loss: 0.6843 - val_accuracy: 0.5768 - val_loss: 0.6848\n",
      "Epoch 6/10\n",
      "\u001b[1m17/17\u001b[0m \u001b[32m━━━━━━━━━━━━━━━━━━━━\u001b[0m\u001b[37m\u001b[0m \u001b[1m1s\u001b[0m 50ms/step - accuracy: 0.6201 - loss: 0.6717 - val_accuracy: 0.5543 - val_loss: 0.6866\n",
      "Epoch 7/10\n",
      "\u001b[1m16/17\u001b[0m \u001b[32m━━━━━━━━━━━━━━━━━━\u001b[0m\u001b[37m━━\u001b[0m \u001b[1m0s\u001b[0m 46ms/step - accuracy: 0.6402 - loss: 0.6563"
     ]
    },
    {
     "name": "stderr",
     "output_type": "stream",
     "text": [
      "WARNING:absl:You are saving your model as an HDF5 file via `model.save()` or `keras.saving.save_model(model)`. This file format is considered legacy. We recommend using instead the native Keras format, e.g. `model.save('my_model.keras')` or `keras.saving.save_model(model, 'my_model.keras')`. \n"
     ]
    },
    {
     "name": "stdout",
     "output_type": "stream",
     "text": [
      "\u001b[1m17/17\u001b[0m \u001b[32m━━━━━━━━━━━━━━━━━━━━\u001b[0m\u001b[37m\u001b[0m \u001b[1m1s\u001b[0m 51ms/step - accuracy: 0.6384 - loss: 0.6575 - val_accuracy: 0.5655 - val_loss: 0.6820\n",
      "Epoch 8/10\n",
      "\u001b[1m17/17\u001b[0m \u001b[32m━━━━━━━━━━━━━━━━━━━━\u001b[0m\u001b[37m\u001b[0m \u001b[1m1s\u001b[0m 51ms/step - accuracy: 0.6219 - loss: 0.6676 - val_accuracy: 0.5581 - val_loss: 0.6895\n",
      "Epoch 9/10\n",
      "\u001b[1m17/17\u001b[0m \u001b[32m━━━━━━━━━━━━━━━━━━━━\u001b[0m\u001b[37m\u001b[0m \u001b[1m1s\u001b[0m 50ms/step - accuracy: 0.6614 - loss: 0.6411 - val_accuracy: 0.5918 - val_loss: 0.6831\n",
      "Epoch 10/10\n",
      "\u001b[1m17/17\u001b[0m \u001b[32m━━━━━━━━━━━━━━━━━━━━\u001b[0m\u001b[37m\u001b[0m \u001b[1m1s\u001b[0m 51ms/step - accuracy: 0.6704 - loss: 0.6136 - val_accuracy: 0.5730 - val_loss: 0.6892\n",
      "\u001b[1m9/9\u001b[0m \u001b[32m━━━━━━━━━━━━━━━━━━━━\u001b[0m\u001b[37m\u001b[0m \u001b[1m0s\u001b[0m 26ms/step\n",
      "Fold 5 - Train Acc: 0.5991, Val Acc: 0.5655\n",
      "              precision    recall  f1-score   support\n",
      "\n",
      "           0       0.53      0.30      0.38       120\n",
      "           1       0.58      0.78      0.66       147\n",
      "\n",
      "    accuracy                           0.57       267\n",
      "   macro avg       0.55      0.54      0.52       267\n",
      "weighted avg       0.56      0.57      0.54       267\n",
      "\n"
     ]
    }
   ],
   "source": [
    "import tensorflow as tf\n",
    "from tensorflow.keras.models import Sequential\n",
    "from tensorflow.keras.layers import LSTM, Dense, Dropout\n",
    "from tensorflow.keras.callbacks import EarlyStopping, ModelCheckpoint\n",
    "import numpy as np\n",
    "import matplotlib.pyplot as plt\n",
    "from sklearn.model_selection import KFold\n",
    "from sklearn.metrics import classification_report, confusion_matrix\n",
    "from tensorflow.keras.layers import LSTM, Dense, Dropout, BatchNormalization\n",
    "\n",
    "# Combine train and validation data for cross-validation\n",
    "# Assuming X_train, y_train, X_val, y_val are already defined\n",
    "X_combined = np.concatenate([X_train, X_val], axis=0)\n",
    "y_combined = np.concatenate([y_train, y_val], axis=0)\n",
    "\n",
    "# Get shapes for model creation\n",
    "_, timesteps, n_features = X_combined.shape\n",
    "\n",
    "# Define the model creation function (unchanged)\n",
    "def create_lstm_model(timesteps, n_features):\n",
    "    model = Sequential()\n",
    "    # Add CNN layers with same padding to preserve sequence length\n",
    "    model.add(tf.keras.layers.Conv1D(filters=64, kernel_size=3, activation='relu', padding='same', input_shape=(timesteps, n_features)))\n",
    "    model.add(tf.keras.layers.BatchNormalization())\n",
    "    model.add(tf.keras.layers.Conv1D(filters=64, kernel_size=3, activation='relu', padding='same'))\n",
    "    model.add(tf.keras.layers.BatchNormalization())\n",
    "    model.add(tf.keras.layers.MaxPooling1D(pool_size=2))\n",
    "    \n",
    "    # Add deeper LSTM layers\n",
    "    model.add(LSTM(128, return_sequences=True))\n",
    "    model.add(Dropout(0.3))\n",
    "    model.add(LSTM(64, return_sequences=False))\n",
    "    model.add(BatchNormalization())\n",
    "    model.add(Dropout(0.3))\n",
    "    \n",
    "    # Dense layers\n",
    "    model.add(Dense(32, activation='relu'))\n",
    "    model.add(BatchNormalization())\n",
    "    model.add(Dropout(0.2))\n",
    "    model.add(Dense(1, activation='sigmoid'))\n",
    "    \n",
    "    model.compile(optimizer=Adam(learning_rate=0.001), loss='binary_crossentropy', metrics=['accuracy'])\n",
    "    return model\n",
    "\n",
    "# Set up K-fold cross-validation\n",
    "n_folds = 5\n",
    "kfold = KFold(n_splits=n_folds, shuffle=True, random_state=42)\n",
    "\n",
    "# Lists to store metrics\n",
    "fold_train_losses = []\n",
    "fold_val_losses = []\n",
    "fold_train_accs = []\n",
    "fold_val_accs = []\n",
    "all_conf_matrices = []\n",
    "histories = []\n",
    "\n",
    "# Perform cross-validation\n",
    "for fold, (train_idx, val_idx) in enumerate(kfold.split(X_combined)):\n",
    "    print(f\"\\nFold {fold+1}/{n_folds}\")\n",
    "    \n",
    "    # Split data for this fold\n",
    "    X_train_fold, X_val_fold = X_combined[train_idx], X_combined[val_idx]\n",
    "    y_train_fold, y_val_fold = y_combined[train_idx], y_combined[val_idx]\n",
    "    \n",
    "    # Create a fresh model for each fold\n",
    "    model = create_lstm_model(timesteps, n_features)\n",
    "    \n",
    "    # Set up callbacks\n",
    "    callbacks = [\n",
    "        EarlyStopping(monitor='val_loss', patience=5, restore_best_weights=True),\n",
    "        ModelCheckpoint(f'best_lstm_model_fold_{fold+1}.h5', save_best_only=True, monitor='val_loss')\n",
    "    ]\n",
    "    \n",
    "    # Train the model\n",
    "    history = model.fit(\n",
    "        X_train_fold, y_train_fold,\n",
    "        epochs=10,\n",
    "        batch_size=64,\n",
    "        validation_data=(X_val_fold, y_val_fold),\n",
    "        callbacks=callbacks,\n",
    "        verbose=1\n",
    "    )\n",
    "    \n",
    "    # Store training history\n",
    "    histories.append(history)\n",
    "    \n",
    "    # Evaluate on training and validation data\n",
    "    train_loss, train_acc = model.evaluate(X_train_fold, y_train_fold, verbose=0)\n",
    "    val_loss, val_acc = model.evaluate(X_val_fold, y_val_fold, verbose=0)\n",
    "    \n",
    "    # Store metrics\n",
    "    fold_train_losses.append(train_loss)\n",
    "    fold_val_losses.append(val_loss)\n",
    "    fold_train_accs.append(train_acc)\n",
    "    fold_val_accs.append(val_acc)\n",
    "    \n",
    "    # Calculate predictions and confusion matrix\n",
    "    y_pred = (model.predict(X_val_fold) > 0.5).astype(int).flatten()\n",
    "    all_conf_matrices.append(confusion_matrix(y_val_fold, y_pred))\n",
    "    \n",
    "    print(f\"Fold {fold+1} - Train Acc: {train_acc:.4f}, Val Acc: {val_acc:.4f}\")\n",
    "    print(classification_report(y_val_fold, y_pred))"
   ]
  },
  {
   "cell_type": "code",
   "execution_count": 13,
   "metadata": {
    "cellUniqueIdByVincent": "6084d"
   },
   "outputs": [
    {
     "name": "stdout",
     "output_type": "stream",
     "text": [
      "\n",
      "==== Cross-Validation Results ====\n",
      "Average Training Accuracy: 0.5452 ± 0.0596\n",
      "Average Validation Accuracy: 0.5363 ± 0.0315\n",
      "Average Training Loss: 0.6845 ± 0.0125\n",
      "Average Validation Loss: 0.6893 ± 0.0055\n"
     ]
    },
    {
     "data": {
      "image/png": "[encoded data removed]",
      "text/plain": [
       "<Figure size 1200x500 with 2 Axes>"
      ]
     },
     "metadata": {},
     "output_type": "display_data"
    }
   ],
   "source": [
    "# Print average results\n",
    "print(\"\\n==== Cross-Validation Results ====\")\n",
    "print(f\"Average Training Accuracy: {np.mean(fold_train_accs):.4f} ± {np.std(fold_train_accs):.4f}\")\n",
    "print(f\"Average Validation Accuracy: {np.mean(fold_val_accs):.4f} ± {np.std(fold_val_accs):.4f}\")\n",
    "print(f\"Average Training Loss: {np.mean(fold_train_losses):.4f} ± {np.std(fold_train_losses):.4f}\")\n",
    "print(f\"Average Validation Loss: {np.mean(fold_val_losses):.4f} ± {np.std(fold_val_losses):.4f}\")\n",
    "\n",
    "# Plot average learning curves\n",
    "plt.figure(figsize=(12, 5))\n",
    "\n",
    "\n",
    "if histories:\n",
    "    # Plot average loss\n",
    "    plt.subplot(1, 2, 1)\n",
    "    for i, history in enumerate(histories):\n",
    "        plt.plot(history.history['loss'], alpha=0.2)\n",
    "        plt.plot(history.history['val_loss'], alpha=0.2)\n",
    "\n",
    "    min_epochs = min(len(history.history['loss']) for history in histories)\n",
    "    avg_train_loss = np.mean([history.history['loss'][:min_epochs] for history in histories], axis=0)\n",
    "    avg_val_loss = np.mean([history.history['val_loss'][:min_epochs] for history in histories], axis=0)\n",
    "    plt.plot(avg_train_loss, 'r-', linewidth=2, label='Avg Train Loss')\n",
    "    plt.plot(avg_val_loss, 'b-', linewidth=2, label='Avg Val Loss')\n",
    "    plt.title('Model Loss Across Folds')\n",
    "    plt.xlabel('Epochs')\n",
    "    plt.ylabel('Loss')\n",
    "    plt.legend()\n",
    "    # Plot average accuracy\n",
    "    plt.subplot(1, 2, 2)\n",
    "    for i, history in enumerate(histories):\n",
    "        plt.plot(history.history['accuracy'], alpha=0.2)\n",
    "        plt.plot(history.history['val_accuracy'], alpha=0.2)\n",
    "\n",
    "    min_epochs_acc = min(len(history.history['accuracy']) for history in histories)\n",
    "    avg_train_acc = np.mean([history.history['accuracy'][:min_epochs_acc] for history in histories], axis=0)\n",
    "    avg_val_acc = np.mean([history.history['val_accuracy'][:min_epochs_acc] for history in histories], axis=0)\n",
    "    plt.plot(avg_train_acc, 'r-', linewidth=2, label='Avg Train Accuracy')\n",
    "    plt.plot(avg_val_acc, 'b-', linewidth=2, label='Avg Val Accuracy')\n",
    "    plt.title('Model Accuracy Across Folds')\n",
    "    plt.xlabel('Epochs')\n",
    "    plt.ylabel('Accuracy')\n",
    "    plt.legend()\n",
    "\n",
    "    plt.tight_layout()\n",
    "    plt.show()\n",
    "else:\n",
    "    print(\"No training history available. Skipping learning curves plot.\")"
   ]
  },
  {
   "cell_type": "code",
   "execution_count": 14,
   "metadata": {
    "cellUniqueIdByVincent": "a55a6"
   },
   "outputs": [
    {
     "name": "stdout",
     "output_type": "stream",
     "text": [
      "Epoch 1/50\n",
      "\u001b[1m19/19\u001b[0m \u001b[32m━━━━━━━━━━━━━━━━━━━━\u001b[0m\u001b[37m\u001b[0m \u001b[1m3s\u001b[0m 54ms/step - accuracy: 0.4796 - loss: 0.9228 - val_accuracy: 0.5000 - val_loss: 0.6917\n",
      "Epoch 2/50\n",
      "\u001b[1m19/19\u001b[0m \u001b[32m━━━━━━━━━━━━━━━━━━━━\u001b[0m\u001b[37m\u001b[0m \u001b[1m1s\u001b[0m 44ms/step - accuracy: 0.5000 - loss: 0.8322 - val_accuracy: 0.4403 - val_loss: 0.6954\n",
      "Epoch 3/50\n",
      "\u001b[1m19/19\u001b[0m \u001b[32m━━━━━━━━━━━━━━━━━━━━\u001b[0m\u001b[37m\u001b[0m \u001b[1m1s\u001b[0m 45ms/step - accuracy: 0.5889 - loss: 0.7085 - val_accuracy: 0.5000 - val_loss: 0.6912\n",
      "Epoch 4/50\n",
      "\u001b[1m19/19\u001b[0m \u001b[32m━━━━━━━━━━━━━━━━━━━━\u001b[0m\u001b[37m\u001b[0m \u001b[1m1s\u001b[0m 45ms/step - accuracy: 0.5265 - loss: 0.7524 - val_accuracy: 0.5672 - val_loss: 0.6880\n",
      "Epoch 5/50\n",
      "\u001b[1m19/19\u001b[0m \u001b[32m━━━━━━━━━━━━━━━━━━━━\u001b[0m\u001b[37m\u001b[0m \u001b[1m1s\u001b[0m 46ms/step - accuracy: 0.5698 - loss: 0.7035 - val_accuracy: 0.5597 - val_loss: 0.6874\n",
      "Epoch 6/50\n",
      "\u001b[1m19/19\u001b[0m \u001b[32m━━━━━━━━━━━━━━━━━━━━\u001b[0m\u001b[37m\u001b[0m \u001b[1m1s\u001b[0m 47ms/step - accuracy: 0.5643 - loss: 0.7124 - val_accuracy: 0.5299 - val_loss: 0.6860\n",
      "Epoch 7/50\n",
      "\u001b[1m19/19\u001b[0m \u001b[32m━━━━━━━━━━━━━━━━━━━━\u001b[0m\u001b[37m\u001b[0m \u001b[1m1s\u001b[0m 48ms/step - accuracy: 0.5963 - loss: 0.6922 - val_accuracy: 0.5896 - val_loss: 0.6858\n",
      "Epoch 8/50\n",
      "\u001b[1m19/19\u001b[0m \u001b[32m━━━━━━━━━━━━━━━━━━━━\u001b[0m\u001b[37m\u001b[0m \u001b[1m1s\u001b[0m 48ms/step - accuracy: 0.5878 - loss: 0.7051 - val_accuracy: 0.5672 - val_loss: 0.6863\n",
      "Epoch 9/50\n",
      "\u001b[1m19/19\u001b[0m \u001b[32m━━━━━━━━━━━━━━━━━━━━\u001b[0m\u001b[37m\u001b[0m \u001b[1m1s\u001b[0m 49ms/step - accuracy: 0.5985 - loss: 0.6616 - val_accuracy: 0.6194 - val_loss: 0.6816\n",
      "Epoch 10/50\n",
      "\u001b[1m19/19\u001b[0m \u001b[32m━━━━━━━━━━━━━━━━━━━━\u001b[0m\u001b[37m\u001b[0m \u001b[1m1s\u001b[0m 50ms/step - accuracy: 0.6240 - loss: 0.6448 - val_accuracy: 0.5746 - val_loss: 0.6867\n",
      "Epoch 11/50\n",
      "\u001b[1m19/19\u001b[0m \u001b[32m━━━━━━━━━━━━━━━━━━━━\u001b[0m\u001b[37m\u001b[0m \u001b[1m1s\u001b[0m 51ms/step - accuracy: 0.6413 - loss: 0.6483 - val_accuracy: 0.5224 - val_loss: 0.6898\n",
      "Epoch 12/50\n",
      "\u001b[1m19/19\u001b[0m \u001b[32m━━━━━━━━━━━━━━━━━━━━\u001b[0m\u001b[37m\u001b[0m \u001b[1m1s\u001b[0m 51ms/step - accuracy: 0.6733 - loss: 0.6210 - val_accuracy: 0.5448 - val_loss: 0.6908\n",
      "Epoch 13/50\n",
      "\u001b[1m19/19\u001b[0m \u001b[32m━━━━━━━━━━━━━━━━━━━━\u001b[0m\u001b[37m\u001b[0m \u001b[1m1s\u001b[0m 49ms/step - accuracy: 0.6893 - loss: 0.6005 - val_accuracy: 0.5224 - val_loss: 0.6930\n",
      "Epoch 14/50\n",
      "\u001b[1m19/19\u001b[0m \u001b[32m━━━━━━━━━━━━━━━━━━━━\u001b[0m\u001b[37m\u001b[0m \u001b[1m1s\u001b[0m 49ms/step - accuracy: 0.6772 - loss: 0.5899 - val_accuracy: 0.4925 - val_loss: 0.7002\n",
      "\u001b[1m8/8\u001b[0m \u001b[32m━━━━━━━━━━━━━━━━━━━━\u001b[0m\u001b[37m\u001b[0m \u001b[1m0s\u001b[0m 9ms/step - accuracy: 0.5493 - loss: 0.6906\n",
      "\u001b[1m8/8\u001b[0m \u001b[32m━━━━━━━━━━━━━━━━━━━━\u001b[0m\u001b[37m\u001b[0m \u001b[1m0s\u001b[0m 28ms/step\n",
      "Test Loss: 0.6914923191070557\n",
      "Test Accuracy: 0.5358649492263794\n",
      "Confusion Matrix:\n",
      "[[53 63]\n",
      " [47 74]]\n",
      "Classification Report:\n",
      "              precision    recall  f1-score   support\n",
      "\n",
      "           0       0.53      0.46      0.49       116\n",
      "           1       0.54      0.61      0.57       121\n",
      "\n",
      "    accuracy                           0.54       237\n",
      "   macro avg       0.54      0.53      0.53       237\n",
      "weighted avg       0.54      0.54      0.53       237\n",
      "\n"
     ]
    }
   ],
   "source": [
    "# Merge the training and validation sets\n",
    "X_final = np.concatenate([X_train, X_val], axis=0)\n",
    "y_final = np.concatenate([y_train, y_val], axis=0)\n",
    "\n",
    "# Create and train the final model\n",
    "final_model = create_lstm_model(timesteps, n_features)\n",
    "callbacks_final = [\n",
    "    EarlyStopping(monitor='val_loss', patience=5, restore_best_weights=True)\n",
    "]\n",
    "\n",
    "#Save final model\n",
    "final_model.save('models/prediction_monthly.keras')\n",
    "\n",
    "history_final = final_model.fit(\n",
    "    X_final,\n",
    "    y_final,\n",
    "    epochs=50,\n",
    "    batch_size=64,\n",
    "    validation_split=0.1,\n",
    "    callbacks=callbacks_final,\n",
    "    verbose=1\n",
    ")\n",
    "\n",
    "# Evaluate the model on the test set and make predictions\n",
    "test_loss, test_acc = final_model.evaluate(X_test, y_test, verbose=1)\n",
    "y_test_pred = (final_model.predict(X_test) > 0.5).astype(int).flatten()\n",
    "\n",
    "print(\"Test Loss:\", test_loss)\n",
    "print(\"Test Accuracy:\", test_acc)\n",
    "print(\"Confusion Matrix:\")\n",
    "print(confusion_matrix(y_test, y_test_pred))\n",
    "print(\"Classification Report:\")\n",
    "print(classification_report(y_test, y_test_pred))"
   ]
  },
  {
   "cell_type": "code",
   "execution_count": null,
   "metadata": {
    "cellUniqueIdByVincent": "9466a"
   },
   "outputs": [],
   "source": []
  }
 ],
 "metadata": {
  "kernelspec": {
   "display_name": ".venv",
   "language": "python",
   "name": "python3"
  },
  "language_info": {
   "codemirror_mode": {
    "name": "ipython",
    "version": 3
   },
   "file_extension": ".py",
   "mimetype": "text/x-python",
   "name": "python",
   "nbconvert_exporter": "python",
   "pygments_lexer": "ipython3",
   "version": "3.9.6"
  },
  "vincent": {
   "sessionId": "db4513f88e5dec23967f1ef8_2025-04-14T13-16-54-718Z"
  }
 },
 "nbformat": 4,
 "nbformat_minor": 5
}
