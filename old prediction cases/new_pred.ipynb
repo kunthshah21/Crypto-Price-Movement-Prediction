{
 "cells": [
  {
   "cell_type": "code",
   "execution_count": 1,
   "metadata": {
    "cellUniqueIdByVincent": "6c7f2"
   },
   "outputs": [
    {
     "name": "stderr",
     "output_type": "stream",
     "text": [
      "/Users/kunthshah/Desktop/Crypto-Price-Moevement-Prediction/.venv/lib/python3.9/site-packages/urllib3/__init__.py:35: NotOpenSSLWarning: urllib3 v2 only supports OpenSSL 1.1.1+, currently the 'ssl' module is compiled with 'LibreSSL 2.8.3'. See: https://github.com/urllib3/urllib3/issues/3020\n",
      "  warnings.warn(\n"
     ]
    }
   ],
   "source": [
    "import tensorflow as tf\n",
    "import pandas as pd\n",
    "import numpy as np\n",
    "import os\n",
    "import matplotlib.pyplot as plt\n",
    "import seaborn as sns\n",
    "import warnings\n",
    "warnings.filterwarnings('ignore')"
   ]
  },
  {
   "cell_type": "code",
   "execution_count": 2,
   "metadata": {
    "cellUniqueIdByVincent": "9c972"
   },
   "outputs": [
    {
     "data": {
      "text/html": [
       "<div>\n",
       "<style scoped>\n",
       "    .dataframe tbody tr th:only-of-type {\n",
       "        vertical-align: middle;\n",
       "    }\n",
       "\n",
       "    .dataframe tbody tr th {\n",
       "        vertical-align: top;\n",
       "    }\n",
       "\n",
       "    .dataframe thead th {\n",
       "        text-align: right;\n",
       "    }\n",
       "</style>\n",
       "<table border=\"1\" class=\"dataframe\">\n",
       "  <thead>\n",
       "    <tr style=\"text-align: right;\">\n",
       "      <th></th>\n",
       "      <th>Date</th>\n",
       "      <th>Open_Price</th>\n",
       "      <th>Close_Price</th>\n",
       "      <th>High_Price</th>\n",
       "      <th>Low_Price</th>\n",
       "      <th>Price_Change</th>\n",
       "      <th>Volume</th>\n",
       "      <th>MA_5</th>\n",
       "      <th>MA_10</th>\n",
       "      <th>RSI</th>\n",
       "      <th>Volatility</th>\n",
       "      <th>Sentiment_Score</th>\n",
       "      <th>Global_Economy</th>\n",
       "      <th>Event_Impact</th>\n",
       "      <th>Price_Movement</th>\n",
       "    </tr>\n",
       "  </thead>\n",
       "  <tbody>\n",
       "    <tr>\n",
       "      <th>0</th>\n",
       "      <td>2023-01-01</td>\n",
       "      <td>41236.203565</td>\n",
       "      <td>41583.440143</td>\n",
       "      <td>42164.219187</td>\n",
       "      <td>41514.228466</td>\n",
       "      <td>347.236578</td>\n",
       "      <td>6746503</td>\n",
       "      <td>0.000000</td>\n",
       "      <td>0.0</td>\n",
       "      <td>39.782970</td>\n",
       "      <td>0.011679</td>\n",
       "      <td>0.806251</td>\n",
       "      <td>1</td>\n",
       "      <td>0.052810</td>\n",
       "      <td>1</td>\n",
       "    </tr>\n",
       "    <tr>\n",
       "      <th>1</th>\n",
       "      <td>2023-01-02</td>\n",
       "      <td>58521.429192</td>\n",
       "      <td>58515.946236</td>\n",
       "      <td>59042.917886</td>\n",
       "      <td>57930.249488</td>\n",
       "      <td>-5.482956</td>\n",
       "      <td>6569064</td>\n",
       "      <td>0.000000</td>\n",
       "      <td>0.0</td>\n",
       "      <td>52.667760</td>\n",
       "      <td>0.042812</td>\n",
       "      <td>0.010386</td>\n",
       "      <td>0</td>\n",
       "      <td>0.082150</td>\n",
       "      <td>0</td>\n",
       "    </tr>\n",
       "    <tr>\n",
       "      <th>2</th>\n",
       "      <td>2023-01-03</td>\n",
       "      <td>51959.818254</td>\n",
       "      <td>51655.283865</td>\n",
       "      <td>52006.320815</td>\n",
       "      <td>50856.415124</td>\n",
       "      <td>-304.534389</td>\n",
       "      <td>8066677</td>\n",
       "      <td>0.000000</td>\n",
       "      <td>0.0</td>\n",
       "      <td>30.473258</td>\n",
       "      <td>0.031347</td>\n",
       "      <td>0.555665</td>\n",
       "      <td>1</td>\n",
       "      <td>0.092787</td>\n",
       "      <td>0</td>\n",
       "    </tr>\n",
       "    <tr>\n",
       "      <th>3</th>\n",
       "      <td>2023-01-04</td>\n",
       "      <td>47959.754526</td>\n",
       "      <td>48196.396313</td>\n",
       "      <td>48689.608970</td>\n",
       "      <td>47431.923218</td>\n",
       "      <td>236.641787</td>\n",
       "      <td>8759881</td>\n",
       "      <td>0.000000</td>\n",
       "      <td>0.0</td>\n",
       "      <td>54.708497</td>\n",
       "      <td>0.038986</td>\n",
       "      <td>-0.563440</td>\n",
       "      <td>0</td>\n",
       "      <td>0.079497</td>\n",
       "      <td>1</td>\n",
       "    </tr>\n",
       "    <tr>\n",
       "      <th>4</th>\n",
       "      <td>2023-01-05</td>\n",
       "      <td>34680.559213</td>\n",
       "      <td>34599.237349</td>\n",
       "      <td>34964.333984</td>\n",
       "      <td>33761.841141</td>\n",
       "      <td>-81.321864</td>\n",
       "      <td>7696906</td>\n",
       "      <td>46910.060781</td>\n",
       "      <td>0.0</td>\n",
       "      <td>30.916759</td>\n",
       "      <td>0.045281</td>\n",
       "      <td>0.242467</td>\n",
       "      <td>0</td>\n",
       "      <td>0.064309</td>\n",
       "      <td>0</td>\n",
       "    </tr>\n",
       "  </tbody>\n",
       "</table>\n",
       "</div>"
      ],
      "text/plain": [
       "         Date    Open_Price   Close_Price    High_Price     Low_Price  \\\n",
       "0  2023-01-01  41236.203565  41583.440143  42164.219187  41514.228466   \n",
       "1  2023-01-02  58521.429192  58515.946236  59042.917886  57930.249488   \n",
       "2  2023-01-03  51959.818254  51655.283865  52006.320815  50856.415124   \n",
       "3  2023-01-04  47959.754526  48196.396313  48689.608970  47431.923218   \n",
       "4  2023-01-05  34680.559213  34599.237349  34964.333984  33761.841141   \n",
       "\n",
       "   Price_Change   Volume          MA_5  MA_10        RSI  Volatility  \\\n",
       "0    347.236578  6746503      0.000000    0.0  39.782970    0.011679   \n",
       "1     -5.482956  6569064      0.000000    0.0  52.667760    0.042812   \n",
       "2   -304.534389  8066677      0.000000    0.0  30.473258    0.031347   \n",
       "3    236.641787  8759881      0.000000    0.0  54.708497    0.038986   \n",
       "4    -81.321864  7696906  46910.060781    0.0  30.916759    0.045281   \n",
       "\n",
       "   Sentiment_Score  Global_Economy  Event_Impact  Price_Movement  \n",
       "0         0.806251               1      0.052810               1  \n",
       "1         0.010386               0      0.082150               0  \n",
       "2         0.555665               1      0.092787               0  \n",
       "3        -0.563440               0      0.079497               1  \n",
       "4         0.242467               0      0.064309               0  "
      ]
     },
     "execution_count": 2,
     "metadata": {},
     "output_type": "execute_result"
    }
   ],
   "source": [
    "df_original = pd.read_csv('Dataset/crypto_price_movement_dataset.csv')\n",
    "df_original.head()"
   ]
  },
  {
   "cell_type": "code",
   "execution_count": 3,
   "metadata": {
    "cellUniqueIdByVincent": "2bc23"
   },
   "outputs": [
    {
     "name": "stdout",
     "output_type": "stream",
     "text": [
      "         Date    Open_Price   Close_Price    High_Price     Low_Price  \\\n",
      "0  2023-01-01  41236.203565  41583.440143  42164.219187  41514.228466   \n",
      "1  2023-01-02  58521.429192  58515.946236  59042.917886  57930.249488   \n",
      "2  2023-01-03  51959.818254  51655.283865  52006.320815  50856.415124   \n",
      "3  2023-01-04  47959.754526  48196.396313  48689.608970  47431.923218   \n",
      "4  2023-01-05  34680.559213  34599.237349  34964.333984  33761.841141   \n",
      "\n",
      "    Volume          MA_5  MA_10        RSI  Volatility  Sentiment_Score  \\\n",
      "0  6746503      0.000000    0.0  39.782970    0.011679         0.806251   \n",
      "1  6569064      0.000000    0.0  52.667760    0.042812         0.010386   \n",
      "2  8066677      0.000000    0.0  30.473258    0.031347         0.555665   \n",
      "3  8759881      0.000000    0.0  54.708497    0.038986        -0.563440   \n",
      "4  7696906  46910.060781    0.0  30.916759    0.045281         0.242467   \n",
      "\n",
      "   Global_Economy  Event_Impact  \n",
      "0               1      0.052810  \n",
      "1               0      0.082150  \n",
      "2               1      0.092787  \n",
      "3               0      0.079497  \n",
      "4               0      0.064309  \n"
     ]
    }
   ],
   "source": [
    "#drop Price_Movement and Price_Change \n",
    "df = df_original.drop(['Price_Movement', 'Price_Change'], axis=1)\n",
    "#drop rows with NaN values\n",
    "df.dropna(inplace=True)\n",
    "\n",
    "print(df.head())"
   ]
  },
  {
   "cell_type": "code",
   "execution_count": 4,
   "metadata": {
    "cellUniqueIdByVincent": "d4cc6"
   },
   "outputs": [
    {
     "data": {
      "text/plain": [
       "Date                object\n",
       "Open_Price         float64\n",
       "Close_Price        float64\n",
       "High_Price         float64\n",
       "Low_Price          float64\n",
       "Volume               int64\n",
       "MA_5               float64\n",
       "MA_10              float64\n",
       "RSI                float64\n",
       "Volatility         float64\n",
       "Sentiment_Score    float64\n",
       "Global_Economy       int64\n",
       "Event_Impact       float64\n",
       "dtype: object"
      ]
     },
     "execution_count": 4,
     "metadata": {},
     "output_type": "execute_result"
    }
   ],
   "source": [
    "df.dtypes"
   ]
  },
  {
   "cell_type": "code",
   "execution_count": 5,
   "metadata": {
    "cellUniqueIdByVincent": "b1060"
   },
   "outputs": [
    {
     "data": {
      "text/plain": [
       "Date               datetime64[ns]\n",
       "Open_Price                float64\n",
       "Close_Price               float64\n",
       "High_Price                float64\n",
       "Low_Price                 float64\n",
       "Volume                      int64\n",
       "MA_5                      float64\n",
       "MA_10                     float64\n",
       "RSI                       float64\n",
       "Volatility                float64\n",
       "Sentiment_Score           float64\n",
       "Global_Economy              int64\n",
       "Event_Impact              float64\n",
       "dtype: object"
      ]
     },
     "execution_count": 5,
     "metadata": {},
     "output_type": "execute_result"
    }
   ],
   "source": [
    "df['Date'] = pd.to_datetime(df['Date'], format='%Y-%m-%d')\n",
    "df.dtypes"
   ]
  },
  {
   "cell_type": "code",
   "execution_count": 6,
   "metadata": {
    "cellUniqueIdByVincent": "b4b24"
   },
   "outputs": [
    {
     "name": "stdout",
     "output_type": "stream",
     "text": [
      "DataFrame sorted by date: True\n"
     ]
    }
   ],
   "source": [
    "is_sorted = df['Date'].is_monotonic_increasing\n",
    "print(\"DataFrame sorted by date:\", is_sorted)"
   ]
  },
  {
   "cell_type": "code",
   "execution_count": 10,
   "id": "8426acd3",
   "metadata": {
    "cellUniqueIdByVincent": "5f42b"
   },
   "outputs": [
    {
     "name": "stdout",
     "output_type": "stream",
     "text": [
      "   Event_Impact  Global_Economy  High_Price  Low_Price      MA_10       MA_5  \\\n",
      "0      0.095368        0.996765   -0.381495  -0.340800 -16.115421 -11.554465   \n",
      "1      1.113404       -1.003245    1.567637   1.555072 -16.115421 -11.554465   \n",
      "2      1.482448        0.996765    0.755059   0.738121 -16.115421 -11.554465   \n",
      "3      1.021326       -1.003245    0.372049   0.342630 -16.115421 -11.554465   \n",
      "4      0.494340       -1.003245   -1.212929  -1.236116 -16.115421   0.500609   \n",
      "\n",
      "   Open_Price       RSI  Sentiment_Score  Volatility    Volume   Close_Price  \n",
      "0   -0.431074 -0.889210         1.397085   -1.585910  0.481725  41583.440143  \n",
      "1    1.566732  0.227973         0.019860    1.115561  0.413334  58515.946236  \n",
      "2    0.808348 -1.696415         0.963452    0.120672  0.990565  51655.283865  \n",
      "3    0.346026  0.404917        -0.973132    0.783532  1.257749  48196.396313  \n",
      "4   -1.188768 -1.657960         0.421471    1.329813  0.848043  34599.237349  \n"
     ]
    }
   ],
   "source": [
    "import pandas as pd\n",
    "from sklearn.preprocessing import StandardScaler\n",
    "\n",
    "# Ensure 'Date' is in datetime format and sort by date (important for time-series)\n",
    "df['Date'] = pd.to_datetime(df['Date'])\n",
    "df = df.sort_values('Date')\n",
    "\n",
    "# Define your target and features.\n",
    "# Here, we assume the target is 'Close_Price' so we drop both 'Date' and 'Close_Price' from the features.\n",
    "features_columns = df.columns.difference(['Date', 'Close_Price'])\n",
    "target_column = 'Close_Price'\n",
    "\n",
    "# Scale only the feature columns\n",
    "scaler = StandardScaler()\n",
    "scaled_features = scaler.fit_transform(df[features_columns])\n",
    "scaled_features_df = pd.DataFrame(scaled_features, columns=features_columns, index=df.index)\n",
    "\n",
    "# Optionally, add the target back (kept in its original scale) to the DataFrame if needed for later processing\n",
    "scaled_features_df[target_column] = df[target_column]\n",
    "\n",
    "# If you need the sorted dates for reference or splitting, keep them in a separate variable\n",
    "dates = df['Date']\n",
    "\n",
    "print(scaled_features_df.head())"
   ]
  },
  {
   "cell_type": "code",
   "execution_count": 20,
   "metadata": {
    "cellUniqueIdByVincent": "d6b0e"
   },
   "outputs": [
    {
     "name": "stdout",
     "output_type": "stream",
     "text": [
      "X_seq shape: (49990, 10, 11)\n",
      "y_seq shape: (49990,)\n"
     ]
    }
   ],
   "source": [
    "import numpy as np\n",
    "\n",
    "# Define the window size\n",
    "window_size = 10\n",
    "\n",
    "def create_time_windows(features, target, window_size):\n",
    "    \"\"\"\n",
    "    Create sliding window sequences for features and corresponding targets.\n",
    "    \n",
    "    Parameters:\n",
    "        features (pd.DataFrame): DataFrame containing only the feature columns.\n",
    "        target (pd.Series): Series containing the scaled target variable.\n",
    "        window_size (int): Number of time steps in each input window.\n",
    "        \n",
    "    Returns:\n",
    "        X_windows (np.array): Array of feature sequences with shape (samples, window_size, num_features).\n",
    "        y_windows (np.array): Array of target values with shape (samples,).\n",
    "    \"\"\"\n",
    "    X_windows = []\n",
    "    y_windows = []\n",
    "    \n",
    "    # Loop through the data, starting at window_size index\n",
    "    for i in range(window_size, len(features)):\n",
    "        # Get the previous window_size days as the feature window\n",
    "        X_window = features.iloc[i-window_size:i].values\n",
    "        # Get the target for the current day from the scaled target values\n",
    "        y_window = target.iloc[i]\n",
    "        X_windows.append(X_window)\n",
    "        y_windows.append(y_window)\n",
    "    \n",
    "    return np.array(X_windows), np.array(y_windows)\n",
    "\n",
    "# Prepare the features. Exclude 'Date', 'Close_Price' and also any unscaled columns you don't want.\n",
    "features = scaled_features_df.drop(['Close_Price', 'Close_Price_scaled'], axis=1)\n",
    "\n",
    "# Use the scaled target column for learning\n",
    "target = scaled_features_df['Close_Price_scaled']\n",
    "\n",
    "# Create time window sequences\n",
    "X_seq, y_seq = create_time_windows(features, target, window_size)\n",
    "\n",
    "# Check the shapes: X_seq should have shape (samples, window_size, num_features)\n",
    "print(\"X_seq shape:\", X_seq.shape)\n",
    "print(\"y_seq shape:\", y_seq.shape)\n"
   ]
  },
  {
   "cell_type": "code",
   "execution_count": 21,
   "metadata": {
    "cellUniqueIdByVincent": "87a40"
   },
   "outputs": [
    {
     "name": "stdout",
     "output_type": "stream",
     "text": [
      "Training set: X shape = (34993, 10, 11), y shape = (34993,)\n",
      "Validation set: X shape = (7498, 10, 11), y shape = (7498,)\n",
      "Test set: X shape = (7499, 10, 11), y shape = (7499,)\n"
     ]
    }
   ],
   "source": [
    "def temporal_train_val_test_split(X, y, train_ratio=0.7, val_ratio=0.15):\n",
    "    \"\"\"\n",
    "    Splits the sequence data into training, validation, and test sets sequentially.\n",
    "    \n",
    "    Parameters:\n",
    "      X (np.array): Input sequences of shape (samples, window_size, num_features).\n",
    "      y (np.array): Target values array of shape (samples,).\n",
    "      train_ratio (float): Fraction of data to use for training.\n",
    "      val_ratio (float): Fraction of data to use for validation.\n",
    "      \n",
    "    Returns:\n",
    "      X_train, y_train, X_val, y_val, X_test, y_test: The split datasets.\n",
    "    \"\"\"\n",
    "    n = X.shape[0]\n",
    "    train_end = int(n * train_ratio)\n",
    "    val_end = train_end + int(n * val_ratio)\n",
    "    \n",
    "    X_train, y_train = X[:train_end], y[:train_end]\n",
    "    X_val, y_val = X[train_end:val_end], y[train_end:val_end]\n",
    "    X_test, y_test = X[val_end:], y[val_end:]\n",
    "    \n",
    "    return X_train, y_train, X_val, y_val, X_test, y_test\n",
    "\n",
    "# Split the data\n",
    "X_train, y_train, X_val, y_val, X_test, y_test = temporal_train_val_test_split(X_seq, y_seq)\n",
    "\n",
    "# Verify the shapes\n",
    "print(f\"Training set: X shape = {X_train.shape}, y shape = {y_train.shape}\")\n",
    "print(f\"Validation set: X shape = {X_val.shape}, y shape = {y_val.shape}\")\n",
    "print(f\"Test set: X shape = {X_test.shape}, y shape = {y_test.shape}\")\n"
   ]
  },
  {
   "cell_type": "code",
   "execution_count": 22,
   "metadata": {
    "cellUniqueIdByVincent": "94f9d"
   },
   "outputs": [
    {
     "data": {
      "text/html": [
       "<pre style=\"white-space:pre;overflow-x:auto;line-height:normal;font-family:Menlo,'DejaVu Sans Mono',consolas,'Courier New',monospace\"><span style=\"font-weight: bold\">Model: \"sequential_1\"</span>\n",
       "</pre>\n"
      ],
      "text/plain": [
       "\u001b[1mModel: \"sequential_1\"\u001b[0m\n"
      ]
     },
     "metadata": {},
     "output_type": "display_data"
    },
    {
     "data": {
      "text/html": [
       "<pre style=\"white-space:pre;overflow-x:auto;line-height:normal;font-family:Menlo,'DejaVu Sans Mono',consolas,'Courier New',monospace\">┏━━━━━━━━━━━━━━━━━━━━━━━━━━━━━━━━━┳━━━━━━━━━━━━━━━━━━━━━━━━┳━━━━━━━━━━━━━━━┓\n",
       "┃<span style=\"font-weight: bold\"> Layer (type)                    </span>┃<span style=\"font-weight: bold\"> Output Shape           </span>┃<span style=\"font-weight: bold\">       Param # </span>┃\n",
       "┡━━━━━━━━━━━━━━━━━━━━━━━━━━━━━━━━━╇━━━━━━━━━━━━━━━━━━━━━━━━╇━━━━━━━━━━━━━━━┩\n",
       "│ lstm_1 (<span style=\"color: #0087ff; text-decoration-color: #0087ff\">LSTM</span>)                   │ (<span style=\"color: #00d7ff; text-decoration-color: #00d7ff\">None</span>, <span style=\"color: #00af00; text-decoration-color: #00af00\">64</span>)             │        <span style=\"color: #00af00; text-decoration-color: #00af00\">19,456</span> │\n",
       "├─────────────────────────────────┼────────────────────────┼───────────────┤\n",
       "│ dense_2 (<span style=\"color: #0087ff; text-decoration-color: #0087ff\">Dense</span>)                 │ (<span style=\"color: #00d7ff; text-decoration-color: #00d7ff\">None</span>, <span style=\"color: #00af00; text-decoration-color: #00af00\">32</span>)             │         <span style=\"color: #00af00; text-decoration-color: #00af00\">2,080</span> │\n",
       "├─────────────────────────────────┼────────────────────────┼───────────────┤\n",
       "│ dense_3 (<span style=\"color: #0087ff; text-decoration-color: #0087ff\">Dense</span>)                 │ (<span style=\"color: #00d7ff; text-decoration-color: #00d7ff\">None</span>, <span style=\"color: #00af00; text-decoration-color: #00af00\">1</span>)              │            <span style=\"color: #00af00; text-decoration-color: #00af00\">33</span> │\n",
       "└─────────────────────────────────┴────────────────────────┴───────────────┘\n",
       "</pre>\n"
      ],
      "text/plain": [
       "┏━━━━━━━━━━━━━━━━━━━━━━━━━━━━━━━━━┳━━━━━━━━━━━━━━━━━━━━━━━━┳━━━━━━━━━━━━━━━┓\n",
       "┃\u001b[1m \u001b[0m\u001b[1mLayer (type)                   \u001b[0m\u001b[1m \u001b[0m┃\u001b[1m \u001b[0m\u001b[1mOutput Shape          \u001b[0m\u001b[1m \u001b[0m┃\u001b[1m \u001b[0m\u001b[1m      Param #\u001b[0m\u001b[1m \u001b[0m┃\n",
       "┡━━━━━━━━━━━━━━━━━━━━━━━━━━━━━━━━━╇━━━━━━━━━━━━━━━━━━━━━━━━╇━━━━━━━━━━━━━━━┩\n",
       "│ lstm_1 (\u001b[38;5;33mLSTM\u001b[0m)                   │ (\u001b[38;5;45mNone\u001b[0m, \u001b[38;5;34m64\u001b[0m)             │        \u001b[38;5;34m19,456\u001b[0m │\n",
       "├─────────────────────────────────┼────────────────────────┼───────────────┤\n",
       "│ dense_2 (\u001b[38;5;33mDense\u001b[0m)                 │ (\u001b[38;5;45mNone\u001b[0m, \u001b[38;5;34m32\u001b[0m)             │         \u001b[38;5;34m2,080\u001b[0m │\n",
       "├─────────────────────────────────┼────────────────────────┼───────────────┤\n",
       "│ dense_3 (\u001b[38;5;33mDense\u001b[0m)                 │ (\u001b[38;5;45mNone\u001b[0m, \u001b[38;5;34m1\u001b[0m)              │            \u001b[38;5;34m33\u001b[0m │\n",
       "└─────────────────────────────────┴────────────────────────┴───────────────┘\n"
      ]
     },
     "metadata": {},
     "output_type": "display_data"
    },
    {
     "data": {
      "text/html": [
       "<pre style=\"white-space:pre;overflow-x:auto;line-height:normal;font-family:Menlo,'DejaVu Sans Mono',consolas,'Courier New',monospace\"><span style=\"font-weight: bold\"> Total params: </span><span style=\"color: #00af00; text-decoration-color: #00af00\">21,569</span> (84.25 KB)\n",
       "</pre>\n"
      ],
      "text/plain": [
       "\u001b[1m Total params: \u001b[0m\u001b[38;5;34m21,569\u001b[0m (84.25 KB)\n"
      ]
     },
     "metadata": {},
     "output_type": "display_data"
    },
    {
     "data": {
      "text/html": [
       "<pre style=\"white-space:pre;overflow-x:auto;line-height:normal;font-family:Menlo,'DejaVu Sans Mono',consolas,'Courier New',monospace\"><span style=\"font-weight: bold\"> Trainable params: </span><span style=\"color: #00af00; text-decoration-color: #00af00\">21,569</span> (84.25 KB)\n",
       "</pre>\n"
      ],
      "text/plain": [
       "\u001b[1m Trainable params: \u001b[0m\u001b[38;5;34m21,569\u001b[0m (84.25 KB)\n"
      ]
     },
     "metadata": {},
     "output_type": "display_data"
    },
    {
     "data": {
      "text/html": [
       "<pre style=\"white-space:pre;overflow-x:auto;line-height:normal;font-family:Menlo,'DejaVu Sans Mono',consolas,'Courier New',monospace\"><span style=\"font-weight: bold\"> Non-trainable params: </span><span style=\"color: #00af00; text-decoration-color: #00af00\">0</span> (0.00 B)\n",
       "</pre>\n"
      ],
      "text/plain": [
       "\u001b[1m Non-trainable params: \u001b[0m\u001b[38;5;34m0\u001b[0m (0.00 B)\n"
      ]
     },
     "metadata": {},
     "output_type": "display_data"
    },
    {
     "name": "stdout",
     "output_type": "stream",
     "text": [
      "Epoch 1/20\n",
      "\u001b[1m1094/1094\u001b[0m \u001b[32m━━━━━━━━━━━━━━━━━━━━\u001b[0m\u001b[37m\u001b[0m \u001b[1m4s\u001b[0m 3ms/step - loss: 1.0098 - mae: 0.8669 - val_loss: 1.0153 - val_mae: 0.8720\n",
      "Epoch 2/20\n",
      "\u001b[1m1094/1094\u001b[0m \u001b[32m━━━━━━━━━━━━━━━━━━━━\u001b[0m\u001b[37m\u001b[0m \u001b[1m3s\u001b[0m 2ms/step - loss: 0.9924 - mae: 0.8594 - val_loss: 1.0124 - val_mae: 0.8709\n",
      "Epoch 3/20\n",
      "\u001b[1m1094/1094\u001b[0m \u001b[32m━━━━━━━━━━━━━━━━━━━━\u001b[0m\u001b[37m\u001b[0m \u001b[1m3s\u001b[0m 2ms/step - loss: 0.9899 - mae: 0.8596 - val_loss: 1.0133 - val_mae: 0.8711\n",
      "Epoch 4/20\n",
      "\u001b[1m1094/1094\u001b[0m \u001b[32m━━━━━━━━━━━━━━━━━━━━\u001b[0m\u001b[37m\u001b[0m \u001b[1m3s\u001b[0m 2ms/step - loss: 0.9938 - mae: 0.8604 - val_loss: 1.0166 - val_mae: 0.8723\n",
      "Epoch 5/20\n",
      "\u001b[1m1094/1094\u001b[0m \u001b[32m━━━━━━━━━━━━━━━━━━━━\u001b[0m\u001b[37m\u001b[0m \u001b[1m3s\u001b[0m 2ms/step - loss: 0.9892 - mae: 0.8586 - val_loss: 1.0169 - val_mae: 0.8726\n",
      "Epoch 6/20\n",
      "\u001b[1m1094/1094\u001b[0m \u001b[32m━━━━━━━━━━━━━━━━━━━━\u001b[0m\u001b[37m\u001b[0m \u001b[1m3s\u001b[0m 2ms/step - loss: 0.9895 - mae: 0.8596 - val_loss: 1.0158 - val_mae: 0.8720\n",
      "Epoch 7/20\n",
      "\u001b[1m1094/1094\u001b[0m \u001b[32m━━━━━━━━━━━━━━━━━━━━\u001b[0m\u001b[37m\u001b[0m \u001b[1m3s\u001b[0m 2ms/step - loss: 0.9838 - mae: 0.8561 - val_loss: 1.0184 - val_mae: 0.8730\n",
      "Epoch 8/20\n",
      "\u001b[1m1094/1094\u001b[0m \u001b[32m━━━━━━━━━━━━━━━━━━━━\u001b[0m\u001b[37m\u001b[0m \u001b[1m3s\u001b[0m 2ms/step - loss: 0.9825 - mae: 0.8543 - val_loss: 1.0174 - val_mae: 0.8722\n",
      "Epoch 9/20\n",
      "\u001b[1m1094/1094\u001b[0m \u001b[32m━━━━━━━━━━━━━━━━━━━━\u001b[0m\u001b[37m\u001b[0m \u001b[1m3s\u001b[0m 2ms/step - loss: 0.9808 - mae: 0.8551 - val_loss: 1.0276 - val_mae: 0.8746\n",
      "Epoch 10/20\n",
      "\u001b[1m1094/1094\u001b[0m \u001b[32m━━━━━━━━━━━━━━━━━━━━\u001b[0m\u001b[37m\u001b[0m \u001b[1m3s\u001b[0m 2ms/step - loss: 0.9697 - mae: 0.8483 - val_loss: 1.0329 - val_mae: 0.8766\n",
      "Epoch 11/20\n",
      "\u001b[1m1094/1094\u001b[0m \u001b[32m━━━━━━━━━━━━━━━━━━━━\u001b[0m\u001b[37m\u001b[0m \u001b[1m3s\u001b[0m 2ms/step - loss: 0.9422 - mae: 0.8339 - val_loss: 1.0393 - val_mae: 0.8783\n",
      "Epoch 12/20\n",
      "\u001b[1m1094/1094\u001b[0m \u001b[32m━━━━━━━━━━━━━━━━━━━━\u001b[0m\u001b[37m\u001b[0m \u001b[1m2s\u001b[0m 2ms/step - loss: 0.9412 - mae: 0.8326 - val_loss: 1.0555 - val_mae: 0.8837\n",
      "Epoch 13/20\n",
      "\u001b[1m1094/1094\u001b[0m \u001b[32m━━━━━━━━━━━━━━━━━━━━\u001b[0m\u001b[37m\u001b[0m \u001b[1m2s\u001b[0m 2ms/step - loss: 0.9192 - mae: 0.8204 - val_loss: 1.0745 - val_mae: 0.8898\n",
      "Epoch 14/20\n",
      "\u001b[1m1094/1094\u001b[0m \u001b[32m━━━━━━━━━━━━━━━━━━━━\u001b[0m\u001b[37m\u001b[0m \u001b[1m3s\u001b[0m 2ms/step - loss: 0.9151 - mae: 0.8182 - val_loss: 1.0733 - val_mae: 0.8892\n",
      "Epoch 15/20\n",
      "\u001b[1m1094/1094\u001b[0m \u001b[32m━━━━━━━━━━━━━━━━━━━━\u001b[0m\u001b[37m\u001b[0m \u001b[1m3s\u001b[0m 2ms/step - loss: 0.8816 - mae: 0.8005 - val_loss: 1.1090 - val_mae: 0.9000\n",
      "Epoch 16/20\n",
      "\u001b[1m1094/1094\u001b[0m \u001b[32m━━━━━━━━━━━━━━━━━━━━\u001b[0m\u001b[37m\u001b[0m \u001b[1m3s\u001b[0m 2ms/step - loss: 0.8582 - mae: 0.7848 - val_loss: 1.1175 - val_mae: 0.9020\n",
      "Epoch 17/20\n",
      "\u001b[1m1094/1094\u001b[0m \u001b[32m━━━━━━━━━━━━━━━━━━━━\u001b[0m\u001b[37m\u001b[0m \u001b[1m2s\u001b[0m 2ms/step - loss: 0.8249 - mae: 0.7668 - val_loss: 1.1409 - val_mae: 0.9081\n",
      "Epoch 18/20\n",
      "\u001b[1m1094/1094\u001b[0m \u001b[32m━━━━━━━━━━━━━━━━━━━━\u001b[0m\u001b[37m\u001b[0m \u001b[1m2s\u001b[0m 2ms/step - loss: 0.8010 - mae: 0.7539 - val_loss: 1.1653 - val_mae: 0.9173\n",
      "Epoch 19/20\n",
      "\u001b[1m1094/1094\u001b[0m \u001b[32m━━━━━━━━━━━━━━━━━━━━\u001b[0m\u001b[37m\u001b[0m \u001b[1m3s\u001b[0m 2ms/step - loss: 0.7776 - mae: 0.7399 - val_loss: 1.2102 - val_mae: 0.9298\n",
      "Epoch 20/20\n",
      "\u001b[1m1094/1094\u001b[0m \u001b[32m━━━━━━━━━━━━━━━━━━━━\u001b[0m\u001b[37m\u001b[0m \u001b[1m3s\u001b[0m 2ms/step - loss: 0.7497 - mae: 0.7227 - val_loss: 1.2082 - val_mae: 0.9287\n",
      "\u001b[1m235/235\u001b[0m \u001b[32m━━━━━━━━━━━━━━━━━━━━\u001b[0m\u001b[37m\u001b[0m \u001b[1m0s\u001b[0m 996us/step - loss: 1.1951 - mae: 0.9276\n",
      "Validation MSE: 1.2081693410873413\n",
      "Validation MAE: 0.9286792874336243\n",
      "\u001b[1m235/235\u001b[0m \u001b[32m━━━━━━━━━━━━━━━━━━━━\u001b[0m\u001b[37m\u001b[0m \u001b[1m0s\u001b[0m 1ms/step\n",
      "Sklearn MSE: 1.2082\n",
      "Sklearn MAE: 0.9287\n",
      "Sklearn R2 Score: -0.1938\n"
     ]
    }
   ],
   "source": [
    "from sklearn.metrics import mean_squared_error, mean_absolute_error, r2_score\n",
    "\n",
    "# Build the LSTM model\n",
    "model = tf.keras.Sequential([\n",
    "    tf.keras.layers.LSTM(64, input_shape=(X_train.shape[1], X_train.shape[2])),\n",
    "    tf.keras.layers.Dense(32, activation='relu'),\n",
    "    tf.keras.layers.Dense(1)\n",
    "])\n",
    "model.compile(optimizer='adam', loss='mse', metrics=['mae'])\n",
    "model.summary()\n",
    "callbacks = [\n",
    "    tf.keras.callbacks.EarlyStopping(monitor='val_loss', patience=5, restore_best_weights=True),\n",
    "    tf.keras.callbacks.ReduceLROnPlateau(monitor='val_loss', factor=0.5, patience=3, min_lr=1e-6)\n",
    "]\n",
    "# Train the model using training and validation sets\n",
    "history = model.fit(\n",
    "    X_train, y_train,\n",
    "    epochs=20,\n",
    "    batch_size=32,\n",
    "    validation_data=(X_val, y_val)\n",
    ")\n",
    "\n",
    "# Evaluate model performance on the validation set\n",
    "val_loss, val_mae = model.evaluate(X_val, y_val)\n",
    "print(\"Validation MSE:\", val_loss)\n",
    "print(\"Validation MAE:\", val_mae)\n",
    "\n",
    "# Compute additional performance metrics\n",
    "\n",
    "y_val_pred = model.predict(X_val)\n",
    "mse_val = mean_squared_error(y_val, y_val_pred)\n",
    "mae_val = mean_absolute_error(y_val, y_val_pred)\n",
    "r2_val = r2_score(y_val, y_val_pred)\n",
    "\n",
    "print(f\"Sklearn MSE: {mse_val:.4f}\")\n",
    "print(f\"Sklearn MAE: {mae_val:.4f}\")\n",
    "print(f\"Sklearn R2 Score: {r2_val:.4f}\")"
   ]
  },
  {
   "cell_type": "code",
   "execution_count": null,
   "metadata": {
    "cellUniqueIdByVincent": "87969"
   },
   "outputs": [
    {
     "data": {
      "text/html": [
       "<pre style=\"white-space:pre;overflow-x:auto;line-height:normal;font-family:Menlo,'DejaVu Sans Mono',consolas,'Courier New',monospace\"><span style=\"font-weight: bold\">Model: \"sequential_2\"</span>\n",
       "</pre>\n"
      ],
      "text/plain": [
       "\u001b[1mModel: \"sequential_2\"\u001b[0m\n"
      ]
     },
     "metadata": {},
     "output_type": "display_data"
    },
    {
     "data": {
      "text/html": [
       "<pre style=\"white-space:pre;overflow-x:auto;line-height:normal;font-family:Menlo,'DejaVu Sans Mono',consolas,'Courier New',monospace\">┏━━━━━━━━━━━━━━━━━━━━━━━━━━━━━━━━━┳━━━━━━━━━━━━━━━━━━━━━━━━┳━━━━━━━━━━━━━━━┓\n",
       "┃<span style=\"font-weight: bold\"> Layer (type)                    </span>┃<span style=\"font-weight: bold\"> Output Shape           </span>┃<span style=\"font-weight: bold\">       Param # </span>┃\n",
       "┡━━━━━━━━━━━━━━━━━━━━━━━━━━━━━━━━━╇━━━━━━━━━━━━━━━━━━━━━━━━╇━━━━━━━━━━━━━━━┩\n",
       "│ lstm_2 (<span style=\"color: #0087ff; text-decoration-color: #0087ff\">LSTM</span>)                   │ (<span style=\"color: #00d7ff; text-decoration-color: #00d7ff\">None</span>, <span style=\"color: #00af00; text-decoration-color: #00af00\">64</span>)             │        <span style=\"color: #00af00; text-decoration-color: #00af00\">19,456</span> │\n",
       "├─────────────────────────────────┼────────────────────────┼───────────────┤\n",
       "│ dense_4 (<span style=\"color: #0087ff; text-decoration-color: #0087ff\">Dense</span>)                 │ (<span style=\"color: #00d7ff; text-decoration-color: #00d7ff\">None</span>, <span style=\"color: #00af00; text-decoration-color: #00af00\">32</span>)             │         <span style=\"color: #00af00; text-decoration-color: #00af00\">2,080</span> │\n",
       "├─────────────────────────────────┼────────────────────────┼───────────────┤\n",
       "│ dense_5 (<span style=\"color: #0087ff; text-decoration-color: #0087ff\">Dense</span>)                 │ (<span style=\"color: #00d7ff; text-decoration-color: #00d7ff\">None</span>, <span style=\"color: #00af00; text-decoration-color: #00af00\">1</span>)              │            <span style=\"color: #00af00; text-decoration-color: #00af00\">33</span> │\n",
       "└─────────────────────────────────┴────────────────────────┴───────────────┘\n",
       "</pre>\n"
      ],
      "text/plain": [
       "┏━━━━━━━━━━━━━━━━━━━━━━━━━━━━━━━━━┳━━━━━━━━━━━━━━━━━━━━━━━━┳━━━━━━━━━━━━━━━┓\n",
       "┃\u001b[1m \u001b[0m\u001b[1mLayer (type)                   \u001b[0m\u001b[1m \u001b[0m┃\u001b[1m \u001b[0m\u001b[1mOutput Shape          \u001b[0m\u001b[1m \u001b[0m┃\u001b[1m \u001b[0m\u001b[1m      Param #\u001b[0m\u001b[1m \u001b[0m┃\n",
       "┡━━━━━━━━━━━━━━━━━━━━━━━━━━━━━━━━━╇━━━━━━━━━━━━━━━━━━━━━━━━╇━━━━━━━━━━━━━━━┩\n",
       "│ lstm_2 (\u001b[38;5;33mLSTM\u001b[0m)                   │ (\u001b[38;5;45mNone\u001b[0m, \u001b[38;5;34m64\u001b[0m)             │        \u001b[38;5;34m19,456\u001b[0m │\n",
       "├─────────────────────────────────┼────────────────────────┼───────────────┤\n",
       "│ dense_4 (\u001b[38;5;33mDense\u001b[0m)                 │ (\u001b[38;5;45mNone\u001b[0m, \u001b[38;5;34m32\u001b[0m)             │         \u001b[38;5;34m2,080\u001b[0m │\n",
       "├─────────────────────────────────┼────────────────────────┼───────────────┤\n",
       "│ dense_5 (\u001b[38;5;33mDense\u001b[0m)                 │ (\u001b[38;5;45mNone\u001b[0m, \u001b[38;5;34m1\u001b[0m)              │            \u001b[38;5;34m33\u001b[0m │\n",
       "└─────────────────────────────────┴────────────────────────┴───────────────┘\n"
      ]
     },
     "metadata": {},
     "output_type": "display_data"
    },
    {
     "data": {
      "text/html": [
       "<pre style=\"white-space:pre;overflow-x:auto;line-height:normal;font-family:Menlo,'DejaVu Sans Mono',consolas,'Courier New',monospace\"><span style=\"font-weight: bold\"> Total params: </span><span style=\"color: #00af00; text-decoration-color: #00af00\">21,569</span> (84.25 KB)\n",
       "</pre>\n"
      ],
      "text/plain": [
       "\u001b[1m Total params: \u001b[0m\u001b[38;5;34m21,569\u001b[0m (84.25 KB)\n"
      ]
     },
     "metadata": {},
     "output_type": "display_data"
    },
    {
     "data": {
      "text/html": [
       "<pre style=\"white-space:pre;overflow-x:auto;line-height:normal;font-family:Menlo,'DejaVu Sans Mono',consolas,'Courier New',monospace\"><span style=\"font-weight: bold\"> Trainable params: </span><span style=\"color: #00af00; text-decoration-color: #00af00\">21,569</span> (84.25 KB)\n",
       "</pre>\n"
      ],
      "text/plain": [
       "\u001b[1m Trainable params: \u001b[0m\u001b[38;5;34m21,569\u001b[0m (84.25 KB)\n"
      ]
     },
     "metadata": {},
     "output_type": "display_data"
    },
    {
     "data": {
      "text/html": [
       "<pre style=\"white-space:pre;overflow-x:auto;line-height:normal;font-family:Menlo,'DejaVu Sans Mono',consolas,'Courier New',monospace\"><span style=\"font-weight: bold\"> Non-trainable params: </span><span style=\"color: #00af00; text-decoration-color: #00af00\">0</span> (0.00 B)\n",
       "</pre>\n"
      ],
      "text/plain": [
       "\u001b[1m Non-trainable params: \u001b[0m\u001b[38;5;34m0\u001b[0m (0.00 B)\n"
      ]
     },
     "metadata": {},
     "output_type": "display_data"
    },
    {
     "name": "stdout",
     "output_type": "stream",
     "text": [
      "Epoch 1/20\n",
      "\u001b[1m1094/1094\u001b[0m \u001b[32m━━━━━━━━━━━━━━━━━━━━\u001b[0m\u001b[37m\u001b[0m \u001b[1m4s\u001b[0m 3ms/step - loss: 0.9993 - mae: 0.8645 - val_loss: 1.0131 - val_mae: 0.8718 - learning_rate: 0.0010\n",
      "Epoch 2/20\n",
      "\u001b[1m1094/1094\u001b[0m \u001b[32m━━━━━━━━━━━━━━━━━━━━\u001b[0m\u001b[37m\u001b[0m \u001b[1m3s\u001b[0m 3ms/step - loss: 0.9953 - mae: 0.8616 - val_loss: 1.0132 - val_mae: 0.8720 - learning_rate: 0.0010\n",
      "Epoch 3/20\n",
      "\u001b[1m1094/1094\u001b[0m \u001b[32m━━━━━━━━━━━━━━━━━━━━\u001b[0m\u001b[37m\u001b[0m \u001b[1m3s\u001b[0m 2ms/step - loss: 0.9941 - mae: 0.8613 - val_loss: 1.0120 - val_mae: 0.8715 - learning_rate: 0.0010\n",
      "Epoch 4/20\n",
      "\u001b[1m1094/1094\u001b[0m \u001b[32m━━━━━━━━━━━━━━━━━━━━\u001b[0m\u001b[37m\u001b[0m \u001b[1m3s\u001b[0m 2ms/step - loss: 0.9956 - mae: 0.8628 - val_loss: 1.0141 - val_mae: 0.8723 - learning_rate: 0.0010\n",
      "Epoch 5/20\n",
      "\u001b[1m1094/1094\u001b[0m \u001b[32m━━━━━━━━━━━━━━━━━━━━\u001b[0m\u001b[37m\u001b[0m \u001b[1m3s\u001b[0m 2ms/step - loss: 0.9966 - mae: 0.8637 - val_loss: 1.0137 - val_mae: 0.8719 - learning_rate: 0.0010\n",
      "Epoch 6/20\n",
      "\u001b[1m1094/1094\u001b[0m \u001b[32m━━━━━━━━━━━━━━━━━━━━\u001b[0m\u001b[37m\u001b[0m \u001b[1m3s\u001b[0m 2ms/step - loss: 0.9879 - mae: 0.8579 - val_loss: 1.0167 - val_mae: 0.8730 - learning_rate: 0.0010\n",
      "Epoch 7/20\n",
      "\u001b[1m1094/1094\u001b[0m \u001b[32m━━━━━━━━━━━━━━━━━━━━\u001b[0m\u001b[37m\u001b[0m \u001b[1m2s\u001b[0m 2ms/step - loss: 0.9851 - mae: 0.8570 - val_loss: 1.0139 - val_mae: 0.8713 - learning_rate: 5.0000e-04\n",
      "Epoch 8/20\n",
      "\u001b[1m1094/1094\u001b[0m \u001b[32m━━━━━━━━━━━━━━━━━━━━\u001b[0m\u001b[37m\u001b[0m \u001b[1m3s\u001b[0m 2ms/step - loss: 0.9855 - mae: 0.8571 - val_loss: 1.0177 - val_mae: 0.8726 - learning_rate: 5.0000e-04\n",
      "\u001b[1m235/235\u001b[0m \u001b[32m━━━━━━━━━━━━━━━━━━━━\u001b[0m\u001b[37m\u001b[0m \u001b[1m0s\u001b[0m 1ms/step - loss: 1.0100 - mae: 0.8724  \n",
      "Validation MSE (scaled): 1.0120426416397095\n",
      "Validation MAE (scaled): 0.8714877367019653\n",
      "\u001b[1m235/235\u001b[0m \u001b[32m━━━━━━━━━━━━━━━━━━━━\u001b[0m\u001b[37m\u001b[0m \u001b[1m0s\u001b[0m 1ms/step\n",
      "Inversed Sklearn MSE: 75794620.1282\n",
      "Inversed Sklearn MAE: 7541.9066\n",
      "Inversed Sklearn R2 Score: -0.0000\n"
     ]
    }
   ],
   "source": [
    "import tensorflow as tf\n",
    "from sklearn.metrics import mean_squared_error, mean_absolute_error, r2_score\n",
    "\n",
    "from tensorflow.keras import layers, Sequential\n",
    "\n",
    "model = Sequential([\n",
    "    layers.LSTM(64, return_sequences=True, input_shape=(X_train.shape[1], X_train.shape[2])),\n",
    "    layers.Dropout(0.2),\n",
    "    layers.LSTM(32),\n",
    "    layers.Dropout(0.2),\n",
    "    layers.Dense(32, activation='relu'),\n",
    "    layers.Dense(1)\n",
    "])\n",
    "model.compile(optimizer='adam', loss='mse', metrics=['mae'])\n",
    "model.summary()\n",
    "\n",
    "\n",
    "# Callbacks for early stopping and learning rate reduction\n",
    "callbacks = [\n",
    "    tf.keras.callbacks.EarlyStopping(monitor='val_loss', patience=5, restore_best_weights=True),\n",
    "    tf.keras.callbacks.ReduceLROnPlateau(monitor='val_loss', factor=0.5, patience=3, min_lr=1e-6)\n",
    "]\n",
    "\n",
    "history = model.fit(\n",
    "    X_train, y_train,\n",
    "    epochs=50,  # increased number of epochs\n",
    "    batch_size=32,\n",
    "    validation_data=(X_val, y_val),\n",
    "    callbacks=callbacks\n",
    ")\n",
    "\n",
    "\n",
    "# Evaluate model performance on the validation set\n",
    "val_loss, val_mae = model.evaluate(X_val, y_val)\n",
    "print(\"Validation MSE (scaled):\", val_loss)\n",
    "print(\"Validation MAE (scaled):\", val_mae)\n",
    "\n",
    "# Predict using the validation set\n",
    "y_val_pred_scaled = model.predict(X_val)\n",
    "\n",
    "# Inverse scale predictions and true values back to original scale\n",
    "y_val_pred = target_scaler.inverse_transform(y_val_pred_scaled)\n",
    "y_val_true = target_scaler.inverse_transform(y_val.reshape(-1, 1))\n",
    "\n",
    "mse_val = mean_squared_error(y_val_true, y_val_pred)\n",
    "mae_val = mean_absolute_error(y_val_true, y_val_pred)\n",
    "r2_val = r2_score(y_val_true, y_val_pred)\n",
    "\n",
    "print(f\"Inversed Sklearn MSE: {mse_val:.4f}\")\n",
    "print(f\"Inversed Sklearn MAE: {mae_val:.4f}\")\n",
    "print(f\"Inversed Sklearn R2 Score: {r2_val:.4f}\")\n"
   ]
  },
  {
   "cell_type": "code",
   "execution_count": 24,
   "metadata": {
    "cellUniqueIdByVincent": "a300c"
   },
   "outputs": [
    {
     "name": "stdout",
     "output_type": "stream",
     "text": [
      "Baseline Validation MSE: 75794707.61328782\n",
      "Baseline Validation MAE: 7542.546320072083\n"
     ]
    }
   ],
   "source": [
    "import numpy as np\n",
    "from sklearn.metrics import mean_absolute_error, mean_squared_error, r2_score\n",
    "\n",
    "# Baseline: Predict the mean of the training target\n",
    "baseline_pred_train = np.full(shape=y_train.shape, fill_value=y_train.mean())\n",
    "baseline_pred_val = np.full(shape=y_val.shape, fill_value=y_train.mean())  # note using training mean\n",
    "\n",
    "# Inverse-transform baseline predictions for comparison (if needed)\n",
    "baseline_pred_val_inv = target_scaler.inverse_transform(baseline_pred_val.reshape(-1,1))\n",
    "y_val_true_inv = target_scaler.inverse_transform(y_val.reshape(-1,1))\n",
    "\n",
    "print(\"Baseline Validation MSE:\", mean_squared_error(y_val_true_inv, baseline_pred_val_inv))\n",
    "print(\"Baseline Validation MAE:\", mean_absolute_error(y_val_true_inv, baseline_pred_val_inv))\n"
   ]
  }
 ],
 "metadata": {
  "kernelspec": {
   "display_name": ".venv",
   "language": "python",
   "name": "python3"
  },
  "language_info": {
   "name": "python",
   "version": "3.9.6"
  },
  "vincent": {
   "sessionId": "a3138dc30b3b3657c80c89ae_2025-04-09T12-52-08-949Z"
  }
 },
 "nbformat": 4,
 "nbformat_minor": 5
}
