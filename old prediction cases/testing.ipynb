{
 "cells": [
  {
   "cell_type": "code",
   "execution_count": 2,
   "metadata": {
    "cellUniqueIdByVincent": "844b1"
   },
   "outputs": [
    {
     "name": "stderr",
     "output_type": "stream",
     "text": [
      "/Users/kunthshah/Desktop/Crypto-Price-Moevement-Prediction/.venv/lib/python3.9/site-packages/urllib3/__init__.py:35: NotOpenSSLWarning: urllib3 v2 only supports OpenSSL 1.1.1+, currently the 'ssl' module is compiled with 'LibreSSL 2.8.3'. See: https://github.com/urllib3/urllib3/issues/3020\n",
      "  warnings.warn(\n"
     ]
    }
   ],
   "source": [
    "import tensorflow as tf\n",
    "import pandas as pd\n",
    "import numpy as np\n",
    "import os\n",
    "import matplotlib.pyplot as plt\n",
    "import seaborn as sns\n",
    "from sklearn.model_selection import train_test_split\n",
    "from sklearn.preprocessing import StandardScaler\n",
    "from sklearn.metrics import confusion_matrix, classification_report\n",
    "from tensorflow.keras.models import Sequential\n",
    "from tensorflow.keras.layers import Dense, Dropout\n",
    "from tensorflow.keras.callbacks import EarlyStopping\n",
    "from tensorflow.keras.optimizers import Adam\n",
    "import warnings\n",
    "warnings.filterwarnings('ignore')"
   ]
  },
  {
   "cell_type": "code",
   "execution_count": 3,
   "metadata": {
    "cellUniqueIdByVincent": "2575f"
   },
   "outputs": [
    {
     "data": {
      "text/html": [
       "<div>\n",
       "<style scoped>\n",
       "    .dataframe tbody tr th:only-of-type {\n",
       "        vertical-align: middle;\n",
       "    }\n",
       "\n",
       "    .dataframe tbody tr th {\n",
       "        vertical-align: top;\n",
       "    }\n",
       "\n",
       "    .dataframe thead th {\n",
       "        text-align: right;\n",
       "    }\n",
       "</style>\n",
       "<table border=\"1\" class=\"dataframe\">\n",
       "  <thead>\n",
       "    <tr style=\"text-align: right;\">\n",
       "      <th></th>\n",
       "      <th>Date</th>\n",
       "      <th>Open_Price</th>\n",
       "      <th>Close_Price</th>\n",
       "      <th>High_Price</th>\n",
       "      <th>Low_Price</th>\n",
       "      <th>Price_Change</th>\n",
       "      <th>Volume</th>\n",
       "      <th>MA_5</th>\n",
       "      <th>MA_10</th>\n",
       "      <th>RSI</th>\n",
       "      <th>...</th>\n",
       "      <th>MA_10_lag_1</th>\n",
       "      <th>MA_10_lag_2</th>\n",
       "      <th>MA_10_lag_3</th>\n",
       "      <th>MA_10_lag_4</th>\n",
       "      <th>MA_10_lag_5</th>\n",
       "      <th>MA_10_lag_6</th>\n",
       "      <th>MA_10_lag_7</th>\n",
       "      <th>MA_10_lag_8</th>\n",
       "      <th>Momentum_ratios</th>\n",
       "      <th>Sentiment_deltas</th>\n",
       "    </tr>\n",
       "  </thead>\n",
       "  <tbody>\n",
       "    <tr>\n",
       "      <th>0</th>\n",
       "      <td>2023-01-12</td>\n",
       "      <td>59097.295565</td>\n",
       "      <td>59029.726208</td>\n",
       "      <td>59900.004347</td>\n",
       "      <td>58784.035582</td>\n",
       "      <td>-67.569357</td>\n",
       "      <td>4462601</td>\n",
       "      <td>49045.482581</td>\n",
       "      <td>44580.256718</td>\n",
       "      <td>33.144940</td>\n",
       "      <td>...</td>\n",
       "      <td>44528.878721</td>\n",
       "      <td>45577.477694</td>\n",
       "      <td>0.000000</td>\n",
       "      <td>0.000000</td>\n",
       "      <td>0.000000</td>\n",
       "      <td>0.000000</td>\n",
       "      <td>0.0</td>\n",
       "      <td>0.0</td>\n",
       "      <td>1.898218</td>\n",
       "      <td>0.294423</td>\n",
       "    </tr>\n",
       "    <tr>\n",
       "      <th>1</th>\n",
       "      <td>2023-01-13</td>\n",
       "      <td>54973.279224</td>\n",
       "      <td>55151.317602</td>\n",
       "      <td>55396.713428</td>\n",
       "      <td>54378.735255</td>\n",
       "      <td>178.038378</td>\n",
       "      <td>9775141</td>\n",
       "      <td>48852.372428</td>\n",
       "      <td>44929.860092</td>\n",
       "      <td>43.650581</td>\n",
       "      <td>...</td>\n",
       "      <td>44580.256718</td>\n",
       "      <td>44528.878721</td>\n",
       "      <td>45577.477694</td>\n",
       "      <td>0.000000</td>\n",
       "      <td>0.000000</td>\n",
       "      <td>0.000000</td>\n",
       "      <td>0.0</td>\n",
       "      <td>0.0</td>\n",
       "      <td>0.934297</td>\n",
       "      <td>-1.048490</td>\n",
       "    </tr>\n",
       "    <tr>\n",
       "      <th>2</th>\n",
       "      <td>2023-01-14</td>\n",
       "      <td>36370.173320</td>\n",
       "      <td>36497.900856</td>\n",
       "      <td>36938.992350</td>\n",
       "      <td>36371.219308</td>\n",
       "      <td>127.727536</td>\n",
       "      <td>5726515</td>\n",
       "      <td>46570.552431</td>\n",
       "      <td>43760.010546</td>\n",
       "      <td>44.739048</td>\n",
       "      <td>...</td>\n",
       "      <td>44929.860092</td>\n",
       "      <td>44580.256718</td>\n",
       "      <td>44528.878721</td>\n",
       "      <td>45577.477694</td>\n",
       "      <td>0.000000</td>\n",
       "      <td>0.000000</td>\n",
       "      <td>0.0</td>\n",
       "      <td>0.0</td>\n",
       "      <td>0.661777</td>\n",
       "      <td>-1.083444</td>\n",
       "    </tr>\n",
       "    <tr>\n",
       "      <th>3</th>\n",
       "      <td>2023-01-15</td>\n",
       "      <td>35454.749016</td>\n",
       "      <td>35059.052567</td>\n",
       "      <td>35211.603012</td>\n",
       "      <td>34107.853810</td>\n",
       "      <td>-395.696449</td>\n",
       "      <td>4617507</td>\n",
       "      <td>43367.089528</td>\n",
       "      <td>43805.992068</td>\n",
       "      <td>37.650721</td>\n",
       "      <td>...</td>\n",
       "      <td>43760.010546</td>\n",
       "      <td>44929.860092</td>\n",
       "      <td>44580.256718</td>\n",
       "      <td>44528.878721</td>\n",
       "      <td>45577.477694</td>\n",
       "      <td>0.000000</td>\n",
       "      <td>0.0</td>\n",
       "      <td>0.0</td>\n",
       "      <td>0.960577</td>\n",
       "      <td>-1.199126</td>\n",
       "    </tr>\n",
       "    <tr>\n",
       "      <th>4</th>\n",
       "      <td>2023-01-16</td>\n",
       "      <td>35502.135296</td>\n",
       "      <td>35750.062833</td>\n",
       "      <td>36428.171405</td>\n",
       "      <td>35625.323065</td>\n",
       "      <td>247.927537</td>\n",
       "      <td>4181273</td>\n",
       "      <td>44297.612013</td>\n",
       "      <td>43903.552042</td>\n",
       "      <td>39.993981</td>\n",
       "      <td>...</td>\n",
       "      <td>43805.992068</td>\n",
       "      <td>43760.010546</td>\n",
       "      <td>44929.860092</td>\n",
       "      <td>44580.256718</td>\n",
       "      <td>44528.878721</td>\n",
       "      <td>45577.477694</td>\n",
       "      <td>0.0</td>\n",
       "      <td>0.0</td>\n",
       "      <td>1.019710</td>\n",
       "      <td>0.543907</td>\n",
       "    </tr>\n",
       "  </tbody>\n",
       "</table>\n",
       "<p>5 rows × 29 columns</p>\n",
       "</div>"
      ],
      "text/plain": [
       "         Date    Open_Price   Close_Price    High_Price     Low_Price  \\\n",
       "0  2023-01-12  59097.295565  59029.726208  59900.004347  58784.035582   \n",
       "1  2023-01-13  54973.279224  55151.317602  55396.713428  54378.735255   \n",
       "2  2023-01-14  36370.173320  36497.900856  36938.992350  36371.219308   \n",
       "3  2023-01-15  35454.749016  35059.052567  35211.603012  34107.853810   \n",
       "4  2023-01-16  35502.135296  35750.062833  36428.171405  35625.323065   \n",
       "\n",
       "   Price_Change   Volume          MA_5         MA_10        RSI  ...  \\\n",
       "0    -67.569357  4462601  49045.482581  44580.256718  33.144940  ...   \n",
       "1    178.038378  9775141  48852.372428  44929.860092  43.650581  ...   \n",
       "2    127.727536  5726515  46570.552431  43760.010546  44.739048  ...   \n",
       "3   -395.696449  4617507  43367.089528  43805.992068  37.650721  ...   \n",
       "4    247.927537  4181273  44297.612013  43903.552042  39.993981  ...   \n",
       "\n",
       "    MA_10_lag_1   MA_10_lag_2   MA_10_lag_3   MA_10_lag_4   MA_10_lag_5  \\\n",
       "0  44528.878721  45577.477694      0.000000      0.000000      0.000000   \n",
       "1  44580.256718  44528.878721  45577.477694      0.000000      0.000000   \n",
       "2  44929.860092  44580.256718  44528.878721  45577.477694      0.000000   \n",
       "3  43760.010546  44929.860092  44580.256718  44528.878721  45577.477694   \n",
       "4  43805.992068  43760.010546  44929.860092  44580.256718  44528.878721   \n",
       "\n",
       "    MA_10_lag_6  MA_10_lag_7  MA_10_lag_8  Momentum_ratios  Sentiment_deltas  \n",
       "0      0.000000          0.0          0.0         1.898218          0.294423  \n",
       "1      0.000000          0.0          0.0         0.934297         -1.048490  \n",
       "2      0.000000          0.0          0.0         0.661777         -1.083444  \n",
       "3      0.000000          0.0          0.0         0.960577         -1.199126  \n",
       "4  45577.477694          0.0          0.0         1.019710          0.543907  \n",
       "\n",
       "[5 rows x 29 columns]"
      ]
     },
     "execution_count": 3,
     "metadata": {},
     "output_type": "execute_result"
    }
   ],
   "source": [
    "df = pd.read_csv('Dataset/crypto_price_movement_dataset_with_lags.csv')\n",
    "df.head()"
   ]
  },
  {
   "cell_type": "code",
   "execution_count": 4,
   "metadata": {
    "cellUniqueIdByVincent": "f55a2"
   },
   "outputs": [
    {
     "name": "stdout",
     "output_type": "stream",
     "text": [
      "Shapes: (34982, 10, 9) (34982,) (7488, 10, 9) (7488,) (7489, 10, 9) (7489,)\n"
     ]
    }
   ],
   "source": [
    "import numpy as np\n",
    "import pandas as pd\n",
    "from sklearn.preprocessing import StandardScaler\n",
    "\n",
    "# 1. Split raw DataFrame by time (70/15/15)\n",
    "n = len(df)\n",
    "train_end = int(n * 0.70)\n",
    "val_end   = train_end + int(n * 0.15)\n",
    "\n",
    "train_df = df.iloc[:train_end].copy()\n",
    "val_df   = df.iloc[train_end:val_end].copy()\n",
    "test_df  = df.iloc[val_end:].copy()\n",
    "\n",
    "# 2. Identify feature columns (exclude Date, target, and any leakage features)\n",
    "feature_cols = [\n",
    "    'Close_Price','Global_Economy','High_Price','Low_Price',\n",
    "    'MA_10','MA_10_lag_2','Open_Price','RSI','Volatility'\n",
    "    # add any engineered features here\n",
    "]\n",
    "\n",
    "# 3. Fit scaler on TRAIN only, then transform all splits\n",
    "scaler = StandardScaler()\n",
    "train_df[feature_cols] = scaler.fit_transform(train_df[feature_cols])\n",
    "val_df[feature_cols]   = scaler.transform(val_df[feature_cols])\n",
    "test_df[feature_cols]  = scaler.transform(test_df[feature_cols])\n",
    "\n",
    "# 4. Function to build time‑windows\n",
    "def create_time_windows(df, feature_cols, window_size=10):\n",
    "    X, y = [], []\n",
    "    for i in range(window_size, len(df)):\n",
    "        X.append(df[feature_cols].iloc[i-window_size:i].values)\n",
    "        y.append(df['Price_Movement'].iloc[i])\n",
    "    return np.array(X), np.array(y)\n",
    "\n",
    "# 5. Create windowed datasets\n",
    "window_size = 10\n",
    "X_train, y_train = create_time_windows(train_df, feature_cols, window_size)\n",
    "X_val,   y_val   = create_time_windows(val_df,   feature_cols, window_size)\n",
    "X_test,  y_test  = create_time_windows(test_df,  feature_cols, window_size)\n",
    "\n",
    "print(\"Shapes:\",\n",
    "      X_train.shape, y_train.shape,\n",
    "      X_val.shape,   y_val.shape,\n",
    "      X_test.shape,  y_test.shape)\n"
   ]
  },
  {
   "cell_type": "code",
   "execution_count": 14,
   "metadata": {
    "cellUniqueIdByVincent": "5244c"
   },
   "outputs": [
    {
     "data": {
      "text/html": [
       "<pre style=\"white-space:pre;overflow-x:auto;line-height:normal;font-family:Menlo,'DejaVu Sans Mono',consolas,'Courier New',monospace\"><span style=\"font-weight: bold\">Model: \"sequential\"</span>\n",
       "</pre>\n"
      ],
      "text/plain": [
       "\u001b[1mModel: \"sequential\"\u001b[0m\n"
      ]
     },
     "metadata": {},
     "output_type": "display_data"
    },
    {
     "data": {
      "text/html": [
       "<pre style=\"white-space:pre;overflow-x:auto;line-height:normal;font-family:Menlo,'DejaVu Sans Mono',consolas,'Courier New',monospace\">┏━━━━━━━━━━━━━━━━━━━━━━━━━━━━━━━━━┳━━━━━━━━━━━━━━━━━━━━━━━━┳━━━━━━━━━━━━━━━┓\n",
       "┃<span style=\"font-weight: bold\"> Layer (type)                    </span>┃<span style=\"font-weight: bold\"> Output Shape           </span>┃<span style=\"font-weight: bold\">       Param # </span>┃\n",
       "┡━━━━━━━━━━━━━━━━━━━━━━━━━━━━━━━━━╇━━━━━━━━━━━━━━━━━━━━━━━━╇━━━━━━━━━━━━━━━┩\n",
       "│ lstm_14 (<span style=\"color: #0087ff; text-decoration-color: #0087ff\">LSTM</span>)                  │ (<span style=\"color: #00d7ff; text-decoration-color: #00d7ff\">None</span>, <span style=\"color: #00af00; text-decoration-color: #00af00\">50</span>)             │        <span style=\"color: #00af00; text-decoration-color: #00af00\">12,000</span> │\n",
       "├─────────────────────────────────┼────────────────────────┼───────────────┤\n",
       "│ dense_12 (<span style=\"color: #0087ff; text-decoration-color: #0087ff\">Dense</span>)                │ (<span style=\"color: #00d7ff; text-decoration-color: #00d7ff\">None</span>, <span style=\"color: #00af00; text-decoration-color: #00af00\">1</span>)              │            <span style=\"color: #00af00; text-decoration-color: #00af00\">51</span> │\n",
       "├─────────────────────────────────┼────────────────────────┼───────────────┤\n",
       "│ dense_13 (<span style=\"color: #0087ff; text-decoration-color: #0087ff\">Dense</span>)                │ (<span style=\"color: #00d7ff; text-decoration-color: #00d7ff\">None</span>, <span style=\"color: #00af00; text-decoration-color: #00af00\">1</span>)              │             <span style=\"color: #00af00; text-decoration-color: #00af00\">2</span> │\n",
       "└─────────────────────────────────┴────────────────────────┴───────────────┘\n",
       "</pre>\n"
      ],
      "text/plain": [
       "┏━━━━━━━━━━━━━━━━━━━━━━━━━━━━━━━━━┳━━━━━━━━━━━━━━━━━━━━━━━━┳━━━━━━━━━━━━━━━┓\n",
       "┃\u001b[1m \u001b[0m\u001b[1mLayer (type)                   \u001b[0m\u001b[1m \u001b[0m┃\u001b[1m \u001b[0m\u001b[1mOutput Shape          \u001b[0m\u001b[1m \u001b[0m┃\u001b[1m \u001b[0m\u001b[1m      Param #\u001b[0m\u001b[1m \u001b[0m┃\n",
       "┡━━━━━━━━━━━━━━━━━━━━━━━━━━━━━━━━━╇━━━━━━━━━━━━━━━━━━━━━━━━╇━━━━━━━━━━━━━━━┩\n",
       "│ lstm_14 (\u001b[38;5;33mLSTM\u001b[0m)                  │ (\u001b[38;5;45mNone\u001b[0m, \u001b[38;5;34m50\u001b[0m)             │        \u001b[38;5;34m12,000\u001b[0m │\n",
       "├─────────────────────────────────┼────────────────────────┼───────────────┤\n",
       "│ dense_12 (\u001b[38;5;33mDense\u001b[0m)                │ (\u001b[38;5;45mNone\u001b[0m, \u001b[38;5;34m1\u001b[0m)              │            \u001b[38;5;34m51\u001b[0m │\n",
       "├─────────────────────────────────┼────────────────────────┼───────────────┤\n",
       "│ dense_13 (\u001b[38;5;33mDense\u001b[0m)                │ (\u001b[38;5;45mNone\u001b[0m, \u001b[38;5;34m1\u001b[0m)              │             \u001b[38;5;34m2\u001b[0m │\n",
       "└─────────────────────────────────┴────────────────────────┴───────────────┘\n"
      ]
     },
     "metadata": {},
     "output_type": "display_data"
    },
    {
     "data": {
      "text/html": [
       "<pre style=\"white-space:pre;overflow-x:auto;line-height:normal;font-family:Menlo,'DejaVu Sans Mono',consolas,'Courier New',monospace\"><span style=\"font-weight: bold\"> Total params: </span><span style=\"color: #00af00; text-decoration-color: #00af00\">12,053</span> (47.08 KB)\n",
       "</pre>\n"
      ],
      "text/plain": [
       "\u001b[1m Total params: \u001b[0m\u001b[38;5;34m12,053\u001b[0m (47.08 KB)\n"
      ]
     },
     "metadata": {},
     "output_type": "display_data"
    },
    {
     "data": {
      "text/html": [
       "<pre style=\"white-space:pre;overflow-x:auto;line-height:normal;font-family:Menlo,'DejaVu Sans Mono',consolas,'Courier New',monospace\"><span style=\"font-weight: bold\"> Trainable params: </span><span style=\"color: #00af00; text-decoration-color: #00af00\">12,053</span> (47.08 KB)\n",
       "</pre>\n"
      ],
      "text/plain": [
       "\u001b[1m Trainable params: \u001b[0m\u001b[38;5;34m12,053\u001b[0m (47.08 KB)\n"
      ]
     },
     "metadata": {},
     "output_type": "display_data"
    },
    {
     "data": {
      "text/html": [
       "<pre style=\"white-space:pre;overflow-x:auto;line-height:normal;font-family:Menlo,'DejaVu Sans Mono',consolas,'Courier New',monospace\"><span style=\"font-weight: bold\"> Non-trainable params: </span><span style=\"color: #00af00; text-decoration-color: #00af00\">0</span> (0.00 B)\n",
       "</pre>\n"
      ],
      "text/plain": [
       "\u001b[1m Non-trainable params: \u001b[0m\u001b[38;5;34m0\u001b[0m (0.00 B)\n"
      ]
     },
     "metadata": {},
     "output_type": "display_data"
    },
    {
     "name": "stdout",
     "output_type": "stream",
     "text": [
      "None\n",
      "Epoch 1/20\n",
      "\u001b[1m547/547\u001b[0m \u001b[32m━━━━━━━━━━━━━━━━━━━━\u001b[0m\u001b[37m\u001b[0m \u001b[1m3s\u001b[0m 3ms/step - AUC: 0.5000 - accuracy: 0.5009 - loss: 0.6959 - val_AUC: 0.5000 - val_accuracy: 0.4983 - val_loss: 0.6933\n",
      "Epoch 2/20\n",
      "\u001b[1m547/547\u001b[0m \u001b[32m━━━━━━━━━━━━━━━━━━━━\u001b[0m\u001b[37m\u001b[0m \u001b[1m2s\u001b[0m 3ms/step - AUC: 0.5000 - accuracy: 0.5067 - loss: 0.6931 - val_AUC: 0.5000 - val_accuracy: 0.4983 - val_loss: 0.6932\n",
      "Epoch 3/20\n",
      "\u001b[1m547/547\u001b[0m \u001b[32m━━━━━━━━━━━━━━━━━━━━\u001b[0m\u001b[37m\u001b[0m \u001b[1m2s\u001b[0m 3ms/step - AUC: 0.5000 - accuracy: 0.5024 - loss: 0.6931 - val_AUC: 0.5000 - val_accuracy: 0.4983 - val_loss: 0.6932\n",
      "Epoch 4/20\n",
      "\u001b[1m547/547\u001b[0m \u001b[32m━━━━━━━━━━━━━━━━━━━━\u001b[0m\u001b[37m\u001b[0m \u001b[1m2s\u001b[0m 3ms/step - AUC: 0.5000 - accuracy: 0.5010 - loss: 0.6931 - val_AUC: 0.5000 - val_accuracy: 0.4983 - val_loss: 0.6932\n",
      "Epoch 5/20\n",
      "\u001b[1m547/547\u001b[0m \u001b[32m━━━━━━━━━━━━━━━━━━━━\u001b[0m\u001b[37m\u001b[0m \u001b[1m2s\u001b[0m 3ms/step - AUC: 0.5000 - accuracy: 0.5017 - loss: 0.6932 - val_AUC: 0.5000 - val_accuracy: 0.4983 - val_loss: 0.6932\n",
      "Epoch 6/20\n",
      "\u001b[1m547/547\u001b[0m \u001b[32m━━━━━━━━━━━━━━━━━━━━\u001b[0m\u001b[37m\u001b[0m \u001b[1m2s\u001b[0m 3ms/step - AUC: 0.5000 - accuracy: 0.5035 - loss: 0.6931 - val_AUC: 0.5000 - val_accuracy: 0.4983 - val_loss: 0.6932\n",
      "Epoch 7/20\n",
      "\u001b[1m547/547\u001b[0m \u001b[32m━━━━━━━━━━━━━━━━━━━━\u001b[0m\u001b[37m\u001b[0m \u001b[1m2s\u001b[0m 3ms/step - AUC: 0.5000 - accuracy: 0.5013 - loss: 0.6931 - val_AUC: 0.5000 - val_accuracy: 0.4983 - val_loss: 0.6933\n",
      "Epoch 8/20\n",
      "\u001b[1m547/547\u001b[0m \u001b[32m━━━━━━━━━━━━━━━━━━━━\u001b[0m\u001b[37m\u001b[0m \u001b[1m2s\u001b[0m 3ms/step - AUC: 0.5000 - accuracy: 0.5095 - loss: 0.6927 - val_AUC: 0.5000 - val_accuracy: 0.4983 - val_loss: 0.6931\n",
      "Epoch 9/20\n",
      "\u001b[1m547/547\u001b[0m \u001b[32m━━━━━━━━━━━━━━━━━━━━\u001b[0m\u001b[37m\u001b[0m \u001b[1m2s\u001b[0m 3ms/step - AUC: 0.5000 - accuracy: 0.5032 - loss: 0.6931 - val_AUC: 0.5000 - val_accuracy: 0.4983 - val_loss: 0.6931\n",
      "Epoch 10/20\n",
      "\u001b[1m547/547\u001b[0m \u001b[32m━━━━━━━━━━━━━━━━━━━━\u001b[0m\u001b[37m\u001b[0m \u001b[1m2s\u001b[0m 3ms/step - AUC: 0.5000 - accuracy: 0.5011 - loss: 0.6932 - val_AUC: 0.5000 - val_accuracy: 0.4983 - val_loss: 0.6936\n",
      "Epoch 11/20\n",
      "\u001b[1m547/547\u001b[0m \u001b[32m━━━━━━━━━━━━━━━━━━━━\u001b[0m\u001b[37m\u001b[0m \u001b[1m2s\u001b[0m 3ms/step - AUC: 0.5000 - accuracy: 0.5049 - loss: 0.6929 - val_AUC: 0.5000 - val_accuracy: 0.4983 - val_loss: 0.6934\n",
      "Epoch 12/20\n",
      "\u001b[1m547/547\u001b[0m \u001b[32m━━━━━━━━━━━━━━━━━━━━\u001b[0m\u001b[37m\u001b[0m \u001b[1m2s\u001b[0m 3ms/step - AUC: 0.5000 - accuracy: 0.5072 - loss: 0.6927 - val_AUC: 0.5000 - val_accuracy: 0.4983 - val_loss: 0.6932\n",
      "Epoch 13/20\n",
      "\u001b[1m547/547\u001b[0m \u001b[32m━━━━━━━━━━━━━━━━━━━━\u001b[0m\u001b[37m\u001b[0m \u001b[1m2s\u001b[0m 3ms/step - AUC: 0.5000 - accuracy: 0.5070 - loss: 0.6926 - val_AUC: 0.5000 - val_accuracy: 0.4983 - val_loss: 0.6934\n",
      "Epoch 14/20\n",
      "\u001b[1m547/547\u001b[0m \u001b[32m━━━━━━━━━━━━━━━━━━━━\u001b[0m\u001b[37m\u001b[0m \u001b[1m2s\u001b[0m 3ms/step - AUC: 0.5000 - accuracy: 0.4961 - loss: 0.6926 - val_AUC: 0.5000 - val_accuracy: 0.4983 - val_loss: 0.6935\n",
      "Epoch 15/20\n",
      "\u001b[1m547/547\u001b[0m \u001b[32m━━━━━━━━━━━━━━━━━━━━\u001b[0m\u001b[37m\u001b[0m \u001b[1m2s\u001b[0m 3ms/step - AUC: 0.5000 - accuracy: 0.5021 - loss: 0.6924 - val_AUC: 0.5000 - val_accuracy: 0.4983 - val_loss: 0.6934\n",
      "Epoch 16/20\n",
      "\u001b[1m547/547\u001b[0m \u001b[32m━━━━━━━━━━━━━━━━━━━━\u001b[0m\u001b[37m\u001b[0m \u001b[1m2s\u001b[0m 3ms/step - AUC: 0.5000 - accuracy: 0.5052 - loss: 0.6921 - val_AUC: 0.5000 - val_accuracy: 0.4983 - val_loss: 0.6937\n",
      "Epoch 17/20\n",
      "\u001b[1m547/547\u001b[0m \u001b[32m━━━━━━━━━━━━━━━━━━━━\u001b[0m\u001b[37m\u001b[0m \u001b[1m2s\u001b[0m 3ms/step - AUC: 0.5000 - accuracy: 0.4982 - loss: 0.6916 - val_AUC: 0.5000 - val_accuracy: 0.4983 - val_loss: 0.6934\n",
      "Epoch 18/20\n",
      "\u001b[1m547/547\u001b[0m \u001b[32m━━━━━━━━━━━━━━━━━━━━\u001b[0m\u001b[37m\u001b[0m \u001b[1m2s\u001b[0m 3ms/step - AUC: 0.5000 - accuracy: 0.5098 - loss: 0.6915 - val_AUC: 0.5000 - val_accuracy: 0.4983 - val_loss: 0.6940\n",
      "Epoch 19/20\n",
      "\u001b[1m547/547\u001b[0m \u001b[32m━━━━━━━━━━━━━━━━━━━━\u001b[0m\u001b[37m\u001b[0m \u001b[1m2s\u001b[0m 3ms/step - AUC: 0.5000 - accuracy: 0.5061 - loss: 0.6907 - val_AUC: 0.5000 - val_accuracy: 0.4983 - val_loss: 0.6950\n",
      "Epoch 20/20\n",
      "\u001b[1m547/547\u001b[0m \u001b[32m━━━━━━━━━━━━━━━━━━━━\u001b[0m\u001b[37m\u001b[0m \u001b[1m2s\u001b[0m 3ms/step - AUC: 0.5000 - accuracy: 0.5049 - loss: 0.6904 - val_AUC: 0.5000 - val_accuracy: 0.4983 - val_loss: 0.6952\n"
     ]
    }
   ],
   "source": [
    "model_simple = Sequential()\n",
    "model_simple.add(LSTM(50, activation='relu', input_shape=(window_size, len(feature_cols))))\n",
    "model_simple.add(Dense(1, activation='sigmoid'))\n",
    "model_simple.add(Dense(1, activation='softmax'))\n",
    "\n",
    "\n",
    "model_simple.compile(optimizer=Adam(1e-3), loss='binary_crossentropy', metrics=['AUC', 'accuracy'])\n",
    "print(model_simple.summary())\n",
    "\n",
    "history_simple = model_simple.fit(\n",
    "    X_train, y_train,\n",
    "    validation_data=(X_val, y_val),\n",
    "    epochs=20,\n",
    "    batch_size=64,\n",
    "    verbose=1\n",
    ")"
   ]
  },
  {
   "cell_type": "markdown",
   "metadata": {
    "cellUniqueIdByVincent": "3a2f2"
   },
   "source": [
    "# Attention on top of LSTM"
   ]
  },
  {
   "cell_type": "code",
   "execution_count": 9,
   "metadata": {
    "cellUniqueIdByVincent": "40f97"
   },
   "outputs": [
    {
     "data": {
      "text/html": [
       "<pre style=\"white-space:pre;overflow-x:auto;line-height:normal;font-family:Menlo,'DejaVu Sans Mono',consolas,'Courier New',monospace\"><span style=\"font-weight: bold\">Model: \"functional_27\"</span>\n",
       "</pre>\n"
      ],
      "text/plain": [
       "\u001b[1mModel: \"functional_27\"\u001b[0m\n"
      ]
     },
     "metadata": {},
     "output_type": "display_data"
    },
    {
     "data": {
      "text/html": [
       "<pre style=\"white-space:pre;overflow-x:auto;line-height:normal;font-family:Menlo,'DejaVu Sans Mono',consolas,'Courier New',monospace\">┏━━━━━━━━━━━━━━━━━━━━━┳━━━━━━━━━━━━━━━━━━━┳━━━━━━━━━━━━┳━━━━━━━━━━━━━━━━━━━┓\n",
       "┃<span style=\"font-weight: bold\"> Layer (type)        </span>┃<span style=\"font-weight: bold\"> Output Shape      </span>┃<span style=\"font-weight: bold\">    Param # </span>┃<span style=\"font-weight: bold\"> Connected to      </span>┃\n",
       "┡━━━━━━━━━━━━━━━━━━━━━╇━━━━━━━━━━━━━━━━━━━╇━━━━━━━━━━━━╇━━━━━━━━━━━━━━━━━━━┩\n",
       "│ input_layer_3       │ (<span style=\"color: #00d7ff; text-decoration-color: #00d7ff\">None</span>, <span style=\"color: #00af00; text-decoration-color: #00af00\">10</span>, <span style=\"color: #00af00; text-decoration-color: #00af00\">9</span>)     │          <span style=\"color: #00af00; text-decoration-color: #00af00\">0</span> │ -                 │\n",
       "│ (<span style=\"color: #0087ff; text-decoration-color: #0087ff\">InputLayer</span>)        │                   │            │                   │\n",
       "├─────────────────────┼───────────────────┼────────────┼───────────────────┤\n",
       "│ lstm_6 (<span style=\"color: #0087ff; text-decoration-color: #0087ff\">LSTM</span>)       │ (<span style=\"color: #00d7ff; text-decoration-color: #00d7ff\">None</span>, <span style=\"color: #00af00; text-decoration-color: #00af00\">10</span>, <span style=\"color: #00af00; text-decoration-color: #00af00\">64</span>)    │     <span style=\"color: #00af00; text-decoration-color: #00af00\">18,944</span> │ input_layer_3[<span style=\"color: #00af00; text-decoration-color: #00af00\">0</span>]… │\n",
       "├─────────────────────┼───────────────────┼────────────┼───────────────────┤\n",
       "│ batch_normalizatio… │ (<span style=\"color: #00d7ff; text-decoration-color: #00d7ff\">None</span>, <span style=\"color: #00af00; text-decoration-color: #00af00\">10</span>, <span style=\"color: #00af00; text-decoration-color: #00af00\">64</span>)    │        <span style=\"color: #00af00; text-decoration-color: #00af00\">256</span> │ lstm_6[<span style=\"color: #00af00; text-decoration-color: #00af00\">0</span>][<span style=\"color: #00af00; text-decoration-color: #00af00\">0</span>]      │\n",
       "│ (<span style=\"color: #0087ff; text-decoration-color: #0087ff\">BatchNormalizatio…</span> │                   │            │                   │\n",
       "├─────────────────────┼───────────────────┼────────────┼───────────────────┤\n",
       "│ dropout_9 (<span style=\"color: #0087ff; text-decoration-color: #0087ff\">Dropout</span>) │ (<span style=\"color: #00d7ff; text-decoration-color: #00d7ff\">None</span>, <span style=\"color: #00af00; text-decoration-color: #00af00\">10</span>, <span style=\"color: #00af00; text-decoration-color: #00af00\">64</span>)    │          <span style=\"color: #00af00; text-decoration-color: #00af00\">0</span> │ batch_normalizat… │\n",
       "├─────────────────────┼───────────────────┼────────────┼───────────────────┤\n",
       "│ lstm_7 (<span style=\"color: #0087ff; text-decoration-color: #0087ff\">LSTM</span>)       │ (<span style=\"color: #00d7ff; text-decoration-color: #00d7ff\">None</span>, <span style=\"color: #00af00; text-decoration-color: #00af00\">10</span>, <span style=\"color: #00af00; text-decoration-color: #00af00\">32</span>)    │     <span style=\"color: #00af00; text-decoration-color: #00af00\">12,416</span> │ dropout_9[<span style=\"color: #00af00; text-decoration-color: #00af00\">0</span>][<span style=\"color: #00af00; text-decoration-color: #00af00\">0</span>]   │\n",
       "├─────────────────────┼───────────────────┼────────────┼───────────────────┤\n",
       "│ batch_normalizatio… │ (<span style=\"color: #00d7ff; text-decoration-color: #00d7ff\">None</span>, <span style=\"color: #00af00; text-decoration-color: #00af00\">10</span>, <span style=\"color: #00af00; text-decoration-color: #00af00\">32</span>)    │        <span style=\"color: #00af00; text-decoration-color: #00af00\">128</span> │ lstm_7[<span style=\"color: #00af00; text-decoration-color: #00af00\">0</span>][<span style=\"color: #00af00; text-decoration-color: #00af00\">0</span>]      │\n",
       "│ (<span style=\"color: #0087ff; text-decoration-color: #0087ff\">BatchNormalizatio…</span> │                   │            │                   │\n",
       "├─────────────────────┼───────────────────┼────────────┼───────────────────┤\n",
       "│ dropout_10          │ (<span style=\"color: #00d7ff; text-decoration-color: #00d7ff\">None</span>, <span style=\"color: #00af00; text-decoration-color: #00af00\">10</span>, <span style=\"color: #00af00; text-decoration-color: #00af00\">32</span>)    │          <span style=\"color: #00af00; text-decoration-color: #00af00\">0</span> │ batch_normalizat… │\n",
       "│ (<span style=\"color: #0087ff; text-decoration-color: #0087ff\">Dropout</span>)           │                   │            │                   │\n",
       "├─────────────────────┼───────────────────┼────────────┼───────────────────┤\n",
       "│ permute (<span style=\"color: #0087ff; text-decoration-color: #0087ff\">Permute</span>)   │ (<span style=\"color: #00d7ff; text-decoration-color: #00d7ff\">None</span>, <span style=\"color: #00af00; text-decoration-color: #00af00\">32</span>, <span style=\"color: #00af00; text-decoration-color: #00af00\">10</span>)    │          <span style=\"color: #00af00; text-decoration-color: #00af00\">0</span> │ dropout_10[<span style=\"color: #00af00; text-decoration-color: #00af00\">0</span>][<span style=\"color: #00af00; text-decoration-color: #00af00\">0</span>]  │\n",
       "├─────────────────────┼───────────────────┼────────────┼───────────────────┤\n",
       "│ dense_6 (<span style=\"color: #0087ff; text-decoration-color: #0087ff\">Dense</span>)     │ (<span style=\"color: #00d7ff; text-decoration-color: #00d7ff\">None</span>, <span style=\"color: #00af00; text-decoration-color: #00af00\">32</span>, <span style=\"color: #00af00; text-decoration-color: #00af00\">10</span>)    │        <span style=\"color: #00af00; text-decoration-color: #00af00\">110</span> │ permute[<span style=\"color: #00af00; text-decoration-color: #00af00\">0</span>][<span style=\"color: #00af00; text-decoration-color: #00af00\">0</span>]     │\n",
       "├─────────────────────┼───────────────────┼────────────┼───────────────────┤\n",
       "│ softmax (<span style=\"color: #0087ff; text-decoration-color: #0087ff\">Softmax</span>)   │ (<span style=\"color: #00d7ff; text-decoration-color: #00d7ff\">None</span>, <span style=\"color: #00af00; text-decoration-color: #00af00\">32</span>, <span style=\"color: #00af00; text-decoration-color: #00af00\">10</span>)    │          <span style=\"color: #00af00; text-decoration-color: #00af00\">0</span> │ dense_6[<span style=\"color: #00af00; text-decoration-color: #00af00\">0</span>][<span style=\"color: #00af00; text-decoration-color: #00af00\">0</span>]     │\n",
       "├─────────────────────┼───────────────────┼────────────┼───────────────────┤\n",
       "│ permute_1 (<span style=\"color: #0087ff; text-decoration-color: #0087ff\">Permute</span>) │ (<span style=\"color: #00d7ff; text-decoration-color: #00d7ff\">None</span>, <span style=\"color: #00af00; text-decoration-color: #00af00\">10</span>, <span style=\"color: #00af00; text-decoration-color: #00af00\">32</span>)    │          <span style=\"color: #00af00; text-decoration-color: #00af00\">0</span> │ softmax[<span style=\"color: #00af00; text-decoration-color: #00af00\">0</span>][<span style=\"color: #00af00; text-decoration-color: #00af00\">0</span>]     │\n",
       "├─────────────────────┼───────────────────┼────────────┼───────────────────┤\n",
       "│ multiply (<span style=\"color: #0087ff; text-decoration-color: #0087ff\">Multiply</span>) │ (<span style=\"color: #00d7ff; text-decoration-color: #00d7ff\">None</span>, <span style=\"color: #00af00; text-decoration-color: #00af00\">10</span>, <span style=\"color: #00af00; text-decoration-color: #00af00\">32</span>)    │          <span style=\"color: #00af00; text-decoration-color: #00af00\">0</span> │ dropout_10[<span style=\"color: #00af00; text-decoration-color: #00af00\">0</span>][<span style=\"color: #00af00; text-decoration-color: #00af00\">0</span>], │\n",
       "│                     │                   │            │ permute_1[<span style=\"color: #00af00; text-decoration-color: #00af00\">0</span>][<span style=\"color: #00af00; text-decoration-color: #00af00\">0</span>]   │\n",
       "├─────────────────────┼───────────────────┼────────────┼───────────────────┤\n",
       "│ lambda (<span style=\"color: #0087ff; text-decoration-color: #0087ff\">Lambda</span>)     │ (<span style=\"color: #00d7ff; text-decoration-color: #00d7ff\">None</span>, <span style=\"color: #00af00; text-decoration-color: #00af00\">32</span>)        │          <span style=\"color: #00af00; text-decoration-color: #00af00\">0</span> │ multiply[<span style=\"color: #00af00; text-decoration-color: #00af00\">0</span>][<span style=\"color: #00af00; text-decoration-color: #00af00\">0</span>]    │\n",
       "├─────────────────────┼───────────────────┼────────────┼───────────────────┤\n",
       "│ dense_7 (<span style=\"color: #0087ff; text-decoration-color: #0087ff\">Dense</span>)     │ (<span style=\"color: #00d7ff; text-decoration-color: #00d7ff\">None</span>, <span style=\"color: #00af00; text-decoration-color: #00af00\">16</span>)        │        <span style=\"color: #00af00; text-decoration-color: #00af00\">528</span> │ lambda[<span style=\"color: #00af00; text-decoration-color: #00af00\">0</span>][<span style=\"color: #00af00; text-decoration-color: #00af00\">0</span>]      │\n",
       "├─────────────────────┼───────────────────┼────────────┼───────────────────┤\n",
       "│ dropout_11          │ (<span style=\"color: #00d7ff; text-decoration-color: #00d7ff\">None</span>, <span style=\"color: #00af00; text-decoration-color: #00af00\">16</span>)        │          <span style=\"color: #00af00; text-decoration-color: #00af00\">0</span> │ dense_7[<span style=\"color: #00af00; text-decoration-color: #00af00\">0</span>][<span style=\"color: #00af00; text-decoration-color: #00af00\">0</span>]     │\n",
       "│ (<span style=\"color: #0087ff; text-decoration-color: #0087ff\">Dropout</span>)           │                   │            │                   │\n",
       "├─────────────────────┼───────────────────┼────────────┼───────────────────┤\n",
       "│ dense_8 (<span style=\"color: #0087ff; text-decoration-color: #0087ff\">Dense</span>)     │ (<span style=\"color: #00d7ff; text-decoration-color: #00d7ff\">None</span>, <span style=\"color: #00af00; text-decoration-color: #00af00\">1</span>)         │         <span style=\"color: #00af00; text-decoration-color: #00af00\">17</span> │ dropout_11[<span style=\"color: #00af00; text-decoration-color: #00af00\">0</span>][<span style=\"color: #00af00; text-decoration-color: #00af00\">0</span>]  │\n",
       "└─────────────────────┴───────────────────┴────────────┴───────────────────┘\n",
       "</pre>\n"
      ],
      "text/plain": [
       "┏━━━━━━━━━━━━━━━━━━━━━┳━━━━━━━━━━━━━━━━━━━┳━━━━━━━━━━━━┳━━━━━━━━━━━━━━━━━━━┓\n",
       "┃\u001b[1m \u001b[0m\u001b[1mLayer (type)       \u001b[0m\u001b[1m \u001b[0m┃\u001b[1m \u001b[0m\u001b[1mOutput Shape     \u001b[0m\u001b[1m \u001b[0m┃\u001b[1m \u001b[0m\u001b[1m   Param #\u001b[0m\u001b[1m \u001b[0m┃\u001b[1m \u001b[0m\u001b[1mConnected to     \u001b[0m\u001b[1m \u001b[0m┃\n",
       "┡━━━━━━━━━━━━━━━━━━━━━╇━━━━━━━━━━━━━━━━━━━╇━━━━━━━━━━━━╇━━━━━━━━━━━━━━━━━━━┩\n",
       "│ input_layer_3       │ (\u001b[38;5;45mNone\u001b[0m, \u001b[38;5;34m10\u001b[0m, \u001b[38;5;34m9\u001b[0m)     │          \u001b[38;5;34m0\u001b[0m │ -                 │\n",
       "│ (\u001b[38;5;33mInputLayer\u001b[0m)        │                   │            │                   │\n",
       "├─────────────────────┼───────────────────┼────────────┼───────────────────┤\n",
       "│ lstm_6 (\u001b[38;5;33mLSTM\u001b[0m)       │ (\u001b[38;5;45mNone\u001b[0m, \u001b[38;5;34m10\u001b[0m, \u001b[38;5;34m64\u001b[0m)    │     \u001b[38;5;34m18,944\u001b[0m │ input_layer_3[\u001b[38;5;34m0\u001b[0m]… │\n",
       "├─────────────────────┼───────────────────┼────────────┼───────────────────┤\n",
       "│ batch_normalizatio… │ (\u001b[38;5;45mNone\u001b[0m, \u001b[38;5;34m10\u001b[0m, \u001b[38;5;34m64\u001b[0m)    │        \u001b[38;5;34m256\u001b[0m │ lstm_6[\u001b[38;5;34m0\u001b[0m][\u001b[38;5;34m0\u001b[0m]      │\n",
       "│ (\u001b[38;5;33mBatchNormalizatio…\u001b[0m │                   │            │                   │\n",
       "├─────────────────────┼───────────────────┼────────────┼───────────────────┤\n",
       "│ dropout_9 (\u001b[38;5;33mDropout\u001b[0m) │ (\u001b[38;5;45mNone\u001b[0m, \u001b[38;5;34m10\u001b[0m, \u001b[38;5;34m64\u001b[0m)    │          \u001b[38;5;34m0\u001b[0m │ batch_normalizat… │\n",
       "├─────────────────────┼───────────────────┼────────────┼───────────────────┤\n",
       "│ lstm_7 (\u001b[38;5;33mLSTM\u001b[0m)       │ (\u001b[38;5;45mNone\u001b[0m, \u001b[38;5;34m10\u001b[0m, \u001b[38;5;34m32\u001b[0m)    │     \u001b[38;5;34m12,416\u001b[0m │ dropout_9[\u001b[38;5;34m0\u001b[0m][\u001b[38;5;34m0\u001b[0m]   │\n",
       "├─────────────────────┼───────────────────┼────────────┼───────────────────┤\n",
       "│ batch_normalizatio… │ (\u001b[38;5;45mNone\u001b[0m, \u001b[38;5;34m10\u001b[0m, \u001b[38;5;34m32\u001b[0m)    │        \u001b[38;5;34m128\u001b[0m │ lstm_7[\u001b[38;5;34m0\u001b[0m][\u001b[38;5;34m0\u001b[0m]      │\n",
       "│ (\u001b[38;5;33mBatchNormalizatio…\u001b[0m │                   │            │                   │\n",
       "├─────────────────────┼───────────────────┼────────────┼───────────────────┤\n",
       "│ dropout_10          │ (\u001b[38;5;45mNone\u001b[0m, \u001b[38;5;34m10\u001b[0m, \u001b[38;5;34m32\u001b[0m)    │          \u001b[38;5;34m0\u001b[0m │ batch_normalizat… │\n",
       "│ (\u001b[38;5;33mDropout\u001b[0m)           │                   │            │                   │\n",
       "├─────────────────────┼───────────────────┼────────────┼───────────────────┤\n",
       "│ permute (\u001b[38;5;33mPermute\u001b[0m)   │ (\u001b[38;5;45mNone\u001b[0m, \u001b[38;5;34m32\u001b[0m, \u001b[38;5;34m10\u001b[0m)    │          \u001b[38;5;34m0\u001b[0m │ dropout_10[\u001b[38;5;34m0\u001b[0m][\u001b[38;5;34m0\u001b[0m]  │\n",
       "├─────────────────────┼───────────────────┼────────────┼───────────────────┤\n",
       "│ dense_6 (\u001b[38;5;33mDense\u001b[0m)     │ (\u001b[38;5;45mNone\u001b[0m, \u001b[38;5;34m32\u001b[0m, \u001b[38;5;34m10\u001b[0m)    │        \u001b[38;5;34m110\u001b[0m │ permute[\u001b[38;5;34m0\u001b[0m][\u001b[38;5;34m0\u001b[0m]     │\n",
       "├─────────────────────┼───────────────────┼────────────┼───────────────────┤\n",
       "│ softmax (\u001b[38;5;33mSoftmax\u001b[0m)   │ (\u001b[38;5;45mNone\u001b[0m, \u001b[38;5;34m32\u001b[0m, \u001b[38;5;34m10\u001b[0m)    │          \u001b[38;5;34m0\u001b[0m │ dense_6[\u001b[38;5;34m0\u001b[0m][\u001b[38;5;34m0\u001b[0m]     │\n",
       "├─────────────────────┼───────────────────┼────────────┼───────────────────┤\n",
       "│ permute_1 (\u001b[38;5;33mPermute\u001b[0m) │ (\u001b[38;5;45mNone\u001b[0m, \u001b[38;5;34m10\u001b[0m, \u001b[38;5;34m32\u001b[0m)    │          \u001b[38;5;34m0\u001b[0m │ softmax[\u001b[38;5;34m0\u001b[0m][\u001b[38;5;34m0\u001b[0m]     │\n",
       "├─────────────────────┼───────────────────┼────────────┼───────────────────┤\n",
       "│ multiply (\u001b[38;5;33mMultiply\u001b[0m) │ (\u001b[38;5;45mNone\u001b[0m, \u001b[38;5;34m10\u001b[0m, \u001b[38;5;34m32\u001b[0m)    │          \u001b[38;5;34m0\u001b[0m │ dropout_10[\u001b[38;5;34m0\u001b[0m][\u001b[38;5;34m0\u001b[0m], │\n",
       "│                     │                   │            │ permute_1[\u001b[38;5;34m0\u001b[0m][\u001b[38;5;34m0\u001b[0m]   │\n",
       "├─────────────────────┼───────────────────┼────────────┼───────────────────┤\n",
       "│ lambda (\u001b[38;5;33mLambda\u001b[0m)     │ (\u001b[38;5;45mNone\u001b[0m, \u001b[38;5;34m32\u001b[0m)        │          \u001b[38;5;34m0\u001b[0m │ multiply[\u001b[38;5;34m0\u001b[0m][\u001b[38;5;34m0\u001b[0m]    │\n",
       "├─────────────────────┼───────────────────┼────────────┼───────────────────┤\n",
       "│ dense_7 (\u001b[38;5;33mDense\u001b[0m)     │ (\u001b[38;5;45mNone\u001b[0m, \u001b[38;5;34m16\u001b[0m)        │        \u001b[38;5;34m528\u001b[0m │ lambda[\u001b[38;5;34m0\u001b[0m][\u001b[38;5;34m0\u001b[0m]      │\n",
       "├─────────────────────┼───────────────────┼────────────┼───────────────────┤\n",
       "│ dropout_11          │ (\u001b[38;5;45mNone\u001b[0m, \u001b[38;5;34m16\u001b[0m)        │          \u001b[38;5;34m0\u001b[0m │ dense_7[\u001b[38;5;34m0\u001b[0m][\u001b[38;5;34m0\u001b[0m]     │\n",
       "│ (\u001b[38;5;33mDropout\u001b[0m)           │                   │            │                   │\n",
       "├─────────────────────┼───────────────────┼────────────┼───────────────────┤\n",
       "│ dense_8 (\u001b[38;5;33mDense\u001b[0m)     │ (\u001b[38;5;45mNone\u001b[0m, \u001b[38;5;34m1\u001b[0m)         │         \u001b[38;5;34m17\u001b[0m │ dropout_11[\u001b[38;5;34m0\u001b[0m][\u001b[38;5;34m0\u001b[0m]  │\n",
       "└─────────────────────┴───────────────────┴────────────┴───────────────────┘\n"
      ]
     },
     "metadata": {},
     "output_type": "display_data"
    },
    {
     "data": {
      "text/html": [
       "<pre style=\"white-space:pre;overflow-x:auto;line-height:normal;font-family:Menlo,'DejaVu Sans Mono',consolas,'Courier New',monospace\"><span style=\"font-weight: bold\"> Total params: </span><span style=\"color: #00af00; text-decoration-color: #00af00\">32,399</span> (126.56 KB)\n",
       "</pre>\n"
      ],
      "text/plain": [
       "\u001b[1m Total params: \u001b[0m\u001b[38;5;34m32,399\u001b[0m (126.56 KB)\n"
      ]
     },
     "metadata": {},
     "output_type": "display_data"
    },
    {
     "data": {
      "text/html": [
       "<pre style=\"white-space:pre;overflow-x:auto;line-height:normal;font-family:Menlo,'DejaVu Sans Mono',consolas,'Courier New',monospace\"><span style=\"font-weight: bold\"> Trainable params: </span><span style=\"color: #00af00; text-decoration-color: #00af00\">32,207</span> (125.81 KB)\n",
       "</pre>\n"
      ],
      "text/plain": [
       "\u001b[1m Trainable params: \u001b[0m\u001b[38;5;34m32,207\u001b[0m (125.81 KB)\n"
      ]
     },
     "metadata": {},
     "output_type": "display_data"
    },
    {
     "data": {
      "text/html": [
       "<pre style=\"white-space:pre;overflow-x:auto;line-height:normal;font-family:Menlo,'DejaVu Sans Mono',consolas,'Courier New',monospace\"><span style=\"font-weight: bold\"> Non-trainable params: </span><span style=\"color: #00af00; text-decoration-color: #00af00\">192</span> (768.00 B)\n",
       "</pre>\n"
      ],
      "text/plain": [
       "\u001b[1m Non-trainable params: \u001b[0m\u001b[38;5;34m192\u001b[0m (768.00 B)\n"
      ]
     },
     "metadata": {},
     "output_type": "display_data"
    }
   ],
   "source": [
    "import tensorflow as tf\n",
    "from tensorflow.keras.models import Model\n",
    "from tensorflow.keras.layers import (\n",
    "    Input, LSTM, Dense, Dropout, BatchNormalization, \n",
    "    Permute, Multiply, Lambda, Softmax, Concatenate\n",
    ")\n",
    "\n",
    "def attention_block(inputs):\n",
    "    # inputs.shape = (batch, timesteps, features)\n",
    "    # 1) Learn a score for each timestep\n",
    "    a = Permute((2,1))(inputs)                       # (batch, features, timesteps)\n",
    "    a = Dense(inputs.shape[1], activation='tanh')(a) # (batch, features, timesteps)\n",
    "    a = Softmax(axis=-1)(a)                          # normalize over timesteps\n",
    "    a_probs = Permute((2,1))(a)                      # (batch, timesteps, features)\n",
    "    # 2) Weight the inputs\n",
    "    output = Multiply()([inputs, a_probs])           # (batch, timesteps, features)\n",
    "    # 3) Sum across time\n",
    "    return Lambda(lambda x: tf.reduce_sum(x, axis=1))(output)\n",
    "\n",
    "def create_lstm_with_attention(timesteps, n_features):\n",
    "    inp = Input(shape=(timesteps, n_features))\n",
    "    \n",
    "    x = LSTM(64, return_sequences=True)(inp)\n",
    "    x = BatchNormalization()(x)\n",
    "    x = Dropout(0.2)(x)\n",
    "    \n",
    "    x = LSTM(32, return_sequences=True)(x)\n",
    "    x = BatchNormalization()(x)\n",
    "    x = Dropout(0.2)(x)\n",
    "    \n",
    "    # Attention pooling\n",
    "    x = attention_block(x)   # (batch, features)\n",
    "    \n",
    "    x = Dense(16, activation='relu')(x)\n",
    "    x = Dropout(0.2)(x)\n",
    "    out = Dense(1, activation='sigmoid')(x)\n",
    "    \n",
    "    model = Model(inp, out)\n",
    "    model.compile(\n",
    "        optimizer='adam',\n",
    "        loss='binary_crossentropy',\n",
    "        metrics=['AUC','accuracy']\n",
    "    )\n",
    "    return model\n",
    "\n",
    "model_attn = create_lstm_with_attention(X_train.shape[1], X_train.shape[2])\n",
    "model_attn.summary()\n"
   ]
  },
  {
   "cell_type": "code",
   "execution_count": 10,
   "metadata": {
    "cellUniqueIdByVincent": "1cb86"
   },
   "outputs": [
    {
     "name": "stdout",
     "output_type": "stream",
     "text": [
      "Epoch 1/100\n"
     ]
    },
    {
     "name": "stderr",
     "output_type": "stream",
     "text": [
      "WARNING:absl:You are saving your model as an HDF5 file via `model.save()` or `keras.saving.save_model(model)`. This file format is considered legacy. We recommend using instead the native Keras format, e.g. `model.save('my_model.keras')` or `keras.saving.save_model(model, 'my_model.keras')`. \n"
     ]
    },
    {
     "name": "stdout",
     "output_type": "stream",
     "text": [
      "547/547 - 5s - 8ms/step - AUC: 0.5009 - accuracy: 0.5023 - loss: 0.6932 - val_AUC: 0.4917 - val_accuracy: 0.4959 - val_loss: 0.6934 - learning_rate: 1.0000e-03\n",
      "Epoch 2/100\n"
     ]
    },
    {
     "name": "stderr",
     "output_type": "stream",
     "text": [
      "WARNING:absl:You are saving your model as an HDF5 file via `model.save()` or `keras.saving.save_model(model)`. This file format is considered legacy. We recommend using instead the native Keras format, e.g. `model.save('my_model.keras')` or `keras.saving.save_model(model, 'my_model.keras')`. \n"
     ]
    },
    {
     "name": "stdout",
     "output_type": "stream",
     "text": [
      "547/547 - 4s - 7ms/step - AUC: 0.5046 - accuracy: 0.5046 - loss: 0.6931 - val_AUC: 0.5033 - val_accuracy: 0.4977 - val_loss: 0.6932 - learning_rate: 1.0000e-03\n",
      "Epoch 3/100\n",
      "547/547 - 3s - 6ms/step - AUC: 0.5002 - accuracy: 0.5015 - loss: 0.6932 - val_AUC: 0.5069 - val_accuracy: 0.4981 - val_loss: 0.6932 - learning_rate: 1.0000e-03\n",
      "Epoch 4/100\n",
      "547/547 - 4s - 7ms/step - AUC: 0.4945 - accuracy: 0.5028 - loss: 0.6932 - val_AUC: 0.5003 - val_accuracy: 0.4988 - val_loss: 0.6932 - learning_rate: 1.0000e-03\n",
      "Epoch 5/100\n"
     ]
    },
    {
     "name": "stderr",
     "output_type": "stream",
     "text": [
      "WARNING:absl:You are saving your model as an HDF5 file via `model.save()` or `keras.saving.save_model(model)`. This file format is considered legacy. We recommend using instead the native Keras format, e.g. `model.save('my_model.keras')` or `keras.saving.save_model(model, 'my_model.keras')`. \n"
     ]
    },
    {
     "name": "stdout",
     "output_type": "stream",
     "text": [
      "547/547 - 4s - 7ms/step - AUC: 0.5003 - accuracy: 0.5034 - loss: 0.6931 - val_AUC: 0.5015 - val_accuracy: 0.4979 - val_loss: 0.6932 - learning_rate: 1.0000e-03\n",
      "Epoch 6/100\n"
     ]
    },
    {
     "name": "stderr",
     "output_type": "stream",
     "text": [
      "WARNING:absl:You are saving your model as an HDF5 file via `model.save()` or `keras.saving.save_model(model)`. This file format is considered legacy. We recommend using instead the native Keras format, e.g. `model.save('my_model.keras')` or `keras.saving.save_model(model, 'my_model.keras')`. \n"
     ]
    },
    {
     "name": "stdout",
     "output_type": "stream",
     "text": [
      "547/547 - 3s - 6ms/step - AUC: 0.5026 - accuracy: 0.5030 - loss: 0.6931 - val_AUC: 0.5020 - val_accuracy: 0.4983 - val_loss: 0.6932 - learning_rate: 1.0000e-03\n",
      "Epoch 7/100\n"
     ]
    },
    {
     "name": "stderr",
     "output_type": "stream",
     "text": [
      "WARNING:absl:You are saving your model as an HDF5 file via `model.save()` or `keras.saving.save_model(model)`. This file format is considered legacy. We recommend using instead the native Keras format, e.g. `model.save('my_model.keras')` or `keras.saving.save_model(model, 'my_model.keras')`. \n"
     ]
    },
    {
     "name": "stdout",
     "output_type": "stream",
     "text": [
      "547/547 - 3s - 6ms/step - AUC: 0.4977 - accuracy: 0.5044 - loss: 0.6932 - val_AUC: 0.4982 - val_accuracy: 0.4931 - val_loss: 0.6932 - learning_rate: 1.0000e-03\n",
      "Epoch 8/100\n",
      "547/547 - 3s - 6ms/step - AUC: 0.5035 - accuracy: 0.5045 - loss: 0.6931 - val_AUC: 0.4885 - val_accuracy: 0.4949 - val_loss: 0.6933 - learning_rate: 5.0000e-04\n",
      "Epoch 9/100\n",
      "547/547 - 3s - 6ms/step - AUC: 0.4995 - accuracy: 0.5011 - loss: 0.6931 - val_AUC: 0.5047 - val_accuracy: 0.4983 - val_loss: 0.6932 - learning_rate: 5.0000e-04\n",
      "Epoch 10/100\n",
      "547/547 - 3s - 6ms/step - AUC: 0.5009 - accuracy: 0.5042 - loss: 0.6931 - val_AUC: 0.5005 - val_accuracy: 0.4983 - val_loss: 0.6932 - learning_rate: 5.0000e-04\n",
      "Epoch 11/100\n",
      "547/547 - 3s - 6ms/step - AUC: 0.4950 - accuracy: 0.5032 - loss: 0.6931 - val_AUC: 0.4999 - val_accuracy: 0.4983 - val_loss: 0.6932 - learning_rate: 5.0000e-04\n",
      "Epoch 12/100\n",
      "547/547 - 3s - 6ms/step - AUC: 0.5021 - accuracy: 0.5048 - loss: 0.6931 - val_AUC: 0.5009 - val_accuracy: 0.4983 - val_loss: 0.6932 - learning_rate: 5.0000e-04\n",
      "Epoch 13/100\n"
     ]
    },
    {
     "name": "stderr",
     "output_type": "stream",
     "text": [
      "WARNING:absl:You are saving your model as an HDF5 file via `model.save()` or `keras.saving.save_model(model)`. This file format is considered legacy. We recommend using instead the native Keras format, e.g. `model.save('my_model.keras')` or `keras.saving.save_model(model, 'my_model.keras')`. \n"
     ]
    },
    {
     "name": "stdout",
     "output_type": "stream",
     "text": [
      "547/547 - 3s - 6ms/step - AUC: 0.5023 - accuracy: 0.5040 - loss: 0.6931 - val_AUC: 0.5028 - val_accuracy: 0.4983 - val_loss: 0.6932 - learning_rate: 2.5000e-04\n",
      "Epoch 14/100\n"
     ]
    },
    {
     "name": "stderr",
     "output_type": "stream",
     "text": [
      "WARNING:absl:You are saving your model as an HDF5 file via `model.save()` or `keras.saving.save_model(model)`. This file format is considered legacy. We recommend using instead the native Keras format, e.g. `model.save('my_model.keras')` or `keras.saving.save_model(model, 'my_model.keras')`. \n"
     ]
    },
    {
     "name": "stdout",
     "output_type": "stream",
     "text": [
      "547/547 - 3s - 6ms/step - AUC: 0.5055 - accuracy: 0.5038 - loss: 0.6930 - val_AUC: 0.5061 - val_accuracy: 0.4981 - val_loss: 0.6931 - learning_rate: 2.5000e-04\n",
      "Epoch 15/100\n",
      "547/547 - 3s - 6ms/step - AUC: 0.5052 - accuracy: 0.5037 - loss: 0.6929 - val_AUC: 0.5006 - val_accuracy: 0.4983 - val_loss: 0.6934 - learning_rate: 2.5000e-04\n",
      "Epoch 16/100\n",
      "547/547 - 3s - 6ms/step - AUC: 0.5019 - accuracy: 0.5045 - loss: 0.6930 - val_AUC: 0.5003 - val_accuracy: 0.4983 - val_loss: 0.6933 - learning_rate: 2.5000e-04\n",
      "Epoch 17/100\n"
     ]
    },
    {
     "name": "stderr",
     "output_type": "stream",
     "text": [
      "WARNING:absl:You are saving your model as an HDF5 file via `model.save()` or `keras.saving.save_model(model)`. This file format is considered legacy. We recommend using instead the native Keras format, e.g. `model.save('my_model.keras')` or `keras.saving.save_model(model, 'my_model.keras')`. \n"
     ]
    },
    {
     "name": "stdout",
     "output_type": "stream",
     "text": [
      "547/547 - 3s - 6ms/step - AUC: 0.5037 - accuracy: 0.5031 - loss: 0.6930 - val_AUC: 0.5050 - val_accuracy: 0.4983 - val_loss: 0.6931 - learning_rate: 2.5000e-04\n",
      "Epoch 18/100\n"
     ]
    },
    {
     "name": "stderr",
     "output_type": "stream",
     "text": [
      "WARNING:absl:You are saving your model as an HDF5 file via `model.save()` or `keras.saving.save_model(model)`. This file format is considered legacy. We recommend using instead the native Keras format, e.g. `model.save('my_model.keras')` or `keras.saving.save_model(model, 'my_model.keras')`. \n"
     ]
    },
    {
     "name": "stdout",
     "output_type": "stream",
     "text": [
      "547/547 - 3s - 6ms/step - AUC: 0.5066 - accuracy: 0.5044 - loss: 0.6929 - val_AUC: 0.5058 - val_accuracy: 0.4985 - val_loss: 0.6929 - learning_rate: 2.5000e-04\n",
      "Epoch 19/100\n",
      "547/547 - 3s - 6ms/step - AUC: 0.5077 - accuracy: 0.5045 - loss: 0.6927 - val_AUC: 0.5036 - val_accuracy: 0.5007 - val_loss: 0.6929 - learning_rate: 2.5000e-04\n",
      "Epoch 20/100\n"
     ]
    },
    {
     "name": "stderr",
     "output_type": "stream",
     "text": [
      "WARNING:absl:You are saving your model as an HDF5 file via `model.save()` or `keras.saving.save_model(model)`. This file format is considered legacy. We recommend using instead the native Keras format, e.g. `model.save('my_model.keras')` or `keras.saving.save_model(model, 'my_model.keras')`. \n"
     ]
    },
    {
     "name": "stdout",
     "output_type": "stream",
     "text": [
      "547/547 - 3s - 6ms/step - AUC: 0.5083 - accuracy: 0.5065 - loss: 0.6929 - val_AUC: 0.5068 - val_accuracy: 0.5019 - val_loss: 0.6929 - learning_rate: 2.5000e-04\n",
      "Epoch 21/100\n",
      "547/547 - 3s - 6ms/step - AUC: 0.5079 - accuracy: 0.5047 - loss: 0.6928 - val_AUC: 0.4990 - val_accuracy: 0.4993 - val_loss: 0.6932 - learning_rate: 2.5000e-04\n",
      "Epoch 22/100\n",
      "547/547 - 3s - 6ms/step - AUC: 0.5089 - accuracy: 0.5084 - loss: 0.6929 - val_AUC: 0.5026 - val_accuracy: 0.5033 - val_loss: 0.6931 - learning_rate: 2.5000e-04\n",
      "Epoch 23/100\n",
      "547/547 - 3s - 6ms/step - AUC: 0.5111 - accuracy: 0.5066 - loss: 0.6928 - val_AUC: 0.5098 - val_accuracy: 0.5000 - val_loss: 0.6929 - learning_rate: 2.5000e-04\n",
      "Epoch 24/100\n",
      "547/547 - 3s - 6ms/step - AUC: 0.5128 - accuracy: 0.5065 - loss: 0.6926 - val_AUC: 0.5063 - val_accuracy: 0.4984 - val_loss: 0.6929 - learning_rate: 1.2500e-04\n",
      "Epoch 25/100\n",
      "547/547 - 3s - 6ms/step - AUC: 0.5080 - accuracy: 0.5045 - loss: 0.6927 - val_AUC: 0.5050 - val_accuracy: 0.4979 - val_loss: 0.6929 - learning_rate: 1.2500e-04\n",
      "Epoch 26/100\n"
     ]
    },
    {
     "name": "stderr",
     "output_type": "stream",
     "text": [
      "WARNING:absl:You are saving your model as an HDF5 file via `model.save()` or `keras.saving.save_model(model)`. This file format is considered legacy. We recommend using instead the native Keras format, e.g. `model.save('my_model.keras')` or `keras.saving.save_model(model, 'my_model.keras')`. \n"
     ]
    },
    {
     "name": "stdout",
     "output_type": "stream",
     "text": [
      "547/547 - 3s - 6ms/step - AUC: 0.5122 - accuracy: 0.5071 - loss: 0.6926 - val_AUC: 0.5088 - val_accuracy: 0.5012 - val_loss: 0.6929 - learning_rate: 1.2500e-04\n",
      "Epoch 27/100\n",
      "547/547 - 3s - 6ms/step - AUC: 0.5107 - accuracy: 0.5077 - loss: 0.6926 - val_AUC: 0.5074 - val_accuracy: 0.4964 - val_loss: 0.6930 - learning_rate: 1.2500e-04\n",
      "Epoch 28/100\n",
      "547/547 - 3s - 6ms/step - AUC: 0.5131 - accuracy: 0.5067 - loss: 0.6923 - val_AUC: 0.5098 - val_accuracy: 0.5028 - val_loss: 0.6929 - learning_rate: 1.2500e-04\n",
      "Epoch 29/100\n",
      "547/547 - 3s - 6ms/step - AUC: 0.5155 - accuracy: 0.5089 - loss: 0.6925 - val_AUC: 0.5065 - val_accuracy: 0.5000 - val_loss: 0.6929 - learning_rate: 6.2500e-05\n",
      "Epoch 30/100\n",
      "547/547 - 3s - 6ms/step - AUC: 0.5107 - accuracy: 0.5097 - loss: 0.6925 - val_AUC: 0.5072 - val_accuracy: 0.4971 - val_loss: 0.6931 - learning_rate: 6.2500e-05\n",
      "Epoch 31/100\n",
      "547/547 - 3s - 6ms/step - AUC: 0.5138 - accuracy: 0.5076 - loss: 0.6924 - val_AUC: 0.5059 - val_accuracy: 0.4977 - val_loss: 0.6929 - learning_rate: 6.2500e-05\n",
      "Epoch 32/100\n",
      "547/547 - 3s - 6ms/step - AUC: 0.5121 - accuracy: 0.5064 - loss: 0.6924 - val_AUC: 0.5063 - val_accuracy: 0.4985 - val_loss: 0.6930 - learning_rate: 6.2500e-05\n",
      "Epoch 33/100\n",
      "547/547 - 3s - 6ms/step - AUC: 0.5142 - accuracy: 0.5075 - loss: 0.6924 - val_AUC: 0.5055 - val_accuracy: 0.4983 - val_loss: 0.6930 - learning_rate: 6.2500e-05\n",
      "Epoch 34/100\n",
      "547/547 - 3s - 6ms/step - AUC: 0.5121 - accuracy: 0.5072 - loss: 0.6925 - val_AUC: 0.5066 - val_accuracy: 0.4993 - val_loss: 0.6930 - learning_rate: 3.1250e-05\n",
      "Epoch 35/100\n",
      "547/547 - 4s - 7ms/step - AUC: 0.5153 - accuracy: 0.5129 - loss: 0.6923 - val_AUC: 0.5040 - val_accuracy: 0.5019 - val_loss: 0.6930 - learning_rate: 3.1250e-05\n",
      "Epoch 36/100\n",
      "547/547 - 3s - 6ms/step - AUC: 0.5131 - accuracy: 0.5069 - loss: 0.6922 - val_AUC: 0.5046 - val_accuracy: 0.5001 - val_loss: 0.6930 - learning_rate: 3.1250e-05\n"
     ]
    }
   ],
   "source": [
    "# Callbacks\n",
    "callbacks = [\n",
    "    EarlyStopping(monitor='val_loss', patience=10, restore_best_weights=True),\n",
    "    ReduceLROnPlateau(monitor='val_loss', factor=0.5, patience=5, min_lr=1e-6),\n",
    "    ModelCheckpoint('best_lstm_model.h5', monitor='val_loss', save_best_only=True)\n",
    "]\n",
    "\n",
    "# Train\n",
    "history = model.fit(\n",
    "    X_train, y_train,\n",
    "    validation_data=(X_val, y_val),\n",
    "    epochs=100,\n",
    "    batch_size=64,\n",
    "    callbacks=callbacks,\n",
    "    verbose=2\n",
    ")"
   ]
  },
  {
   "cell_type": "markdown",
   "metadata": {
    "cellUniqueIdByVincent": "75c31"
   },
   "source": [
    "# CNN with LSTM"
   ]
  },
  {
   "cell_type": "code",
   "execution_count": 12,
   "metadata": {
    "cellUniqueIdByVincent": "f3ed7"
   },
   "outputs": [
    {
     "data": {
      "text/html": [
       "<pre style=\"white-space:pre;overflow-x:auto;line-height:normal;font-family:Menlo,'DejaVu Sans Mono',consolas,'Courier New',monospace\"><span style=\"font-weight: bold\">Model: \"functional_29\"</span>\n",
       "</pre>\n"
      ],
      "text/plain": [
       "\u001b[1mModel: \"functional_29\"\u001b[0m\n"
      ]
     },
     "metadata": {},
     "output_type": "display_data"
    },
    {
     "data": {
      "text/html": [
       "<pre style=\"white-space:pre;overflow-x:auto;line-height:normal;font-family:Menlo,'DejaVu Sans Mono',consolas,'Courier New',monospace\">┏━━━━━━━━━━━━━━━━━━━━━━━━━━━━━━━━━┳━━━━━━━━━━━━━━━━━━━━━━━━┳━━━━━━━━━━━━━━━┓\n",
       "┃<span style=\"font-weight: bold\"> Layer (type)                    </span>┃<span style=\"font-weight: bold\"> Output Shape           </span>┃<span style=\"font-weight: bold\">       Param # </span>┃\n",
       "┡━━━━━━━━━━━━━━━━━━━━━━━━━━━━━━━━━╇━━━━━━━━━━━━━━━━━━━━━━━━╇━━━━━━━━━━━━━━━┩\n",
       "│ input_layer_5 (<span style=\"color: #0087ff; text-decoration-color: #0087ff\">InputLayer</span>)      │ (<span style=\"color: #00d7ff; text-decoration-color: #00d7ff\">None</span>, <span style=\"color: #00af00; text-decoration-color: #00af00\">10</span>, <span style=\"color: #00af00; text-decoration-color: #00af00\">9</span>)          │             <span style=\"color: #00af00; text-decoration-color: #00af00\">0</span> │\n",
       "├─────────────────────────────────┼────────────────────────┼───────────────┤\n",
       "│ conv1d_2 (<span style=\"color: #0087ff; text-decoration-color: #0087ff\">Conv1D</span>)               │ (<span style=\"color: #00d7ff; text-decoration-color: #00d7ff\">None</span>, <span style=\"color: #00af00; text-decoration-color: #00af00\">10</span>, <span style=\"color: #00af00; text-decoration-color: #00af00\">64</span>)         │         <span style=\"color: #00af00; text-decoration-color: #00af00\">1,792</span> │\n",
       "├─────────────────────────────────┼────────────────────────┼───────────────┤\n",
       "│ batch_normalization_11          │ (<span style=\"color: #00d7ff; text-decoration-color: #00d7ff\">None</span>, <span style=\"color: #00af00; text-decoration-color: #00af00\">10</span>, <span style=\"color: #00af00; text-decoration-color: #00af00\">64</span>)         │           <span style=\"color: #00af00; text-decoration-color: #00af00\">256</span> │\n",
       "│ (<span style=\"color: #0087ff; text-decoration-color: #0087ff\">BatchNormalization</span>)            │                        │               │\n",
       "├─────────────────────────────────┼────────────────────────┼───────────────┤\n",
       "│ max_pooling1d_2 (<span style=\"color: #0087ff; text-decoration-color: #0087ff\">MaxPooling1D</span>)  │ (<span style=\"color: #00d7ff; text-decoration-color: #00d7ff\">None</span>, <span style=\"color: #00af00; text-decoration-color: #00af00\">5</span>, <span style=\"color: #00af00; text-decoration-color: #00af00\">64</span>)          │             <span style=\"color: #00af00; text-decoration-color: #00af00\">0</span> │\n",
       "├─────────────────────────────────┼────────────────────────┼───────────────┤\n",
       "│ dropout_16 (<span style=\"color: #0087ff; text-decoration-color: #0087ff\">Dropout</span>)            │ (<span style=\"color: #00d7ff; text-decoration-color: #00d7ff\">None</span>, <span style=\"color: #00af00; text-decoration-color: #00af00\">5</span>, <span style=\"color: #00af00; text-decoration-color: #00af00\">64</span>)          │             <span style=\"color: #00af00; text-decoration-color: #00af00\">0</span> │\n",
       "├─────────────────────────────────┼────────────────────────┼───────────────┤\n",
       "│ conv1d_3 (<span style=\"color: #0087ff; text-decoration-color: #0087ff\">Conv1D</span>)               │ (<span style=\"color: #00d7ff; text-decoration-color: #00d7ff\">None</span>, <span style=\"color: #00af00; text-decoration-color: #00af00\">5</span>, <span style=\"color: #00af00; text-decoration-color: #00af00\">32</span>)          │         <span style=\"color: #00af00; text-decoration-color: #00af00\">6,176</span> │\n",
       "├─────────────────────────────────┼────────────────────────┼───────────────┤\n",
       "│ batch_normalization_12          │ (<span style=\"color: #00d7ff; text-decoration-color: #00d7ff\">None</span>, <span style=\"color: #00af00; text-decoration-color: #00af00\">5</span>, <span style=\"color: #00af00; text-decoration-color: #00af00\">32</span>)          │           <span style=\"color: #00af00; text-decoration-color: #00af00\">128</span> │\n",
       "│ (<span style=\"color: #0087ff; text-decoration-color: #0087ff\">BatchNormalization</span>)            │                        │               │\n",
       "├─────────────────────────────────┼────────────────────────┼───────────────┤\n",
       "│ max_pooling1d_3 (<span style=\"color: #0087ff; text-decoration-color: #0087ff\">MaxPooling1D</span>)  │ (<span style=\"color: #00d7ff; text-decoration-color: #00d7ff\">None</span>, <span style=\"color: #00af00; text-decoration-color: #00af00\">2</span>, <span style=\"color: #00af00; text-decoration-color: #00af00\">32</span>)          │             <span style=\"color: #00af00; text-decoration-color: #00af00\">0</span> │\n",
       "├─────────────────────────────────┼────────────────────────┼───────────────┤\n",
       "│ dropout_17 (<span style=\"color: #0087ff; text-decoration-color: #0087ff\">Dropout</span>)            │ (<span style=\"color: #00d7ff; text-decoration-color: #00d7ff\">None</span>, <span style=\"color: #00af00; text-decoration-color: #00af00\">2</span>, <span style=\"color: #00af00; text-decoration-color: #00af00\">32</span>)          │             <span style=\"color: #00af00; text-decoration-color: #00af00\">0</span> │\n",
       "├─────────────────────────────────┼────────────────────────┼───────────────┤\n",
       "│ lstm_9 (<span style=\"color: #0087ff; text-decoration-color: #0087ff\">LSTM</span>)                   │ (<span style=\"color: #00d7ff; text-decoration-color: #00d7ff\">None</span>, <span style=\"color: #00af00; text-decoration-color: #00af00\">32</span>)             │         <span style=\"color: #00af00; text-decoration-color: #00af00\">8,320</span> │\n",
       "├─────────────────────────────────┼────────────────────────┼───────────────┤\n",
       "│ batch_normalization_13          │ (<span style=\"color: #00d7ff; text-decoration-color: #00d7ff\">None</span>, <span style=\"color: #00af00; text-decoration-color: #00af00\">32</span>)             │           <span style=\"color: #00af00; text-decoration-color: #00af00\">128</span> │\n",
       "│ (<span style=\"color: #0087ff; text-decoration-color: #0087ff\">BatchNormalization</span>)            │                        │               │\n",
       "├─────────────────────────────────┼────────────────────────┼───────────────┤\n",
       "│ dropout_18 (<span style=\"color: #0087ff; text-decoration-color: #0087ff\">Dropout</span>)            │ (<span style=\"color: #00d7ff; text-decoration-color: #00d7ff\">None</span>, <span style=\"color: #00af00; text-decoration-color: #00af00\">32</span>)             │             <span style=\"color: #00af00; text-decoration-color: #00af00\">0</span> │\n",
       "├─────────────────────────────────┼────────────────────────┼───────────────┤\n",
       "│ dense_11 (<span style=\"color: #0087ff; text-decoration-color: #0087ff\">Dense</span>)                │ (<span style=\"color: #00d7ff; text-decoration-color: #00d7ff\">None</span>, <span style=\"color: #00af00; text-decoration-color: #00af00\">16</span>)             │           <span style=\"color: #00af00; text-decoration-color: #00af00\">528</span> │\n",
       "├─────────────────────────────────┼────────────────────────┼───────────────┤\n",
       "│ dropout_19 (<span style=\"color: #0087ff; text-decoration-color: #0087ff\">Dropout</span>)            │ (<span style=\"color: #00d7ff; text-decoration-color: #00d7ff\">None</span>, <span style=\"color: #00af00; text-decoration-color: #00af00\">16</span>)             │             <span style=\"color: #00af00; text-decoration-color: #00af00\">0</span> │\n",
       "├─────────────────────────────────┼────────────────────────┼───────────────┤\n",
       "│ dense_12 (<span style=\"color: #0087ff; text-decoration-color: #0087ff\">Dense</span>)                │ (<span style=\"color: #00d7ff; text-decoration-color: #00d7ff\">None</span>, <span style=\"color: #00af00; text-decoration-color: #00af00\">1</span>)              │            <span style=\"color: #00af00; text-decoration-color: #00af00\">17</span> │\n",
       "└─────────────────────────────────┴────────────────────────┴───────────────┘\n",
       "</pre>\n"
      ],
      "text/plain": [
       "┏━━━━━━━━━━━━━━━━━━━━━━━━━━━━━━━━━┳━━━━━━━━━━━━━━━━━━━━━━━━┳━━━━━━━━━━━━━━━┓\n",
       "┃\u001b[1m \u001b[0m\u001b[1mLayer (type)                   \u001b[0m\u001b[1m \u001b[0m┃\u001b[1m \u001b[0m\u001b[1mOutput Shape          \u001b[0m\u001b[1m \u001b[0m┃\u001b[1m \u001b[0m\u001b[1m      Param #\u001b[0m\u001b[1m \u001b[0m┃\n",
       "┡━━━━━━━━━━━━━━━━━━━━━━━━━━━━━━━━━╇━━━━━━━━━━━━━━━━━━━━━━━━╇━━━━━━━━━━━━━━━┩\n",
       "│ input_layer_5 (\u001b[38;5;33mInputLayer\u001b[0m)      │ (\u001b[38;5;45mNone\u001b[0m, \u001b[38;5;34m10\u001b[0m, \u001b[38;5;34m9\u001b[0m)          │             \u001b[38;5;34m0\u001b[0m │\n",
       "├─────────────────────────────────┼────────────────────────┼───────────────┤\n",
       "│ conv1d_2 (\u001b[38;5;33mConv1D\u001b[0m)               │ (\u001b[38;5;45mNone\u001b[0m, \u001b[38;5;34m10\u001b[0m, \u001b[38;5;34m64\u001b[0m)         │         \u001b[38;5;34m1,792\u001b[0m │\n",
       "├─────────────────────────────────┼────────────────────────┼───────────────┤\n",
       "│ batch_normalization_11          │ (\u001b[38;5;45mNone\u001b[0m, \u001b[38;5;34m10\u001b[0m, \u001b[38;5;34m64\u001b[0m)         │           \u001b[38;5;34m256\u001b[0m │\n",
       "│ (\u001b[38;5;33mBatchNormalization\u001b[0m)            │                        │               │\n",
       "├─────────────────────────────────┼────────────────────────┼───────────────┤\n",
       "│ max_pooling1d_2 (\u001b[38;5;33mMaxPooling1D\u001b[0m)  │ (\u001b[38;5;45mNone\u001b[0m, \u001b[38;5;34m5\u001b[0m, \u001b[38;5;34m64\u001b[0m)          │             \u001b[38;5;34m0\u001b[0m │\n",
       "├─────────────────────────────────┼────────────────────────┼───────────────┤\n",
       "│ dropout_16 (\u001b[38;5;33mDropout\u001b[0m)            │ (\u001b[38;5;45mNone\u001b[0m, \u001b[38;5;34m5\u001b[0m, \u001b[38;5;34m64\u001b[0m)          │             \u001b[38;5;34m0\u001b[0m │\n",
       "├─────────────────────────────────┼────────────────────────┼───────────────┤\n",
       "│ conv1d_3 (\u001b[38;5;33mConv1D\u001b[0m)               │ (\u001b[38;5;45mNone\u001b[0m, \u001b[38;5;34m5\u001b[0m, \u001b[38;5;34m32\u001b[0m)          │         \u001b[38;5;34m6,176\u001b[0m │\n",
       "├─────────────────────────────────┼────────────────────────┼───────────────┤\n",
       "│ batch_normalization_12          │ (\u001b[38;5;45mNone\u001b[0m, \u001b[38;5;34m5\u001b[0m, \u001b[38;5;34m32\u001b[0m)          │           \u001b[38;5;34m128\u001b[0m │\n",
       "│ (\u001b[38;5;33mBatchNormalization\u001b[0m)            │                        │               │\n",
       "├─────────────────────────────────┼────────────────────────┼───────────────┤\n",
       "│ max_pooling1d_3 (\u001b[38;5;33mMaxPooling1D\u001b[0m)  │ (\u001b[38;5;45mNone\u001b[0m, \u001b[38;5;34m2\u001b[0m, \u001b[38;5;34m32\u001b[0m)          │             \u001b[38;5;34m0\u001b[0m │\n",
       "├─────────────────────────────────┼────────────────────────┼───────────────┤\n",
       "│ dropout_17 (\u001b[38;5;33mDropout\u001b[0m)            │ (\u001b[38;5;45mNone\u001b[0m, \u001b[38;5;34m2\u001b[0m, \u001b[38;5;34m32\u001b[0m)          │             \u001b[38;5;34m0\u001b[0m │\n",
       "├─────────────────────────────────┼────────────────────────┼───────────────┤\n",
       "│ lstm_9 (\u001b[38;5;33mLSTM\u001b[0m)                   │ (\u001b[38;5;45mNone\u001b[0m, \u001b[38;5;34m32\u001b[0m)             │         \u001b[38;5;34m8,320\u001b[0m │\n",
       "├─────────────────────────────────┼────────────────────────┼───────────────┤\n",
       "│ batch_normalization_13          │ (\u001b[38;5;45mNone\u001b[0m, \u001b[38;5;34m32\u001b[0m)             │           \u001b[38;5;34m128\u001b[0m │\n",
       "│ (\u001b[38;5;33mBatchNormalization\u001b[0m)            │                        │               │\n",
       "├─────────────────────────────────┼────────────────────────┼───────────────┤\n",
       "│ dropout_18 (\u001b[38;5;33mDropout\u001b[0m)            │ (\u001b[38;5;45mNone\u001b[0m, \u001b[38;5;34m32\u001b[0m)             │             \u001b[38;5;34m0\u001b[0m │\n",
       "├─────────────────────────────────┼────────────────────────┼───────────────┤\n",
       "│ dense_11 (\u001b[38;5;33mDense\u001b[0m)                │ (\u001b[38;5;45mNone\u001b[0m, \u001b[38;5;34m16\u001b[0m)             │           \u001b[38;5;34m528\u001b[0m │\n",
       "├─────────────────────────────────┼────────────────────────┼───────────────┤\n",
       "│ dropout_19 (\u001b[38;5;33mDropout\u001b[0m)            │ (\u001b[38;5;45mNone\u001b[0m, \u001b[38;5;34m16\u001b[0m)             │             \u001b[38;5;34m0\u001b[0m │\n",
       "├─────────────────────────────────┼────────────────────────┼───────────────┤\n",
       "│ dense_12 (\u001b[38;5;33mDense\u001b[0m)                │ (\u001b[38;5;45mNone\u001b[0m, \u001b[38;5;34m1\u001b[0m)              │            \u001b[38;5;34m17\u001b[0m │\n",
       "└─────────────────────────────────┴────────────────────────┴───────────────┘\n"
      ]
     },
     "metadata": {},
     "output_type": "display_data"
    },
    {
     "data": {
      "text/html": [
       "<pre style=\"white-space:pre;overflow-x:auto;line-height:normal;font-family:Menlo,'DejaVu Sans Mono',consolas,'Courier New',monospace\"><span style=\"font-weight: bold\"> Total params: </span><span style=\"color: #00af00; text-decoration-color: #00af00\">17,345</span> (67.75 KB)\n",
       "</pre>\n"
      ],
      "text/plain": [
       "\u001b[1m Total params: \u001b[0m\u001b[38;5;34m17,345\u001b[0m (67.75 KB)\n"
      ]
     },
     "metadata": {},
     "output_type": "display_data"
    },
    {
     "data": {
      "text/html": [
       "<pre style=\"white-space:pre;overflow-x:auto;line-height:normal;font-family:Menlo,'DejaVu Sans Mono',consolas,'Courier New',monospace\"><span style=\"font-weight: bold\"> Trainable params: </span><span style=\"color: #00af00; text-decoration-color: #00af00\">17,089</span> (66.75 KB)\n",
       "</pre>\n"
      ],
      "text/plain": [
       "\u001b[1m Trainable params: \u001b[0m\u001b[38;5;34m17,089\u001b[0m (66.75 KB)\n"
      ]
     },
     "metadata": {},
     "output_type": "display_data"
    },
    {
     "data": {
      "text/html": [
       "<pre style=\"white-space:pre;overflow-x:auto;line-height:normal;font-family:Menlo,'DejaVu Sans Mono',consolas,'Courier New',monospace\"><span style=\"font-weight: bold\"> Non-trainable params: </span><span style=\"color: #00af00; text-decoration-color: #00af00\">256</span> (1.00 KB)\n",
       "</pre>\n"
      ],
      "text/plain": [
       "\u001b[1m Non-trainable params: \u001b[0m\u001b[38;5;34m256\u001b[0m (1.00 KB)\n"
      ]
     },
     "metadata": {},
     "output_type": "display_data"
    }
   ],
   "source": [
    "from tensorflow.keras.layers import Conv1D, MaxPooling1D\n",
    "\n",
    "def create_cnn_lstm(timesteps, n_features):\n",
    "    inp = Input(shape=(timesteps, n_features))\n",
    "    \n",
    "    # Convolutional front‑end\n",
    "    x = Conv1D(64, kernel_size=3, activation='relu', padding='same')(inp)\n",
    "    x = BatchNormalization()(x)\n",
    "    x = MaxPooling1D(pool_size=2)(x)\n",
    "    x = Dropout(0.2)(x)\n",
    "    \n",
    "    x = Conv1D(32, kernel_size=3, activation='relu', padding='same')(x)\n",
    "    x = BatchNormalization()(x)\n",
    "    x = MaxPooling1D(pool_size=2)(x)\n",
    "    x = Dropout(0.2)(x)\n",
    "    \n",
    "    # LSTM back‑end\n",
    "    x = LSTM(32)(x)\n",
    "    x = BatchNormalization()(x)\n",
    "    x = Dropout(0.2)(x)\n",
    "    \n",
    "    x = Dense(16, activation='relu')(x)\n",
    "    x = Dropout(0.2)(x)\n",
    "    out = Dense(1, activation='sigmoid')(x)\n",
    "    \n",
    "    model = Model(inp, out)\n",
    "    model.compile(\n",
    "        optimizer='adam',\n",
    "        loss='binary_crossentropy',\n",
    "        metrics=['AUC','accuracy']\n",
    "    )\n",
    "    return model\n",
    "\n",
    "model_cnn_lstm = create_cnn_lstm(X_train.shape[1], X_train.shape[2])\n",
    "model_cnn_lstm.summary()"
   ]
  },
  {
   "cell_type": "code",
   "execution_count": 13,
   "metadata": {
    "cellUniqueIdByVincent": "28b9d"
   },
   "outputs": [
    {
     "name": "stdout",
     "output_type": "stream",
     "text": [
      "Epoch 1/100\n"
     ]
    },
    {
     "name": "stderr",
     "output_type": "stream",
     "text": [
      "WARNING:absl:You are saving your model as an HDF5 file via `model.save()` or `keras.saving.save_model(model)`. This file format is considered legacy. We recommend using instead the native Keras format, e.g. `model.save('my_model.keras')` or `keras.saving.save_model(model, 'my_model.keras')`. \n"
     ]
    },
    {
     "name": "stdout",
     "output_type": "stream",
     "text": [
      "547/547 - 4s - 6ms/step - AUC: 0.5104 - accuracy: 0.5056 - loss: 0.6925 - val_AUC: 0.5072 - val_accuracy: 0.5011 - val_loss: 0.6929 - learning_rate: 3.1250e-05\n",
      "Epoch 2/100\n",
      "547/547 - 3s - 6ms/step - AUC: 0.5106 - accuracy: 0.5051 - loss: 0.6926 - val_AUC: 0.5096 - val_accuracy: 0.5001 - val_loss: 0.6930 - learning_rate: 3.1250e-05\n",
      "Epoch 3/100\n"
     ]
    },
    {
     "name": "stderr",
     "output_type": "stream",
     "text": [
      "WARNING:absl:You are saving your model as an HDF5 file via `model.save()` or `keras.saving.save_model(model)`. This file format is considered legacy. We recommend using instead the native Keras format, e.g. `model.save('my_model.keras')` or `keras.saving.save_model(model, 'my_model.keras')`. \n"
     ]
    },
    {
     "name": "stdout",
     "output_type": "stream",
     "text": [
      "547/547 - 4s - 7ms/step - AUC: 0.5139 - accuracy: 0.5102 - loss: 0.6926 - val_AUC: 0.5098 - val_accuracy: 0.4975 - val_loss: 0.6929 - learning_rate: 3.1250e-05\n",
      "Epoch 4/100\n"
     ]
    },
    {
     "name": "stderr",
     "output_type": "stream",
     "text": [
      "WARNING:absl:You are saving your model as an HDF5 file via `model.save()` or `keras.saving.save_model(model)`. This file format is considered legacy. We recommend using instead the native Keras format, e.g. `model.save('my_model.keras')` or `keras.saving.save_model(model, 'my_model.keras')`. \n"
     ]
    },
    {
     "name": "stdout",
     "output_type": "stream",
     "text": [
      "547/547 - 3s - 6ms/step - AUC: 0.5148 - accuracy: 0.5083 - loss: 0.6924 - val_AUC: 0.5107 - val_accuracy: 0.4977 - val_loss: 0.6929 - learning_rate: 3.1250e-05\n",
      "Epoch 5/100\n",
      "547/547 - 4s - 7ms/step - AUC: 0.5104 - accuracy: 0.5067 - loss: 0.6927 - val_AUC: 0.5123 - val_accuracy: 0.4980 - val_loss: 0.6929 - learning_rate: 3.1250e-05\n",
      "Epoch 6/100\n"
     ]
    },
    {
     "name": "stderr",
     "output_type": "stream",
     "text": [
      "WARNING:absl:You are saving your model as an HDF5 file via `model.save()` or `keras.saving.save_model(model)`. This file format is considered legacy. We recommend using instead the native Keras format, e.g. `model.save('my_model.keras')` or `keras.saving.save_model(model, 'my_model.keras')`. \n"
     ]
    },
    {
     "name": "stdout",
     "output_type": "stream",
     "text": [
      "547/547 - 3s - 6ms/step - AUC: 0.5114 - accuracy: 0.5060 - loss: 0.6925 - val_AUC: 0.5097 - val_accuracy: 0.5000 - val_loss: 0.6929 - learning_rate: 3.1250e-05\n",
      "Epoch 7/100\n",
      "547/547 - 3s - 6ms/step - AUC: 0.5115 - accuracy: 0.5043 - loss: 0.6924 - val_AUC: 0.5090 - val_accuracy: 0.4983 - val_loss: 0.6929 - learning_rate: 1.5625e-05\n",
      "Epoch 8/100\n",
      "547/547 - 3s - 6ms/step - AUC: 0.5135 - accuracy: 0.5069 - loss: 0.6925 - val_AUC: 0.5087 - val_accuracy: 0.4989 - val_loss: 0.6929 - learning_rate: 1.5625e-05\n",
      "Epoch 9/100\n"
     ]
    },
    {
     "name": "stderr",
     "output_type": "stream",
     "text": [
      "WARNING:absl:You are saving your model as an HDF5 file via `model.save()` or `keras.saving.save_model(model)`. This file format is considered legacy. We recommend using instead the native Keras format, e.g. `model.save('my_model.keras')` or `keras.saving.save_model(model, 'my_model.keras')`. \n"
     ]
    },
    {
     "name": "stdout",
     "output_type": "stream",
     "text": [
      "547/547 - 3s - 6ms/step - AUC: 0.5149 - accuracy: 0.5087 - loss: 0.6924 - val_AUC: 0.5078 - val_accuracy: 0.4996 - val_loss: 0.6929 - learning_rate: 1.5625e-05\n",
      "Epoch 10/100\n",
      "547/547 - 3s - 6ms/step - AUC: 0.5112 - accuracy: 0.5075 - loss: 0.6925 - val_AUC: 0.5082 - val_accuracy: 0.4996 - val_loss: 0.6929 - learning_rate: 1.5625e-05\n",
      "Epoch 11/100\n",
      "547/547 - 3s - 6ms/step - AUC: 0.5135 - accuracy: 0.5088 - loss: 0.6924 - val_AUC: 0.5082 - val_accuracy: 0.4987 - val_loss: 0.6929 - learning_rate: 1.5625e-05\n",
      "Epoch 12/100\n",
      "547/547 - 3s - 6ms/step - AUC: 0.5136 - accuracy: 0.5087 - loss: 0.6925 - val_AUC: 0.5098 - val_accuracy: 0.4987 - val_loss: 0.6929 - learning_rate: 7.8125e-06\n",
      "Epoch 13/100\n",
      "547/547 - 3s - 6ms/step - AUC: 0.5151 - accuracy: 0.5098 - loss: 0.6924 - val_AUC: 0.5087 - val_accuracy: 0.4983 - val_loss: 0.6929 - learning_rate: 7.8125e-06\n",
      "Epoch 14/100\n",
      "547/547 - 3s - 6ms/step - AUC: 0.5130 - accuracy: 0.5083 - loss: 0.6923 - val_AUC: 0.5089 - val_accuracy: 0.4993 - val_loss: 0.6929 - learning_rate: 7.8125e-06\n",
      "Epoch 15/100\n",
      "547/547 - 3s - 6ms/step - AUC: 0.5147 - accuracy: 0.5057 - loss: 0.6925 - val_AUC: 0.5081 - val_accuracy: 0.5001 - val_loss: 0.6929 - learning_rate: 7.8125e-06\n",
      "Epoch 16/100\n",
      "547/547 - 3s - 6ms/step - AUC: 0.5182 - accuracy: 0.5101 - loss: 0.6923 - val_AUC: 0.5078 - val_accuracy: 0.5003 - val_loss: 0.6929 - learning_rate: 7.8125e-06\n",
      "Epoch 17/100\n",
      "547/547 - 3s - 6ms/step - AUC: 0.5154 - accuracy: 0.5113 - loss: 0.6922 - val_AUC: 0.5089 - val_accuracy: 0.4995 - val_loss: 0.6929 - learning_rate: 3.9063e-06\n",
      "Epoch 18/100\n",
      "547/547 - 3s - 6ms/step - AUC: 0.5134 - accuracy: 0.5078 - loss: 0.6924 - val_AUC: 0.5105 - val_accuracy: 0.4987 - val_loss: 0.6929 - learning_rate: 3.9063e-06\n",
      "Epoch 19/100\n",
      "547/547 - 3s - 6ms/step - AUC: 0.5158 - accuracy: 0.5109 - loss: 0.6922 - val_AUC: 0.5079 - val_accuracy: 0.4988 - val_loss: 0.6929 - learning_rate: 3.9063e-06\n"
     ]
    }
   ],
   "source": [
    "# Callbacks\n",
    "callbacks = [\n",
    "    EarlyStopping(monitor='val_loss', patience=10, restore_best_weights=True),\n",
    "    ReduceLROnPlateau(monitor='val_loss', factor=0.5, patience=5, min_lr=1e-6),\n",
    "    ModelCheckpoint('best_lstm_model.h5', monitor='val_loss', save_best_only=True)\n",
    "]\n",
    "\n",
    "# Train\n",
    "history = model.fit(\n",
    "    X_train, y_train,\n",
    "    validation_data=(X_val, y_val),\n",
    "    epochs=100,\n",
    "    batch_size=64,\n",
    "    callbacks=callbacks,\n",
    "    verbose=2\n",
    ")"
   ]
  },
  {
   "cell_type": "markdown",
   "metadata": {
    "cellUniqueIdByVincent": "9a606"
   },
   "source": [
    "# TCN"
   ]
  },
  {
   "cell_type": "code",
   "execution_count": 17,
   "metadata": {
    "cellUniqueIdByVincent": "fc3b2"
   },
   "outputs": [
    {
     "data": {
      "text/html": [
       "<pre style=\"white-space:pre;overflow-x:auto;line-height:normal;font-family:Menlo,'DejaVu Sans Mono',consolas,'Courier New',monospace\"><span style=\"font-weight: bold\">Model: \"functional_30\"</span>\n",
       "</pre>\n"
      ],
      "text/plain": [
       "\u001b[1mModel: \"functional_30\"\u001b[0m\n"
      ]
     },
     "metadata": {},
     "output_type": "display_data"
    },
    {
     "data": {
      "text/html": [
       "<pre style=\"white-space:pre;overflow-x:auto;line-height:normal;font-family:Menlo,'DejaVu Sans Mono',consolas,'Courier New',monospace\">┏━━━━━━━━━━━━━━━━━━━━━━━━━━━━━━━━━┳━━━━━━━━━━━━━━━━━━━━━━━━┳━━━━━━━━━━━━━━━┓\n",
       "┃<span style=\"font-weight: bold\"> Layer (type)                    </span>┃<span style=\"font-weight: bold\"> Output Shape           </span>┃<span style=\"font-weight: bold\">       Param # </span>┃\n",
       "┡━━━━━━━━━━━━━━━━━━━━━━━━━━━━━━━━━╇━━━━━━━━━━━━━━━━━━━━━━━━╇━━━━━━━━━━━━━━━┩\n",
       "│ input_layer_6 (<span style=\"color: #0087ff; text-decoration-color: #0087ff\">InputLayer</span>)      │ (<span style=\"color: #00d7ff; text-decoration-color: #00d7ff\">None</span>, <span style=\"color: #00af00; text-decoration-color: #00af00\">10</span>, <span style=\"color: #00af00; text-decoration-color: #00af00\">9</span>)          │             <span style=\"color: #00af00; text-decoration-color: #00af00\">0</span> │\n",
       "├─────────────────────────────────┼────────────────────────┼───────────────┤\n",
       "│ tcn (<span style=\"color: #0087ff; text-decoration-color: #0087ff\">TCN</span>)                       │ (<span style=\"color: #00d7ff; text-decoration-color: #00d7ff\">None</span>, <span style=\"color: #00af00; text-decoration-color: #00af00\">64</span>)             │        <span style=\"color: #00af00; text-decoration-color: #00af00\">88,896</span> │\n",
       "├─────────────────────────────────┼────────────────────────┼───────────────┤\n",
       "│ dropout_20 (<span style=\"color: #0087ff; text-decoration-color: #0087ff\">Dropout</span>)            │ (<span style=\"color: #00d7ff; text-decoration-color: #00d7ff\">None</span>, <span style=\"color: #00af00; text-decoration-color: #00af00\">64</span>)             │             <span style=\"color: #00af00; text-decoration-color: #00af00\">0</span> │\n",
       "├─────────────────────────────────┼────────────────────────┼───────────────┤\n",
       "│ dense_13 (<span style=\"color: #0087ff; text-decoration-color: #0087ff\">Dense</span>)                │ (<span style=\"color: #00d7ff; text-decoration-color: #00d7ff\">None</span>, <span style=\"color: #00af00; text-decoration-color: #00af00\">16</span>)             │         <span style=\"color: #00af00; text-decoration-color: #00af00\">1,040</span> │\n",
       "├─────────────────────────────────┼────────────────────────┼───────────────┤\n",
       "│ dropout_21 (<span style=\"color: #0087ff; text-decoration-color: #0087ff\">Dropout</span>)            │ (<span style=\"color: #00d7ff; text-decoration-color: #00d7ff\">None</span>, <span style=\"color: #00af00; text-decoration-color: #00af00\">16</span>)             │             <span style=\"color: #00af00; text-decoration-color: #00af00\">0</span> │\n",
       "├─────────────────────────────────┼────────────────────────┼───────────────┤\n",
       "│ dense_14 (<span style=\"color: #0087ff; text-decoration-color: #0087ff\">Dense</span>)                │ (<span style=\"color: #00d7ff; text-decoration-color: #00d7ff\">None</span>, <span style=\"color: #00af00; text-decoration-color: #00af00\">1</span>)              │            <span style=\"color: #00af00; text-decoration-color: #00af00\">17</span> │\n",
       "└─────────────────────────────────┴────────────────────────┴───────────────┘\n",
       "</pre>\n"
      ],
      "text/plain": [
       "┏━━━━━━━━━━━━━━━━━━━━━━━━━━━━━━━━━┳━━━━━━━━━━━━━━━━━━━━━━━━┳━━━━━━━━━━━━━━━┓\n",
       "┃\u001b[1m \u001b[0m\u001b[1mLayer (type)                   \u001b[0m\u001b[1m \u001b[0m┃\u001b[1m \u001b[0m\u001b[1mOutput Shape          \u001b[0m\u001b[1m \u001b[0m┃\u001b[1m \u001b[0m\u001b[1m      Param #\u001b[0m\u001b[1m \u001b[0m┃\n",
       "┡━━━━━━━━━━━━━━━━━━━━━━━━━━━━━━━━━╇━━━━━━━━━━━━━━━━━━━━━━━━╇━━━━━━━━━━━━━━━┩\n",
       "│ input_layer_6 (\u001b[38;5;33mInputLayer\u001b[0m)      │ (\u001b[38;5;45mNone\u001b[0m, \u001b[38;5;34m10\u001b[0m, \u001b[38;5;34m9\u001b[0m)          │             \u001b[38;5;34m0\u001b[0m │\n",
       "├─────────────────────────────────┼────────────────────────┼───────────────┤\n",
       "│ tcn (\u001b[38;5;33mTCN\u001b[0m)                       │ (\u001b[38;5;45mNone\u001b[0m, \u001b[38;5;34m64\u001b[0m)             │        \u001b[38;5;34m88,896\u001b[0m │\n",
       "├─────────────────────────────────┼────────────────────────┼───────────────┤\n",
       "│ dropout_20 (\u001b[38;5;33mDropout\u001b[0m)            │ (\u001b[38;5;45mNone\u001b[0m, \u001b[38;5;34m64\u001b[0m)             │             \u001b[38;5;34m0\u001b[0m │\n",
       "├─────────────────────────────────┼────────────────────────┼───────────────┤\n",
       "│ dense_13 (\u001b[38;5;33mDense\u001b[0m)                │ (\u001b[38;5;45mNone\u001b[0m, \u001b[38;5;34m16\u001b[0m)             │         \u001b[38;5;34m1,040\u001b[0m │\n",
       "├─────────────────────────────────┼────────────────────────┼───────────────┤\n",
       "│ dropout_21 (\u001b[38;5;33mDropout\u001b[0m)            │ (\u001b[38;5;45mNone\u001b[0m, \u001b[38;5;34m16\u001b[0m)             │             \u001b[38;5;34m0\u001b[0m │\n",
       "├─────────────────────────────────┼────────────────────────┼───────────────┤\n",
       "│ dense_14 (\u001b[38;5;33mDense\u001b[0m)                │ (\u001b[38;5;45mNone\u001b[0m, \u001b[38;5;34m1\u001b[0m)              │            \u001b[38;5;34m17\u001b[0m │\n",
       "└─────────────────────────────────┴────────────────────────┴───────────────┘\n"
      ]
     },
     "metadata": {},
     "output_type": "display_data"
    },
    {
     "data": {
      "text/html": [
       "<pre style=\"white-space:pre;overflow-x:auto;line-height:normal;font-family:Menlo,'DejaVu Sans Mono',consolas,'Courier New',monospace\"><span style=\"font-weight: bold\"> Total params: </span><span style=\"color: #00af00; text-decoration-color: #00af00\">89,953</span> (351.38 KB)\n",
       "</pre>\n"
      ],
      "text/plain": [
       "\u001b[1m Total params: \u001b[0m\u001b[38;5;34m89,953\u001b[0m (351.38 KB)\n"
      ]
     },
     "metadata": {},
     "output_type": "display_data"
    },
    {
     "data": {
      "text/html": [
       "<pre style=\"white-space:pre;overflow-x:auto;line-height:normal;font-family:Menlo,'DejaVu Sans Mono',consolas,'Courier New',monospace\"><span style=\"font-weight: bold\"> Trainable params: </span><span style=\"color: #00af00; text-decoration-color: #00af00\">89,953</span> (351.38 KB)\n",
       "</pre>\n"
      ],
      "text/plain": [
       "\u001b[1m Trainable params: \u001b[0m\u001b[38;5;34m89,953\u001b[0m (351.38 KB)\n"
      ]
     },
     "metadata": {},
     "output_type": "display_data"
    },
    {
     "data": {
      "text/html": [
       "<pre style=\"white-space:pre;overflow-x:auto;line-height:normal;font-family:Menlo,'DejaVu Sans Mono',consolas,'Courier New',monospace\"><span style=\"font-weight: bold\"> Non-trainable params: </span><span style=\"color: #00af00; text-decoration-color: #00af00\">0</span> (0.00 B)\n",
       "</pre>\n"
      ],
      "text/plain": [
       "\u001b[1m Non-trainable params: \u001b[0m\u001b[38;5;34m0\u001b[0m (0.00 B)\n"
      ]
     },
     "metadata": {},
     "output_type": "display_data"
    }
   ],
   "source": [
    "# Install keras-tcn if needed: pip install keras-tcn\n",
    "from tcn import TCN\n",
    "\n",
    "def create_tcn(timesteps, n_features):\n",
    "    inp = Input(shape=(timesteps, n_features))\n",
    "    x = TCN(nb_filters=64, kernel_size=3, dilations=[1,2,4,8],\n",
    "            return_sequences=False, activation='relu')(inp)\n",
    "    x = Dropout(0.2)(x)\n",
    "    \n",
    "    x = Dense(16, activation='relu')(x)\n",
    "    x = Dropout(0.2)(x)\n",
    "    out = Dense(1, activation='sigmoid')(x)\n",
    "    \n",
    "    model = Model(inp, out)\n",
    "    model.compile(\n",
    "        optimizer='adam',\n",
    "        loss='binary_crossentropy',\n",
    "        metrics=['AUC','accuracy']\n",
    "    )\n",
    "    return model\n",
    "\n",
    "model_tcn = create_tcn(X_train.shape[1], X_train.shape[2])\n",
    "model_tcn.summary()\n"
   ]
  },
  {
   "cell_type": "code",
   "execution_count": 18,
   "metadata": {
    "cellUniqueIdByVincent": "1476e"
   },
   "outputs": [
    {
     "name": "stdout",
     "output_type": "stream",
     "text": [
      "Epoch 1/100\n"
     ]
    },
    {
     "name": "stderr",
     "output_type": "stream",
     "text": [
      "WARNING:absl:You are saving your model as an HDF5 file via `model.save()` or `keras.saving.save_model(model)`. This file format is considered legacy. We recommend using instead the native Keras format, e.g. `model.save('my_model.keras')` or `keras.saving.save_model(model, 'my_model.keras')`. \n"
     ]
    },
    {
     "name": "stdout",
     "output_type": "stream",
     "text": [
      "547/547 - 4s - 6ms/step - AUC: 0.5129 - accuracy: 0.5103 - loss: 0.6922 - val_AUC: 0.5074 - val_accuracy: 0.4996 - val_loss: 0.6929 - learning_rate: 3.9063e-06\n",
      "Epoch 2/100\n"
     ]
    },
    {
     "name": "stderr",
     "output_type": "stream",
     "text": [
      "WARNING:absl:You are saving your model as an HDF5 file via `model.save()` or `keras.saving.save_model(model)`. This file format is considered legacy. We recommend using instead the native Keras format, e.g. `model.save('my_model.keras')` or `keras.saving.save_model(model, 'my_model.keras')`. \n"
     ]
    },
    {
     "name": "stdout",
     "output_type": "stream",
     "text": [
      "547/547 - 3s - 6ms/step - AUC: 0.5166 - accuracy: 0.5111 - loss: 0.6923 - val_AUC: 0.5082 - val_accuracy: 0.4980 - val_loss: 0.6929 - learning_rate: 3.9063e-06\n",
      "Epoch 3/100\n",
      "547/547 - 3s - 6ms/step - AUC: 0.5144 - accuracy: 0.5081 - loss: 0.6924 - val_AUC: 0.5087 - val_accuracy: 0.4985 - val_loss: 0.6929 - learning_rate: 3.9063e-06\n",
      "Epoch 4/100\n"
     ]
    },
    {
     "name": "stderr",
     "output_type": "stream",
     "text": [
      "WARNING:absl:You are saving your model as an HDF5 file via `model.save()` or `keras.saving.save_model(model)`. This file format is considered legacy. We recommend using instead the native Keras format, e.g. `model.save('my_model.keras')` or `keras.saving.save_model(model, 'my_model.keras')`. \n"
     ]
    },
    {
     "name": "stdout",
     "output_type": "stream",
     "text": [
      "547/547 - 3s - 6ms/step - AUC: 0.5107 - accuracy: 0.5096 - loss: 0.6923 - val_AUC: 0.5082 - val_accuracy: 0.4983 - val_loss: 0.6929 - learning_rate: 3.9063e-06\n",
      "Epoch 5/100\n",
      "547/547 - 3s - 6ms/step - AUC: 0.5147 - accuracy: 0.5085 - loss: 0.6925 - val_AUC: 0.5075 - val_accuracy: 0.4989 - val_loss: 0.6929 - learning_rate: 3.9063e-06\n",
      "Epoch 6/100\n",
      "547/547 - 3s - 6ms/step - AUC: 0.5161 - accuracy: 0.5080 - loss: 0.6923 - val_AUC: 0.5082 - val_accuracy: 0.4988 - val_loss: 0.6929 - learning_rate: 3.9063e-06\n",
      "Epoch 7/100\n",
      "547/547 - 3s - 6ms/step - AUC: 0.5171 - accuracy: 0.5131 - loss: 0.6923 - val_AUC: 0.5091 - val_accuracy: 0.4991 - val_loss: 0.6929 - learning_rate: 1.9531e-06\n",
      "Epoch 8/100\n",
      "547/547 - 3s - 6ms/step - AUC: 0.5145 - accuracy: 0.5069 - loss: 0.6924 - val_AUC: 0.5082 - val_accuracy: 0.4989 - val_loss: 0.6929 - learning_rate: 1.9531e-06\n",
      "Epoch 9/100\n",
      "547/547 - 3s - 6ms/step - AUC: 0.5153 - accuracy: 0.5111 - loss: 0.6923 - val_AUC: 0.5083 - val_accuracy: 0.4987 - val_loss: 0.6929 - learning_rate: 1.9531e-06\n",
      "Epoch 10/100\n",
      "547/547 - 3s - 6ms/step - AUC: 0.5157 - accuracy: 0.5072 - loss: 0.6922 - val_AUC: 0.5084 - val_accuracy: 0.4985 - val_loss: 0.6929 - learning_rate: 1.9531e-06\n",
      "Epoch 11/100\n",
      "547/547 - 3s - 6ms/step - AUC: 0.5129 - accuracy: 0.5087 - loss: 0.6923 - val_AUC: 0.5087 - val_accuracy: 0.4976 - val_loss: 0.6929 - learning_rate: 1.9531e-06\n",
      "Epoch 12/100\n",
      "547/547 - 3s - 6ms/step - AUC: 0.5185 - accuracy: 0.5092 - loss: 0.6922 - val_AUC: 0.5089 - val_accuracy: 0.4979 - val_loss: 0.6929 - learning_rate: 1.0000e-06\n",
      "Epoch 13/100\n",
      "547/547 - 4s - 7ms/step - AUC: 0.5144 - accuracy: 0.5099 - loss: 0.6922 - val_AUC: 0.5089 - val_accuracy: 0.4984 - val_loss: 0.6929 - learning_rate: 1.0000e-06\n",
      "Epoch 14/100\n",
      "547/547 - 4s - 7ms/step - AUC: 0.5177 - accuracy: 0.5095 - loss: 0.6922 - val_AUC: 0.5085 - val_accuracy: 0.4988 - val_loss: 0.6929 - learning_rate: 1.0000e-06\n"
     ]
    }
   ],
   "source": [
    "# Callbacks\n",
    "callbacks = [\n",
    "    EarlyStopping(monitor='val_loss', patience=10, restore_best_weights=True),\n",
    "    ReduceLROnPlateau(monitor='val_loss', factor=0.5, patience=5, min_lr=1e-6),\n",
    "    ModelCheckpoint('best_lstm_model.h5', monitor='val_loss', save_best_only=True)\n",
    "]\n",
    "\n",
    "# Train\n",
    "history = model.fit(\n",
    "    X_train, y_train,\n",
    "    validation_data=(X_val, y_val),\n",
    "    epochs=100,\n",
    "    batch_size=64,\n",
    "    callbacks=callbacks,\n",
    "    verbose=2\n",
    ")"
   ]
  },
  {
   "cell_type": "code",
   "execution_count": 20,
   "metadata": {
    "cellUniqueIdByVincent": "b74dd"
   },
   "outputs": [
    {
     "data": {
      "text/html": [
       "<pre style=\"white-space:pre;overflow-x:auto;line-height:normal;font-family:Menlo,'DejaVu Sans Mono',consolas,'Courier New',monospace\"><span style=\"font-weight: bold\">Model: \"CNN_LSTM_Attn_TS\"</span>\n",
       "</pre>\n"
      ],
      "text/plain": [
       "\u001b[1mModel: \"CNN_LSTM_Attn_TS\"\u001b[0m\n"
      ]
     },
     "metadata": {},
     "output_type": "display_data"
    },
    {
     "data": {
      "text/html": [
       "<pre style=\"white-space:pre;overflow-x:auto;line-height:normal;font-family:Menlo,'DejaVu Sans Mono',consolas,'Courier New',monospace\">┏━━━━━━━━━━━━━━━━━━━━━┳━━━━━━━━━━━━━━━━━━━┳━━━━━━━━━━━━┳━━━━━━━━━━━━━━━━━━━┓\n",
       "┃<span style=\"font-weight: bold\"> Layer (type)        </span>┃<span style=\"font-weight: bold\"> Output Shape      </span>┃<span style=\"font-weight: bold\">    Param # </span>┃<span style=\"font-weight: bold\"> Connected to      </span>┃\n",
       "┡━━━━━━━━━━━━━━━━━━━━━╇━━━━━━━━━━━━━━━━━━━╇━━━━━━━━━━━━╇━━━━━━━━━━━━━━━━━━━┩\n",
       "│ seq_input           │ (<span style=\"color: #00d7ff; text-decoration-color: #00d7ff\">None</span>, <span style=\"color: #00af00; text-decoration-color: #00af00\">10</span>, <span style=\"color: #00af00; text-decoration-color: #00af00\">9</span>)     │          <span style=\"color: #00af00; text-decoration-color: #00af00\">0</span> │ -                 │\n",
       "│ (<span style=\"color: #0087ff; text-decoration-color: #0087ff\">InputLayer</span>)        │                   │            │                   │\n",
       "├─────────────────────┼───────────────────┼────────────┼───────────────────┤\n",
       "│ spatial_dropout1d_1 │ (<span style=\"color: #00d7ff; text-decoration-color: #00d7ff\">None</span>, <span style=\"color: #00af00; text-decoration-color: #00af00\">10</span>, <span style=\"color: #00af00; text-decoration-color: #00af00\">9</span>)     │          <span style=\"color: #00af00; text-decoration-color: #00af00\">0</span> │ seq_input[<span style=\"color: #00af00; text-decoration-color: #00af00\">0</span>][<span style=\"color: #00af00; text-decoration-color: #00af00\">0</span>]   │\n",
       "│ (<span style=\"color: #0087ff; text-decoration-color: #0087ff\">SpatialDropout1D</span>)  │                   │            │                   │\n",
       "├─────────────────────┼───────────────────┼────────────┼───────────────────┤\n",
       "│ conv1d_7 (<span style=\"color: #0087ff; text-decoration-color: #0087ff\">Conv1D</span>)   │ (<span style=\"color: #00d7ff; text-decoration-color: #00d7ff\">None</span>, <span style=\"color: #00af00; text-decoration-color: #00af00\">10</span>, <span style=\"color: #00af00; text-decoration-color: #00af00\">64</span>)    │      <span style=\"color: #00af00; text-decoration-color: #00af00\">1,792</span> │ spatial_dropout1… │\n",
       "├─────────────────────┼───────────────────┼────────────┼───────────────────┤\n",
       "│ conv1d_8 (<span style=\"color: #0087ff; text-decoration-color: #0087ff\">Conv1D</span>)   │ (<span style=\"color: #00d7ff; text-decoration-color: #00d7ff\">None</span>, <span style=\"color: #00af00; text-decoration-color: #00af00\">10</span>, <span style=\"color: #00af00; text-decoration-color: #00af00\">64</span>)    │      <span style=\"color: #00af00; text-decoration-color: #00af00\">2,944</span> │ spatial_dropout1… │\n",
       "├─────────────────────┼───────────────────┼────────────┼───────────────────┤\n",
       "│ conv1d_9 (<span style=\"color: #0087ff; text-decoration-color: #0087ff\">Conv1D</span>)   │ (<span style=\"color: #00d7ff; text-decoration-color: #00d7ff\">None</span>, <span style=\"color: #00af00; text-decoration-color: #00af00\">10</span>, <span style=\"color: #00af00; text-decoration-color: #00af00\">64</span>)    │      <span style=\"color: #00af00; text-decoration-color: #00af00\">4,096</span> │ spatial_dropout1… │\n",
       "├─────────────────────┼───────────────────┼────────────┼───────────────────┤\n",
       "│ concatenate_1       │ (<span style=\"color: #00d7ff; text-decoration-color: #00d7ff\">None</span>, <span style=\"color: #00af00; text-decoration-color: #00af00\">10</span>, <span style=\"color: #00af00; text-decoration-color: #00af00\">192</span>)   │          <span style=\"color: #00af00; text-decoration-color: #00af00\">0</span> │ conv1d_7[<span style=\"color: #00af00; text-decoration-color: #00af00\">0</span>][<span style=\"color: #00af00; text-decoration-color: #00af00\">0</span>],   │\n",
       "│ (<span style=\"color: #0087ff; text-decoration-color: #0087ff\">Concatenate</span>)       │                   │            │ conv1d_8[<span style=\"color: #00af00; text-decoration-color: #00af00\">0</span>][<span style=\"color: #00af00; text-decoration-color: #00af00\">0</span>],   │\n",
       "│                     │                   │            │ conv1d_9[<span style=\"color: #00af00; text-decoration-color: #00af00\">0</span>][<span style=\"color: #00af00; text-decoration-color: #00af00\">0</span>]    │\n",
       "├─────────────────────┼───────────────────┼────────────┼───────────────────┤\n",
       "│ layer_normalizatio… │ (<span style=\"color: #00d7ff; text-decoration-color: #00d7ff\">None</span>, <span style=\"color: #00af00; text-decoration-color: #00af00\">10</span>, <span style=\"color: #00af00; text-decoration-color: #00af00\">192</span>)   │        <span style=\"color: #00af00; text-decoration-color: #00af00\">384</span> │ concatenate_1[<span style=\"color: #00af00; text-decoration-color: #00af00\">0</span>]… │\n",
       "│ (<span style=\"color: #0087ff; text-decoration-color: #0087ff\">LayerNormalizatio…</span> │                   │            │                   │\n",
       "├─────────────────────┼───────────────────┼────────────┼───────────────────┤\n",
       "│ dropout_25          │ (<span style=\"color: #00d7ff; text-decoration-color: #00d7ff\">None</span>, <span style=\"color: #00af00; text-decoration-color: #00af00\">10</span>, <span style=\"color: #00af00; text-decoration-color: #00af00\">192</span>)   │          <span style=\"color: #00af00; text-decoration-color: #00af00\">0</span> │ layer_normalizat… │\n",
       "│ (<span style=\"color: #0087ff; text-decoration-color: #0087ff\">Dropout</span>)           │                   │            │                   │\n",
       "├─────────────────────┼───────────────────┼────────────┼───────────────────┤\n",
       "│ bidirectional_2     │ (<span style=\"color: #00d7ff; text-decoration-color: #00d7ff\">None</span>, <span style=\"color: #00af00; text-decoration-color: #00af00\">10</span>, <span style=\"color: #00af00; text-decoration-color: #00af00\">256</span>)   │    <span style=\"color: #00af00; text-decoration-color: #00af00\">328,704</span> │ dropout_25[<span style=\"color: #00af00; text-decoration-color: #00af00\">0</span>][<span style=\"color: #00af00; text-decoration-color: #00af00\">0</span>]  │\n",
       "│ (<span style=\"color: #0087ff; text-decoration-color: #0087ff\">Bidirectional</span>)     │                   │            │                   │\n",
       "├─────────────────────┼───────────────────┼────────────┼───────────────────┤\n",
       "│ layer_normalizatio… │ (<span style=\"color: #00d7ff; text-decoration-color: #00d7ff\">None</span>, <span style=\"color: #00af00; text-decoration-color: #00af00\">10</span>, <span style=\"color: #00af00; text-decoration-color: #00af00\">256</span>)   │        <span style=\"color: #00af00; text-decoration-color: #00af00\">512</span> │ bidirectional_2[<span style=\"color: #00af00; text-decoration-color: #00af00\">…</span> │\n",
       "│ (<span style=\"color: #0087ff; text-decoration-color: #0087ff\">LayerNormalizatio…</span> │                   │            │                   │\n",
       "├─────────────────────┼───────────────────┼────────────┼───────────────────┤\n",
       "│ bidirectional_3     │ (<span style=\"color: #00d7ff; text-decoration-color: #00d7ff\">None</span>, <span style=\"color: #00af00; text-decoration-color: #00af00\">10</span>, <span style=\"color: #00af00; text-decoration-color: #00af00\">128</span>)   │    <span style=\"color: #00af00; text-decoration-color: #00af00\">164,352</span> │ layer_normalizat… │\n",
       "│ (<span style=\"color: #0087ff; text-decoration-color: #0087ff\">Bidirectional</span>)     │                   │            │                   │\n",
       "├─────────────────────┼───────────────────┼────────────┼───────────────────┤\n",
       "│ layer_normalizatio… │ (<span style=\"color: #00d7ff; text-decoration-color: #00d7ff\">None</span>, <span style=\"color: #00af00; text-decoration-color: #00af00\">10</span>, <span style=\"color: #00af00; text-decoration-color: #00af00\">128</span>)   │        <span style=\"color: #00af00; text-decoration-color: #00af00\">256</span> │ bidirectional_3[<span style=\"color: #00af00; text-decoration-color: #00af00\">…</span> │\n",
       "│ (<span style=\"color: #0087ff; text-decoration-color: #0087ff\">LayerNormalizatio…</span> │                   │            │                   │\n",
       "├─────────────────────┼───────────────────┼────────────┼───────────────────┤\n",
       "│ permute_4 (<span style=\"color: #0087ff; text-decoration-color: #0087ff\">Permute</span>) │ (<span style=\"color: #00d7ff; text-decoration-color: #00d7ff\">None</span>, <span style=\"color: #00af00; text-decoration-color: #00af00\">128</span>, <span style=\"color: #00af00; text-decoration-color: #00af00\">10</span>)   │          <span style=\"color: #00af00; text-decoration-color: #00af00\">0</span> │ layer_normalizat… │\n",
       "├─────────────────────┼───────────────────┼────────────┼───────────────────┤\n",
       "│ dense_18 (<span style=\"color: #0087ff; text-decoration-color: #0087ff\">Dense</span>)    │ (<span style=\"color: #00d7ff; text-decoration-color: #00d7ff\">None</span>, <span style=\"color: #00af00; text-decoration-color: #00af00\">128</span>, <span style=\"color: #00af00; text-decoration-color: #00af00\">10</span>)   │        <span style=\"color: #00af00; text-decoration-color: #00af00\">110</span> │ permute_4[<span style=\"color: #00af00; text-decoration-color: #00af00\">0</span>][<span style=\"color: #00af00; text-decoration-color: #00af00\">0</span>]   │\n",
       "├─────────────────────┼───────────────────┼────────────┼───────────────────┤\n",
       "│ softmax_2 (<span style=\"color: #0087ff; text-decoration-color: #0087ff\">Softmax</span>) │ (<span style=\"color: #00d7ff; text-decoration-color: #00d7ff\">None</span>, <span style=\"color: #00af00; text-decoration-color: #00af00\">128</span>, <span style=\"color: #00af00; text-decoration-color: #00af00\">10</span>)   │          <span style=\"color: #00af00; text-decoration-color: #00af00\">0</span> │ dense_18[<span style=\"color: #00af00; text-decoration-color: #00af00\">0</span>][<span style=\"color: #00af00; text-decoration-color: #00af00\">0</span>]    │\n",
       "├─────────────────────┼───────────────────┼────────────┼───────────────────┤\n",
       "│ permute_5 (<span style=\"color: #0087ff; text-decoration-color: #0087ff\">Permute</span>) │ (<span style=\"color: #00d7ff; text-decoration-color: #00d7ff\">None</span>, <span style=\"color: #00af00; text-decoration-color: #00af00\">10</span>, <span style=\"color: #00af00; text-decoration-color: #00af00\">128</span>)   │          <span style=\"color: #00af00; text-decoration-color: #00af00\">0</span> │ softmax_2[<span style=\"color: #00af00; text-decoration-color: #00af00\">0</span>][<span style=\"color: #00af00; text-decoration-color: #00af00\">0</span>]   │\n",
       "├─────────────────────┼───────────────────┼────────────┼───────────────────┤\n",
       "│ multiply_2          │ (<span style=\"color: #00d7ff; text-decoration-color: #00d7ff\">None</span>, <span style=\"color: #00af00; text-decoration-color: #00af00\">10</span>, <span style=\"color: #00af00; text-decoration-color: #00af00\">128</span>)   │          <span style=\"color: #00af00; text-decoration-color: #00af00\">0</span> │ layer_normalizat… │\n",
       "│ (<span style=\"color: #0087ff; text-decoration-color: #0087ff\">Multiply</span>)          │                   │            │ permute_5[<span style=\"color: #00af00; text-decoration-color: #00af00\">0</span>][<span style=\"color: #00af00; text-decoration-color: #00af00\">0</span>]   │\n",
       "├─────────────────────┼───────────────────┼────────────┼───────────────────┤\n",
       "│ lambda_2 (<span style=\"color: #0087ff; text-decoration-color: #0087ff\">Lambda</span>)   │ (<span style=\"color: #00d7ff; text-decoration-color: #00d7ff\">None</span>, <span style=\"color: #00af00; text-decoration-color: #00af00\">128</span>)       │          <span style=\"color: #00af00; text-decoration-color: #00af00\">0</span> │ multiply_2[<span style=\"color: #00af00; text-decoration-color: #00af00\">0</span>][<span style=\"color: #00af00; text-decoration-color: #00af00\">0</span>]  │\n",
       "├─────────────────────┼───────────────────┼────────────┼───────────────────┤\n",
       "│ dense_19 (<span style=\"color: #0087ff; text-decoration-color: #0087ff\">Dense</span>)    │ (<span style=\"color: #00d7ff; text-decoration-color: #00d7ff\">None</span>, <span style=\"color: #00af00; text-decoration-color: #00af00\">128</span>)       │     <span style=\"color: #00af00; text-decoration-color: #00af00\">16,512</span> │ lambda_2[<span style=\"color: #00af00; text-decoration-color: #00af00\">0</span>][<span style=\"color: #00af00; text-decoration-color: #00af00\">0</span>]    │\n",
       "├─────────────────────┼───────────────────┼────────────┼───────────────────┤\n",
       "│ batch_normalizatio… │ (<span style=\"color: #00d7ff; text-decoration-color: #00d7ff\">None</span>, <span style=\"color: #00af00; text-decoration-color: #00af00\">128</span>)       │        <span style=\"color: #00af00; text-decoration-color: #00af00\">512</span> │ dense_19[<span style=\"color: #00af00; text-decoration-color: #00af00\">0</span>][<span style=\"color: #00af00; text-decoration-color: #00af00\">0</span>]    │\n",
       "│ (<span style=\"color: #0087ff; text-decoration-color: #0087ff\">BatchNormalizatio…</span> │                   │            │                   │\n",
       "├─────────────────────┼───────────────────┼────────────┼───────────────────┤\n",
       "│ dropout_26          │ (<span style=\"color: #00d7ff; text-decoration-color: #00d7ff\">None</span>, <span style=\"color: #00af00; text-decoration-color: #00af00\">128</span>)       │          <span style=\"color: #00af00; text-decoration-color: #00af00\">0</span> │ batch_normalizat… │\n",
       "│ (<span style=\"color: #0087ff; text-decoration-color: #0087ff\">Dropout</span>)           │                   │            │                   │\n",
       "├─────────────────────┼───────────────────┼────────────┼───────────────────┤\n",
       "│ dense_20 (<span style=\"color: #0087ff; text-decoration-color: #0087ff\">Dense</span>)    │ (<span style=\"color: #00d7ff; text-decoration-color: #00d7ff\">None</span>, <span style=\"color: #00af00; text-decoration-color: #00af00\">64</span>)        │      <span style=\"color: #00af00; text-decoration-color: #00af00\">8,256</span> │ dropout_26[<span style=\"color: #00af00; text-decoration-color: #00af00\">0</span>][<span style=\"color: #00af00; text-decoration-color: #00af00\">0</span>]  │\n",
       "├─────────────────────┼───────────────────┼────────────┼───────────────────┤\n",
       "│ batch_normalizatio… │ (<span style=\"color: #00d7ff; text-decoration-color: #00d7ff\">None</span>, <span style=\"color: #00af00; text-decoration-color: #00af00\">64</span>)        │        <span style=\"color: #00af00; text-decoration-color: #00af00\">256</span> │ dense_20[<span style=\"color: #00af00; text-decoration-color: #00af00\">0</span>][<span style=\"color: #00af00; text-decoration-color: #00af00\">0</span>]    │\n",
       "│ (<span style=\"color: #0087ff; text-decoration-color: #0087ff\">BatchNormalizatio…</span> │                   │            │                   │\n",
       "├─────────────────────┼───────────────────┼────────────┼───────────────────┤\n",
       "│ dropout_27          │ (<span style=\"color: #00d7ff; text-decoration-color: #00d7ff\">None</span>, <span style=\"color: #00af00; text-decoration-color: #00af00\">64</span>)        │          <span style=\"color: #00af00; text-decoration-color: #00af00\">0</span> │ batch_normalizat… │\n",
       "│ (<span style=\"color: #0087ff; text-decoration-color: #0087ff\">Dropout</span>)           │                   │            │                   │\n",
       "├─────────────────────┼───────────────────┼────────────┼───────────────────┤\n",
       "│ price_up (<span style=\"color: #0087ff; text-decoration-color: #0087ff\">Dense</span>)    │ (<span style=\"color: #00d7ff; text-decoration-color: #00d7ff\">None</span>, <span style=\"color: #00af00; text-decoration-color: #00af00\">1</span>)         │         <span style=\"color: #00af00; text-decoration-color: #00af00\">65</span> │ dropout_27[<span style=\"color: #00af00; text-decoration-color: #00af00\">0</span>][<span style=\"color: #00af00; text-decoration-color: #00af00\">0</span>]  │\n",
       "└─────────────────────┴───────────────────┴────────────┴───────────────────┘\n",
       "</pre>\n"
      ],
      "text/plain": [
       "┏━━━━━━━━━━━━━━━━━━━━━┳━━━━━━━━━━━━━━━━━━━┳━━━━━━━━━━━━┳━━━━━━━━━━━━━━━━━━━┓\n",
       "┃\u001b[1m \u001b[0m\u001b[1mLayer (type)       \u001b[0m\u001b[1m \u001b[0m┃\u001b[1m \u001b[0m\u001b[1mOutput Shape     \u001b[0m\u001b[1m \u001b[0m┃\u001b[1m \u001b[0m\u001b[1m   Param #\u001b[0m\u001b[1m \u001b[0m┃\u001b[1m \u001b[0m\u001b[1mConnected to     \u001b[0m\u001b[1m \u001b[0m┃\n",
       "┡━━━━━━━━━━━━━━━━━━━━━╇━━━━━━━━━━━━━━━━━━━╇━━━━━━━━━━━━╇━━━━━━━━━━━━━━━━━━━┩\n",
       "│ seq_input           │ (\u001b[38;5;45mNone\u001b[0m, \u001b[38;5;34m10\u001b[0m, \u001b[38;5;34m9\u001b[0m)     │          \u001b[38;5;34m0\u001b[0m │ -                 │\n",
       "│ (\u001b[38;5;33mInputLayer\u001b[0m)        │                   │            │                   │\n",
       "├─────────────────────┼───────────────────┼────────────┼───────────────────┤\n",
       "│ spatial_dropout1d_1 │ (\u001b[38;5;45mNone\u001b[0m, \u001b[38;5;34m10\u001b[0m, \u001b[38;5;34m9\u001b[0m)     │          \u001b[38;5;34m0\u001b[0m │ seq_input[\u001b[38;5;34m0\u001b[0m][\u001b[38;5;34m0\u001b[0m]   │\n",
       "│ (\u001b[38;5;33mSpatialDropout1D\u001b[0m)  │                   │            │                   │\n",
       "├─────────────────────┼───────────────────┼────────────┼───────────────────┤\n",
       "│ conv1d_7 (\u001b[38;5;33mConv1D\u001b[0m)   │ (\u001b[38;5;45mNone\u001b[0m, \u001b[38;5;34m10\u001b[0m, \u001b[38;5;34m64\u001b[0m)    │      \u001b[38;5;34m1,792\u001b[0m │ spatial_dropout1… │\n",
       "├─────────────────────┼───────────────────┼────────────┼───────────────────┤\n",
       "│ conv1d_8 (\u001b[38;5;33mConv1D\u001b[0m)   │ (\u001b[38;5;45mNone\u001b[0m, \u001b[38;5;34m10\u001b[0m, \u001b[38;5;34m64\u001b[0m)    │      \u001b[38;5;34m2,944\u001b[0m │ spatial_dropout1… │\n",
       "├─────────────────────┼───────────────────┼────────────┼───────────────────┤\n",
       "│ conv1d_9 (\u001b[38;5;33mConv1D\u001b[0m)   │ (\u001b[38;5;45mNone\u001b[0m, \u001b[38;5;34m10\u001b[0m, \u001b[38;5;34m64\u001b[0m)    │      \u001b[38;5;34m4,096\u001b[0m │ spatial_dropout1… │\n",
       "├─────────────────────┼───────────────────┼────────────┼───────────────────┤\n",
       "│ concatenate_1       │ (\u001b[38;5;45mNone\u001b[0m, \u001b[38;5;34m10\u001b[0m, \u001b[38;5;34m192\u001b[0m)   │          \u001b[38;5;34m0\u001b[0m │ conv1d_7[\u001b[38;5;34m0\u001b[0m][\u001b[38;5;34m0\u001b[0m],   │\n",
       "│ (\u001b[38;5;33mConcatenate\u001b[0m)       │                   │            │ conv1d_8[\u001b[38;5;34m0\u001b[0m][\u001b[38;5;34m0\u001b[0m],   │\n",
       "│                     │                   │            │ conv1d_9[\u001b[38;5;34m0\u001b[0m][\u001b[38;5;34m0\u001b[0m]    │\n",
       "├─────────────────────┼───────────────────┼────────────┼───────────────────┤\n",
       "│ layer_normalizatio… │ (\u001b[38;5;45mNone\u001b[0m, \u001b[38;5;34m10\u001b[0m, \u001b[38;5;34m192\u001b[0m)   │        \u001b[38;5;34m384\u001b[0m │ concatenate_1[\u001b[38;5;34m0\u001b[0m]… │\n",
       "│ (\u001b[38;5;33mLayerNormalizatio…\u001b[0m │                   │            │                   │\n",
       "├─────────────────────┼───────────────────┼────────────┼───────────────────┤\n",
       "│ dropout_25          │ (\u001b[38;5;45mNone\u001b[0m, \u001b[38;5;34m10\u001b[0m, \u001b[38;5;34m192\u001b[0m)   │          \u001b[38;5;34m0\u001b[0m │ layer_normalizat… │\n",
       "│ (\u001b[38;5;33mDropout\u001b[0m)           │                   │            │                   │\n",
       "├─────────────────────┼───────────────────┼────────────┼───────────────────┤\n",
       "│ bidirectional_2     │ (\u001b[38;5;45mNone\u001b[0m, \u001b[38;5;34m10\u001b[0m, \u001b[38;5;34m256\u001b[0m)   │    \u001b[38;5;34m328,704\u001b[0m │ dropout_25[\u001b[38;5;34m0\u001b[0m][\u001b[38;5;34m0\u001b[0m]  │\n",
       "│ (\u001b[38;5;33mBidirectional\u001b[0m)     │                   │            │                   │\n",
       "├─────────────────────┼───────────────────┼────────────┼───────────────────┤\n",
       "│ layer_normalizatio… │ (\u001b[38;5;45mNone\u001b[0m, \u001b[38;5;34m10\u001b[0m, \u001b[38;5;34m256\u001b[0m)   │        \u001b[38;5;34m512\u001b[0m │ bidirectional_2[\u001b[38;5;34m…\u001b[0m │\n",
       "│ (\u001b[38;5;33mLayerNormalizatio…\u001b[0m │                   │            │                   │\n",
       "├─────────────────────┼───────────────────┼────────────┼───────────────────┤\n",
       "│ bidirectional_3     │ (\u001b[38;5;45mNone\u001b[0m, \u001b[38;5;34m10\u001b[0m, \u001b[38;5;34m128\u001b[0m)   │    \u001b[38;5;34m164,352\u001b[0m │ layer_normalizat… │\n",
       "│ (\u001b[38;5;33mBidirectional\u001b[0m)     │                   │            │                   │\n",
       "├─────────────────────┼───────────────────┼────────────┼───────────────────┤\n",
       "│ layer_normalizatio… │ (\u001b[38;5;45mNone\u001b[0m, \u001b[38;5;34m10\u001b[0m, \u001b[38;5;34m128\u001b[0m)   │        \u001b[38;5;34m256\u001b[0m │ bidirectional_3[\u001b[38;5;34m…\u001b[0m │\n",
       "│ (\u001b[38;5;33mLayerNormalizatio…\u001b[0m │                   │            │                   │\n",
       "├─────────────────────┼───────────────────┼────────────┼───────────────────┤\n",
       "│ permute_4 (\u001b[38;5;33mPermute\u001b[0m) │ (\u001b[38;5;45mNone\u001b[0m, \u001b[38;5;34m128\u001b[0m, \u001b[38;5;34m10\u001b[0m)   │          \u001b[38;5;34m0\u001b[0m │ layer_normalizat… │\n",
       "├─────────────────────┼───────────────────┼────────────┼───────────────────┤\n",
       "│ dense_18 (\u001b[38;5;33mDense\u001b[0m)    │ (\u001b[38;5;45mNone\u001b[0m, \u001b[38;5;34m128\u001b[0m, \u001b[38;5;34m10\u001b[0m)   │        \u001b[38;5;34m110\u001b[0m │ permute_4[\u001b[38;5;34m0\u001b[0m][\u001b[38;5;34m0\u001b[0m]   │\n",
       "├─────────────────────┼───────────────────┼────────────┼───────────────────┤\n",
       "│ softmax_2 (\u001b[38;5;33mSoftmax\u001b[0m) │ (\u001b[38;5;45mNone\u001b[0m, \u001b[38;5;34m128\u001b[0m, \u001b[38;5;34m10\u001b[0m)   │          \u001b[38;5;34m0\u001b[0m │ dense_18[\u001b[38;5;34m0\u001b[0m][\u001b[38;5;34m0\u001b[0m]    │\n",
       "├─────────────────────┼───────────────────┼────────────┼───────────────────┤\n",
       "│ permute_5 (\u001b[38;5;33mPermute\u001b[0m) │ (\u001b[38;5;45mNone\u001b[0m, \u001b[38;5;34m10\u001b[0m, \u001b[38;5;34m128\u001b[0m)   │          \u001b[38;5;34m0\u001b[0m │ softmax_2[\u001b[38;5;34m0\u001b[0m][\u001b[38;5;34m0\u001b[0m]   │\n",
       "├─────────────────────┼───────────────────┼────────────┼───────────────────┤\n",
       "│ multiply_2          │ (\u001b[38;5;45mNone\u001b[0m, \u001b[38;5;34m10\u001b[0m, \u001b[38;5;34m128\u001b[0m)   │          \u001b[38;5;34m0\u001b[0m │ layer_normalizat… │\n",
       "│ (\u001b[38;5;33mMultiply\u001b[0m)          │                   │            │ permute_5[\u001b[38;5;34m0\u001b[0m][\u001b[38;5;34m0\u001b[0m]   │\n",
       "├─────────────────────┼───────────────────┼────────────┼───────────────────┤\n",
       "│ lambda_2 (\u001b[38;5;33mLambda\u001b[0m)   │ (\u001b[38;5;45mNone\u001b[0m, \u001b[38;5;34m128\u001b[0m)       │          \u001b[38;5;34m0\u001b[0m │ multiply_2[\u001b[38;5;34m0\u001b[0m][\u001b[38;5;34m0\u001b[0m]  │\n",
       "├─────────────────────┼───────────────────┼────────────┼───────────────────┤\n",
       "│ dense_19 (\u001b[38;5;33mDense\u001b[0m)    │ (\u001b[38;5;45mNone\u001b[0m, \u001b[38;5;34m128\u001b[0m)       │     \u001b[38;5;34m16,512\u001b[0m │ lambda_2[\u001b[38;5;34m0\u001b[0m][\u001b[38;5;34m0\u001b[0m]    │\n",
       "├─────────────────────┼───────────────────┼────────────┼───────────────────┤\n",
       "│ batch_normalizatio… │ (\u001b[38;5;45mNone\u001b[0m, \u001b[38;5;34m128\u001b[0m)       │        \u001b[38;5;34m512\u001b[0m │ dense_19[\u001b[38;5;34m0\u001b[0m][\u001b[38;5;34m0\u001b[0m]    │\n",
       "│ (\u001b[38;5;33mBatchNormalizatio…\u001b[0m │                   │            │                   │\n",
       "├─────────────────────┼───────────────────┼────────────┼───────────────────┤\n",
       "│ dropout_26          │ (\u001b[38;5;45mNone\u001b[0m, \u001b[38;5;34m128\u001b[0m)       │          \u001b[38;5;34m0\u001b[0m │ batch_normalizat… │\n",
       "│ (\u001b[38;5;33mDropout\u001b[0m)           │                   │            │                   │\n",
       "├─────────────────────┼───────────────────┼────────────┼───────────────────┤\n",
       "│ dense_20 (\u001b[38;5;33mDense\u001b[0m)    │ (\u001b[38;5;45mNone\u001b[0m, \u001b[38;5;34m64\u001b[0m)        │      \u001b[38;5;34m8,256\u001b[0m │ dropout_26[\u001b[38;5;34m0\u001b[0m][\u001b[38;5;34m0\u001b[0m]  │\n",
       "├─────────────────────┼───────────────────┼────────────┼───────────────────┤\n",
       "│ batch_normalizatio… │ (\u001b[38;5;45mNone\u001b[0m, \u001b[38;5;34m64\u001b[0m)        │        \u001b[38;5;34m256\u001b[0m │ dense_20[\u001b[38;5;34m0\u001b[0m][\u001b[38;5;34m0\u001b[0m]    │\n",
       "│ (\u001b[38;5;33mBatchNormalizatio…\u001b[0m │                   │            │                   │\n",
       "├─────────────────────┼───────────────────┼────────────┼───────────────────┤\n",
       "│ dropout_27          │ (\u001b[38;5;45mNone\u001b[0m, \u001b[38;5;34m64\u001b[0m)        │          \u001b[38;5;34m0\u001b[0m │ batch_normalizat… │\n",
       "│ (\u001b[38;5;33mDropout\u001b[0m)           │                   │            │                   │\n",
       "├─────────────────────┼───────────────────┼────────────┼───────────────────┤\n",
       "│ price_up (\u001b[38;5;33mDense\u001b[0m)    │ (\u001b[38;5;45mNone\u001b[0m, \u001b[38;5;34m1\u001b[0m)         │         \u001b[38;5;34m65\u001b[0m │ dropout_27[\u001b[38;5;34m0\u001b[0m][\u001b[38;5;34m0\u001b[0m]  │\n",
       "└─────────────────────┴───────────────────┴────────────┴───────────────────┘\n"
      ]
     },
     "metadata": {},
     "output_type": "display_data"
    },
    {
     "data": {
      "text/html": [
       "<pre style=\"white-space:pre;overflow-x:auto;line-height:normal;font-family:Menlo,'DejaVu Sans Mono',consolas,'Courier New',monospace\"><span style=\"font-weight: bold\"> Total params: </span><span style=\"color: #00af00; text-decoration-color: #00af00\">528,751</span> (2.02 MB)\n",
       "</pre>\n"
      ],
      "text/plain": [
       "\u001b[1m Total params: \u001b[0m\u001b[38;5;34m528,751\u001b[0m (2.02 MB)\n"
      ]
     },
     "metadata": {},
     "output_type": "display_data"
    },
    {
     "data": {
      "text/html": [
       "<pre style=\"white-space:pre;overflow-x:auto;line-height:normal;font-family:Menlo,'DejaVu Sans Mono',consolas,'Courier New',monospace\"><span style=\"font-weight: bold\"> Trainable params: </span><span style=\"color: #00af00; text-decoration-color: #00af00\">528,367</span> (2.02 MB)\n",
       "</pre>\n"
      ],
      "text/plain": [
       "\u001b[1m Trainable params: \u001b[0m\u001b[38;5;34m528,367\u001b[0m (2.02 MB)\n"
      ]
     },
     "metadata": {},
     "output_type": "display_data"
    },
    {
     "data": {
      "text/html": [
       "<pre style=\"white-space:pre;overflow-x:auto;line-height:normal;font-family:Menlo,'DejaVu Sans Mono',consolas,'Courier New',monospace\"><span style=\"font-weight: bold\"> Non-trainable params: </span><span style=\"color: #00af00; text-decoration-color: #00af00\">384</span> (1.50 KB)\n",
       "</pre>\n"
      ],
      "text/plain": [
       "\u001b[1m Non-trainable params: \u001b[0m\u001b[38;5;34m384\u001b[0m (1.50 KB)\n"
      ]
     },
     "metadata": {},
     "output_type": "display_data"
    },
    {
     "name": "stdout",
     "output_type": "stream",
     "text": [
      "Epoch 1/100\n",
      "\u001b[1m547/547\u001b[0m \u001b[32m━━━━━━━━━━━━━━━━━━━━\u001b[0m\u001b[37m\u001b[0m \u001b[1m0s\u001b[0m 75ms/step - AUC: 0.4954 - accuracy: 0.4985 - loss: 1.0179"
     ]
    },
    {
     "name": "stderr",
     "output_type": "stream",
     "text": [
      "WARNING:absl:You are saving your model as an HDF5 file via `model.save()` or `keras.saving.save_model(model)`. This file format is considered legacy. We recommend using instead the native Keras format, e.g. `model.save('my_model.keras')` or `keras.saving.save_model(model, 'my_model.keras')`. \n"
     ]
    },
    {
     "name": "stdout",
     "output_type": "stream",
     "text": [
      "\u001b[1m547/547\u001b[0m \u001b[32m━━━━━━━━━━━━━━━━━━━━\u001b[0m\u001b[37m\u001b[0m \u001b[1m49s\u001b[0m 79ms/step - AUC: 0.4954 - accuracy: 0.4985 - loss: 1.0178 - val_AUC: 0.5020 - val_accuracy: 0.5016 - val_loss: 0.8565 - learning_rate: 0.0010\n",
      "Epoch 2/100\n",
      "\u001b[1m547/547\u001b[0m \u001b[32m━━━━━━━━━━━━━━━━━━━━\u001b[0m\u001b[37m\u001b[0m \u001b[1m0s\u001b[0m 81ms/step - AUC: 0.5040 - accuracy: 0.5031 - loss: 0.8496"
     ]
    },
    {
     "name": "stderr",
     "output_type": "stream",
     "text": [
      "WARNING:absl:You are saving your model as an HDF5 file via `model.save()` or `keras.saving.save_model(model)`. This file format is considered legacy. We recommend using instead the native Keras format, e.g. `model.save('my_model.keras')` or `keras.saving.save_model(model, 'my_model.keras')`. \n"
     ]
    },
    {
     "name": "stdout",
     "output_type": "stream",
     "text": [
      "\u001b[1m547/547\u001b[0m \u001b[32m━━━━━━━━━━━━━━━━━━━━\u001b[0m\u001b[37m\u001b[0m \u001b[1m46s\u001b[0m 85ms/step - AUC: 0.5040 - accuracy: 0.5031 - loss: 0.8496 - val_AUC: 0.4964 - val_accuracy: 0.4963 - val_loss: 0.7925 - learning_rate: 0.0010\n",
      "Epoch 3/100\n",
      "\u001b[1m547/547\u001b[0m \u001b[32m━━━━━━━━━━━━━━━━━━━━\u001b[0m\u001b[37m\u001b[0m \u001b[1m0s\u001b[0m 81ms/step - AUC: 0.5005 - accuracy: 0.4991 - loss: 0.7825"
     ]
    },
    {
     "name": "stderr",
     "output_type": "stream",
     "text": [
      "WARNING:absl:You are saving your model as an HDF5 file via `model.save()` or `keras.saving.save_model(model)`. This file format is considered legacy. We recommend using instead the native Keras format, e.g. `model.save('my_model.keras')` or `keras.saving.save_model(model, 'my_model.keras')`. \n"
     ]
    },
    {
     "name": "stdout",
     "output_type": "stream",
     "text": [
      "\u001b[1m547/547\u001b[0m \u001b[32m━━━━━━━━━━━━━━━━━━━━\u001b[0m\u001b[37m\u001b[0m \u001b[1m47s\u001b[0m 85ms/step - AUC: 0.5005 - accuracy: 0.4991 - loss: 0.7825 - val_AUC: 0.4921 - val_accuracy: 0.4944 - val_loss: 0.7465 - learning_rate: 0.0010\n",
      "Epoch 4/100\n",
      "\u001b[1m547/547\u001b[0m \u001b[32m━━━━━━━━━━━━━━━━━━━━\u001b[0m\u001b[37m\u001b[0m \u001b[1m0s\u001b[0m 81ms/step - AUC: 0.5011 - accuracy: 0.5022 - loss: 0.7396"
     ]
    },
    {
     "name": "stderr",
     "output_type": "stream",
     "text": [
      "WARNING:absl:You are saving your model as an HDF5 file via `model.save()` or `keras.saving.save_model(model)`. This file format is considered legacy. We recommend using instead the native Keras format, e.g. `model.save('my_model.keras')` or `keras.saving.save_model(model, 'my_model.keras')`. \n"
     ]
    },
    {
     "name": "stdout",
     "output_type": "stream",
     "text": [
      "\u001b[1m547/547\u001b[0m \u001b[32m━━━━━━━━━━━━━━━━━━━━\u001b[0m\u001b[37m\u001b[0m \u001b[1m47s\u001b[0m 85ms/step - AUC: 0.5011 - accuracy: 0.5022 - loss: 0.7396 - val_AUC: 0.5029 - val_accuracy: 0.5048 - val_loss: 0.7182 - learning_rate: 0.0010\n",
      "Epoch 5/100\n",
      "\u001b[1m547/547\u001b[0m \u001b[32m━━━━━━━━━━━━━━━━━━━━\u001b[0m\u001b[37m\u001b[0m \u001b[1m0s\u001b[0m 81ms/step - AUC: 0.5105 - accuracy: 0.5104 - loss: 0.7144"
     ]
    },
    {
     "name": "stderr",
     "output_type": "stream",
     "text": [
      "WARNING:absl:You are saving your model as an HDF5 file via `model.save()` or `keras.saving.save_model(model)`. This file format is considered legacy. We recommend using instead the native Keras format, e.g. `model.save('my_model.keras')` or `keras.saving.save_model(model, 'my_model.keras')`. \n"
     ]
    },
    {
     "name": "stdout",
     "output_type": "stream",
     "text": [
      "\u001b[1m547/547\u001b[0m \u001b[32m━━━━━━━━━━━━━━━━━━━━\u001b[0m\u001b[37m\u001b[0m \u001b[1m46s\u001b[0m 85ms/step - AUC: 0.5104 - accuracy: 0.5104 - loss: 0.7144 - val_AUC: 0.5124 - val_accuracy: 0.5110 - val_loss: 0.7056 - learning_rate: 0.0010\n",
      "Epoch 6/100\n",
      "\u001b[1m547/547\u001b[0m \u001b[32m━━━━━━━━━━━━━━━━━━━━\u001b[0m\u001b[37m\u001b[0m \u001b[1m0s\u001b[0m 81ms/step - AUC: 0.5092 - accuracy: 0.5033 - loss: 0.7033"
     ]
    },
    {
     "name": "stderr",
     "output_type": "stream",
     "text": [
      "WARNING:absl:You are saving your model as an HDF5 file via `model.save()` or `keras.saving.save_model(model)`. This file format is considered legacy. We recommend using instead the native Keras format, e.g. `model.save('my_model.keras')` or `keras.saving.save_model(model, 'my_model.keras')`. \n"
     ]
    },
    {
     "name": "stdout",
     "output_type": "stream",
     "text": [
      "\u001b[1m547/547\u001b[0m \u001b[32m━━━━━━━━━━━━━━━━━━━━\u001b[0m\u001b[37m\u001b[0m \u001b[1m47s\u001b[0m 86ms/step - AUC: 0.5092 - accuracy: 0.5033 - loss: 0.7033 - val_AUC: 0.5098 - val_accuracy: 0.5096 - val_loss: 0.6991 - learning_rate: 0.0010\n",
      "Epoch 7/100\n",
      "\u001b[1m547/547\u001b[0m \u001b[32m━━━━━━━━━━━━━━━━━━━━\u001b[0m\u001b[37m\u001b[0m \u001b[1m0s\u001b[0m 80ms/step - AUC: 0.5003 - accuracy: 0.5025 - loss: 0.6994"
     ]
    },
    {
     "name": "stderr",
     "output_type": "stream",
     "text": [
      "WARNING:absl:You are saving your model as an HDF5 file via `model.save()` or `keras.saving.save_model(model)`. This file format is considered legacy. We recommend using instead the native Keras format, e.g. `model.save('my_model.keras')` or `keras.saving.save_model(model, 'my_model.keras')`. \n"
     ]
    },
    {
     "name": "stdout",
     "output_type": "stream",
     "text": [
      "\u001b[1m547/547\u001b[0m \u001b[32m━━━━━━━━━━━━━━━━━━━━\u001b[0m\u001b[37m\u001b[0m \u001b[1m46s\u001b[0m 84ms/step - AUC: 0.5003 - accuracy: 0.5025 - loss: 0.6994 - val_AUC: 0.5026 - val_accuracy: 0.5035 - val_loss: 0.6982 - learning_rate: 0.0010\n",
      "Epoch 8/100\n",
      "\u001b[1m547/547\u001b[0m \u001b[32m━━━━━━━━━━━━━━━━━━━━\u001b[0m\u001b[37m\u001b[0m \u001b[1m0s\u001b[0m 81ms/step - AUC: 0.5036 - accuracy: 0.5024 - loss: 0.6969"
     ]
    },
    {
     "name": "stderr",
     "output_type": "stream",
     "text": [
      "WARNING:absl:You are saving your model as an HDF5 file via `model.save()` or `keras.saving.save_model(model)`. This file format is considered legacy. We recommend using instead the native Keras format, e.g. `model.save('my_model.keras')` or `keras.saving.save_model(model, 'my_model.keras')`. \n"
     ]
    },
    {
     "name": "stdout",
     "output_type": "stream",
     "text": [
      "\u001b[1m547/547\u001b[0m \u001b[32m━━━━━━━━━━━━━━━━━━━━\u001b[0m\u001b[37m\u001b[0m \u001b[1m47s\u001b[0m 86ms/step - AUC: 0.5036 - accuracy: 0.5024 - loss: 0.6969 - val_AUC: 0.4965 - val_accuracy: 0.4976 - val_loss: 0.6978 - learning_rate: 0.0010\n",
      "Epoch 9/100\n",
      "\u001b[1m547/547\u001b[0m \u001b[32m━━━━━━━━━━━━━━━━━━━━\u001b[0m\u001b[37m\u001b[0m \u001b[1m0s\u001b[0m 82ms/step - AUC: 0.4995 - accuracy: 0.5011 - loss: 0.6969"
     ]
    },
    {
     "name": "stderr",
     "output_type": "stream",
     "text": [
      "WARNING:absl:You are saving your model as an HDF5 file via `model.save()` or `keras.saving.save_model(model)`. This file format is considered legacy. We recommend using instead the native Keras format, e.g. `model.save('my_model.keras')` or `keras.saving.save_model(model, 'my_model.keras')`. \n"
     ]
    },
    {
     "name": "stdout",
     "output_type": "stream",
     "text": [
      "\u001b[1m547/547\u001b[0m \u001b[32m━━━━━━━━━━━━━━━━━━━━\u001b[0m\u001b[37m\u001b[0m \u001b[1m47s\u001b[0m 86ms/step - AUC: 0.4995 - accuracy: 0.5011 - loss: 0.6969 - val_AUC: 0.4964 - val_accuracy: 0.5029 - val_loss: 0.6964 - learning_rate: 0.0010\n",
      "Epoch 10/100\n",
      "\u001b[1m547/547\u001b[0m \u001b[32m━━━━━━━━━━━━━━━━━━━━\u001b[0m\u001b[37m\u001b[0m \u001b[1m0s\u001b[0m 82ms/step - AUC: 0.4970 - accuracy: 0.5008 - loss: 0.6966"
     ]
    },
    {
     "name": "stderr",
     "output_type": "stream",
     "text": [
      "WARNING:absl:You are saving your model as an HDF5 file via `model.save()` or `keras.saving.save_model(model)`. This file format is considered legacy. We recommend using instead the native Keras format, e.g. `model.save('my_model.keras')` or `keras.saving.save_model(model, 'my_model.keras')`. \n"
     ]
    },
    {
     "name": "stdout",
     "output_type": "stream",
     "text": [
      "\u001b[1m547/547\u001b[0m \u001b[32m━━━━━━━━━━━━━━━━━━━━\u001b[0m\u001b[37m\u001b[0m \u001b[1m47s\u001b[0m 86ms/step - AUC: 0.4970 - accuracy: 0.5008 - loss: 0.6966 - val_AUC: 0.5088 - val_accuracy: 0.4972 - val_loss: 0.6962 - learning_rate: 0.0010\n",
      "Epoch 11/100\n",
      "\u001b[1m547/547\u001b[0m \u001b[32m━━━━━━━━━━━━━━━━━━━━\u001b[0m\u001b[37m\u001b[0m \u001b[1m0s\u001b[0m 81ms/step - AUC: 0.5029 - accuracy: 0.5061 - loss: 0.6969"
     ]
    },
    {
     "name": "stderr",
     "output_type": "stream",
     "text": [
      "WARNING:absl:You are saving your model as an HDF5 file via `model.save()` or `keras.saving.save_model(model)`. This file format is considered legacy. We recommend using instead the native Keras format, e.g. `model.save('my_model.keras')` or `keras.saving.save_model(model, 'my_model.keras')`. \n"
     ]
    },
    {
     "name": "stdout",
     "output_type": "stream",
     "text": [
      "\u001b[1m547/547\u001b[0m \u001b[32m━━━━━━━━━━━━━━━━━━━━\u001b[0m\u001b[37m\u001b[0m \u001b[1m47s\u001b[0m 85ms/step - AUC: 0.5029 - accuracy: 0.5061 - loss: 0.6969 - val_AUC: 0.4988 - val_accuracy: 0.5024 - val_loss: 0.6961 - learning_rate: 0.0010\n",
      "Epoch 12/100\n",
      "\u001b[1m547/547\u001b[0m \u001b[32m━━━━━━━━━━━━━━━━━━━━\u001b[0m\u001b[37m\u001b[0m \u001b[1m47s\u001b[0m 86ms/step - AUC: 0.5020 - accuracy: 0.5027 - loss: 0.6961 - val_AUC: 0.4997 - val_accuracy: 0.5056 - val_loss: 0.6961 - learning_rate: 0.0010\n",
      "Epoch 13/100\n",
      "\u001b[1m547/547\u001b[0m \u001b[32m━━━━━━━━━━━━━━━━━━━━\u001b[0m\u001b[37m\u001b[0m \u001b[1m0s\u001b[0m 80ms/step - AUC: 0.4947 - accuracy: 0.4977 - loss: 0.6965"
     ]
    },
    {
     "name": "stderr",
     "output_type": "stream",
     "text": [
      "WARNING:absl:You are saving your model as an HDF5 file via `model.save()` or `keras.saving.save_model(model)`. This file format is considered legacy. We recommend using instead the native Keras format, e.g. `model.save('my_model.keras')` or `keras.saving.save_model(model, 'my_model.keras')`. \n"
     ]
    },
    {
     "name": "stdout",
     "output_type": "stream",
     "text": [
      "\u001b[1m547/547\u001b[0m \u001b[32m━━━━━━━━━━━━━━━━━━━━\u001b[0m\u001b[37m\u001b[0m \u001b[1m46s\u001b[0m 84ms/step - AUC: 0.4947 - accuracy: 0.4977 - loss: 0.6965 - val_AUC: 0.5112 - val_accuracy: 0.5021 - val_loss: 0.6956 - learning_rate: 0.0010\n",
      "Epoch 14/100\n",
      "\u001b[1m547/547\u001b[0m \u001b[32m━━━━━━━━━━━━━━━━━━━━\u001b[0m\u001b[37m\u001b[0m \u001b[1m0s\u001b[0m 80ms/step - AUC: 0.4983 - accuracy: 0.4995 - loss: 0.6959"
     ]
    },
    {
     "name": "stderr",
     "output_type": "stream",
     "text": [
      "WARNING:absl:You are saving your model as an HDF5 file via `model.save()` or `keras.saving.save_model(model)`. This file format is considered legacy. We recommend using instead the native Keras format, e.g. `model.save('my_model.keras')` or `keras.saving.save_model(model, 'my_model.keras')`. \n"
     ]
    },
    {
     "name": "stdout",
     "output_type": "stream",
     "text": [
      "\u001b[1m547/547\u001b[0m \u001b[32m━━━━━━━━━━━━━━━━━━━━\u001b[0m\u001b[37m\u001b[0m \u001b[1m46s\u001b[0m 84ms/step - AUC: 0.4983 - accuracy: 0.4995 - loss: 0.6959 - val_AUC: 0.5114 - val_accuracy: 0.5035 - val_loss: 0.6952 - learning_rate: 0.0010\n",
      "Epoch 15/100\n",
      "\u001b[1m547/547\u001b[0m \u001b[32m━━━━━━━━━━━━━━━━━━━━\u001b[0m\u001b[37m\u001b[0m \u001b[1m47s\u001b[0m 85ms/step - AUC: 0.5051 - accuracy: 0.5055 - loss: 0.6957 - val_AUC: 0.5071 - val_accuracy: 0.5108 - val_loss: 0.6961 - learning_rate: 0.0010\n",
      "Epoch 16/100\n",
      "\u001b[1m547/547\u001b[0m \u001b[32m━━━━━━━━━━━━━━━━━━━━\u001b[0m\u001b[37m\u001b[0m \u001b[1m46s\u001b[0m 85ms/step - AUC: 0.5150 - accuracy: 0.5128 - loss: 0.6952 - val_AUC: 0.4862 - val_accuracy: 0.4911 - val_loss: 0.6960 - learning_rate: 0.0010\n",
      "Epoch 17/100\n",
      "\u001b[1m547/547\u001b[0m \u001b[32m━━━━━━━━━━━━━━━━━━━━\u001b[0m\u001b[37m\u001b[0m \u001b[1m46s\u001b[0m 85ms/step - AUC: 0.4999 - accuracy: 0.5023 - loss: 0.6960 - val_AUC: 0.4934 - val_accuracy: 0.4991 - val_loss: 0.6954 - learning_rate: 0.0010\n",
      "Epoch 18/100\n",
      "\u001b[1m547/547\u001b[0m \u001b[32m━━━━━━━━━━━━━━━━━━━━\u001b[0m\u001b[37m\u001b[0m \u001b[1m0s\u001b[0m 81ms/step - AUC: 0.5027 - accuracy: 0.5029 - loss: 0.6946"
     ]
    },
    {
     "name": "stderr",
     "output_type": "stream",
     "text": [
      "WARNING:absl:You are saving your model as an HDF5 file via `model.save()` or `keras.saving.save_model(model)`. This file format is considered legacy. We recommend using instead the native Keras format, e.g. `model.save('my_model.keras')` or `keras.saving.save_model(model, 'my_model.keras')`. \n"
     ]
    },
    {
     "name": "stdout",
     "output_type": "stream",
     "text": [
      "\u001b[1m547/547\u001b[0m \u001b[32m━━━━━━━━━━━━━━━━━━━━\u001b[0m\u001b[37m\u001b[0m \u001b[1m46s\u001b[0m 85ms/step - AUC: 0.5027 - accuracy: 0.5029 - loss: 0.6946 - val_AUC: 0.5078 - val_accuracy: 0.5041 - val_loss: 0.6946 - learning_rate: 0.0010\n",
      "Epoch 19/100\n",
      "\u001b[1m547/547\u001b[0m \u001b[32m━━━━━━━━━━━━━━━━━━━━\u001b[0m\u001b[37m\u001b[0m \u001b[1m47s\u001b[0m 85ms/step - AUC: 0.4951 - accuracy: 0.5003 - loss: 0.6950 - val_AUC: 0.5095 - val_accuracy: 0.4987 - val_loss: 0.6952 - learning_rate: 0.0010\n",
      "Epoch 20/100\n",
      "\u001b[1m547/547\u001b[0m \u001b[32m━━━━━━━━━━━━━━━━━━━━\u001b[0m\u001b[37m\u001b[0m \u001b[1m47s\u001b[0m 86ms/step - AUC: 0.5012 - accuracy: 0.5055 - loss: 0.6945 - val_AUC: 0.4863 - val_accuracy: 0.4935 - val_loss: 0.6948 - learning_rate: 0.0010\n",
      "Epoch 21/100\n",
      "\u001b[1m547/547\u001b[0m \u001b[32m━━━━━━━━━━━━━━━━━━━━\u001b[0m\u001b[37m\u001b[0m \u001b[1m0s\u001b[0m 82ms/step - AUC: 0.5140 - accuracy: 0.5135 - loss: 0.6941"
     ]
    },
    {
     "name": "stderr",
     "output_type": "stream",
     "text": [
      "WARNING:absl:You are saving your model as an HDF5 file via `model.save()` or `keras.saving.save_model(model)`. This file format is considered legacy. We recommend using instead the native Keras format, e.g. `model.save('my_model.keras')` or `keras.saving.save_model(model, 'my_model.keras')`. \n"
     ]
    },
    {
     "name": "stdout",
     "output_type": "stream",
     "text": [
      "\u001b[1m547/547\u001b[0m \u001b[32m━━━━━━━━━━━━━━━━━━━━\u001b[0m\u001b[37m\u001b[0m \u001b[1m47s\u001b[0m 86ms/step - AUC: 0.5140 - accuracy: 0.5135 - loss: 0.6941 - val_AUC: 0.5068 - val_accuracy: 0.5021 - val_loss: 0.6944 - learning_rate: 0.0010\n",
      "Epoch 22/100\n",
      "\u001b[1m547/547\u001b[0m \u001b[32m━━━━━━━━━━━━━━━━━━━━\u001b[0m\u001b[37m\u001b[0m \u001b[1m47s\u001b[0m 86ms/step - AUC: 0.5099 - accuracy: 0.5072 - loss: 0.6943 - val_AUC: 0.5103 - val_accuracy: 0.5017 - val_loss: 0.6947 - learning_rate: 0.0010\n",
      "Epoch 23/100\n",
      "\u001b[1m547/547\u001b[0m \u001b[32m━━━━━━━━━━━━━━━━━━━━\u001b[0m\u001b[37m\u001b[0m \u001b[1m0s\u001b[0m 82ms/step - AUC: 0.4973 - accuracy: 0.5010 - loss: 0.6947"
     ]
    },
    {
     "name": "stderr",
     "output_type": "stream",
     "text": [
      "WARNING:absl:You are saving your model as an HDF5 file via `model.save()` or `keras.saving.save_model(model)`. This file format is considered legacy. We recommend using instead the native Keras format, e.g. `model.save('my_model.keras')` or `keras.saving.save_model(model, 'my_model.keras')`. \n"
     ]
    },
    {
     "name": "stdout",
     "output_type": "stream",
     "text": [
      "\u001b[1m547/547\u001b[0m \u001b[32m━━━━━━━━━━━━━━━━━━━━\u001b[0m\u001b[37m\u001b[0m \u001b[1m47s\u001b[0m 86ms/step - AUC: 0.4973 - accuracy: 0.5010 - loss: 0.6947 - val_AUC: 0.5055 - val_accuracy: 0.5004 - val_loss: 0.6940 - learning_rate: 0.0010\n",
      "Epoch 24/100\n",
      "\u001b[1m547/547\u001b[0m \u001b[32m━━━━━━━━━━━━━━━━━━━━\u001b[0m\u001b[37m\u001b[0m \u001b[1m0s\u001b[0m 82ms/step - AUC: 0.5019 - accuracy: 0.5030 - loss: 0.6941"
     ]
    },
    {
     "name": "stderr",
     "output_type": "stream",
     "text": [
      "WARNING:absl:You are saving your model as an HDF5 file via `model.save()` or `keras.saving.save_model(model)`. This file format is considered legacy. We recommend using instead the native Keras format, e.g. `model.save('my_model.keras')` or `keras.saving.save_model(model, 'my_model.keras')`. \n"
     ]
    },
    {
     "name": "stdout",
     "output_type": "stream",
     "text": [
      "\u001b[1m547/547\u001b[0m \u001b[32m━━━━━━━━━━━━━━━━━━━━\u001b[0m\u001b[37m\u001b[0m \u001b[1m47s\u001b[0m 87ms/step - AUC: 0.5019 - accuracy: 0.5030 - loss: 0.6941 - val_AUC: 0.5031 - val_accuracy: 0.5056 - val_loss: 0.6938 - learning_rate: 0.0010\n",
      "Epoch 25/100\n",
      "\u001b[1m547/547\u001b[0m \u001b[32m━━━━━━━━━━━━━━━━━━━━\u001b[0m\u001b[37m\u001b[0m \u001b[1m47s\u001b[0m 85ms/step - AUC: 0.5005 - accuracy: 0.5042 - loss: 0.6939 - val_AUC: 0.4958 - val_accuracy: 0.4983 - val_loss: 0.6941 - learning_rate: 0.0010\n",
      "Epoch 26/100\n",
      "\u001b[1m547/547\u001b[0m \u001b[32m━━━━━━━━━━━━━━━━━━━━\u001b[0m\u001b[37m\u001b[0m \u001b[1m0s\u001b[0m 82ms/step - AUC: 0.5055 - accuracy: 0.5059 - loss: 0.6938"
     ]
    },
    {
     "name": "stderr",
     "output_type": "stream",
     "text": [
      "WARNING:absl:You are saving your model as an HDF5 file via `model.save()` or `keras.saving.save_model(model)`. This file format is considered legacy. We recommend using instead the native Keras format, e.g. `model.save('my_model.keras')` or `keras.saving.save_model(model, 'my_model.keras')`. \n"
     ]
    },
    {
     "name": "stdout",
     "output_type": "stream",
     "text": [
      "\u001b[1m547/547\u001b[0m \u001b[32m━━━━━━━━━━━━━━━━━━━━\u001b[0m\u001b[37m\u001b[0m \u001b[1m47s\u001b[0m 86ms/step - AUC: 0.5055 - accuracy: 0.5059 - loss: 0.6938 - val_AUC: 0.5146 - val_accuracy: 0.5146 - val_loss: 0.6936 - learning_rate: 0.0010\n",
      "Epoch 27/100\n",
      "\u001b[1m547/547\u001b[0m \u001b[32m━━━━━━━━━━━━━━━━━━━━\u001b[0m\u001b[37m\u001b[0m \u001b[1m0s\u001b[0m 82ms/step - AUC: 0.5070 - accuracy: 0.5051 - loss: 0.6938"
     ]
    },
    {
     "name": "stderr",
     "output_type": "stream",
     "text": [
      "WARNING:absl:You are saving your model as an HDF5 file via `model.save()` or `keras.saving.save_model(model)`. This file format is considered legacy. We recommend using instead the native Keras format, e.g. `model.save('my_model.keras')` or `keras.saving.save_model(model, 'my_model.keras')`. \n"
     ]
    },
    {
     "name": "stdout",
     "output_type": "stream",
     "text": [
      "\u001b[1m547/547\u001b[0m \u001b[32m━━━━━━━━━━━━━━━━━━━━\u001b[0m\u001b[37m\u001b[0m \u001b[1m47s\u001b[0m 86ms/step - AUC: 0.5070 - accuracy: 0.5051 - loss: 0.6938 - val_AUC: 0.5219 - val_accuracy: 0.5195 - val_loss: 0.6934 - learning_rate: 0.0010\n",
      "Epoch 28/100\n",
      "\u001b[1m547/547\u001b[0m \u001b[32m━━━━━━━━━━━━━━━━━━━━\u001b[0m\u001b[37m\u001b[0m \u001b[1m47s\u001b[0m 87ms/step - AUC: 0.5096 - accuracy: 0.5089 - loss: 0.6936 - val_AUC: 0.5068 - val_accuracy: 0.4976 - val_loss: 0.6942 - learning_rate: 0.0010\n",
      "Epoch 29/100\n",
      "\u001b[1m547/547\u001b[0m \u001b[32m━━━━━━━━━━━━━━━━━━━━\u001b[0m\u001b[37m\u001b[0m \u001b[1m47s\u001b[0m 86ms/step - AUC: 0.5162 - accuracy: 0.5116 - loss: 0.6937 - val_AUC: 0.4990 - val_accuracy: 0.4908 - val_loss: 0.6939 - learning_rate: 0.0010\n",
      "Epoch 30/100\n",
      "\u001b[1m547/547\u001b[0m \u001b[32m━━━━━━━━━━━━━━━━━━━━\u001b[0m\u001b[37m\u001b[0m \u001b[1m47s\u001b[0m 86ms/step - AUC: 0.5144 - accuracy: 0.5123 - loss: 0.6933 - val_AUC: 0.5109 - val_accuracy: 0.5043 - val_loss: 0.6939 - learning_rate: 0.0010\n",
      "Epoch 31/100\n",
      "\u001b[1m547/547\u001b[0m \u001b[32m━━━━━━━━━━━━━━━━━━━━\u001b[0m\u001b[37m\u001b[0m \u001b[1m47s\u001b[0m 85ms/step - AUC: 0.5139 - accuracy: 0.5166 - loss: 0.6935 - val_AUC: 0.5088 - val_accuracy: 0.5104 - val_loss: 0.6938 - learning_rate: 0.0010\n",
      "Epoch 32/100\n",
      "\u001b[1m547/547\u001b[0m \u001b[32m━━━━━━━━━━━━━━━━━━━━\u001b[0m\u001b[37m\u001b[0m \u001b[1m46s\u001b[0m 85ms/step - AUC: 0.5176 - accuracy: 0.5110 - loss: 0.6933 - val_AUC: 0.5015 - val_accuracy: 0.5008 - val_loss: 0.6937 - learning_rate: 0.0010\n",
      "Epoch 33/100\n",
      "\u001b[1m547/547\u001b[0m \u001b[32m━━━━━━━━━━━━━━━━━━━━\u001b[0m\u001b[37m\u001b[0m \u001b[1m46s\u001b[0m 85ms/step - AUC: 0.5276 - accuracy: 0.5223 - loss: 0.6927 - val_AUC: 0.5142 - val_accuracy: 0.5108 - val_loss: 0.6939 - learning_rate: 5.0000e-04\n",
      "Epoch 34/100\n",
      "\u001b[1m547/547\u001b[0m \u001b[32m━━━━━━━━━━━━━━━━━━━━\u001b[0m\u001b[37m\u001b[0m \u001b[1m46s\u001b[0m 85ms/step - AUC: 0.5308 - accuracy: 0.5273 - loss: 0.6921 - val_AUC: 0.5107 - val_accuracy: 0.5055 - val_loss: 0.6946 - learning_rate: 5.0000e-04\n",
      "Epoch 35/100\n",
      "\u001b[1m547/547\u001b[0m \u001b[32m━━━━━━━━━━━━━━━━━━━━\u001b[0m\u001b[37m\u001b[0m \u001b[1m46s\u001b[0m 83ms/step - AUC: 0.5349 - accuracy: 0.5259 - loss: 0.6919 - val_AUC: 0.5106 - val_accuracy: 0.5031 - val_loss: 0.6961 - learning_rate: 5.0000e-04\n",
      "Epoch 36/100\n",
      "\u001b[1m547/547\u001b[0m \u001b[32m━━━━━━━━━━━━━━━━━━━━\u001b[0m\u001b[37m\u001b[0m \u001b[1m46s\u001b[0m 84ms/step - AUC: 0.5450 - accuracy: 0.5316 - loss: 0.6906 - val_AUC: 0.5082 - val_accuracy: 0.5100 - val_loss: 0.6960 - learning_rate: 5.0000e-04\n",
      "Epoch 37/100\n",
      "\u001b[1m547/547\u001b[0m \u001b[32m━━━━━━━━━━━━━━━━━━━━\u001b[0m\u001b[37m\u001b[0m \u001b[1m46s\u001b[0m 84ms/step - AUC: 0.5461 - accuracy: 0.5344 - loss: 0.6905 - val_AUC: 0.5052 - val_accuracy: 0.5085 - val_loss: 0.6958 - learning_rate: 5.0000e-04\n"
     ]
    }
   ],
   "source": [
    "import tensorflow as tf\n",
    "from tensorflow.keras.layers import (\n",
    "    Input, Conv1D, SpatialDropout1D, LayerNormalization,\n",
    "    Bidirectional, LSTM, Dense, Dropout, BatchNormalization,\n",
    "    Permute, Multiply, Softmax, Lambda, Concatenate\n",
    ")\n",
    "from tensorflow.keras.models import Model\n",
    "from tensorflow.keras.regularizers import l2\n",
    "from tensorflow.keras.optimizers import Adam\n",
    "\n",
    "# --- 1) Attention Block ---\n",
    "def attention_block(inputs):\n",
    "    # inputs.shape = (batch, timesteps, features)\n",
    "    # 1) Score each timestep\n",
    "    a = Permute((2,1))(inputs)                          # (batch, features, timesteps)\n",
    "    a = Dense(inputs.shape[1], activation='tanh')(a)    # learnable scoring\n",
    "    a = Softmax(axis=-1)(a)                             # normalize over timesteps\n",
    "    a = Permute((2,1))(a)                               # back to (batch, timesteps, features)\n",
    "    # 2) Weight inputs and sum\n",
    "    weighted = Multiply()([inputs, a])\n",
    "    return Lambda(lambda x: tf.reduce_sum(x, axis=1))(weighted)\n",
    "\n",
    "# --- 2) Build the Hybrid CNN→Bi‑LSTM→Attention Model ---\n",
    "def build_robust_ts_model(window_size, n_features):\n",
    "    seq_in = Input(shape=(window_size, n_features), name='seq_input')\n",
    "    \n",
    "    # 2A) Spatial Dropout for regularizing across features\n",
    "    x = SpatialDropout1D(0.2)(seq_in)\n",
    "    \n",
    "    # 2B) Parallel CNN “motif” towers\n",
    "    t1 = Conv1D(64, 3, padding='same', activation='relu')(x)\n",
    "    t2 = Conv1D(64, 5, padding='same', activation='relu')(x)\n",
    "    t3 = Conv1D(64, 7, padding='same', activation='relu')(x)\n",
    "    x = Concatenate()([t1, t2, t3])\n",
    "    x = LayerNormalization()(x)\n",
    "    x = Dropout(0.2)(x)\n",
    "    \n",
    "    # 2C) Stacked Bidirectional LSTMs with LayerNorm + Dropout\n",
    "    x = Bidirectional(LSTM(128, return_sequences=True, dropout=0.2, recurrent_dropout=0.2))(x)\n",
    "    x = LayerNormalization()(x)\n",
    "    x = Bidirectional(LSTM(64, return_sequences=True, dropout=0.2, recurrent_dropout=0.2))(x)\n",
    "    x = LayerNormalization()(x)\n",
    "    \n",
    "    # 2D) Attention pooling over time\n",
    "    x = attention_block(x)   # → shape (batch, features)\n",
    "    \n",
    "    # 2E) Deep Dense Head with regularization\n",
    "    x = Dense(128, activation='relu', kernel_regularizer=l2(0.001))(x)\n",
    "    x = BatchNormalization()(x)\n",
    "    x = Dropout(0.3)(x)\n",
    "    x = Dense(64, activation='relu', kernel_regularizer=l2(0.001))(x)\n",
    "    x = BatchNormalization()(x)\n",
    "    x = Dropout(0.3)(x)\n",
    "    \n",
    "    # 2F) Final binary output\n",
    "    out = Dense(1, activation='sigmoid', name='price_up')(x)\n",
    "    \n",
    "    model = Model(seq_in, out, name='CNN_LSTM_Attn_TS')\n",
    "    model.compile(\n",
    "        loss='binary_crossentropy',\n",
    "        optimizer=Adam(learning_rate=1e-3),\n",
    "        metrics=['AUC','accuracy']\n",
    "    )\n",
    "    return model\n",
    "\n",
    "# --- 3) Instantiate & Train ---\n",
    "# assuming you have your windowed data X_train, y_train, X_val, y_val:\n",
    "window_size, n_features = X_train.shape[1], X_train.shape[2]\n",
    "model = build_robust_ts_model(window_size, n_features)\n",
    "model.summary()\n",
    "\n",
    "callbacks = [\n",
    "    tf.keras.callbacks.EarlyStopping(monitor='val_loss', patience=10, restore_best_weights=True),\n",
    "    tf.keras.callbacks.ReduceLROnPlateau(monitor='val_loss', factor=0.5, patience=5, min_lr=1e-6),\n",
    "    tf.keras.callbacks.ModelCheckpoint('best_ts_model.h5', monitor='val_loss', save_best_only=True)\n",
    "]\n",
    "\n",
    "history = model.fit(\n",
    "    X_train, y_train,\n",
    "    validation_data=(X_val, y_val),\n",
    "    epochs=100,\n",
    "    batch_size=64,\n",
    "    callbacks=callbacks,\n",
    ")\n"
   ]
  },
  {
   "cell_type": "code",
   "execution_count": 22,
   "metadata": {
    "cellUniqueIdByVincent": "1e82d"
   },
   "outputs": [
    {
     "data": {
      "image/png": "[encoded data removed]",
      "text/plain": [
       "<Figure size 1200x500 with 2 Axes>"
      ]
     },
     "metadata": {},
     "output_type": "display_data"
    },
    {
     "name": "stdout",
     "output_type": "stream",
     "text": [
      "\u001b[1m234/234\u001b[0m \u001b[32m━━━━━━━━━━━━━━━━━━━━\u001b[0m\u001b[37m\u001b[0m \u001b[1m3s\u001b[0m 10ms/step\n",
      "Confusion Matrix:\n",
      "[[1346 2411]\n",
      " [1187 2544]]\n",
      "\n",
      "Classification Report:\n",
      "              precision    recall  f1-score   support\n",
      "\n",
      "           0       0.53      0.36      0.43      3757\n",
      "           1       0.51      0.68      0.59      3731\n",
      "\n",
      "    accuracy                           0.52      7488\n",
      "   macro avg       0.52      0.52      0.51      7488\n",
      "weighted avg       0.52      0.52      0.51      7488\n",
      "\n"
     ]
    }
   ],
   "source": [
    "\n",
    "# Plot training history\n",
    "plt.figure(figsize=(12, 5))\n",
    "plt.subplot(1, 2, 1)\n",
    "plt.plot(history.history['loss'], label='Train Loss')\n",
    "plt.plot(history.history['val_loss'], label='Validation Loss')\n",
    "plt.title('Model Loss')\n",
    "plt.xlabel('Epochs')\n",
    "plt.ylabel('Loss')\n",
    "plt.legend()\n",
    "\n",
    "plt.subplot(1, 2, 2)\n",
    "plt.plot(history.history['accuracy'], label='Train Accuracy')\n",
    "plt.plot(history.history['val_accuracy'], label='Validation Accuracy')\n",
    "plt.title('Model Accuracy')\n",
    "plt.xlabel('Epochs')\n",
    "plt.ylabel('Accuracy')\n",
    "plt.legend()\n",
    "plt.tight_layout()\n",
    "plt.show()\n",
    "\n",
    "\n",
    "# Make predictions on validation set\n",
    "y_pred = (model.predict(X_val) > 0.5).astype(int).flatten()\n",
    "\n",
    "# Calculate confusion matrix\n",
    "from sklearn.metrics import confusion_matrix, classification_report\n",
    "\n",
    "conf_matrix = confusion_matrix(y_val, y_pred)\n",
    "class_report = classification_report(y_val, y_pred)\n",
    "\n",
    "print(\"Confusion Matrix:\")\n",
    "print(conf_matrix)\n",
    "print(\"\\nClassification Report:\")\n",
    "print(class_report)"
   ]
  },
  {
   "cell_type": "code",
   "execution_count": 9,
   "metadata": {
    "cellUniqueIdByVincent": "0adc3"
   },
   "outputs": [
    {
     "name": "stdout",
     "output_type": "stream",
     "text": [
      "Epoch 1/20\n",
      "\u001b[1m547/547\u001b[0m \u001b[32m━━━━━━━━━━━━━━━━━━━━\u001b[0m\u001b[37m\u001b[0m \u001b[1m6s\u001b[0m 9ms/step - loss: 0.7972 - val_loss: 0.7263\n",
      "Epoch 2/20\n",
      "\u001b[1m547/547\u001b[0m \u001b[32m━━━━━━━━━━━━━━━━━━━━\u001b[0m\u001b[37m\u001b[0m \u001b[1m5s\u001b[0m 9ms/step - loss: 0.7074 - val_loss: 0.6994\n",
      "Epoch 3/20\n",
      "\u001b[1m547/547\u001b[0m \u001b[32m━━━━━━━━━━━━━━━━━━━━\u001b[0m\u001b[37m\u001b[0m \u001b[1m5s\u001b[0m 9ms/step - loss: 0.6833 - val_loss: 0.6808\n",
      "Epoch 4/20\n",
      "\u001b[1m547/547\u001b[0m \u001b[32m━━━━━━━━━━━━━━━━━━━━\u001b[0m\u001b[37m\u001b[0m \u001b[1m5s\u001b[0m 9ms/step - loss: 0.6672 - val_loss: 0.6665\n",
      "Epoch 5/20\n",
      "\u001b[1m547/547\u001b[0m \u001b[32m━━━━━━━━━━━━━━━━━━━━\u001b[0m\u001b[37m\u001b[0m \u001b[1m5s\u001b[0m 9ms/step - loss: 0.6542 - val_loss: 0.6550\n",
      "Epoch 6/20\n",
      "\u001b[1m547/547\u001b[0m \u001b[32m━━━━━━━━━━━━━━━━━━━━\u001b[0m\u001b[37m\u001b[0m \u001b[1m5s\u001b[0m 8ms/step - loss: 0.6431 - val_loss: 0.6442\n",
      "Epoch 7/20\n",
      "\u001b[1m547/547\u001b[0m \u001b[32m━━━━━━━━━━━━━━━━━━━━\u001b[0m\u001b[37m\u001b[0m \u001b[1m5s\u001b[0m 8ms/step - loss: 0.6336 - val_loss: 0.6353\n",
      "Epoch 8/20\n",
      "\u001b[1m547/547\u001b[0m \u001b[32m━━━━━━━━━━━━━━━━━━━━\u001b[0m\u001b[37m\u001b[0m \u001b[1m5s\u001b[0m 9ms/step - loss: 0.6266 - val_loss: 0.6312\n",
      "Epoch 9/20\n",
      "\u001b[1m547/547\u001b[0m \u001b[32m━━━━━━━━━━━━━━━━━━━━\u001b[0m\u001b[37m\u001b[0m \u001b[1m5s\u001b[0m 9ms/step - loss: 0.6194 - val_loss: 0.6252\n",
      "Epoch 10/20\n",
      "\u001b[1m547/547\u001b[0m \u001b[32m━━━━━━━━━━━━━━━━━━━━\u001b[0m\u001b[37m\u001b[0m \u001b[1m5s\u001b[0m 8ms/step - loss: 0.6147 - val_loss: 0.6202\n",
      "Epoch 11/20\n",
      "\u001b[1m547/547\u001b[0m \u001b[32m━━━━━━━━━━━━━━━━━━━━\u001b[0m\u001b[37m\u001b[0m \u001b[1m5s\u001b[0m 9ms/step - loss: 0.6091 - val_loss: 0.6158\n",
      "Epoch 12/20\n",
      "\u001b[1m547/547\u001b[0m \u001b[32m━━━━━━━━━━━━━━━━━━━━\u001b[0m\u001b[37m\u001b[0m \u001b[1m5s\u001b[0m 9ms/step - loss: 0.6036 - val_loss: 0.6104\n",
      "Epoch 13/20\n",
      "\u001b[1m547/547\u001b[0m \u001b[32m━━━━━━━━━━━━━━━━━━━━\u001b[0m\u001b[37m\u001b[0m \u001b[1m5s\u001b[0m 8ms/step - loss: 0.6008 - val_loss: 0.6055\n",
      "Epoch 14/20\n",
      "\u001b[1m547/547\u001b[0m \u001b[32m━━━━━━━━━━━━━━━━━━━━\u001b[0m\u001b[37m\u001b[0m \u001b[1m5s\u001b[0m 8ms/step - loss: 0.5972 - val_loss: 0.6033\n",
      "Epoch 15/20\n",
      "\u001b[1m547/547\u001b[0m \u001b[32m━━━━━━━━━━━━━━━━━━━━\u001b[0m\u001b[37m\u001b[0m \u001b[1m5s\u001b[0m 8ms/step - loss: 0.5944 - val_loss: 0.6007\n",
      "Epoch 16/20\n",
      "\u001b[1m547/547\u001b[0m \u001b[32m━━━━━━━━━━━━━━━━━━━━\u001b[0m\u001b[37m\u001b[0m \u001b[1m5s\u001b[0m 8ms/step - loss: 0.5888 - val_loss: 0.5955\n",
      "Epoch 17/20\n",
      "\u001b[1m547/547\u001b[0m \u001b[32m━━━━━━━━━━━━━━━━━━━━\u001b[0m\u001b[37m\u001b[0m \u001b[1m5s\u001b[0m 9ms/step - loss: 0.5848 - val_loss: 0.5909\n",
      "Epoch 18/20\n",
      "\u001b[1m547/547\u001b[0m \u001b[32m━━━━━━━━━━━━━━━━━━━━\u001b[0m\u001b[37m\u001b[0m \u001b[1m5s\u001b[0m 8ms/step - loss: 0.5824 - val_loss: 0.5889\n",
      "Epoch 19/20\n",
      "\u001b[1m547/547\u001b[0m \u001b[32m━━━━━━━━━━━━━━━━━━━━\u001b[0m\u001b[37m\u001b[0m \u001b[1m4s\u001b[0m 8ms/step - loss: 0.5793 - val_loss: 0.5851\n",
      "Epoch 20/20\n",
      "\u001b[1m547/547\u001b[0m \u001b[32m━━━━━━━━━━━━━━━━━━━━\u001b[0m\u001b[37m\u001b[0m \u001b[1m4s\u001b[0m 8ms/step - loss: 0.5766 - val_loss: 0.5832\n"
     ]
    },
    {
     "data": {
      "text/plain": [
       "<keras.src.callbacks.history.History at 0x357cb3c70>"
      ]
     },
     "execution_count": 9,
     "metadata": {},
     "output_type": "execute_result"
    }
   ],
   "source": [
    "import numpy as np\n",
    "from sklearn.metrics import confusion_matrix, classification_report, roc_auc_score\n",
    "import tensorflow as tf\n",
    "from tensorflow.keras.layers import (\n",
    "    Input, LSTM, RepeatVector, Dense, Dropout, BatchNormalization\n",
    ")\n",
    "from tensorflow.keras.models import Model\n",
    "from tensorflow.keras.optimizers import Adam\n",
    "from tensorflow.keras.regularizers import l2\n",
    "\n",
    "# === 1) Derive magnitude labels from Price_Change ===\n",
    "# Note: train_df, val_df, test_df still contain 'Price_Change'\n",
    "y_train_mag = train_df['Price_Change'].iloc[window_size:].values\n",
    "y_val_mag   = val_df['Price_Change'].iloc[window_size:].values\n",
    "y_test_mag  = test_df['Price_Change'].iloc[window_size:].values\n",
    "\n",
    "# === 2) Self‑Supervised Pretraining: Sequence Autoencoder ===\n",
    "ae_in = Input(shape=(window_size, len(feature_cols)))\n",
    "# Encoder\n",
    "encoded = LSTM(128, return_sequences=False)(ae_in)\n",
    "# Decoder\n",
    "decoded = RepeatVector(window_size)(encoded)\n",
    "decoded = LSTM(len(feature_cols), return_sequences=True)(decoded)\n",
    "\n",
    "autoencoder = Model(ae_in, decoded)\n",
    "autoencoder.compile(optimizer='adam', loss='mse')\n",
    "\n",
    "autoencoder.fit(\n",
    "    X_train, X_train,\n",
    "    validation_data=(X_val, X_val),\n",
    "    epochs=20,\n",
    "    batch_size=64,\n",
    "    verbose=1\n",
    ")\n"
   ]
  },
  {
   "cell_type": "code",
   "execution_count": null,
   "metadata": {
    "cellUniqueIdByVincent": "87246"
   },
   "outputs": [
    {
     "name": "stdout",
     "output_type": "stream",
     "text": [
      "Epoch 1/50\n",
      "\u001b[1m547/547\u001b[0m \u001b[32m━━━━━━━━━━━━━━━━━━━━\u001b[0m\u001b[37m\u001b[0m \u001b[1m6s\u001b[0m 9ms/step - direction_AUC: 0.4959 - direction_loss: 0.8468 - loss: 41366.0820 - magnitude_loss: 82729.7656 - val_direction_AUC: 0.4961 - val_direction_loss: 0.7006 - val_loss: 42822.0391 - val_magnitude_loss: 85641.9375\n",
      "Epoch 2/50\n",
      "\u001b[1m547/547\u001b[0m \u001b[32m━━━━━━━━━━━━━━━━━━━━\u001b[0m\u001b[37m\u001b[0m \u001b[1m5s\u001b[0m 9ms/step - direction_AUC: 0.4989 - direction_loss: 0.7034 - loss: 41617.4102 - magnitude_loss: 83232.6562 - val_direction_AUC: 0.4976 - val_direction_loss: 0.6956 - val_loss: 42834.5430 - val_magnitude_loss: 85666.9297\n",
      "Epoch 3/50\n",
      "\u001b[1m547/547\u001b[0m \u001b[32m━━━━━━━━━━━━━━━━━━━━\u001b[0m\u001b[37m\u001b[0m \u001b[1m5s\u001b[0m 9ms/step - direction_AUC: 0.5028 - direction_loss: 0.6958 - loss: 41418.0625 - magnitude_loss: 82833.9219 - val_direction_AUC: 0.4999 - val_direction_loss: 0.6943 - val_loss: 42854.2734 - val_magnitude_loss: 85706.3516\n",
      "Epoch 4/50\n",
      "\u001b[1m547/547\u001b[0m \u001b[32m━━━━━━━━━━━━━━━━━━━━\u001b[0m\u001b[37m\u001b[0m \u001b[1m5s\u001b[0m 9ms/step - direction_AUC: 0.5012 - direction_loss: 0.6956 - loss: 41574.9648 - magnitude_loss: 83147.7422 - val_direction_AUC: 0.4932 - val_direction_loss: 0.6977 - val_loss: 42868.5156 - val_magnitude_loss: 85734.7656\n",
      "Epoch 5/50\n",
      "\u001b[1m547/547\u001b[0m \u001b[32m━━━━━━━━━━━━━━━━━━━━\u001b[0m\u001b[37m\u001b[0m \u001b[1m5s\u001b[0m 9ms/step - direction_AUC: 0.5009 - direction_loss: 0.6955 - loss: 41645.1289 - magnitude_loss: 83287.9844 - val_direction_AUC: 0.4940 - val_direction_loss: 0.6949 - val_loss: 42887.6719 - val_magnitude_loss: 85773.0156\n",
      "Epoch 6/50\n",
      "\u001b[1m547/547\u001b[0m \u001b[32m━━━━━━━━━━━━━━━━━━━━\u001b[0m\u001b[37m\u001b[0m \u001b[1m4s\u001b[0m 8ms/step - direction_AUC: 0.5015 - direction_loss: 0.6957 - loss: 41638.7734 - magnitude_loss: 83275.2344 - val_direction_AUC: 0.5142 - val_direction_loss: 0.6939 - val_loss: 42931.2227 - val_magnitude_loss: 85860.0312\n",
      "Epoch 7/50\n",
      "\u001b[1m547/547\u001b[0m \u001b[32m━━━━━━━━━━━━━━━━━━━━\u001b[0m\u001b[37m\u001b[0m \u001b[1m5s\u001b[0m 9ms/step - direction_AUC: 0.5237 - direction_loss: 0.6934 - loss: 41257.6094 - magnitude_loss: 82512.7734 - val_direction_AUC: 0.5000 - val_direction_loss: 0.6976 - val_loss: 43056.8438 - val_magnitude_loss: 86111.1797\n",
      "Epoch 8/50\n",
      "\u001b[1m547/547\u001b[0m \u001b[32m━━━━━━━━━━━━━━━━━━━━\u001b[0m\u001b[37m\u001b[0m \u001b[1m5s\u001b[0m 9ms/step - direction_AUC: 0.5418 - direction_loss: 0.6914 - loss: 40864.0117 - magnitude_loss: 81725.4844 - val_direction_AUC: 0.5018 - val_direction_loss: 0.6945 - val_loss: 43277.6172 - val_magnitude_loss: 86552.5547\n",
      "Epoch 9/50\n",
      "\u001b[1m547/547\u001b[0m \u001b[32m━━━━━━━━━━━━━━━━━━━━\u001b[0m\u001b[37m\u001b[0m \u001b[1m5s\u001b[0m 9ms/step - direction_AUC: 0.5567 - direction_loss: 0.6896 - loss: 40378.2031 - magnitude_loss: 80753.6719 - val_direction_AUC: 0.4922 - val_direction_loss: 0.6967 - val_loss: 43535.1016 - val_magnitude_loss: 87067.4141\n",
      "Epoch 10/50\n",
      "\u001b[1m547/547\u001b[0m \u001b[32m━━━━━━━━━━━━━━━━━━━━\u001b[0m\u001b[37m\u001b[0m \u001b[1m5s\u001b[0m 9ms/step - direction_AUC: 0.5861 - direction_loss: 0.6824 - loss: 39913.2383 - magnitude_loss: 79823.6953 - val_direction_AUC: 0.4895 - val_direction_loss: 0.7021 - val_loss: 44205.4883 - val_magnitude_loss: 88408.0078\n",
      "Epoch 11/50\n",
      "\u001b[1m547/547\u001b[0m \u001b[32m━━━━━━━━━━━━━━━━━━━━\u001b[0m\u001b[37m\u001b[0m \u001b[1m5s\u001b[0m 9ms/step - direction_AUC: 0.6146 - direction_loss: 0.6722 - loss: 38786.2227 - magnitude_loss: 77569.5234 - val_direction_AUC: 0.4889 - val_direction_loss: 0.7214 - val_loss: 44869.7734 - val_magnitude_loss: 89736.3750\n",
      "Epoch 12/50\n",
      "\u001b[1m547/547\u001b[0m \u001b[32m━━━━━━━━━━━━━━━━━━━━\u001b[0m\u001b[37m\u001b[0m \u001b[1m5s\u001b[0m 9ms/step - direction_AUC: 0.6417 - direction_loss: 0.6608 - loss: 37991.7578 - magnitude_loss: 75980.4844 - val_direction_AUC: 0.4835 - val_direction_loss: 0.7349 - val_loss: 46073.2109 - val_magnitude_loss: 92143.1484\n",
      "Epoch 13/50\n",
      "\u001b[1m547/547\u001b[0m \u001b[32m━━━━━━━━━━━━━━━━━━━━\u001b[0m\u001b[37m\u001b[0m \u001b[1m5s\u001b[0m 9ms/step - direction_AUC: 0.6770 - direction_loss: 0.6429 - loss: 36252.3047 - magnitude_loss: 72501.4453 - val_direction_AUC: 0.4936 - val_direction_loss: 0.7269 - val_loss: 47106.1797 - val_magnitude_loss: 94208.8828\n",
      "Epoch 14/50\n",
      "\u001b[1m547/547\u001b[0m \u001b[32m━━━━━━━━━━━━━━━━━━━━\u001b[0m\u001b[37m\u001b[0m \u001b[1m5s\u001b[0m 8ms/step - direction_AUC: 0.7020 - direction_loss: 0.6264 - loss: 34422.5234 - magnitude_loss: 68841.7812 - val_direction_AUC: 0.4854 - val_direction_loss: 0.7478 - val_loss: 49963.4297 - val_magnitude_loss: 99923.2812\n",
      "Epoch 15/50\n",
      "\u001b[1m547/547\u001b[0m \u001b[32m━━━━━━━━━━━━━━━━━━━━\u001b[0m\u001b[37m\u001b[0m \u001b[1m5s\u001b[0m 8ms/step - direction_AUC: 0.7277 - direction_loss: 0.6101 - loss: 33040.0742 - magnitude_loss: 66076.8047 - val_direction_AUC: 0.4918 - val_direction_loss: 0.7627 - val_loss: 49842.5195 - val_magnitude_loss: 99681.2500\n",
      "Epoch 16/50\n",
      "\u001b[1m547/547\u001b[0m \u001b[32m━━━━━━━━━━━━━━━━━━━━\u001b[0m\u001b[37m\u001b[0m \u001b[1m5s\u001b[0m 8ms/step - direction_AUC: 0.7564 - direction_loss: 0.5852 - loss: 30253.9824 - magnitude_loss: 60504.5938 - val_direction_AUC: 0.4877 - val_direction_loss: 0.8708 - val_loss: 51626.2109 - val_magnitude_loss: 103248.3516\n",
      "Epoch 17/50\n",
      "\u001b[1m547/547\u001b[0m \u001b[32m━━━━━━━━━━━━━━━━━━━━\u001b[0m\u001b[37m\u001b[0m \u001b[1m5s\u001b[0m 8ms/step - direction_AUC: 0.7775 - direction_loss: 0.5647 - loss: 28820.3652 - magnitude_loss: 57637.2617 - val_direction_AUC: 0.4973 - val_direction_loss: 0.8592 - val_loss: 53645.5391 - val_magnitude_loss: 107286.9375\n",
      "Epoch 18/50\n",
      "\u001b[1m547/547\u001b[0m \u001b[32m━━━━━━━━━━━━━━━━━━━━\u001b[0m\u001b[37m\u001b[0m \u001b[1m5s\u001b[0m 9ms/step - direction_AUC: 0.8033 - direction_loss: 0.5388 - loss: 26815.1191 - magnitude_loss: 53626.6758 - val_direction_AUC: 0.4977 - val_direction_loss: 0.8817 - val_loss: 55175.0859 - val_magnitude_loss: 110345.8203\n",
      "Epoch 19/50\n",
      "\u001b[1m547/547\u001b[0m \u001b[32m━━━━━━━━━━━━━━━━━━━━\u001b[0m\u001b[37m\u001b[0m \u001b[1m5s\u001b[0m 9ms/step - direction_AUC: 0.8229 - direction_loss: 0.5163 - loss: 24929.4375 - magnitude_loss: 49855.2773 - val_direction_AUC: 0.4967 - val_direction_loss: 0.8584 - val_loss: 56884.7539 - val_magnitude_loss: 113765.1641\n",
      "Epoch 20/50\n",
      "\u001b[1m547/547\u001b[0m \u001b[32m━━━━━━━━━━━━━━━━━━━━\u001b[0m\u001b[37m\u001b[0m \u001b[1m5s\u001b[0m 9ms/step - direction_AUC: 0.8443 - direction_loss: 0.4894 - loss: 23297.1875 - magnitude_loss: 46590.6875 - val_direction_AUC: 0.4926 - val_direction_loss: 0.9793 - val_loss: 58505.5820 - val_magnitude_loss: 117006.4844\n",
      "Epoch 21/50\n",
      "\u001b[1m547/547\u001b[0m \u001b[32m━━━━━━━━━━━━━━━━━━━━\u001b[0m\u001b[37m\u001b[0m \u001b[1m5s\u001b[0m 9ms/step - direction_AUC: 0.8581 - direction_loss: 0.4688 - loss: 21547.6172 - magnitude_loss: 43091.5117 - val_direction_AUC: 0.4929 - val_direction_loss: 0.9799 - val_loss: 59345.4531 - val_magnitude_loss: 118686.1406\n",
      "Epoch 22/50\n",
      "\u001b[1m547/547\u001b[0m \u001b[32m━━━━━━━━━━━━━━━━━━━━\u001b[0m\u001b[37m\u001b[0m \u001b[1m5s\u001b[0m 10ms/step - direction_AUC: 0.8735 - direction_loss: 0.4460 - loss: 20056.4395 - magnitude_loss: 40109.1484 - val_direction_AUC: 0.4987 - val_direction_loss: 1.0375 - val_loss: 61655.3281 - val_magnitude_loss: 123305.6719\n",
      "Epoch 23/50\n",
      "\u001b[1m547/547\u001b[0m \u001b[32m━━━━━━━━━━━━━━━━━━━━\u001b[0m\u001b[37m\u001b[0m \u001b[1m5s\u001b[0m 9ms/step - direction_AUC: 0.8837 - direction_loss: 0.4294 - loss: 18494.8867 - magnitude_loss: 36986.0234 - val_direction_AUC: 0.4978 - val_direction_loss: 1.1218 - val_loss: 61676.4961 - val_magnitude_loss: 123347.7578\n",
      "Epoch 24/50\n",
      "\u001b[1m547/547\u001b[0m \u001b[32m━━━━━━━━━━━━━━━━━━━━\u001b[0m\u001b[37m\u001b[0m \u001b[1m5s\u001b[0m 9ms/step - direction_AUC: 0.8952 - direction_loss: 0.4089 - loss: 17253.5801 - magnitude_loss: 34503.3594 - val_direction_AUC: 0.4957 - val_direction_loss: 1.1235 - val_loss: 65774.6641 - val_magnitude_loss: 131544.0156\n",
      "Epoch 25/50\n",
      "\u001b[1m547/547\u001b[0m \u001b[32m━━━━━━━━━━━━━━━━━━━━\u001b[0m\u001b[37m\u001b[0m \u001b[1m5s\u001b[0m 9ms/step - direction_AUC: 0.9052 - direction_loss: 0.3906 - loss: 15995.8262 - magnitude_loss: 31987.8223 - val_direction_AUC: 0.4979 - val_direction_loss: 1.2207 - val_loss: 63481.0859 - val_magnitude_loss: 126956.5469\n",
      "Epoch 26/50\n",
      "\u001b[1m547/547\u001b[0m \u001b[32m━━━━━━━━━━━━━━━━━━━━\u001b[0m\u001b[37m\u001b[0m \u001b[1m5s\u001b[0m 9ms/step - direction_AUC: 0.9148 - direction_loss: 0.3716 - loss: 14820.4434 - magnitude_loss: 29636.9707 - val_direction_AUC: 0.4979 - val_direction_loss: 1.3017 - val_loss: 65774.4844 - val_magnitude_loss: 131543.1250\n",
      "Epoch 27/50\n",
      "\u001b[1m547/547\u001b[0m \u001b[32m━━━━━━━━━━━━━━━━━━━━\u001b[0m\u001b[37m\u001b[0m \u001b[1m5s\u001b[0m 9ms/step - direction_AUC: 0.9203 - direction_loss: 0.3598 - loss: 14015.2129 - magnitude_loss: 28026.4941 - val_direction_AUC: 0.4972 - val_direction_loss: 1.1235 - val_loss: 65399.6289 - val_magnitude_loss: 130793.7188\n",
      "Epoch 28/50\n",
      "\u001b[1m547/547\u001b[0m \u001b[32m━━━━━━━━━━━━━━━━━━━━\u001b[0m\u001b[37m\u001b[0m \u001b[1m5s\u001b[0m 8ms/step - direction_AUC: 0.9274 - direction_loss: 0.3433 - loss: 12924.4414 - magnitude_loss: 25844.8691 - val_direction_AUC: 0.4972 - val_direction_loss: 1.2457 - val_loss: 67353.5000 - val_magnitude_loss: 134701.2188\n",
      "Epoch 29/50\n",
      "\u001b[1m547/547\u001b[0m \u001b[32m━━━━━━━━━━━━━━━━━━━━\u001b[0m\u001b[37m\u001b[0m \u001b[1m4s\u001b[0m 8ms/step - direction_AUC: 0.9326 - direction_loss: 0.3316 - loss: 12312.1328 - magnitude_loss: 24620.2383 - val_direction_AUC: 0.4941 - val_direction_loss: 1.1792 - val_loss: 67841.6719 - val_magnitude_loss: 135677.5781\n",
      "Epoch 30/50\n",
      "\u001b[1m547/547\u001b[0m \u001b[32m━━━━━━━━━━━━━━━━━━━━\u001b[0m\u001b[37m\u001b[0m \u001b[1m5s\u001b[0m 8ms/step - direction_AUC: 0.9405 - direction_loss: 0.3114 - loss: 11561.0908 - magnitude_loss: 23118.1504 - val_direction_AUC: 0.4963 - val_direction_loss: 1.2739 - val_loss: 67835.6016 - val_magnitude_loss: 135665.1562\n",
      "Epoch 31/50\n",
      "\u001b[1m547/547\u001b[0m \u001b[32m━━━━━━━━━━━━━━━━━━━━\u001b[0m\u001b[37m\u001b[0m \u001b[1m5s\u001b[0m 8ms/step - direction_AUC: 0.9433 - direction_loss: 0.3049 - loss: 10802.7207 - magnitude_loss: 21601.3242 - val_direction_AUC: 0.4976 - val_direction_loss: 1.2836 - val_loss: 69093.3516 - val_magnitude_loss: 138180.5469\n",
      "Epoch 32/50\n",
      "\u001b[1m547/547\u001b[0m \u001b[32m━━━━━━━━━━━━━━━━━━━━\u001b[0m\u001b[37m\u001b[0m \u001b[1m4s\u001b[0m 8ms/step - direction_AUC: 0.9492 - direction_loss: 0.2883 - loss: 10094.6260 - magnitude_loss: 20185.1152 - val_direction_AUC: 0.4955 - val_direction_loss: 1.3243 - val_loss: 69915.6953 - val_magnitude_loss: 139825.1250\n",
      "Epoch 33/50\n",
      "\u001b[1m547/547\u001b[0m \u001b[32m━━━━━━━━━━━━━━━━━━━━\u001b[0m\u001b[37m\u001b[0m \u001b[1m5s\u001b[0m 8ms/step - direction_AUC: 0.9520 - direction_loss: 0.2804 - loss: 9738.0967 - magnitude_loss: 19472.0195 - val_direction_AUC: 0.4961 - val_direction_loss: 1.5113 - val_loss: 70534.9922 - val_magnitude_loss: 141063.2812\n",
      "Epoch 34/50\n",
      "\u001b[1m547/547\u001b[0m \u001b[32m━━━━━━━━━━━━━━━━━━━━\u001b[0m\u001b[37m\u001b[0m \u001b[1m5s\u001b[0m 8ms/step - direction_AUC: 0.9531 - direction_loss: 0.2774 - loss: 9390.1523 - magnitude_loss: 18776.0605 - val_direction_AUC: 0.4961 - val_direction_loss: 1.5244 - val_loss: 70482.9688 - val_magnitude_loss: 140959.1250\n",
      "Epoch 35/50\n",
      "\u001b[1m547/547\u001b[0m \u001b[32m━━━━━━━━━━━━━━━━━━━━\u001b[0m\u001b[37m\u001b[0m \u001b[1m4s\u001b[0m 8ms/step - direction_AUC: 0.9600 - direction_loss: 0.2560 - loss: 8487.1611 - magnitude_loss: 16970.0078 - val_direction_AUC: 0.4939 - val_direction_loss: 1.5354 - val_loss: 71582.9844 - val_magnitude_loss: 143159.0781\n",
      "Epoch 36/50\n",
      "\u001b[1m547/547\u001b[0m \u001b[32m━━━━━━━━━━━━━━━━━━━━\u001b[0m\u001b[37m\u001b[0m \u001b[1m4s\u001b[0m 8ms/step - direction_AUC: 0.9615 - direction_loss: 0.2519 - loss: 8343.1797 - magnitude_loss: 16682.0254 - val_direction_AUC: 0.4955 - val_direction_loss: 1.4394 - val_loss: 71050.0391 - val_magnitude_loss: 142093.2969\n",
      "Epoch 37/50\n",
      "\u001b[1m547/547\u001b[0m \u001b[32m━━━━━━━━━━━━━━━━━━━━\u001b[0m\u001b[37m\u001b[0m \u001b[1m4s\u001b[0m 8ms/step - direction_AUC: 0.9620 - direction_loss: 0.2505 - loss: 8062.3550 - magnitude_loss: 16120.3174 - val_direction_AUC: 0.4962 - val_direction_loss: 1.5529 - val_loss: 71823.4375 - val_magnitude_loss: 143639.7812\n",
      "Epoch 38/50\n",
      "\u001b[1m547/547\u001b[0m \u001b[32m━━━━━━━━━━━━━━━━━━━━\u001b[0m\u001b[37m\u001b[0m \u001b[1m5s\u001b[0m 8ms/step - direction_AUC: 0.9658 - direction_loss: 0.2370 - loss: 7677.9292 - magnitude_loss: 15351.4209 - val_direction_AUC: 0.4917 - val_direction_loss: 1.3208 - val_loss: 72456.1875 - val_magnitude_loss: 144905.7031\n",
      "Epoch 39/50\n",
      "\u001b[1m547/547\u001b[0m \u001b[32m━━━━━━━━━━━━━━━━━━━━\u001b[0m\u001b[37m\u001b[0m \u001b[1m5s\u001b[0m 8ms/step - direction_AUC: 0.9664 - direction_loss: 0.2353 - loss: 7205.8330 - magnitude_loss: 14407.1963 - val_direction_AUC: 0.4940 - val_direction_loss: 1.4931 - val_loss: 71891.9766 - val_magnitude_loss: 143776.8281\n",
      "Epoch 40/50\n",
      "\u001b[1m547/547\u001b[0m \u001b[32m━━━━━━━━━━━━━━━━━━━━\u001b[0m\u001b[37m\u001b[0m \u001b[1m5s\u001b[0m 8ms/step - direction_AUC: 0.9693 - direction_loss: 0.2252 - loss: 6999.1416 - magnitude_loss: 13993.7256 - val_direction_AUC: 0.4951 - val_direction_loss: 1.5531 - val_loss: 71557.4219 - val_magnitude_loss: 143107.6250\n",
      "Epoch 41/50\n",
      "\u001b[1m547/547\u001b[0m \u001b[32m━━━━━━━━━━━━━━━━━━━━\u001b[0m\u001b[37m\u001b[0m \u001b[1m5s\u001b[0m 8ms/step - direction_AUC: 0.9700 - direction_loss: 0.2221 - loss: 6888.1035 - magnitude_loss: 13771.5889 - val_direction_AUC: 0.4966 - val_direction_loss: 1.6688 - val_loss: 72286.6250 - val_magnitude_loss: 144565.6875\n",
      "Epoch 42/50\n",
      "\u001b[1m547/547\u001b[0m \u001b[32m━━━━━━━━━━━━━━━━━━━━\u001b[0m\u001b[37m\u001b[0m \u001b[1m5s\u001b[0m 8ms/step - direction_AUC: 0.9698 - direction_loss: 0.2236 - loss: 6693.6558 - magnitude_loss: 13382.6279 - val_direction_AUC: 0.4959 - val_direction_loss: 1.6353 - val_loss: 72387.0156 - val_magnitude_loss: 144766.4375\n",
      "Epoch 43/50\n",
      "\u001b[1m547/547\u001b[0m \u001b[32m━━━━━━━━━━━━━━━━━━━━\u001b[0m\u001b[37m\u001b[0m \u001b[1m4s\u001b[0m 8ms/step - direction_AUC: 0.9717 - direction_loss: 0.2156 - loss: 6363.2080 - magnitude_loss: 12721.6758 - val_direction_AUC: 0.4931 - val_direction_loss: 1.5997 - val_loss: 73719.8750 - val_magnitude_loss: 147432.1719\n",
      "Epoch 44/50\n",
      "\u001b[1m547/547\u001b[0m \u001b[32m━━━━━━━━━━━━━━━━━━━━\u001b[0m\u001b[37m\u001b[0m \u001b[1m5s\u001b[0m 8ms/step - direction_AUC: 0.9721 - direction_loss: 0.2150 - loss: 6163.6733 - magnitude_loss: 12322.5527 - val_direction_AUC: 0.4964 - val_direction_loss: 1.7869 - val_loss: 72957.4141 - val_magnitude_loss: 145906.7812\n",
      "Epoch 45/50\n",
      "\u001b[1m547/547\u001b[0m \u001b[32m━━━━━━━━━━━━━━━━━━━━\u001b[0m\u001b[37m\u001b[0m \u001b[1m5s\u001b[0m 8ms/step - direction_AUC: 0.9741 - direction_loss: 0.2069 - loss: 5960.8828 - magnitude_loss: 11916.9209 - val_direction_AUC: 0.4965 - val_direction_loss: 1.7572 - val_loss: 74759.0312 - val_magnitude_loss: 149510.0781\n",
      "Epoch 46/50\n",
      "\u001b[1m547/547\u001b[0m \u001b[32m━━━━━━━━━━━━━━━━━━━━\u001b[0m\u001b[37m\u001b[0m \u001b[1m4s\u001b[0m 8ms/step - direction_AUC: 0.9747 - direction_loss: 0.2047 - loss: 5981.8618 - magnitude_loss: 11958.8105 - val_direction_AUC: 0.4953 - val_direction_loss: 1.8379 - val_loss: 73730.7422 - val_magnitude_loss: 147453.2500\n",
      "Epoch 47/50\n",
      "\u001b[1m547/547\u001b[0m \u001b[32m━━━━━━━━━━━━━━━━━━━━\u001b[0m\u001b[37m\u001b[0m \u001b[1m5s\u001b[0m 8ms/step - direction_AUC: 0.9740 - direction_loss: 0.2073 - loss: 5699.2373 - magnitude_loss: 11393.5449 - val_direction_AUC: 0.4971 - val_direction_loss: 1.6410 - val_loss: 73420.1797 - val_magnitude_loss: 146832.4844\n",
      "Epoch 48/50\n",
      "\u001b[1m547/547\u001b[0m \u001b[32m━━━━━━━━━━━━━━━━━━━━\u001b[0m\u001b[37m\u001b[0m \u001b[1m4s\u001b[0m 8ms/step - direction_AUC: 0.9756 - direction_loss: 0.2011 - loss: 5598.1519 - magnitude_loss: 11191.2832 - val_direction_AUC: 0.4951 - val_direction_loss: 1.9853 - val_loss: 73243.8438 - val_magnitude_loss: 146479.0312\n",
      "Epoch 49/50\n",
      "\u001b[1m547/547\u001b[0m \u001b[32m━━━━━━━━━━━━━━━━━━━━\u001b[0m\u001b[37m\u001b[0m \u001b[1m5s\u001b[0m 8ms/step - direction_AUC: 0.9752 - direction_loss: 0.2028 - loss: 5519.6445 - magnitude_loss: 11034.1855 - val_direction_AUC: 0.4975 - val_direction_loss: 1.7616 - val_loss: 73819.6094 - val_magnitude_loss: 147630.9062\n",
      "Epoch 50/50\n",
      "\u001b[1m547/547\u001b[0m \u001b[32m━━━━━━━━━━━━━━━━━━━━\u001b[0m\u001b[37m\u001b[0m \u001b[1m5s\u001b[0m 8ms/step - direction_AUC: 0.9760 - direction_loss: 0.1990 - loss: 5355.5879 - magnitude_loss: 10706.0234 - val_direction_AUC: 0.4981 - val_direction_loss: 1.6244 - val_loss: 72813.9141 - val_magnitude_loss: 145619.7188\n",
      "\u001b[1m235/235\u001b[0m \u001b[32m━━━━━━━━━━━━━━━━━━━━\u001b[0m\u001b[37m\u001b[0m \u001b[1m1s\u001b[0m 2ms/step\n",
      "Confusion Matrix:\n",
      "[[1788 1981]\n",
      " [1821 1899]]\n",
      "\n",
      "Classification Report:\n",
      "              precision    recall  f1-score   support\n",
      "\n",
      "           0       0.50      0.47      0.48      3769\n",
      "           1       0.49      0.51      0.50      3720\n",
      "\n",
      "    accuracy                           0.49      7489\n",
      "   macro avg       0.49      0.49      0.49      7489\n",
      "weighted avg       0.49      0.49      0.49      7489\n",
      "\n",
      "\n",
      "Test AUC: 0.4880\n"
     ]
    }
   ],
   "source": [
    "# Extract the encoder\n",
    "encoder = Model(ae_in, encoded)\n",
    "# Optionally freeze encoder weights:\n",
    "# encoder.trainable = False\n",
    "\n",
    "# === 3) Build Multi‑Task Classifier Using Pretrained Encoder ===\n",
    "seq_in = Input(shape=(window_size, len(feature_cols)))\n",
    "x = encoder(seq_in)\n",
    "\n",
    "# Dense head\n",
    "x = Dense(256, activation='relu', kernel_regularizer=l2(1e-3))(x)\n",
    "x = BatchNormalization()(x)\n",
    "x = Dropout(0.3)(x)\n",
    "x = Dense(128, activation='relu', kernel_regularizer=l2(1e-3))(x)\n",
    "x = BatchNormalization()(x)\n",
    "x = Dropout(0.3)(x)\n",
    "\n",
    "# Outputs\n",
    "dir_out = Dense(1, activation='sigmoid', name='direction')(x)\n",
    "mag_out = Dense(1, activation='linear',  name='magnitude')(x)\n",
    "\n",
    "model = Model(seq_in, [dir_out, mag_out])\n",
    "model.compile(\n",
    "    optimizer=Adam(1e-3),\n",
    "    loss={'direction':'binary_crossentropy','magnitude':'mse'},\n",
    "    loss_weights={'direction':1.0,'magnitude':0.5},\n",
    "    metrics={'direction':'AUC'}\n",
    ")\n",
    "\n",
    "# === 4) Train Classifier ===\n",
    "model.fit(\n",
    "    X_train, {'direction': y_train, 'magnitude': y_train_mag},\n",
    "    validation_data=(X_val, {'direction': y_val, 'magnitude': y_val_mag}),\n",
    "    epochs=50,\n",
    "    batch_size=64,\n",
    "    verbose=1\n",
    ")"
   ]
  },
  {
   "cell_type": "code",
   "execution_count": 11,
   "metadata": {
    "cellUniqueIdByVincent": "64cd3"
   },
   "outputs": [
    {
     "name": "stdout",
     "output_type": "stream",
     "text": [
      "\u001b[1m235/235\u001b[0m \u001b[32m━━━━━━━━━━━━━━━━━━━━\u001b[0m\u001b[37m\u001b[0m \u001b[1m1s\u001b[0m 2ms/step\n",
      "Confusion Matrix:\n",
      "[[1788 1981]\n",
      " [1821 1899]]\n",
      "\n",
      "Classification Report:\n",
      "              precision    recall  f1-score   support\n",
      "\n",
      "           0       0.50      0.47      0.48      3769\n",
      "           1       0.49      0.51      0.50      3720\n",
      "\n",
      "    accuracy                           0.49      7489\n",
      "   macro avg       0.49      0.49      0.49      7489\n",
      "weighted avg       0.49      0.49      0.49      7489\n",
      "\n",
      "\n",
      "Test AUC: 0.4880\n"
     ]
    }
   ],
   "source": [
    "\n",
    "# === 5) Evaluate on Test Set ===\n",
    "dir_pred_prob, mag_pred = model.predict(X_test)\n",
    "dir_pred = (dir_pred_prob.flatten() > 0.5).astype(int)\n",
    "\n",
    "print(\"Confusion Matrix:\")\n",
    "print(confusion_matrix(y_test, dir_pred))\n",
    "\n",
    "print(\"\\nClassification Report:\")\n",
    "print(classification_report(y_test, dir_pred))\n",
    "\n",
    "print(f\"\\nTest AUC: {roc_auc_score(y_test, dir_pred_prob):.4f}\")\n"
   ]
  },
  {
   "cell_type": "code",
   "execution_count": 13,
   "metadata": {
    "cellUniqueIdByVincent": "20c7c"
   },
   "outputs": [
    {
     "name": "stdout",
     "output_type": "stream",
     "text": [
      "Epoch 1/50\n",
      "\u001b[1m547/547\u001b[0m \u001b[32m━━━━━━━━━━━━━━━━━━━━\u001b[0m\u001b[37m\u001b[0m \u001b[1m30s\u001b[0m 49ms/step - AUC: 0.4962 - accuracy: 0.4988 - loss: 0.8007 - val_AUC: 0.5044 - val_accuracy: 0.4987 - val_loss: 0.6956\n",
      "Epoch 2/50\n",
      "\u001b[1m547/547\u001b[0m \u001b[32m━━━━━━━━━━━━━━━━━━━━\u001b[0m\u001b[37m\u001b[0m \u001b[1m29s\u001b[0m 52ms/step - AUC: 0.4982 - accuracy: 0.4994 - loss: 0.7072 - val_AUC: 0.5058 - val_accuracy: 0.5043 - val_loss: 0.6933\n",
      "Epoch 3/50\n",
      "\u001b[1m547/547\u001b[0m \u001b[32m━━━━━━━━━━━━━━━━━━━━\u001b[0m\u001b[37m\u001b[0m \u001b[1m29s\u001b[0m 53ms/step - AUC: 0.5004 - accuracy: 0.4983 - loss: 0.6964 - val_AUC: 0.5109 - val_accuracy: 0.5071 - val_loss: 0.6932\n",
      "Epoch 4/50\n",
      "\u001b[1m547/547\u001b[0m \u001b[32m━━━━━━━━━━━━━━━━━━━━\u001b[0m\u001b[37m\u001b[0m \u001b[1m29s\u001b[0m 53ms/step - AUC: 0.4954 - accuracy: 0.5025 - loss: 0.6948 - val_AUC: 0.4993 - val_accuracy: 0.4933 - val_loss: 0.6938\n",
      "Epoch 5/50\n",
      "\u001b[1m547/547\u001b[0m \u001b[32m━━━━━━━━━━━━━━━━━━━━\u001b[0m\u001b[37m\u001b[0m \u001b[1m29s\u001b[0m 52ms/step - AUC: 0.5065 - accuracy: 0.5027 - loss: 0.6938 - val_AUC: 0.5095 - val_accuracy: 0.5084 - val_loss: 0.6932\n",
      "Epoch 6/50\n",
      "\u001b[1m547/547\u001b[0m \u001b[32m━━━━━━━━━━━━━━━━━━━━\u001b[0m\u001b[37m\u001b[0m \u001b[1m31s\u001b[0m 56ms/step - AUC: 0.4982 - accuracy: 0.4988 - loss: 0.6942 - val_AUC: 0.5126 - val_accuracy: 0.5031 - val_loss: 0.6930\n",
      "Epoch 7/50\n",
      "\u001b[1m547/547\u001b[0m \u001b[32m━━━━━━━━━━━━━━━━━━━━\u001b[0m\u001b[37m\u001b[0m \u001b[1m29s\u001b[0m 54ms/step - AUC: 0.5051 - accuracy: 0.5083 - loss: 0.6937 - val_AUC: 0.5059 - val_accuracy: 0.5110 - val_loss: 0.6933\n",
      "Epoch 8/50\n",
      "\u001b[1m547/547\u001b[0m \u001b[32m━━━━━━━━━━━━━━━━━━━━\u001b[0m\u001b[37m\u001b[0m \u001b[1m29s\u001b[0m 53ms/step - AUC: 0.5002 - accuracy: 0.5014 - loss: 0.6940 - val_AUC: 0.5037 - val_accuracy: 0.4983 - val_loss: 0.6936\n",
      "Epoch 9/50\n",
      "\u001b[1m547/547\u001b[0m \u001b[32m━━━━━━━━━━━━━━━━━━━━\u001b[0m\u001b[37m\u001b[0m \u001b[1m28s\u001b[0m 50ms/step - AUC: 0.5043 - accuracy: 0.5034 - loss: 0.6937 - val_AUC: 0.5029 - val_accuracy: 0.5053 - val_loss: 0.6938\n",
      "Epoch 10/50\n",
      "\u001b[1m547/547\u001b[0m \u001b[32m━━━━━━━━━━━━━━━━━━━━\u001b[0m\u001b[37m\u001b[0m \u001b[1m27s\u001b[0m 49ms/step - AUC: 0.4999 - accuracy: 0.5004 - loss: 0.6941 - val_AUC: 0.4979 - val_accuracy: 0.5011 - val_loss: 0.6935\n",
      "Epoch 11/50\n",
      "\u001b[1m547/547\u001b[0m \u001b[32m━━━━━━━━━━━━━━━━━━━━\u001b[0m\u001b[37m\u001b[0m \u001b[1m28s\u001b[0m 52ms/step - AUC: 0.5097 - accuracy: 0.5106 - loss: 0.6932 - val_AUC: 0.4994 - val_accuracy: 0.5005 - val_loss: 0.6934\n",
      "Epoch 12/50\n",
      "\u001b[1m547/547\u001b[0m \u001b[32m━━━━━━━━━━━━━━━━━━━━\u001b[0m\u001b[37m\u001b[0m \u001b[1m27s\u001b[0m 50ms/step - AUC: 0.5044 - accuracy: 0.5041 - loss: 0.6938 - val_AUC: 0.4906 - val_accuracy: 0.4952 - val_loss: 0.6939\n",
      "Epoch 13/50\n",
      "\u001b[1m547/547\u001b[0m \u001b[32m━━━━━━━━━━━━━━━━━━━━\u001b[0m\u001b[37m\u001b[0m \u001b[1m27s\u001b[0m 50ms/step - AUC: 0.5074 - accuracy: 0.5060 - loss: 0.6937 - val_AUC: 0.5061 - val_accuracy: 0.5012 - val_loss: 0.6936\n",
      "Epoch 14/50\n",
      "\u001b[1m547/547\u001b[0m \u001b[32m━━━━━━━━━━━━━━━━━━━━\u001b[0m\u001b[37m\u001b[0m \u001b[1m29s\u001b[0m 52ms/step - AUC: 0.5023 - accuracy: 0.5031 - loss: 0.6937 - val_AUC: 0.4928 - val_accuracy: 0.4992 - val_loss: 0.6935\n",
      "Epoch 15/50\n",
      "\u001b[1m547/547\u001b[0m \u001b[32m━━━━━━━━━━━━━━━━━━━━\u001b[0m\u001b[37m\u001b[0m \u001b[1m28s\u001b[0m 51ms/step - AUC: 0.5099 - accuracy: 0.5072 - loss: 0.6933 - val_AUC: 0.4843 - val_accuracy: 0.4912 - val_loss: 0.6941\n",
      "Epoch 16/50\n",
      "\u001b[1m547/547\u001b[0m \u001b[32m━━━━━━━━━━━━━━━━━━━━\u001b[0m\u001b[37m\u001b[0m \u001b[1m28s\u001b[0m 50ms/step - AUC: 0.5072 - accuracy: 0.5061 - loss: 0.6937 - val_AUC: 0.5047 - val_accuracy: 0.4992 - val_loss: 0.6940\n",
      "Epoch 17/50\n",
      "\u001b[1m547/547\u001b[0m \u001b[32m━━━━━━━━━━━━━━━━━━━━\u001b[0m\u001b[37m\u001b[0m \u001b[1m27s\u001b[0m 50ms/step - AUC: 0.5032 - accuracy: 0.5057 - loss: 0.6939 - val_AUC: 0.4884 - val_accuracy: 0.4940 - val_loss: 0.6945\n",
      "Epoch 18/50\n",
      "\u001b[1m547/547\u001b[0m \u001b[32m━━━━━━━━━━━━━━━━━━━━\u001b[0m\u001b[37m\u001b[0m \u001b[1m27s\u001b[0m 49ms/step - AUC: 0.4938 - accuracy: 0.4942 - loss: 0.6940 - val_AUC: 0.4955 - val_accuracy: 0.4955 - val_loss: 0.6934\n",
      "Epoch 19/50\n",
      "\u001b[1m547/547\u001b[0m \u001b[32m━━━━━━━━━━━━━━━━━━━━\u001b[0m\u001b[37m\u001b[0m \u001b[1m28s\u001b[0m 51ms/step - AUC: 0.4964 - accuracy: 0.5007 - loss: 0.6938 - val_AUC: 0.4853 - val_accuracy: 0.4964 - val_loss: 0.6936\n",
      "Epoch 20/50\n",
      "\u001b[1m547/547\u001b[0m \u001b[32m━━━━━━━━━━━━━━━━━━━━\u001b[0m\u001b[37m\u001b[0m \u001b[1m27s\u001b[0m 50ms/step - AUC: 0.4998 - accuracy: 0.4987 - loss: 0.6935 - val_AUC: 0.5044 - val_accuracy: 0.5011 - val_loss: 0.6932\n",
      "Epoch 21/50\n",
      "\u001b[1m547/547\u001b[0m \u001b[32m━━━━━━━━━━━━━━━━━━━━\u001b[0m\u001b[37m\u001b[0m \u001b[1m27s\u001b[0m 49ms/step - AUC: 0.5059 - accuracy: 0.5021 - loss: 0.6935 - val_AUC: 0.4988 - val_accuracy: 0.4995 - val_loss: 0.6954\n",
      "Epoch 22/50\n",
      "\u001b[1m547/547\u001b[0m \u001b[32m━━━━━━━━━━━━━━━━━━━━\u001b[0m\u001b[37m\u001b[0m \u001b[1m26s\u001b[0m 48ms/step - AUC: 0.5067 - accuracy: 0.5080 - loss: 0.6936 - val_AUC: 0.5110 - val_accuracy: 0.4987 - val_loss: 0.6936\n",
      "Epoch 23/50\n",
      "\u001b[1m547/547\u001b[0m \u001b[32m━━━━━━━━━━━━━━━━━━━━\u001b[0m\u001b[37m\u001b[0m \u001b[1m28s\u001b[0m 51ms/step - AUC: 0.5026 - accuracy: 0.5051 - loss: 0.6937 - val_AUC: 0.5084 - val_accuracy: 0.5001 - val_loss: 0.6933\n",
      "Epoch 24/50\n",
      "\u001b[1m547/547\u001b[0m \u001b[32m━━━━━━━━━━━━━━━━━━━━\u001b[0m\u001b[37m\u001b[0m \u001b[1m28s\u001b[0m 50ms/step - AUC: 0.4963 - accuracy: 0.4976 - loss: 0.6938 - val_AUC: 0.4960 - val_accuracy: 0.4955 - val_loss: 0.6944\n",
      "Epoch 25/50\n",
      "\u001b[1m547/547\u001b[0m \u001b[32m━━━━━━━━━━━━━━━━━━━━\u001b[0m\u001b[37m\u001b[0m \u001b[1m27s\u001b[0m 50ms/step - AUC: 0.5012 - accuracy: 0.5015 - loss: 0.6937 - val_AUC: 0.5048 - val_accuracy: 0.4983 - val_loss: 0.6936\n",
      "Epoch 26/50\n",
      "\u001b[1m547/547\u001b[0m \u001b[32m━━━━━━━━━━━━━━━━━━━━\u001b[0m\u001b[37m\u001b[0m \u001b[1m27s\u001b[0m 50ms/step - AUC: 0.5007 - accuracy: 0.5032 - loss: 0.6934 - val_AUC: 0.4986 - val_accuracy: 0.4956 - val_loss: 0.6935\n",
      "Epoch 27/50\n",
      "\u001b[1m547/547\u001b[0m \u001b[32m━━━━━━━━━━━━━━━━━━━━\u001b[0m\u001b[37m\u001b[0m \u001b[1m27s\u001b[0m 48ms/step - AUC: 0.5009 - accuracy: 0.5008 - loss: 0.6933 - val_AUC: 0.5089 - val_accuracy: 0.5104 - val_loss: 0.6931\n",
      "Epoch 28/50\n",
      "\u001b[1m547/547\u001b[0m \u001b[32m━━━━━━━━━━━━━━━━━━━━\u001b[0m\u001b[37m\u001b[0m \u001b[1m27s\u001b[0m 50ms/step - AUC: 0.5114 - accuracy: 0.5086 - loss: 0.6931 - val_AUC: 0.5043 - val_accuracy: 0.5044 - val_loss: 0.6937\n",
      "Epoch 29/50\n",
      "\u001b[1m547/547\u001b[0m \u001b[32m━━━━━━━━━━━━━━━━━━━━\u001b[0m\u001b[37m\u001b[0m \u001b[1m27s\u001b[0m 49ms/step - AUC: 0.5078 - accuracy: 0.5059 - loss: 0.6932 - val_AUC: 0.5031 - val_accuracy: 0.5055 - val_loss: 0.6933\n",
      "Epoch 30/50\n",
      "\u001b[1m547/547\u001b[0m \u001b[32m━━━━━━━━━━━━━━━━━━━━\u001b[0m\u001b[37m\u001b[0m \u001b[1m28s\u001b[0m 51ms/step - AUC: 0.5072 - accuracy: 0.5049 - loss: 0.6932 - val_AUC: 0.4967 - val_accuracy: 0.4919 - val_loss: 0.6933\n",
      "Epoch 31/50\n",
      "\u001b[1m547/547\u001b[0m \u001b[32m━━━━━━━━━━━━━━━━━━━━\u001b[0m\u001b[37m\u001b[0m \u001b[1m27s\u001b[0m 50ms/step - AUC: 0.5175 - accuracy: 0.5116 - loss: 0.6928 - val_AUC: 0.5116 - val_accuracy: 0.5130 - val_loss: 0.6932\n",
      "Epoch 32/50\n",
      "\u001b[1m547/547\u001b[0m \u001b[32m━━━━━━━━━━━━━━━━━━━━\u001b[0m\u001b[37m\u001b[0m \u001b[1m27s\u001b[0m 49ms/step - AUC: 0.5069 - accuracy: 0.5031 - loss: 0.6931 - val_AUC: 0.5011 - val_accuracy: 0.4968 - val_loss: 0.6936\n",
      "Epoch 33/50\n",
      "\u001b[1m547/547\u001b[0m \u001b[32m━━━━━━━━━━━━━━━━━━━━\u001b[0m\u001b[37m\u001b[0m \u001b[1m28s\u001b[0m 50ms/step - AUC: 0.5036 - accuracy: 0.5006 - loss: 0.6933 - val_AUC: 0.5071 - val_accuracy: 0.5024 - val_loss: 0.6934\n",
      "Epoch 34/50\n",
      "\u001b[1m547/547\u001b[0m \u001b[32m━━━━━━━━━━━━━━━━━━━━\u001b[0m\u001b[37m\u001b[0m \u001b[1m27s\u001b[0m 50ms/step - AUC: 0.5190 - accuracy: 0.5132 - loss: 0.6924 - val_AUC: 0.5059 - val_accuracy: 0.5039 - val_loss: 0.6936\n",
      "Epoch 35/50\n",
      "\u001b[1m547/547\u001b[0m \u001b[32m━━━━━━━━━━━━━━━━━━━━\u001b[0m\u001b[37m\u001b[0m \u001b[1m28s\u001b[0m 51ms/step - AUC: 0.5158 - accuracy: 0.5110 - loss: 0.6927 - val_AUC: 0.5034 - val_accuracy: 0.5019 - val_loss: 0.6935\n",
      "Epoch 36/50\n",
      "\u001b[1m547/547\u001b[0m \u001b[32m━━━━━━━━━━━━━━━━━━━━\u001b[0m\u001b[37m\u001b[0m \u001b[1m28s\u001b[0m 51ms/step - AUC: 0.5134 - accuracy: 0.5059 - loss: 0.6927 - val_AUC: 0.4915 - val_accuracy: 0.4939 - val_loss: 0.6942\n",
      "Epoch 37/50\n",
      "\u001b[1m547/547\u001b[0m \u001b[32m━━━━━━━━━━━━━━━━━━━━\u001b[0m\u001b[37m\u001b[0m \u001b[1m28s\u001b[0m 51ms/step - AUC: 0.5164 - accuracy: 0.5098 - loss: 0.6927 - val_AUC: 0.5008 - val_accuracy: 0.4931 - val_loss: 0.6944\n",
      "Epoch 38/50\n",
      "\u001b[1m547/547\u001b[0m \u001b[32m━━━━━━━━━━━━━━━━━━━━\u001b[0m\u001b[37m\u001b[0m \u001b[1m27s\u001b[0m 50ms/step - AUC: 0.5252 - accuracy: 0.5185 - loss: 0.6920 - val_AUC: 0.5020 - val_accuracy: 0.5072 - val_loss: 0.6946\n",
      "Epoch 39/50\n",
      "\u001b[1m547/547\u001b[0m \u001b[32m━━━━━━━━━━━━━━━━━━━━\u001b[0m\u001b[37m\u001b[0m \u001b[1m27s\u001b[0m 50ms/step - AUC: 0.5331 - accuracy: 0.5214 - loss: 0.6913 - val_AUC: 0.5070 - val_accuracy: 0.5016 - val_loss: 0.6934\n",
      "Epoch 40/50\n",
      "\u001b[1m547/547\u001b[0m \u001b[32m━━━━━━━━━━━━━━━━━━━━\u001b[0m\u001b[37m\u001b[0m \u001b[1m28s\u001b[0m 50ms/step - AUC: 0.5324 - accuracy: 0.5228 - loss: 0.6911 - val_AUC: 0.4966 - val_accuracy: 0.4971 - val_loss: 0.6945\n",
      "Epoch 41/50\n",
      "\u001b[1m547/547\u001b[0m \u001b[32m━━━━━━━━━━━━━━━━━━━━\u001b[0m\u001b[37m\u001b[0m \u001b[1m28s\u001b[0m 51ms/step - AUC: 0.5416 - accuracy: 0.5299 - loss: 0.6901 - val_AUC: 0.4992 - val_accuracy: 0.4961 - val_loss: 0.6956\n",
      "Epoch 42/50\n",
      "\u001b[1m547/547\u001b[0m \u001b[32m━━━━━━━━━━━━━━━━━━━━\u001b[0m\u001b[37m\u001b[0m \u001b[1m28s\u001b[0m 51ms/step - AUC: 0.5383 - accuracy: 0.5249 - loss: 0.6904 - val_AUC: 0.4971 - val_accuracy: 0.4984 - val_loss: 0.6952\n",
      "Epoch 43/50\n",
      "\u001b[1m547/547\u001b[0m \u001b[32m━━━━━━━━━━━━━━━━━━━━\u001b[0m\u001b[37m\u001b[0m \u001b[1m28s\u001b[0m 51ms/step - AUC: 0.5469 - accuracy: 0.5331 - loss: 0.6894 - val_AUC: 0.5079 - val_accuracy: 0.5055 - val_loss: 0.6950\n",
      "Epoch 44/50\n",
      "\u001b[1m547/547\u001b[0m \u001b[32m━━━━━━━━━━━━━━━━━━━━\u001b[0m\u001b[37m\u001b[0m \u001b[1m28s\u001b[0m 51ms/step - AUC: 0.5559 - accuracy: 0.5368 - loss: 0.6880 - val_AUC: 0.5022 - val_accuracy: 0.5039 - val_loss: 0.6964\n",
      "Epoch 45/50\n",
      "\u001b[1m547/547\u001b[0m \u001b[32m━━━━━━━━━━━━━━━━━━━━\u001b[0m\u001b[37m\u001b[0m \u001b[1m28s\u001b[0m 52ms/step - AUC: 0.5531 - accuracy: 0.5375 - loss: 0.6882 - val_AUC: 0.4975 - val_accuracy: 0.4976 - val_loss: 0.6990\n",
      "Epoch 46/50\n",
      "\u001b[1m547/547\u001b[0m \u001b[32m━━━━━━━━━━━━━━━━━━━━\u001b[0m\u001b[37m\u001b[0m \u001b[1m28s\u001b[0m 52ms/step - AUC: 0.5643 - accuracy: 0.5467 - loss: 0.6869 - val_AUC: 0.4945 - val_accuracy: 0.4993 - val_loss: 0.7015\n",
      "Epoch 47/50\n",
      "\u001b[1m547/547\u001b[0m \u001b[32m━━━━━━━━━━━━━━━━━━━━\u001b[0m\u001b[37m\u001b[0m \u001b[1m28s\u001b[0m 52ms/step - AUC: 0.5628 - accuracy: 0.5431 - loss: 0.6866 - val_AUC: 0.4986 - val_accuracy: 0.5011 - val_loss: 0.7018\n",
      "Epoch 48/50\n",
      "\u001b[1m547/547\u001b[0m \u001b[32m━━━━━━━━━━━━━━━━━━━━\u001b[0m\u001b[37m\u001b[0m \u001b[1m28s\u001b[0m 51ms/step - AUC: 0.5706 - accuracy: 0.5492 - loss: 0.6850 - val_AUC: 0.4963 - val_accuracy: 0.4981 - val_loss: 0.7005\n",
      "Epoch 49/50\n",
      "\u001b[1m547/547\u001b[0m \u001b[32m━━━━━━━━━━━━━━━━━━━━\u001b[0m\u001b[37m\u001b[0m \u001b[1m29s\u001b[0m 53ms/step - AUC: 0.5704 - accuracy: 0.5485 - loss: 0.6846 - val_AUC: 0.5019 - val_accuracy: 0.4971 - val_loss: 0.7046\n",
      "Epoch 50/50\n",
      "\u001b[1m547/547\u001b[0m \u001b[32m━━━━━━━━━━━━━━━━━━━━\u001b[0m\u001b[37m\u001b[0m \u001b[1m29s\u001b[0m 53ms/step - AUC: 0.5812 - accuracy: 0.5558 - loss: 0.6823 - val_AUC: 0.4961 - val_accuracy: 0.4996 - val_loss: 0.7068\n",
      "\u001b[1m235/235\u001b[0m \u001b[32m━━━━━━━━━━━━━━━━━━━━\u001b[0m\u001b[37m\u001b[0m \u001b[1m2s\u001b[0m 9ms/step\n",
      "Confusion Matrix:\n",
      "[[1487 2282]\n",
      " [1445 2275]]\n",
      "\n",
      "Classification Report:\n",
      "              precision    recall  f1-score   support\n",
      "\n",
      "           0       0.51      0.39      0.44      3769\n",
      "           1       0.50      0.61      0.55      3720\n",
      "\n",
      "    accuracy                           0.50      7489\n",
      "   macro avg       0.50      0.50      0.50      7489\n",
      "weighted avg       0.50      0.50      0.50      7489\n",
      "\n",
      "\n",
      "Test AUC: 0.5058\n"
     ]
    }
   ],
   "source": [
    "from tensorflow.keras.layers import (\n",
    "    Input, Conv1D, SpatialDropout1D, LayerNormalization,\n",
    "    Bidirectional, LSTM, Dense, Dropout, BatchNormalization,\n",
    "    Permute, Multiply, Softmax, Lambda, Concatenate\n",
    ")\n",
    "from tensorflow.keras.models import Model\n",
    "from tensorflow.keras.optimizers import Adam\n",
    "\n",
    "# Attention block\n",
    "def attention_block(inputs):\n",
    "    a = Permute((2,1))(inputs)\n",
    "    a = Dense(inputs.shape[1], activation='tanh')(a)\n",
    "    a = Softmax(axis=-1)(a)\n",
    "    a = Permute((2,1))(a)\n",
    "    weighted = Multiply()([inputs, a])\n",
    "    return Lambda(lambda x: tf.reduce_sum(x, axis=1))(weighted)\n",
    "\n",
    "def build_final_model(window_size, n_features):\n",
    "    seq_in = Input(shape=(window_size, n_features))\n",
    "    x = SpatialDropout1D(0.2)(seq_in)\n",
    "\n",
    "    # CNN motif towers\n",
    "    t1 = Conv1D(64, 3, padding='same', activation='relu')(x)\n",
    "    t2 = Conv1D(64, 5, padding='same', activation='relu')(x)\n",
    "    t3 = Conv1D(64, 7, padding='same', activation='relu')(x)\n",
    "    x = Concatenate()([t1, t2, t3])\n",
    "    x = LayerNormalization()(x)\n",
    "    x = Dropout(0.2)(x)\n",
    "\n",
    "    # Bi‑LSTM + Attention\n",
    "    x = Bidirectional(LSTM(128, return_sequences=True, dropout=0.2))(x)\n",
    "    x = LayerNormalization()(x)\n",
    "    x = Bidirectional(LSTM(64, return_sequences=True, dropout=0.2))(x)\n",
    "    x = LayerNormalization()(x)\n",
    "    x = attention_block(x)\n",
    "\n",
    "    # Dense head\n",
    "    x = Dense(128, activation='relu')(x)\n",
    "    x = BatchNormalization()(x)\n",
    "    x = Dropout(0.3)(x)\n",
    "    x = Dense(64, activation='relu')(x)\n",
    "    x = BatchNormalization()(x)\n",
    "    x = Dropout(0.3)(x)\n",
    "\n",
    "    out = Dense(1, activation='sigmoid')(x)\n",
    "    model = Model(seq_in, out)\n",
    "    model.compile(\n",
    "        optimizer=Adam(1e-3),\n",
    "        loss='binary_crossentropy',\n",
    "        metrics=['AUC','accuracy']\n",
    "    )\n",
    "    return model\n",
    "\n",
    "model = build_final_model(window_size, len(feature_cols))\n",
    "history = model.fit(\n",
    "    X_train, y_train,\n",
    "    validation_data=(X_val, y_val),\n",
    "    epochs=50, batch_size=64,\n",
    "    verbose=1\n",
    ")\n",
    "\n",
    "# Evaluate\n",
    "y_pred_prob = model.predict(X_test).flatten()\n",
    "y_pred = (y_pred_prob > 0.5).astype(int)\n",
    "\n",
    "print(\"Confusion Matrix:\")\n",
    "print(confusion_matrix(y_test, y_pred))\n",
    "print(\"\\nClassification Report:\")\n",
    "print(classification_report(y_test, y_pred))\n",
    "print(f\"\\nTest AUC: {roc_auc_score(y_test, y_pred_prob):.4f}\")\n"
   ]
  }
 ],
 "metadata": {
  "kernelspec": {
   "display_name": ".venv",
   "language": "python",
   "name": "python3"
  },
  "language_info": {
   "codemirror_mode": {
    "name": "ipython",
    "version": 3
   },
   "file_extension": ".py",
   "mimetype": "text/x-python",
   "name": "python",
   "nbconvert_exporter": "python",
   "pygments_lexer": "ipython3",
   "version": "3.9.6"
  },
  "vincent": {
   "sessionId": "69652639ec0b92a909c25a12_2025-04-07T12-41-28-233Z"
  }
 },
 "nbformat": 4,
 "nbformat_minor": 5
}
