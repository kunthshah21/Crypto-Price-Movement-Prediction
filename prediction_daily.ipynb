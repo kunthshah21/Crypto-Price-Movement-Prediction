{
 "cells": [
  {
   "cell_type": "code",
   "execution_count": 1,
   "metadata": {
    "cellUniqueIdByVincent": "e96ba"
   },
   "outputs": [
    {
     "name": "stderr",
     "output_type": "stream",
     "text": [
      "/Users/kunthshah/Desktop/Crypto-Price-Moevement-Prediction/.venv/lib/python3.9/site-packages/urllib3/__init__.py:35: NotOpenSSLWarning: urllib3 v2 only supports OpenSSL 1.1.1+, currently the 'ssl' module is compiled with 'LibreSSL 2.8.3'. See: https://github.com/urllib3/urllib3/issues/3020\n",
      "  warnings.warn(\n"
     ]
    }
   ],
   "source": [
    "import tensorflow as tf\n",
    "import pandas as pd\n",
    "import numpy as np\n",
    "import os\n",
    "import matplotlib.pyplot as plt\n",
    "import seaborn as sns\n",
    "from sklearn.model_selection import train_test_split\n",
    "from sklearn.preprocessing import StandardScaler\n",
    "from sklearn.metrics import confusion_matrix, classification_report\n",
    "from tensorflow.keras.models import Sequential\n",
    "from tensorflow.keras.layers import Dense, Dropout\n",
    "from tensorflow.keras.callbacks import EarlyStopping\n",
    "from tensorflow.keras.optimizers import Adam\n",
    "import warnings\n",
    "warnings.filterwarnings('ignore')"
   ]
  },
  {
   "cell_type": "code",
   "execution_count": 2,
   "metadata": {
    "cellUniqueIdByVincent": "0d1ab"
   },
   "outputs": [
    {
     "data": {
      "text/html": [
       "<div>\n",
       "<style scoped>\n",
       "    .dataframe tbody tr th:only-of-type {\n",
       "        vertical-align: middle;\n",
       "    }\n",
       "\n",
       "    .dataframe tbody tr th {\n",
       "        vertical-align: top;\n",
       "    }\n",
       "\n",
       "    .dataframe thead th {\n",
       "        text-align: right;\n",
       "    }\n",
       "</style>\n",
       "<table border=\"1\" class=\"dataframe\">\n",
       "  <thead>\n",
       "    <tr style=\"text-align: right;\">\n",
       "      <th></th>\n",
       "      <th>Date</th>\n",
       "      <th>Open_Price</th>\n",
       "      <th>High_Price</th>\n",
       "      <th>Low_Price</th>\n",
       "      <th>MA_5</th>\n",
       "      <th>MA_10</th>\n",
       "      <th>RSI</th>\n",
       "      <th>Price_Movement</th>\n",
       "      <th>MA_5_lag_2</th>\n",
       "      <th>MA_10_lag_2</th>\n",
       "      <th>MA_10_lag_7</th>\n",
       "    </tr>\n",
       "  </thead>\n",
       "  <tbody>\n",
       "    <tr>\n",
       "      <th>0</th>\n",
       "      <td>2023-01-12</td>\n",
       "      <td>59097.295565</td>\n",
       "      <td>59900.004347</td>\n",
       "      <td>58784.035582</td>\n",
       "      <td>49045.482581</td>\n",
       "      <td>44580.256718</td>\n",
       "      <td>33.144940</td>\n",
       "      <td>False</td>\n",
       "      <td>44244.894607</td>\n",
       "      <td>45577.477694</td>\n",
       "      <td>0.0</td>\n",
       "    </tr>\n",
       "    <tr>\n",
       "      <th>1</th>\n",
       "      <td>2023-01-13</td>\n",
       "      <td>54973.279224</td>\n",
       "      <td>55396.713428</td>\n",
       "      <td>54378.735255</td>\n",
       "      <td>48852.372428</td>\n",
       "      <td>44929.860092</td>\n",
       "      <td>43.650581</td>\n",
       "      <td>True</td>\n",
       "      <td>43509.492070</td>\n",
       "      <td>44528.878721</td>\n",
       "      <td>0.0</td>\n",
       "    </tr>\n",
       "    <tr>\n",
       "      <th>2</th>\n",
       "      <td>2023-01-14</td>\n",
       "      <td>36370.173320</td>\n",
       "      <td>36938.992350</td>\n",
       "      <td>36371.219308</td>\n",
       "      <td>46570.552431</td>\n",
       "      <td>43760.010546</td>\n",
       "      <td>44.739048</td>\n",
       "      <td>True</td>\n",
       "      <td>49045.482581</td>\n",
       "      <td>44580.256718</td>\n",
       "      <td>0.0</td>\n",
       "    </tr>\n",
       "    <tr>\n",
       "      <th>3</th>\n",
       "      <td>2023-01-15</td>\n",
       "      <td>35454.749016</td>\n",
       "      <td>35211.603012</td>\n",
       "      <td>34107.853810</td>\n",
       "      <td>43367.089528</td>\n",
       "      <td>43805.992068</td>\n",
       "      <td>37.650721</td>\n",
       "      <td>False</td>\n",
       "      <td>48852.372428</td>\n",
       "      <td>44929.860092</td>\n",
       "      <td>0.0</td>\n",
       "    </tr>\n",
       "    <tr>\n",
       "      <th>4</th>\n",
       "      <td>2023-01-16</td>\n",
       "      <td>35502.135296</td>\n",
       "      <td>36428.171405</td>\n",
       "      <td>35625.323065</td>\n",
       "      <td>44297.612013</td>\n",
       "      <td>43903.552042</td>\n",
       "      <td>39.993981</td>\n",
       "      <td>True</td>\n",
       "      <td>46570.552431</td>\n",
       "      <td>43760.010546</td>\n",
       "      <td>0.0</td>\n",
       "    </tr>\n",
       "  </tbody>\n",
       "</table>\n",
       "</div>"
      ],
      "text/plain": [
       "         Date    Open_Price    High_Price     Low_Price          MA_5  \\\n",
       "0  2023-01-12  59097.295565  59900.004347  58784.035582  49045.482581   \n",
       "1  2023-01-13  54973.279224  55396.713428  54378.735255  48852.372428   \n",
       "2  2023-01-14  36370.173320  36938.992350  36371.219308  46570.552431   \n",
       "3  2023-01-15  35454.749016  35211.603012  34107.853810  43367.089528   \n",
       "4  2023-01-16  35502.135296  36428.171405  35625.323065  44297.612013   \n",
       "\n",
       "          MA_10        RSI  Price_Movement    MA_5_lag_2   MA_10_lag_2  \\\n",
       "0  44580.256718  33.144940           False  44244.894607  45577.477694   \n",
       "1  44929.860092  43.650581            True  43509.492070  44528.878721   \n",
       "2  43760.010546  44.739048            True  49045.482581  44580.256718   \n",
       "3  43805.992068  37.650721           False  48852.372428  44929.860092   \n",
       "4  43903.552042  39.993981            True  46570.552431  43760.010546   \n",
       "\n",
       "   MA_10_lag_7  \n",
       "0          0.0  \n",
       "1          0.0  \n",
       "2          0.0  \n",
       "3          0.0  \n",
       "4          0.0  "
      ]
     },
     "execution_count": 2,
     "metadata": {},
     "output_type": "execute_result"
    }
   ],
   "source": [
    "df = pd.read_csv('Dataset/crypto_price_movement_dataset_cleaned.csv') \n",
    "df.head()"
   ]
  },
  {
   "cell_type": "code",
   "execution_count": 3,
   "metadata": {
    "cellUniqueIdByVincent": "1c72d"
   },
   "outputs": [
    {
     "data": {
      "text/plain": [
       "Date               object\n",
       "Open_Price        float64\n",
       "High_Price        float64\n",
       "Low_Price         float64\n",
       "MA_5              float64\n",
       "MA_10             float64\n",
       "RSI               float64\n",
       "Price_Movement       bool\n",
       "MA_5_lag_2        float64\n",
       "MA_10_lag_2       float64\n",
       "MA_10_lag_7       float64\n",
       "dtype: object"
      ]
     },
     "execution_count": 3,
     "metadata": {},
     "output_type": "execute_result"
    }
   ],
   "source": [
    "df.dtypes"
   ]
  },
  {
   "cell_type": "code",
   "execution_count": 4,
   "metadata": {
    "cellUniqueIdByVincent": "a5891"
   },
   "outputs": [
    {
     "name": "stdout",
     "output_type": "stream",
     "text": [
      "   High_Price  Low_Price     MA_10  MA_10_lag_2  MA_10_lag_7      MA_5  \\\n",
      "0    1.666637   1.653700 -0.141513     0.224575   -16.285208  1.053959   \n",
      "1    1.146589   1.144921 -0.013172    -0.160369   -16.285208  1.004070   \n",
      "2   -0.984941  -0.934809 -0.442628    -0.141508   -16.285208  0.414565   \n",
      "3   -1.184423  -1.196210 -0.425748    -0.013168   -16.285208 -0.413045   \n",
      "4   -1.043932  -1.020954 -0.389933    -0.442623   -16.285208 -0.172646   \n",
      "\n",
      "   MA_5_lag_2  Open_Price       RSI  Price_Movement        Date  \n",
      "0   -0.186237    1.633314 -1.464828           False  2023-01-12  \n",
      "1   -0.376228    1.156652 -0.553939            True  2023-01-13  \n",
      "2    1.053994   -0.993528 -0.459564            True  2023-01-14  \n",
      "3    1.004104   -1.099335 -1.074156           False  2023-01-15  \n",
      "4    0.414597   -1.093858 -0.870984            True  2023-01-16  \n"
     ]
    }
   ],
   "source": [
    "# Exclude non-feature columns from scaling\n",
    "cols_to_scale = df.columns.difference(['Date', 'Price_Movement'])\n",
    "\n",
    "# Scale the features\n",
    "scaler = StandardScaler()\n",
    "scaled_values = scaler.fit_transform(df[cols_to_scale])\n",
    "\n",
    "# Create dataframe with scaled features\n",
    "features_scaled_df = pd.DataFrame(scaled_values, columns=cols_to_scale, index=df.index)\n",
    "\n",
    "# Add the target column back without scaling\n",
    "features_scaled_df['Price_Movement'] = df['Price_Movement']\n",
    "features_scaled_df['Date'] = df['Date']\n",
    "\n",
    "print(features_scaled_df.head())"
   ]
  },
  {
   "cell_type": "code",
   "execution_count": 5,
   "metadata": {
    "cellUniqueIdByVincent": "ac296"
   },
   "outputs": [
    {
     "name": "stdout",
     "output_type": "stream",
     "text": [
      "X_seq shape: (49979, 10, 9)\n",
      "y_seq shape: (49979,)\n"
     ]
    }
   ],
   "source": [
    "# Define the window size\n",
    "window_size = 10\n",
    "\n",
    "def create_time_windows(data, window_size):\n",
    "    X_windows = []\n",
    "    y_windows = []\n",
    "    \n",
    "    # Loop starting from window_size to the end of data rows\n",
    "    for i in range(window_size, len(data)):\n",
    "        # Get window of features for the previous window_size days\n",
    "        X_window = data.iloc[i-window_size:i].values\n",
    "        # Get the target for the current day (could be adjusted as needed)\n",
    "        y_window = features_scaled_df.iloc[i]['Price_Movement']\n",
    "        X_windows.append(X_window)\n",
    "        y_windows.append(y_window)\n",
    "    \n",
    "    return np.array(X_windows), np.array(y_windows)\n",
    "\n",
    "# Prepare features (drop Date and Price_Movement columns)\n",
    "features = features_scaled_df.drop(['Date', 'Price_Movement'], axis=1)\n",
    "\n",
    "# Create the windows\n",
    "X_seq, y_seq = create_time_windows(features, window_size)\n",
    "\n",
    "# Check the shapes. X_seq should have shape (samples, 30, num_features)\n",
    "print(\"X_seq shape:\", X_seq.shape)\n",
    "print(\"y_seq shape:\", y_seq.shape)"
   ]
  },
  {
   "cell_type": "code",
   "execution_count": 6,
   "metadata": {
    "cellUniqueIdByVincent": "a6469"
   },
   "outputs": [
    {
     "name": "stdout",
     "output_type": "stream",
     "text": [
      "Training set: X shape = (34985, 10, 9), y shape = (34985,)\n",
      "Validation set: X shape = (7496, 10, 9), y shape = (7496,)\n",
      "Test set: X shape = (7498, 10, 9), y shape = (7498,)\n"
     ]
    }
   ],
   "source": [
    "def create_train_val_test_split(X, y, train_ratio=0.7, val_ratio=0.15):\n",
    "\n",
    "    n = len(X)\n",
    "    \n",
    "    # Calculate the split indices\n",
    "    train_end = int(n * train_ratio)\n",
    "    val_end = train_end + int(n * val_ratio)\n",
    "    \n",
    "    # Split the data\n",
    "    X_train, y_train = X[:train_end], y[:train_end]\n",
    "    X_val, y_val = X[train_end:val_end], y[train_end:val_end]\n",
    "    X_test, y_test = X[val_end:], y[val_end:]\n",
    "    \n",
    "    return X_train, y_train, X_val, y_val, X_test, y_test\n",
    "\n",
    "# Create the splits with default 70-15-15 ratio\n",
    "X_train, y_train, X_val, y_val, X_test, y_test = create_train_val_test_split(X_seq, y_seq)\n",
    "\n",
    "# Print the shapes to verify\n",
    "print(f\"Training set: X shape = {X_train.shape}, y shape = {y_train.shape}\")\n",
    "print(f\"Validation set: X shape = {X_val.shape}, y shape = {y_val.shape}\")\n",
    "print(f\"Test set: X shape = {X_test.shape}, y shape = {y_test.shape}\")"
   ]
  },
  {
   "cell_type": "code",
   "execution_count": 10,
   "metadata": {
    "cellUniqueIdByVincent": "a8532"
   },
   "outputs": [
    {
     "name": "stdout",
     "output_type": "stream",
     "text": [
      "\n",
      "Fold 1/5\n",
      "Epoch 1/10\n",
      "\u001b[1m531/531\u001b[0m \u001b[32m━━━━━━━━━━━━━━━━━━━━\u001b[0m\u001b[37m\u001b[0m \u001b[1m0s\u001b[0m 5ms/step - accuracy: 0.4900 - loss: 0.7400"
     ]
    },
    {
     "name": "stderr",
     "output_type": "stream",
     "text": [
      "WARNING:absl:You are saving your model as an HDF5 file via `model.save()` or `keras.saving.save_model(model)`. This file format is considered legacy. We recommend using instead the native Keras format, e.g. `model.save('my_model.keras')` or `keras.saving.save_model(model, 'my_model.keras')`. \n"
     ]
    },
    {
     "name": "stdout",
     "output_type": "stream",
     "text": [
      "\u001b[1m531/531\u001b[0m \u001b[32m━━━━━━━━━━━━━━━━━━━━\u001b[0m\u001b[37m\u001b[0m \u001b[1m5s\u001b[0m 6ms/step - accuracy: 0.4900 - loss: 0.7399 - val_accuracy: 0.4977 - val_loss: 0.6961\n",
      "Epoch 2/10\n",
      "\u001b[1m531/531\u001b[0m \u001b[32m━━━━━━━━━━━━━━━━━━━━\u001b[0m\u001b[37m\u001b[0m \u001b[1m0s\u001b[0m 5ms/step - accuracy: 0.4998 - loss: 0.6988"
     ]
    },
    {
     "name": "stderr",
     "output_type": "stream",
     "text": [
      "WARNING:absl:You are saving your model as an HDF5 file via `model.save()` or `keras.saving.save_model(model)`. This file format is considered legacy. We recommend using instead the native Keras format, e.g. `model.save('my_model.keras')` or `keras.saving.save_model(model, 'my_model.keras')`. \n"
     ]
    },
    {
     "name": "stdout",
     "output_type": "stream",
     "text": [
      "\u001b[1m531/531\u001b[0m \u001b[32m━━━━━━━━━━━━━━━━━━━━\u001b[0m\u001b[37m\u001b[0m \u001b[1m3s\u001b[0m 6ms/step - accuracy: 0.4998 - loss: 0.6988 - val_accuracy: 0.4884 - val_loss: 0.6954\n",
      "Epoch 3/10\n",
      "\u001b[1m522/531\u001b[0m \u001b[32m━━━━━━━━━━━━━━━━━━━\u001b[0m\u001b[37m━\u001b[0m \u001b[1m0s\u001b[0m 5ms/step - accuracy: 0.5042 - loss: 0.6954"
     ]
    },
    {
     "name": "stderr",
     "output_type": "stream",
     "text": [
      "WARNING:absl:You are saving your model as an HDF5 file via `model.save()` or `keras.saving.save_model(model)`. This file format is considered legacy. We recommend using instead the native Keras format, e.g. `model.save('my_model.keras')` or `keras.saving.save_model(model, 'my_model.keras')`. \n"
     ]
    },
    {
     "name": "stdout",
     "output_type": "stream",
     "text": [
      "\u001b[1m531/531\u001b[0m \u001b[32m━━━━━━━━━━━━━━━━━━━━\u001b[0m\u001b[37m\u001b[0m \u001b[1m3s\u001b[0m 6ms/step - accuracy: 0.5040 - loss: 0.6954 - val_accuracy: 0.5039 - val_loss: 0.6945\n",
      "Epoch 4/10\n",
      "\u001b[1m528/531\u001b[0m \u001b[32m━━━━━━━━━━━━━━━━━━━\u001b[0m\u001b[37m━\u001b[0m \u001b[1m0s\u001b[0m 5ms/step - accuracy: 0.5062 - loss: 0.6945"
     ]
    },
    {
     "name": "stderr",
     "output_type": "stream",
     "text": [
      "WARNING:absl:You are saving your model as an HDF5 file via `model.save()` or `keras.saving.save_model(model)`. This file format is considered legacy. We recommend using instead the native Keras format, e.g. `model.save('my_model.keras')` or `keras.saving.save_model(model, 'my_model.keras')`. \n"
     ]
    },
    {
     "name": "stdout",
     "output_type": "stream",
     "text": [
      "\u001b[1m531/531\u001b[0m \u001b[32m━━━━━━━━━━━━━━━━━━━━\u001b[0m\u001b[37m\u001b[0m \u001b[1m3s\u001b[0m 6ms/step - accuracy: 0.5062 - loss: 0.6945 - val_accuracy: 0.5050 - val_loss: 0.6940\n",
      "Epoch 5/10\n",
      "\u001b[1m531/531\u001b[0m \u001b[32m━━━━━━━━━━━━━━━━━━━━\u001b[0m\u001b[37m\u001b[0m \u001b[1m3s\u001b[0m 6ms/step - accuracy: 0.5051 - loss: 0.6948 - val_accuracy: 0.5056 - val_loss: 0.6947\n",
      "Epoch 6/10\n",
      "\u001b[1m522/531\u001b[0m \u001b[32m━━━━━━━━━━━━━━━━━━━\u001b[0m\u001b[37m━\u001b[0m \u001b[1m0s\u001b[0m 5ms/step - accuracy: 0.5017 - loss: 0.6943"
     ]
    },
    {
     "name": "stderr",
     "output_type": "stream",
     "text": [
      "WARNING:absl:You are saving your model as an HDF5 file via `model.save()` or `keras.saving.save_model(model)`. This file format is considered legacy. We recommend using instead the native Keras format, e.g. `model.save('my_model.keras')` or `keras.saving.save_model(model, 'my_model.keras')`. \n"
     ]
    },
    {
     "name": "stdout",
     "output_type": "stream",
     "text": [
      "\u001b[1m531/531\u001b[0m \u001b[32m━━━━━━━━━━━━━━━━━━━━\u001b[0m\u001b[37m\u001b[0m \u001b[1m3s\u001b[0m 6ms/step - accuracy: 0.5017 - loss: 0.6943 - val_accuracy: 0.5055 - val_loss: 0.6934\n",
      "Epoch 7/10\n",
      "\u001b[1m531/531\u001b[0m \u001b[32m━━━━━━━━━━━━━━━━━━━━\u001b[0m\u001b[37m\u001b[0m \u001b[1m3s\u001b[0m 6ms/step - accuracy: 0.5008 - loss: 0.6944 - val_accuracy: 0.5001 - val_loss: 0.6940\n",
      "Epoch 8/10\n",
      "\u001b[1m531/531\u001b[0m \u001b[32m━━━━━━━━━━━━━━━━━━━━\u001b[0m\u001b[37m\u001b[0m \u001b[1m3s\u001b[0m 6ms/step - accuracy: 0.5058 - loss: 0.6939 - val_accuracy: 0.4974 - val_loss: 0.6938\n",
      "Epoch 9/10\n",
      "\u001b[1m531/531\u001b[0m \u001b[32m━━━━━━━━━━━━━━━━━━━━\u001b[0m\u001b[37m\u001b[0m \u001b[1m3s\u001b[0m 6ms/step - accuracy: 0.5019 - loss: 0.6940 - val_accuracy: 0.4995 - val_loss: 0.6940\n",
      "Epoch 10/10\n",
      "\u001b[1m531/531\u001b[0m \u001b[32m━━━━━━━━━━━━━━━━━━━━\u001b[0m\u001b[37m\u001b[0m \u001b[1m3s\u001b[0m 6ms/step - accuracy: 0.5075 - loss: 0.6939 - val_accuracy: 0.4981 - val_loss: 0.6938\n",
      "\u001b[1m266/266\u001b[0m \u001b[32m━━━━━━━━━━━━━━━━━━━━\u001b[0m\u001b[37m\u001b[0m \u001b[1m1s\u001b[0m 2ms/step\n",
      "Fold 1 - Train Acc: 0.5069, Val Acc: 0.5055\n",
      "              precision    recall  f1-score   support\n",
      "\n",
      "       False       0.50      0.52      0.51      4178\n",
      "        True       0.51      0.49      0.50      4319\n",
      "\n",
      "    accuracy                           0.51      8497\n",
      "   macro avg       0.51      0.51      0.51      8497\n",
      "weighted avg       0.51      0.51      0.51      8497\n",
      "\n",
      "\n",
      "Fold 2/5\n",
      "Epoch 1/10\n",
      "\u001b[1m524/532\u001b[0m \u001b[32m━━━━━━━━━━━━━━━━━━━\u001b[0m\u001b[37m━\u001b[0m \u001b[1m0s\u001b[0m 6ms/step - accuracy: 0.4967 - loss: 0.7307"
     ]
    },
    {
     "name": "stderr",
     "output_type": "stream",
     "text": [
      "WARNING:absl:You are saving your model as an HDF5 file via `model.save()` or `keras.saving.save_model(model)`. This file format is considered legacy. We recommend using instead the native Keras format, e.g. `model.save('my_model.keras')` or `keras.saving.save_model(model, 'my_model.keras')`. \n"
     ]
    },
    {
     "name": "stdout",
     "output_type": "stream",
     "text": [
      "\u001b[1m532/532\u001b[0m \u001b[32m━━━━━━━━━━━━━━━━━━━━\u001b[0m\u001b[37m\u001b[0m \u001b[1m5s\u001b[0m 7ms/step - accuracy: 0.4968 - loss: 0.7303 - val_accuracy: 0.5154 - val_loss: 0.6941\n",
      "Epoch 2/10\n",
      "\u001b[1m532/532\u001b[0m \u001b[32m━━━━━━━━━━━━━━━━━━━━\u001b[0m\u001b[37m\u001b[0m \u001b[1m3s\u001b[0m 6ms/step - accuracy: 0.5013 - loss: 0.6971 - val_accuracy: 0.4966 - val_loss: 0.6963\n",
      "Epoch 3/10\n",
      "\u001b[1m532/532\u001b[0m \u001b[32m━━━━━━━━━━━━━━━━━━━━\u001b[0m\u001b[37m\u001b[0m \u001b[1m3s\u001b[0m 6ms/step - accuracy: 0.5040 - loss: 0.6954 - val_accuracy: 0.4976 - val_loss: 0.6943\n",
      "Epoch 4/10\n",
      "\u001b[1m531/532\u001b[0m \u001b[32m━━━━━━━━━━━━━━━━━━━\u001b[0m\u001b[37m━\u001b[0m \u001b[1m0s\u001b[0m 6ms/step - accuracy: 0.5004 - loss: 0.6955"
     ]
    },
    {
     "name": "stderr",
     "output_type": "stream",
     "text": [
      "WARNING:absl:You are saving your model as an HDF5 file via `model.save()` or `keras.saving.save_model(model)`. This file format is considered legacy. We recommend using instead the native Keras format, e.g. `model.save('my_model.keras')` or `keras.saving.save_model(model, 'my_model.keras')`. \n"
     ]
    },
    {
     "name": "stdout",
     "output_type": "stream",
     "text": [
      "\u001b[1m532/532\u001b[0m \u001b[32m━━━━━━━━━━━━━━━━━━━━\u001b[0m\u001b[37m\u001b[0m \u001b[1m3s\u001b[0m 6ms/step - accuracy: 0.5004 - loss: 0.6955 - val_accuracy: 0.5011 - val_loss: 0.6938\n",
      "Epoch 5/10\n",
      "\u001b[1m532/532\u001b[0m \u001b[32m━━━━━━━━━━━━━━━━━━━━\u001b[0m\u001b[37m\u001b[0m \u001b[1m3s\u001b[0m 6ms/step - accuracy: 0.5103 - loss: 0.6937 - val_accuracy: 0.4961 - val_loss: 0.6944\n",
      "Epoch 6/10\n",
      "\u001b[1m532/532\u001b[0m \u001b[32m━━━━━━━━━━━━━━━━━━━━\u001b[0m\u001b[37m\u001b[0m \u001b[1m3s\u001b[0m 6ms/step - accuracy: 0.5021 - loss: 0.6940 - val_accuracy: 0.4934 - val_loss: 0.6954\n",
      "Epoch 7/10\n",
      "\u001b[1m532/532\u001b[0m \u001b[32m━━━━━━━━━━━━━━━━━━━━\u001b[0m\u001b[37m\u001b[0m \u001b[1m3s\u001b[0m 6ms/step - accuracy: 0.5052 - loss: 0.6944 - val_accuracy: 0.4940 - val_loss: 0.6947\n",
      "Epoch 8/10\n",
      "\u001b[1m532/532\u001b[0m \u001b[32m━━━━━━━━━━━━━━━━━━━━\u001b[0m\u001b[37m\u001b[0m \u001b[1m3s\u001b[0m 6ms/step - accuracy: 0.5123 - loss: 0.6939 - val_accuracy: 0.4952 - val_loss: 0.6939\n",
      "Epoch 9/10\n",
      "\u001b[1m532/532\u001b[0m \u001b[32m━━━━━━━━━━━━━━━━━━━━\u001b[0m\u001b[37m\u001b[0m \u001b[1m3s\u001b[0m 6ms/step - accuracy: 0.5001 - loss: 0.6945 - val_accuracy: 0.4946 - val_loss: 0.6940\n",
      "\u001b[1m266/266\u001b[0m \u001b[32m━━━━━━━━━━━━━━━━━━━━\u001b[0m\u001b[37m\u001b[0m \u001b[1m1s\u001b[0m 2ms/step\n",
      "Fold 2 - Train Acc: 0.5085, Val Acc: 0.5011\n",
      "              precision    recall  f1-score   support\n",
      "\n",
      "       False       0.49      0.49      0.49      4180\n",
      "        True       0.51      0.52      0.51      4316\n",
      "\n",
      "    accuracy                           0.50      8496\n",
      "   macro avg       0.50      0.50      0.50      8496\n",
      "weighted avg       0.50      0.50      0.50      8496\n",
      "\n",
      "\n",
      "Fold 3/5\n",
      "Epoch 1/10\n",
      "\u001b[1m530/532\u001b[0m \u001b[32m━━━━━━━━━━━━━━━━━━━\u001b[0m\u001b[37m━\u001b[0m \u001b[1m0s\u001b[0m 6ms/step - accuracy: 0.5008 - loss: 0.7322"
     ]
    },
    {
     "name": "stderr",
     "output_type": "stream",
     "text": [
      "WARNING:absl:You are saving your model as an HDF5 file via `model.save()` or `keras.saving.save_model(model)`. This file format is considered legacy. We recommend using instead the native Keras format, e.g. `model.save('my_model.keras')` or `keras.saving.save_model(model, 'my_model.keras')`. \n"
     ]
    },
    {
     "name": "stdout",
     "output_type": "stream",
     "text": [
      "\u001b[1m532/532\u001b[0m \u001b[32m━━━━━━━━━━━━━━━━━━━━\u001b[0m\u001b[37m\u001b[0m \u001b[1m5s\u001b[0m 7ms/step - accuracy: 0.5008 - loss: 0.7321 - val_accuracy: 0.5048 - val_loss: 0.6942\n",
      "Epoch 2/10\n",
      "\u001b[1m532/532\u001b[0m \u001b[32m━━━━━━━━━━━━━━━━━━━━\u001b[0m\u001b[37m\u001b[0m \u001b[1m3s\u001b[0m 6ms/step - accuracy: 0.4949 - loss: 0.6986 - val_accuracy: 0.4966 - val_loss: 0.6950\n",
      "Epoch 3/10\n",
      "\u001b[1m523/532\u001b[0m \u001b[32m━━━━━━━━━━━━━━━━━━━\u001b[0m\u001b[37m━\u001b[0m \u001b[1m0s\u001b[0m 6ms/step - accuracy: 0.5010 - loss: 0.6958"
     ]
    },
    {
     "name": "stderr",
     "output_type": "stream",
     "text": [
      "WARNING:absl:You are saving your model as an HDF5 file via `model.save()` or `keras.saving.save_model(model)`. This file format is considered legacy. We recommend using instead the native Keras format, e.g. `model.save('my_model.keras')` or `keras.saving.save_model(model, 'my_model.keras')`. \n"
     ]
    },
    {
     "name": "stdout",
     "output_type": "stream",
     "text": [
      "\u001b[1m532/532\u001b[0m \u001b[32m━━━━━━━━━━━━━━━━━━━━\u001b[0m\u001b[37m\u001b[0m \u001b[1m3s\u001b[0m 6ms/step - accuracy: 0.5010 - loss: 0.6958 - val_accuracy: 0.5067 - val_loss: 0.6942\n",
      "Epoch 4/10\n",
      "\u001b[1m532/532\u001b[0m \u001b[32m━━━━━━━━━━━━━━━━━━━━\u001b[0m\u001b[37m\u001b[0m \u001b[1m3s\u001b[0m 6ms/step - accuracy: 0.5079 - loss: 0.6944 - val_accuracy: 0.4993 - val_loss: 0.6948\n",
      "Epoch 5/10\n",
      "\u001b[1m531/532\u001b[0m \u001b[32m━━━━━━━━━━━━━━━━━━━\u001b[0m\u001b[37m━\u001b[0m \u001b[1m0s\u001b[0m 6ms/step - accuracy: 0.5025 - loss: 0.6945"
     ]
    },
    {
     "name": "stderr",
     "output_type": "stream",
     "text": [
      "WARNING:absl:You are saving your model as an HDF5 file via `model.save()` or `keras.saving.save_model(model)`. This file format is considered legacy. We recommend using instead the native Keras format, e.g. `model.save('my_model.keras')` or `keras.saving.save_model(model, 'my_model.keras')`. \n"
     ]
    },
    {
     "name": "stdout",
     "output_type": "stream",
     "text": [
      "\u001b[1m532/532\u001b[0m \u001b[32m━━━━━━━━━━━━━━━━━━━━\u001b[0m\u001b[37m\u001b[0m \u001b[1m3s\u001b[0m 6ms/step - accuracy: 0.5025 - loss: 0.6945 - val_accuracy: 0.5078 - val_loss: 0.6933\n",
      "Epoch 6/10\n",
      "\u001b[1m529/532\u001b[0m \u001b[32m━━━━━━━━━━━━━━━━━━━\u001b[0m\u001b[37m━\u001b[0m \u001b[1m0s\u001b[0m 6ms/step - accuracy: 0.4982 - loss: 0.6948"
     ]
    },
    {
     "name": "stderr",
     "output_type": "stream",
     "text": [
      "WARNING:absl:You are saving your model as an HDF5 file via `model.save()` or `keras.saving.save_model(model)`. This file format is considered legacy. We recommend using instead the native Keras format, e.g. `model.save('my_model.keras')` or `keras.saving.save_model(model, 'my_model.keras')`. \n"
     ]
    },
    {
     "name": "stdout",
     "output_type": "stream",
     "text": [
      "\u001b[1m532/532\u001b[0m \u001b[32m━━━━━━━━━━━━━━━━━━━━\u001b[0m\u001b[37m\u001b[0m \u001b[1m3s\u001b[0m 6ms/step - accuracy: 0.4982 - loss: 0.6948 - val_accuracy: 0.5032 - val_loss: 0.6931\n",
      "Epoch 7/10\n",
      "\u001b[1m532/532\u001b[0m \u001b[32m━━━━━━━━━━━━━━━━━━━━\u001b[0m\u001b[37m\u001b[0m \u001b[1m3s\u001b[0m 6ms/step - accuracy: 0.4993 - loss: 0.6940 - val_accuracy: 0.5025 - val_loss: 0.6932\n",
      "Epoch 8/10\n",
      "\u001b[1m532/532\u001b[0m \u001b[32m━━━━━━━━━━━━━━━━━━━━\u001b[0m\u001b[37m\u001b[0m \u001b[1m3s\u001b[0m 6ms/step - accuracy: 0.5019 - loss: 0.6939 - val_accuracy: 0.5048 - val_loss: 0.6935\n",
      "Epoch 9/10\n",
      "\u001b[1m532/532\u001b[0m \u001b[32m━━━━━━━━━━━━━━━━━━━━\u001b[0m\u001b[37m\u001b[0m \u001b[1m3s\u001b[0m 6ms/step - accuracy: 0.5028 - loss: 0.6940 - val_accuracy: 0.5034 - val_loss: 0.6934\n",
      "Epoch 10/10\n",
      "\u001b[1m530/532\u001b[0m \u001b[32m━━━━━━━━━━━━━━━━━━━\u001b[0m\u001b[37m━\u001b[0m \u001b[1m0s\u001b[0m 6ms/step - accuracy: 0.4982 - loss: 0.6940"
     ]
    },
    {
     "name": "stderr",
     "output_type": "stream",
     "text": [
      "WARNING:absl:You are saving your model as an HDF5 file via `model.save()` or `keras.saving.save_model(model)`. This file format is considered legacy. We recommend using instead the native Keras format, e.g. `model.save('my_model.keras')` or `keras.saving.save_model(model, 'my_model.keras')`. \n"
     ]
    },
    {
     "name": "stdout",
     "output_type": "stream",
     "text": [
      "\u001b[1m532/532\u001b[0m \u001b[32m━━━━━━━━━━━━━━━━━━━━\u001b[0m\u001b[37m\u001b[0m \u001b[1m3s\u001b[0m 6ms/step - accuracy: 0.4982 - loss: 0.6940 - val_accuracy: 0.5028 - val_loss: 0.6930\n",
      "\u001b[1m266/266\u001b[0m \u001b[32m━━━━━━━━━━━━━━━━━━━━\u001b[0m\u001b[37m\u001b[0m \u001b[1m1s\u001b[0m 2ms/step\n",
      "Fold 3 - Train Acc: 0.5053, Val Acc: 0.5028\n",
      "              precision    recall  f1-score   support\n",
      "\n",
      "       False       0.51      0.20      0.28      4258\n",
      "        True       0.50      0.81      0.62      4238\n",
      "\n",
      "    accuracy                           0.50      8496\n",
      "   macro avg       0.51      0.50      0.45      8496\n",
      "weighted avg       0.51      0.50      0.45      8496\n",
      "\n",
      "\n",
      "Fold 4/5\n",
      "Epoch 1/10\n",
      "\u001b[1m523/532\u001b[0m \u001b[32m━━━━━━━━━━━━━━━━━━━\u001b[0m\u001b[37m━\u001b[0m \u001b[1m0s\u001b[0m 6ms/step - accuracy: 0.4976 - loss: 0.7187"
     ]
    },
    {
     "name": "stderr",
     "output_type": "stream",
     "text": [
      "WARNING:absl:You are saving your model as an HDF5 file via `model.save()` or `keras.saving.save_model(model)`. This file format is considered legacy. We recommend using instead the native Keras format, e.g. `model.save('my_model.keras')` or `keras.saving.save_model(model, 'my_model.keras')`. \n"
     ]
    },
    {
     "name": "stdout",
     "output_type": "stream",
     "text": [
      "\u001b[1m532/532\u001b[0m \u001b[32m━━━━━━━━━━━━━━━━━━━━\u001b[0m\u001b[37m\u001b[0m \u001b[1m5s\u001b[0m 7ms/step - accuracy: 0.4977 - loss: 0.7184 - val_accuracy: 0.4994 - val_loss: 0.6947\n",
      "Epoch 2/10\n",
      "\u001b[1m529/532\u001b[0m \u001b[32m━━━━━━━━━━━━━━━━━━━\u001b[0m\u001b[37m━\u001b[0m \u001b[1m0s\u001b[0m 6ms/step - accuracy: 0.4953 - loss: 0.6965"
     ]
    },
    {
     "name": "stderr",
     "output_type": "stream",
     "text": [
      "WARNING:absl:You are saving your model as an HDF5 file via `model.save()` or `keras.saving.save_model(model)`. This file format is considered legacy. We recommend using instead the native Keras format, e.g. `model.save('my_model.keras')` or `keras.saving.save_model(model, 'my_model.keras')`. \n"
     ]
    },
    {
     "name": "stdout",
     "output_type": "stream",
     "text": [
      "\u001b[1m532/532\u001b[0m \u001b[32m━━━━━━━━━━━━━━━━━━━━\u001b[0m\u001b[37m\u001b[0m \u001b[1m3s\u001b[0m 6ms/step - accuracy: 0.4953 - loss: 0.6965 - val_accuracy: 0.4993 - val_loss: 0.6934\n",
      "Epoch 3/10\n",
      "\u001b[1m532/532\u001b[0m \u001b[32m━━━━━━━━━━━━━━━━━━━━\u001b[0m\u001b[37m\u001b[0m \u001b[1m3s\u001b[0m 6ms/step - accuracy: 0.5008 - loss: 0.6945 - val_accuracy: 0.5028 - val_loss: 0.6948\n",
      "Epoch 4/10\n",
      "\u001b[1m532/532\u001b[0m \u001b[32m━━━━━━━━━━━━━━━━━━━━\u001b[0m\u001b[37m\u001b[0m \u001b[1m3s\u001b[0m 6ms/step - accuracy: 0.5031 - loss: 0.6944 - val_accuracy: 0.5048 - val_loss: 0.6939\n",
      "Epoch 5/10\n",
      "\u001b[1m523/532\u001b[0m \u001b[32m━━━━━━━━━━━━━━━━━━━\u001b[0m\u001b[37m━\u001b[0m \u001b[1m0s\u001b[0m 6ms/step - accuracy: 0.5112 - loss: 0.6934"
     ]
    },
    {
     "name": "stderr",
     "output_type": "stream",
     "text": [
      "WARNING:absl:You are saving your model as an HDF5 file via `model.save()` or `keras.saving.save_model(model)`. This file format is considered legacy. We recommend using instead the native Keras format, e.g. `model.save('my_model.keras')` or `keras.saving.save_model(model, 'my_model.keras')`. \n"
     ]
    },
    {
     "name": "stdout",
     "output_type": "stream",
     "text": [
      "\u001b[1m532/532\u001b[0m \u001b[32m━━━━━━━━━━━━━━━━━━━━\u001b[0m\u001b[37m\u001b[0m \u001b[1m3s\u001b[0m 6ms/step - accuracy: 0.5112 - loss: 0.6934 - val_accuracy: 0.5032 - val_loss: 0.6933\n",
      "Epoch 6/10\n",
      "\u001b[1m532/532\u001b[0m \u001b[32m━━━━━━━━━━━━━━━━━━━━\u001b[0m\u001b[37m\u001b[0m \u001b[1m3s\u001b[0m 6ms/step - accuracy: 0.5106 - loss: 0.6934 - val_accuracy: 0.4927 - val_loss: 0.6939\n",
      "Epoch 7/10\n",
      "\u001b[1m532/532\u001b[0m \u001b[32m━━━━━━━━━━━━━━━━━━━━\u001b[0m\u001b[37m\u001b[0m \u001b[1m3s\u001b[0m 6ms/step - accuracy: 0.5011 - loss: 0.6939 - val_accuracy: 0.5069 - val_loss: 0.6940\n",
      "Epoch 8/10\n",
      "\u001b[1m532/532\u001b[0m \u001b[32m━━━━━━━━━━━━━━━━━━━━\u001b[0m\u001b[37m\u001b[0m \u001b[1m3s\u001b[0m 6ms/step - accuracy: 0.5022 - loss: 0.6941 - val_accuracy: 0.5012 - val_loss: 0.6934\n",
      "Epoch 9/10\n",
      "\u001b[1m532/532\u001b[0m \u001b[32m━━━━━━━━━━━━━━━━━━━━\u001b[0m\u001b[37m\u001b[0m \u001b[1m3s\u001b[0m 6ms/step - accuracy: 0.5031 - loss: 0.6938 - val_accuracy: 0.5000 - val_loss: 0.6939\n",
      "Epoch 10/10\n",
      "\u001b[1m528/532\u001b[0m \u001b[32m━━━━━━━━━━━━━━━━━━━\u001b[0m\u001b[37m━\u001b[0m \u001b[1m0s\u001b[0m 6ms/step - accuracy: 0.4964 - loss: 0.6941"
     ]
    },
    {
     "name": "stderr",
     "output_type": "stream",
     "text": [
      "WARNING:absl:You are saving your model as an HDF5 file via `model.save()` or `keras.saving.save_model(model)`. This file format is considered legacy. We recommend using instead the native Keras format, e.g. `model.save('my_model.keras')` or `keras.saving.save_model(model, 'my_model.keras')`. \n"
     ]
    },
    {
     "name": "stdout",
     "output_type": "stream",
     "text": [
      "\u001b[1m532/532\u001b[0m \u001b[32m━━━━━━━━━━━━━━━━━━━━\u001b[0m\u001b[37m\u001b[0m \u001b[1m3s\u001b[0m 6ms/step - accuracy: 0.4964 - loss: 0.6941 - val_accuracy: 0.5025 - val_loss: 0.6931\n",
      "\u001b[1m266/266\u001b[0m \u001b[32m━━━━━━━━━━━━━━━━━━━━\u001b[0m\u001b[37m\u001b[0m \u001b[1m1s\u001b[0m 2ms/step\n",
      "Fold 4 - Train Acc: 0.5058, Val Acc: 0.5025\n",
      "              precision    recall  f1-score   support\n",
      "\n",
      "       False       0.49      0.21      0.29      4186\n",
      "        True       0.51      0.79      0.62      4310\n",
      "\n",
      "    accuracy                           0.50      8496\n",
      "   macro avg       0.50      0.50      0.45      8496\n",
      "weighted avg       0.50      0.50      0.46      8496\n",
      "\n",
      "\n",
      "Fold 5/5\n",
      "Epoch 1/10\n",
      "\u001b[1m532/532\u001b[0m \u001b[32m━━━━━━━━━━━━━━━━━━━━\u001b[0m\u001b[37m\u001b[0m \u001b[1m0s\u001b[0m 6ms/step - accuracy: 0.5071 - loss: 0.7221"
     ]
    },
    {
     "name": "stderr",
     "output_type": "stream",
     "text": [
      "WARNING:absl:You are saving your model as an HDF5 file via `model.save()` or `keras.saving.save_model(model)`. This file format is considered legacy. We recommend using instead the native Keras format, e.g. `model.save('my_model.keras')` or `keras.saving.save_model(model, 'my_model.keras')`. \n"
     ]
    },
    {
     "name": "stdout",
     "output_type": "stream",
     "text": [
      "\u001b[1m532/532\u001b[0m \u001b[32m━━━━━━━━━━━━━━━━━━━━\u001b[0m\u001b[37m\u001b[0m \u001b[1m5s\u001b[0m 7ms/step - accuracy: 0.5071 - loss: 0.7220 - val_accuracy: 0.4975 - val_loss: 0.6943\n",
      "Epoch 2/10\n",
      "\u001b[1m532/532\u001b[0m \u001b[32m━━━━━━━━━━━━━━━━━━━━\u001b[0m\u001b[37m\u001b[0m \u001b[1m3s\u001b[0m 6ms/step - accuracy: 0.4963 - loss: 0.6982 - val_accuracy: 0.5033 - val_loss: 0.6951\n",
      "Epoch 3/10\n",
      "\u001b[1m526/532\u001b[0m \u001b[32m━━━━━━━━━━━━━━━━━━━\u001b[0m\u001b[37m━\u001b[0m \u001b[1m0s\u001b[0m 6ms/step - accuracy: 0.5052 - loss: 0.6957"
     ]
    },
    {
     "name": "stderr",
     "output_type": "stream",
     "text": [
      "WARNING:absl:You are saving your model as an HDF5 file via `model.save()` or `keras.saving.save_model(model)`. This file format is considered legacy. We recommend using instead the native Keras format, e.g. `model.save('my_model.keras')` or `keras.saving.save_model(model, 'my_model.keras')`. \n"
     ]
    },
    {
     "name": "stdout",
     "output_type": "stream",
     "text": [
      "\u001b[1m532/532\u001b[0m \u001b[32m━━━━━━━━━━━━━━━━━━━━\u001b[0m\u001b[37m\u001b[0m \u001b[1m3s\u001b[0m 6ms/step - accuracy: 0.5052 - loss: 0.6957 - val_accuracy: 0.5062 - val_loss: 0.6938\n",
      "Epoch 4/10\n",
      "\u001b[1m532/532\u001b[0m \u001b[32m━━━━━━━━━━━━━━━━━━━━\u001b[0m\u001b[37m\u001b[0m \u001b[1m3s\u001b[0m 6ms/step - accuracy: 0.5033 - loss: 0.6951 - val_accuracy: 0.4967 - val_loss: 0.6939\n",
      "Epoch 5/10\n",
      "\u001b[1m532/532\u001b[0m \u001b[32m━━━━━━━━━━━━━━━━━━━━\u001b[0m\u001b[37m\u001b[0m \u001b[1m3s\u001b[0m 6ms/step - accuracy: 0.5053 - loss: 0.6941 - val_accuracy: 0.4989 - val_loss: 0.6944\n",
      "Epoch 6/10\n",
      "\u001b[1m532/532\u001b[0m \u001b[32m━━━━━━━━━━━━━━━━━━━━\u001b[0m\u001b[37m\u001b[0m \u001b[1m3s\u001b[0m 6ms/step - accuracy: 0.4985 - loss: 0.6945 - val_accuracy: 0.5027 - val_loss: 0.6948\n",
      "Epoch 7/10\n",
      "\u001b[1m532/532\u001b[0m \u001b[32m━━━━━━━━━━━━━━━━━━━━\u001b[0m\u001b[37m\u001b[0m \u001b[1m3s\u001b[0m 6ms/step - accuracy: 0.5023 - loss: 0.6936 - val_accuracy: 0.4952 - val_loss: 0.6954\n",
      "Epoch 8/10\n",
      "\u001b[1m532/532\u001b[0m \u001b[32m━━━━━━━━━━━━━━━━━━━━\u001b[0m\u001b[37m\u001b[0m \u001b[1m3s\u001b[0m 6ms/step - accuracy: 0.5061 - loss: 0.6937 - val_accuracy: 0.4947 - val_loss: 0.6940\n",
      "\u001b[1m266/266\u001b[0m \u001b[32m━━━━━━━━━━━━━━━━━━━━\u001b[0m\u001b[37m\u001b[0m \u001b[1m1s\u001b[0m 2ms/step\n",
      "Fold 5 - Train Acc: 0.5034, Val Acc: 0.5062\n",
      "              precision    recall  f1-score   support\n",
      "\n",
      "       False       0.51      0.49      0.50      4297\n",
      "        True       0.50      0.52      0.51      4199\n",
      "\n",
      "    accuracy                           0.51      8496\n",
      "   macro avg       0.51      0.51      0.51      8496\n",
      "weighted avg       0.51      0.51      0.51      8496\n",
      "\n"
     ]
    }
   ],
   "source": [
    "import tensorflow as tf\n",
    "from tensorflow.keras.models import Sequential\n",
    "from tensorflow.keras.layers import LSTM, Dense, Dropout\n",
    "from tensorflow.keras.callbacks import EarlyStopping, ModelCheckpoint\n",
    "import numpy as np\n",
    "import matplotlib.pyplot as plt\n",
    "from sklearn.model_selection import KFold\n",
    "from sklearn.metrics import classification_report, confusion_matrix\n",
    "from tensorflow.keras.layers import LSTM, Dense, Dropout, BatchNormalization\n",
    "\n",
    "# Combine train and validation data for cross-validation\n",
    "# Assuming X_train, y_train, X_val, y_val are already defined\n",
    "X_combined = np.concatenate([X_train, X_val], axis=0)\n",
    "y_combined = np.concatenate([y_train, y_val], axis=0)\n",
    "\n",
    "# Get shapes for model creation\n",
    "_, timesteps, n_features = X_combined.shape\n",
    "\n",
    "# Define the model creation function (unchanged)\n",
    "def create_lstm_model(timesteps, n_features):\n",
    "    model = Sequential()\n",
    "    model.add(LSTM(64, return_sequences=True, input_shape=(timesteps, n_features)))\n",
    "    model.add(BatchNormalization())\n",
    "    model.add(Dropout(0.2))\n",
    "    model.add(LSTM(32))\n",
    "    model.add(BatchNormalization())\n",
    "    model.add(Dropout(0.2))\n",
    "    model.add(Dense(16, activation='relu'))\n",
    "    model.add(BatchNormalization())\n",
    "    model.add(Dense(1, activation='sigmoid'))\n",
    "    model.compile(optimizer=Adam(), loss='binary_crossentropy', metrics=['accuracy'])\n",
    "    return model\n",
    "\n",
    "# Set up K-fold cross-validation\n",
    "n_folds = 5\n",
    "kfold = KFold(n_splits=n_folds, shuffle=True, random_state=42)\n",
    "\n",
    "# Lists to store metrics\n",
    "fold_train_losses = []\n",
    "fold_val_losses = []\n",
    "fold_train_accs = []\n",
    "fold_val_accs = []\n",
    "all_conf_matrices = []\n",
    "histories = []\n",
    "\n",
    "# Perform cross-validation\n",
    "for fold, (train_idx, val_idx) in enumerate(kfold.split(X_combined)):\n",
    "    print(f\"\\nFold {fold+1}/{n_folds}\")\n",
    "    \n",
    "    # Split data for this fold\n",
    "    X_train_fold, X_val_fold = X_combined[train_idx], X_combined[val_idx]\n",
    "    y_train_fold, y_val_fold = y_combined[train_idx], y_combined[val_idx]\n",
    "    \n",
    "    # Create a fresh model for each fold\n",
    "    model = create_lstm_model(timesteps, n_features)\n",
    "    \n",
    "    # Set up callbacks\n",
    "    callbacks = [\n",
    "        EarlyStopping(monitor='val_loss', patience=5, restore_best_weights=True),\n",
    "        ModelCheckpoint(f'best_lstm_model_fold_{fold+1}.h5', save_best_only=True, monitor='val_loss')\n",
    "    ]\n",
    "    \n",
    "    # Train the model\n",
    "    history = model.fit(\n",
    "        X_train_fold, y_train_fold,\n",
    "        epochs=10,\n",
    "        batch_size=64,\n",
    "        validation_data=(X_val_fold, y_val_fold),\n",
    "        callbacks=callbacks,\n",
    "        verbose=1\n",
    "    )\n",
    "    \n",
    "    # Store training history\n",
    "    histories.append(history)\n",
    "    \n",
    "    # Evaluate on training and validation data\n",
    "    train_loss, train_acc = model.evaluate(X_train_fold, y_train_fold, verbose=0)\n",
    "    val_loss, val_acc = model.evaluate(X_val_fold, y_val_fold, verbose=0)\n",
    "    \n",
    "    # Store metrics\n",
    "    fold_train_losses.append(train_loss)\n",
    "    fold_val_losses.append(val_loss)\n",
    "    fold_train_accs.append(train_acc)\n",
    "    fold_val_accs.append(val_acc)\n",
    "    \n",
    "    # Calculate predictions and confusion matrix\n",
    "    y_pred = (model.predict(X_val_fold) > 0.5).astype(int).flatten()\n",
    "    all_conf_matrices.append(confusion_matrix(y_val_fold, y_pred))\n",
    "    \n",
    "    print(f\"Fold {fold+1} - Train Acc: {train_acc:.4f}, Val Acc: {val_acc:.4f}\")\n",
    "    print(classification_report(y_val_fold, y_pred))"
   ]
  },
  {
   "cell_type": "code",
   "execution_count": 12,
   "metadata": {
    "cellUniqueIdByVincent": "6084d"
   },
   "outputs": [
    {
     "name": "stdout",
     "output_type": "stream",
     "text": [
      "\n",
      "==== Cross-Validation Results ====\n",
      "Average Training Accuracy: 0.5060 ± 0.0017\n",
      "Average Validation Accuracy: 0.5036 ± 0.0019\n",
      "Average Training Loss: 0.6932 ± 0.0001\n",
      "Average Validation Loss: 0.6934 ± 0.0003\n"
     ]
    },
    {
     "data": {
      "image/png": "[encoded data removed]",
      "text/plain": [
       "<Figure size 1200x500 with 2 Axes>"
      ]
     },
     "metadata": {},
     "output_type": "display_data"
    },
    {
     "name": "stdout",
     "output_type": "stream",
     "text": [
      "Epoch 1/10\n",
      "\u001b[1m664/664\u001b[0m \u001b[32m━━━━━━━━━━━━━━━━━━━━\u001b[0m\u001b[37m\u001b[0m \u001b[1m6s\u001b[0m 6ms/step - accuracy: 0.4964 - loss: 0.7281\n",
      "Epoch 2/10\n",
      "\u001b[1m664/664\u001b[0m \u001b[32m━━━━━━━━━━━━━━━━━━━━\u001b[0m\u001b[37m\u001b[0m \u001b[1m4s\u001b[0m 6ms/step - accuracy: 0.4961 - loss: 0.6970\n",
      "Epoch 3/10\n",
      "\u001b[1m664/664\u001b[0m \u001b[32m━━━━━━━━━━━━━━━━━━━━\u001b[0m\u001b[37m\u001b[0m \u001b[1m4s\u001b[0m 6ms/step - accuracy: 0.5011 - loss: 0.6951\n",
      "Epoch 4/10\n",
      "\u001b[1m664/664\u001b[0m \u001b[32m━━━━━━━━━━━━━━━━━━━━\u001b[0m\u001b[37m\u001b[0m \u001b[1m4s\u001b[0m 6ms/step - accuracy: 0.5017 - loss: 0.6943\n",
      "Epoch 5/10\n",
      "\u001b[1m664/664\u001b[0m \u001b[32m━━━━━━━━━━━━━━━━━━━━\u001b[0m\u001b[37m\u001b[0m \u001b[1m4s\u001b[0m 6ms/step - accuracy: 0.4994 - loss: 0.6945\n",
      "Epoch 6/10\n",
      "\u001b[1m664/664\u001b[0m \u001b[32m━━━━━━━━━━━━━━━━━━━━\u001b[0m\u001b[37m\u001b[0m \u001b[1m4s\u001b[0m 6ms/step - accuracy: 0.5035 - loss: 0.6935\n",
      "Epoch 7/10\n",
      "\u001b[1m664/664\u001b[0m \u001b[32m━━━━━━━━━━━━━━━━━━━━\u001b[0m\u001b[37m\u001b[0m \u001b[1m4s\u001b[0m 6ms/step - accuracy: 0.5046 - loss: 0.6936\n",
      "Epoch 8/10\n",
      "\u001b[1m664/664\u001b[0m \u001b[32m━━━━━━━━━━━━━━━━━━━━\u001b[0m\u001b[37m\u001b[0m \u001b[1m4s\u001b[0m 6ms/step - accuracy: 0.5029 - loss: 0.6936\n",
      "Epoch 9/10\n",
      "\u001b[1m664/664\u001b[0m \u001b[32m━━━━━━━━━━━━━━━━━━━━\u001b[0m\u001b[37m\u001b[0m \u001b[1m4s\u001b[0m 6ms/step - accuracy: 0.5048 - loss: 0.6940\n",
      "Epoch 10/10\n",
      "\u001b[1m664/664\u001b[0m \u001b[32m━━━━━━━━━━━━━━━━━━━━\u001b[0m\u001b[37m\u001b[0m \u001b[1m4s\u001b[0m 6ms/step - accuracy: 0.5018 - loss: 0.6937\n"
     ]
    }
   ],
   "source": [
    "# Print average results\n",
    "print(\"\\n==== Cross-Validation Results ====\")\n",
    "print(f\"Average Training Accuracy: {np.mean(fold_train_accs):.4f} ± {np.std(fold_train_accs):.4f}\")\n",
    "print(f\"Average Validation Accuracy: {np.mean(fold_val_accs):.4f} ± {np.std(fold_val_accs):.4f}\")\n",
    "print(f\"Average Training Loss: {np.mean(fold_train_losses):.4f} ± {np.std(fold_train_losses):.4f}\")\n",
    "print(f\"Average Validation Loss: {np.mean(fold_val_losses):.4f} ± {np.std(fold_val_losses):.4f}\")\n",
    "\n",
    "# Plot average learning curves\n",
    "plt.figure(figsize=(12, 5))\n",
    "\n",
    "# Plot average loss\n",
    "plt.subplot(1, 2, 1)\n",
    "for i, history in enumerate(histories):\n",
    "    plt.plot(history.history['loss'], alpha=0.2)\n",
    "    plt.plot(history.history['val_loss'], alpha=0.2)\n",
    "\n",
    "min_epochs = min(len(history.history['loss']) for history in histories)\n",
    "avg_train_loss = np.mean([history.history['loss'][:min_epochs] for history in histories], axis=0)\n",
    "avg_val_loss = np.mean([history.history['val_loss'][:min_epochs] for history in histories], axis=0)\n",
    "plt.plot(avg_train_loss, 'r-', linewidth=2, label='Avg Train Loss')\n",
    "plt.plot(avg_val_loss, 'b-', linewidth=2, label='Avg Val Loss')\n",
    "plt.title('Model Loss Across Folds')\n",
    "plt.xlabel('Epochs')\n",
    "plt.ylabel('Loss')\n",
    "plt.legend()\n",
    "# Plot average accuracy\n",
    "plt.subplot(1, 2, 2)\n",
    "for i, history in enumerate(histories):\n",
    "    plt.plot(history.history['accuracy'], alpha=0.2)\n",
    "    plt.plot(history.history['val_accuracy'], alpha=0.2)\n",
    "\n",
    "min_epochs_acc = min(len(history.history['accuracy']) for history in histories)\n",
    "avg_train_acc = np.mean([history.history['accuracy'][:min_epochs_acc] for history in histories], axis=0)\n",
    "avg_val_acc = np.mean([history.history['val_accuracy'][:min_epochs_acc] for history in histories], axis=0)\n",
    "plt.plot(avg_train_acc, 'r-', linewidth=2, label='Avg Train Accuracy')\n",
    "plt.plot(avg_val_acc, 'b-', linewidth=2, label='Avg Val Accuracy')\n",
    "plt.plot(avg_val_acc, 'b-', linewidth=2, label='Avg Val Accuracy')\n",
    "plt.title('Model Accuracy Across Folds')\n",
    "plt.xlabel('Epochs')\n",
    "plt.ylabel('Accuracy')\n",
    "plt.legend()\n",
    "\n",
    "plt.tight_layout()\n",
    "plt.show()\n",
    "\n",
    "# Optional: Train a final model on all data\n",
    "final_model = create_lstm_model(timesteps, n_features)\n",
    "final_model.fit(\n",
    "    X_combined, y_combined,\n",
    "    epochs=10,\n",
    "    batch_size=64,\n",
    "    callbacks=[EarlyStopping(patience=5, restore_best_weights=True)],\n",
    "    verbose=1\n",
    ")\n",
    "\n",
    "# Save the final model\n",
    "final_model.save('prediction_daily.keras')"
   ]
  },
  {
   "cell_type": "code",
   "execution_count": null,
   "metadata": {
    "cellUniqueIdByVincent": "a55a6"
   },
   "outputs": [
    {
     "data": {
      "text/html": [
       "<pre style=\"white-space:pre;overflow-x:auto;line-height:normal;font-family:Menlo,'DejaVu Sans Mono',consolas,'Courier New',monospace\"><span style=\"font-weight: bold\">Model: \"sequential\"</span>\n",
       "</pre>\n"
      ],
      "text/plain": [
       "\u001b[1mModel: \"sequential\"\u001b[0m\n"
      ]
     },
     "metadata": {},
     "output_type": "display_data"
    },
    {
     "data": {
      "text/html": [
       "<pre style=\"white-space:pre;overflow-x:auto;line-height:normal;font-family:Menlo,'DejaVu Sans Mono',consolas,'Courier New',monospace\">┏━━━━━━━━━━━━━━━━━━━━━━━━━━━━━━━━━┳━━━━━━━━━━━━━━━━━━━━━━━━┳━━━━━━━━━━━━━━━┓\n",
       "┃<span style=\"font-weight: bold\"> Layer (type)                    </span>┃<span style=\"font-weight: bold\"> Output Shape           </span>┃<span style=\"font-weight: bold\">       Param # </span>┃\n",
       "┡━━━━━━━━━━━━━━━━━━━━━━━━━━━━━━━━━╇━━━━━━━━━━━━━━━━━━━━━━━━╇━━━━━━━━━━━━━━━┩\n",
       "│ lstm (<span style=\"color: #0087ff; text-decoration-color: #0087ff\">LSTM</span>)                     │ (<span style=\"color: #00d7ff; text-decoration-color: #00d7ff\">None</span>, <span style=\"color: #00af00; text-decoration-color: #00af00\">10</span>, <span style=\"color: #00af00; text-decoration-color: #00af00\">64</span>)         │        <span style=\"color: #00af00; text-decoration-color: #00af00\">18,944</span> │\n",
       "├─────────────────────────────────┼────────────────────────┼───────────────┤\n",
       "│ dropout (<span style=\"color: #0087ff; text-decoration-color: #0087ff\">Dropout</span>)               │ (<span style=\"color: #00d7ff; text-decoration-color: #00d7ff\">None</span>, <span style=\"color: #00af00; text-decoration-color: #00af00\">10</span>, <span style=\"color: #00af00; text-decoration-color: #00af00\">64</span>)         │             <span style=\"color: #00af00; text-decoration-color: #00af00\">0</span> │\n",
       "├─────────────────────────────────┼────────────────────────┼───────────────┤\n",
       "│ lstm_1 (<span style=\"color: #0087ff; text-decoration-color: #0087ff\">LSTM</span>)                   │ (<span style=\"color: #00d7ff; text-decoration-color: #00d7ff\">None</span>, <span style=\"color: #00af00; text-decoration-color: #00af00\">32</span>)             │        <span style=\"color: #00af00; text-decoration-color: #00af00\">12,416</span> │\n",
       "├─────────────────────────────────┼────────────────────────┼───────────────┤\n",
       "│ dropout_1 (<span style=\"color: #0087ff; text-decoration-color: #0087ff\">Dropout</span>)             │ (<span style=\"color: #00d7ff; text-decoration-color: #00d7ff\">None</span>, <span style=\"color: #00af00; text-decoration-color: #00af00\">32</span>)             │             <span style=\"color: #00af00; text-decoration-color: #00af00\">0</span> │\n",
       "├─────────────────────────────────┼────────────────────────┼───────────────┤\n",
       "│ dense (<span style=\"color: #0087ff; text-decoration-color: #0087ff\">Dense</span>)                   │ (<span style=\"color: #00d7ff; text-decoration-color: #00d7ff\">None</span>, <span style=\"color: #00af00; text-decoration-color: #00af00\">16</span>)             │           <span style=\"color: #00af00; text-decoration-color: #00af00\">528</span> │\n",
       "├─────────────────────────────────┼────────────────────────┼───────────────┤\n",
       "│ dense_1 (<span style=\"color: #0087ff; text-decoration-color: #0087ff\">Dense</span>)                 │ (<span style=\"color: #00d7ff; text-decoration-color: #00d7ff\">None</span>, <span style=\"color: #00af00; text-decoration-color: #00af00\">1</span>)              │            <span style=\"color: #00af00; text-decoration-color: #00af00\">17</span> │\n",
       "└─────────────────────────────────┴────────────────────────┴───────────────┘\n",
       "</pre>\n"
      ],
      "text/plain": [
       "┏━━━━━━━━━━━━━━━━━━━━━━━━━━━━━━━━━┳━━━━━━━━━━━━━━━━━━━━━━━━┳━━━━━━━━━━━━━━━┓\n",
       "┃\u001b[1m \u001b[0m\u001b[1mLayer (type)                   \u001b[0m\u001b[1m \u001b[0m┃\u001b[1m \u001b[0m\u001b[1mOutput Shape          \u001b[0m\u001b[1m \u001b[0m┃\u001b[1m \u001b[0m\u001b[1m      Param #\u001b[0m\u001b[1m \u001b[0m┃\n",
       "┡━━━━━━━━━━━━━━━━━━━━━━━━━━━━━━━━━╇━━━━━━━━━━━━━━━━━━━━━━━━╇━━━━━━━━━━━━━━━┩\n",
       "│ lstm (\u001b[38;5;33mLSTM\u001b[0m)                     │ (\u001b[38;5;45mNone\u001b[0m, \u001b[38;5;34m10\u001b[0m, \u001b[38;5;34m64\u001b[0m)         │        \u001b[38;5;34m18,944\u001b[0m │\n",
       "├─────────────────────────────────┼────────────────────────┼───────────────┤\n",
       "│ dropout (\u001b[38;5;33mDropout\u001b[0m)               │ (\u001b[38;5;45mNone\u001b[0m, \u001b[38;5;34m10\u001b[0m, \u001b[38;5;34m64\u001b[0m)         │             \u001b[38;5;34m0\u001b[0m │\n",
       "├─────────────────────────────────┼────────────────────────┼───────────────┤\n",
       "│ lstm_1 (\u001b[38;5;33mLSTM\u001b[0m)                   │ (\u001b[38;5;45mNone\u001b[0m, \u001b[38;5;34m32\u001b[0m)             │        \u001b[38;5;34m12,416\u001b[0m │\n",
       "├─────────────────────────────────┼────────────────────────┼───────────────┤\n",
       "│ dropout_1 (\u001b[38;5;33mDropout\u001b[0m)             │ (\u001b[38;5;45mNone\u001b[0m, \u001b[38;5;34m32\u001b[0m)             │             \u001b[38;5;34m0\u001b[0m │\n",
       "├─────────────────────────────────┼────────────────────────┼───────────────┤\n",
       "│ dense (\u001b[38;5;33mDense\u001b[0m)                   │ (\u001b[38;5;45mNone\u001b[0m, \u001b[38;5;34m16\u001b[0m)             │           \u001b[38;5;34m528\u001b[0m │\n",
       "├─────────────────────────────────┼────────────────────────┼───────────────┤\n",
       "│ dense_1 (\u001b[38;5;33mDense\u001b[0m)                 │ (\u001b[38;5;45mNone\u001b[0m, \u001b[38;5;34m1\u001b[0m)              │            \u001b[38;5;34m17\u001b[0m │\n",
       "└─────────────────────────────────┴────────────────────────┴───────────────┘\n"
      ]
     },
     "metadata": {},
     "output_type": "display_data"
    },
    {
     "data": {
      "text/html": [
       "<pre style=\"white-space:pre;overflow-x:auto;line-height:normal;font-family:Menlo,'DejaVu Sans Mono',consolas,'Courier New',monospace\"><span style=\"font-weight: bold\"> Total params: </span><span style=\"color: #00af00; text-decoration-color: #00af00\">95,717</span> (373.90 KB)\n",
       "</pre>\n"
      ],
      "text/plain": [
       "\u001b[1m Total params: \u001b[0m\u001b[38;5;34m95,717\u001b[0m (373.90 KB)\n"
      ]
     },
     "metadata": {},
     "output_type": "display_data"
    },
    {
     "data": {
      "text/html": [
       "<pre style=\"white-space:pre;overflow-x:auto;line-height:normal;font-family:Menlo,'DejaVu Sans Mono',consolas,'Courier New',monospace\"><span style=\"font-weight: bold\"> Trainable params: </span><span style=\"color: #00af00; text-decoration-color: #00af00\">31,905</span> (124.63 KB)\n",
       "</pre>\n"
      ],
      "text/plain": [
       "\u001b[1m Trainable params: \u001b[0m\u001b[38;5;34m31,905\u001b[0m (124.63 KB)\n"
      ]
     },
     "metadata": {},
     "output_type": "display_data"
    },
    {
     "data": {
      "text/html": [
       "<pre style=\"white-space:pre;overflow-x:auto;line-height:normal;font-family:Menlo,'DejaVu Sans Mono',consolas,'Courier New',monospace\"><span style=\"font-weight: bold\"> Non-trainable params: </span><span style=\"color: #00af00; text-decoration-color: #00af00\">0</span> (0.00 B)\n",
       "</pre>\n"
      ],
      "text/plain": [
       "\u001b[1m Non-trainable params: \u001b[0m\u001b[38;5;34m0\u001b[0m (0.00 B)\n"
      ]
     },
     "metadata": {},
     "output_type": "display_data"
    },
    {
     "data": {
      "text/html": [
       "<pre style=\"white-space:pre;overflow-x:auto;line-height:normal;font-family:Menlo,'DejaVu Sans Mono',consolas,'Courier New',monospace\"><span style=\"font-weight: bold\"> Optimizer params: </span><span style=\"color: #00af00; text-decoration-color: #00af00\">63,812</span> (249.27 KB)\n",
       "</pre>\n"
      ],
      "text/plain": [
       "\u001b[1m Optimizer params: \u001b[0m\u001b[38;5;34m63,812\u001b[0m (249.27 KB)\n"
      ]
     },
     "metadata": {},
     "output_type": "display_data"
    },
    {
     "name": "stdout",
     "output_type": "stream",
     "text": [
      "None\n",
      "Number of epochs ran: 7\n",
      "Batch size used: 64\n",
      "Optimizer used: Adam\n"
     ]
    }
   ],
   "source": [
    "print(model.summary())\n",
    "print(\"Number of epochs ran:\", len(history.history['loss']))\n",
    "print(\"Batch size used:\", 64)\n",
    "print(\"Optimizer used:\", model.optimizer.__class__.__name__)"
   ]
  }
 ],
 "metadata": {
  "kernelspec": {
   "display_name": ".venv",
   "language": "python",
   "name": "python3"
  },
  "language_info": {
   "codemirror_mode": {
    "name": "ipython",
    "version": 3
   },
   "file_extension": ".py",
   "mimetype": "text/x-python",
   "name": "python",
   "nbconvert_exporter": "python",
   "pygments_lexer": "ipython3",
   "version": "3.9.6"
  },
  "vincent": {
   "sessionId": "995ce15602eda95cc5d3dedf_2025-04-09T17-21-48-583Z"
  }
 },
 "nbformat": 4,
 "nbformat_minor": 5
}
